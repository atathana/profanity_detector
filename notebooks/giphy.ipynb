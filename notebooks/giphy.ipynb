{
 "cells": [
  {
   "cell_type": "code",
   "execution_count": 39,
   "metadata": {},
   "outputs": [],
   "source": [
    "import os\n",
    "from dotenv import load_dotenv\n",
    "import json\n",
    "from urllib import parse, request\n",
    "\n",
    "load_dotenv()\n",
    "API_KEY = os.getenv('giphy_KEY')"
   ]
  },
  {
   "cell_type": "code",
   "execution_count": 40,
   "metadata": {},
   "outputs": [],
   "source": [
    "# python\n",
    "\n",
    "\n",
    "def get_giphy (movie_name):\n",
    "    giphy_list = []\n",
    "    url = \"http://api.giphy.com/v1/gifs/search\"\n",
    "\n",
    "    params = parse.urlencode({\n",
    "        \"q\": movie_name, #VARIABLE\n",
    "        \"api_key\": API_KEY,\n",
    "        \"limit\": \"5\"\n",
    "    })\n",
    "    with request.urlopen(\"\".join((url, \"?\", params))) as response:\n",
    "        data = json.loads(response.read().decode('utf8'))\n",
    "\n",
    "    for i in range(5):\n",
    "        giphy_list.append(data['data'][i]['embed_url'])\n",
    "        \n",
    "    return giphy_list"
   ]
  },
  {
   "cell_type": "code",
   "execution_count": 41,
   "metadata": {},
   "outputs": [
    {
     "data": {
      "text/plain": [
       "['https://giphy.com/embed/eIm624c8nnNbiG0V3g',\n",
       " 'https://giphy.com/embed/sULKEgDMX8LcI',\n",
       " 'https://giphy.com/embed/MC6eSuC3yypCU',\n",
       " 'https://giphy.com/embed/dncu2L87Y5sT6',\n",
       " 'https://giphy.com/embed/10zxDv7Hv5RF9C']"
      ]
     },
     "execution_count": 41,
     "metadata": {},
     "output_type": "execute_result"
    }
   ],
   "source": [
    "get_giphy('matrix')"
   ]
  }
 ],
 "metadata": {
  "interpreter": {
   "hash": "0413bd2efa01393ed0c0d4360448d6bc4729cfb8d89e4c5cb1e7dfc058cc017a"
  },
  "kernelspec": {
   "display_name": "Python 3.5.10 64-bit ('profanity_detector')",
   "language": "python",
   "name": "python3"
  },
  "language_info": {
   "codemirror_mode": {
    "name": "ipython",
    "version": 3
   },
   "file_extension": ".py",
   "mimetype": "text/x-python",
   "name": "python",
   "nbconvert_exporter": "python",
   "pygments_lexer": "ipython3",
   "version": "3.5.10"
  },
  "orig_nbformat": 4
 },
 "nbformat": 4,
 "nbformat_minor": 2
}
