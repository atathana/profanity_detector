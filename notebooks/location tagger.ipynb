{
 "cells": [
  {
   "cell_type": "code",
   "execution_count": 1,
   "id": "6e0daa8f",
   "metadata": {},
   "outputs": [],
   "source": [
    "%load_ext autoreload\n",
    "%autoreload 2"
   ]
  },
  {
   "cell_type": "code",
   "execution_count": 2,
   "id": "da068818",
   "metadata": {},
   "outputs": [],
   "source": [
    "import pandas as pd\n",
    "from imdb import Cinemagoer"
   ]
  },
  {
   "cell_type": "code",
   "execution_count": 3,
   "id": "69d3c282",
   "metadata": {},
   "outputs": [],
   "source": [
    "import os\n",
    "import sys\n",
    "import inspect\n",
    "\n",
    "currentdir = os.path.dirname(os.path.abspath(inspect.getfile(inspect.currentframe())))\n",
    "parentdir = os.path.dirname(currentdir)\n",
    "sys.path.insert(0, parentdir) "
   ]
  },
  {
   "cell_type": "code",
   "execution_count": 4,
   "id": "c9314d2d",
   "metadata": {},
   "outputs": [],
   "source": [
    "from profanity_detector.get_data import movie_data, get_all_movie_data, run_and_display, get_all_movie_data"
   ]
  },
  {
   "cell_type": "code",
   "execution_count": 5,
   "id": "a5259f6e",
   "metadata": {},
   "outputs": [],
   "source": [
    "from profanity_detector.feature_data_enrichment import get_movie_location, get_set_location, get_coordinates, enrich_locations\n",
    "from geopy.geocoders import Nominatim"
   ]
  },
  {
   "cell_type": "code",
   "execution_count": 6,
   "id": "8beeecb8",
   "metadata": {},
   "outputs": [],
   "source": [
    "import nltk"
   ]
  },
  {
   "cell_type": "code",
   "execution_count": 7,
   "id": "19baae95",
   "metadata": {},
   "outputs": [],
   "source": [
    "import spacy"
   ]
  },
  {
   "cell_type": "code",
   "execution_count": 8,
   "id": "5975571e",
   "metadata": {},
   "outputs": [
    {
     "name": "stderr",
     "output_type": "stream",
     "text": [
      "[nltk_data] Downloading package maxent_ne_chunker to\n",
      "[nltk_data]     /home/tomershtein/nltk_data...\n",
      "[nltk_data]   Package maxent_ne_chunker is already up-to-date!\n",
      "[nltk_data] Downloading package words to\n",
      "[nltk_data]     /home/tomershtein/nltk_data...\n",
      "[nltk_data]   Package words is already up-to-date!\n",
      "[nltk_data] Downloading package treebank to\n",
      "[nltk_data]     /home/tomershtein/nltk_data...\n",
      "[nltk_data]   Package treebank is already up-to-date!\n",
      "[nltk_data] Downloading package maxent_treebank_pos_tagger to\n",
      "[nltk_data]     /home/tomershtein/nltk_data...\n",
      "[nltk_data]   Package maxent_treebank_pos_tagger is already up-to-\n",
      "[nltk_data]       date!\n",
      "[nltk_data] Downloading package punkt to\n",
      "[nltk_data]     /home/tomershtein/nltk_data...\n",
      "[nltk_data]   Package punkt is already up-to-date!\n",
      "[nltk_data] Downloading package averaged_perceptron_tagger to\n",
      "[nltk_data]     /home/tomershtein/nltk_data...\n",
      "[nltk_data]   Package averaged_perceptron_tagger is already up-to-\n",
      "[nltk_data]       date!\n"
     ]
    },
    {
     "data": {
      "text/plain": [
       "True"
      ]
     },
     "execution_count": 8,
     "metadata": {},
     "output_type": "execute_result"
    }
   ],
   "source": [
    "nltk.downloader.download('maxent_ne_chunker')\n",
    "nltk.downloader.download('words')\n",
    "nltk.downloader.download('treebank')\n",
    "nltk.downloader.download('maxent_treebank_pos_tagger')\n",
    "nltk.downloader.download('punkt')\n",
    "nltk.download('averaged_perceptron_tagger')"
   ]
  },
  {
   "cell_type": "code",
   "execution_count": 9,
   "id": "1a408077",
   "metadata": {
    "collapsed": true
   },
   "outputs": [
    {
     "name": "stdout",
     "output_type": "stream",
     "text": [
      "Collecting en-core-web-sm==3.2.0\n",
      "  Downloading https://github.com/explosion/spacy-models/releases/download/en_core_web_sm-3.2.0/en_core_web_sm-3.2.0-py3-none-any.whl (13.9 MB)\n",
      "     |████████████████████████████████| 13.9 MB 16.7 MB/s            \n",
      "\u001b[?25hRequirement already satisfied: spacy<3.3.0,>=3.2.0 in /home/tomershtein/.pyenv/versions/3.6.15/envs/profanity_detector/lib/python3.6/site-packages (from en-core-web-sm==3.2.0) (3.2.3)\n",
      "Requirement already satisfied: numpy>=1.15.0 in /home/tomershtein/.pyenv/versions/3.6.15/envs/profanity_detector/lib/python3.6/site-packages (from spacy<3.3.0,>=3.2.0->en-core-web-sm==3.2.0) (1.19.5)\n",
      "Requirement already satisfied: spacy-loggers<2.0.0,>=1.0.0 in /home/tomershtein/.pyenv/versions/3.6.15/envs/profanity_detector/lib/python3.6/site-packages (from spacy<3.3.0,>=3.2.0->en-core-web-sm==3.2.0) (1.0.1)\n",
      "Requirement already satisfied: blis<0.8.0,>=0.4.0 in /home/tomershtein/.pyenv/versions/3.6.15/envs/profanity_detector/lib/python3.6/site-packages (from spacy<3.3.0,>=3.2.0->en-core-web-sm==3.2.0) (0.7.6)\n",
      "Requirement already satisfied: typing-extensions<4.0.0.0,>=3.7.4 in /home/tomershtein/.pyenv/versions/3.6.15/envs/profanity_detector/lib/python3.6/site-packages (from spacy<3.3.0,>=3.2.0->en-core-web-sm==3.2.0) (3.10.0.2)\n",
      "Requirement already satisfied: murmurhash<1.1.0,>=0.28.0 in /home/tomershtein/.pyenv/versions/3.6.15/envs/profanity_detector/lib/python3.6/site-packages (from spacy<3.3.0,>=3.2.0->en-core-web-sm==3.2.0) (1.0.6)\n",
      "Requirement already satisfied: packaging>=20.0 in /home/tomershtein/.pyenv/versions/3.6.15/envs/profanity_detector/lib/python3.6/site-packages (from spacy<3.3.0,>=3.2.0->en-core-web-sm==3.2.0) (21.3)\n",
      "Requirement already satisfied: setuptools in /home/tomershtein/.pyenv/versions/3.6.15/envs/profanity_detector/lib/python3.6/site-packages (from spacy<3.3.0,>=3.2.0->en-core-web-sm==3.2.0) (40.6.2)\n",
      "Requirement already satisfied: preshed<3.1.0,>=3.0.2 in /home/tomershtein/.pyenv/versions/3.6.15/envs/profanity_detector/lib/python3.6/site-packages (from spacy<3.3.0,>=3.2.0->en-core-web-sm==3.2.0) (3.0.6)\n",
      "Requirement already satisfied: srsly<3.0.0,>=2.4.1 in /home/tomershtein/.pyenv/versions/3.6.15/envs/profanity_detector/lib/python3.6/site-packages (from spacy<3.3.0,>=3.2.0->en-core-web-sm==3.2.0) (2.4.2)\n",
      "Requirement already satisfied: spacy-legacy<3.1.0,>=3.0.8 in /home/tomershtein/.pyenv/versions/3.6.15/envs/profanity_detector/lib/python3.6/site-packages (from spacy<3.3.0,>=3.2.0->en-core-web-sm==3.2.0) (3.0.9)\n",
      "Requirement already satisfied: langcodes<4.0.0,>=3.2.0 in /home/tomershtein/.pyenv/versions/3.6.15/envs/profanity_detector/lib/python3.6/site-packages (from spacy<3.3.0,>=3.2.0->en-core-web-sm==3.2.0) (3.3.0)\n",
      "Requirement already satisfied: wasabi<1.1.0,>=0.8.1 in /home/tomershtein/.pyenv/versions/3.6.15/envs/profanity_detector/lib/python3.6/site-packages (from spacy<3.3.0,>=3.2.0->en-core-web-sm==3.2.0) (0.9.0)\n",
      "Requirement already satisfied: jinja2 in /home/tomershtein/.pyenv/versions/3.6.15/envs/profanity_detector/lib/python3.6/site-packages (from spacy<3.3.0,>=3.2.0->en-core-web-sm==3.2.0) (3.0.3)\n",
      "Requirement already satisfied: cymem<2.1.0,>=2.0.2 in /home/tomershtein/.pyenv/versions/3.6.15/envs/profanity_detector/lib/python3.6/site-packages (from spacy<3.3.0,>=3.2.0->en-core-web-sm==3.2.0) (2.0.6)\n",
      "Requirement already satisfied: typer<0.5.0,>=0.3.0 in /home/tomershtein/.pyenv/versions/3.6.15/envs/profanity_detector/lib/python3.6/site-packages (from spacy<3.3.0,>=3.2.0->en-core-web-sm==3.2.0) (0.4.0)\n",
      "Requirement already satisfied: pydantic!=1.8,!=1.8.1,<1.9.0,>=1.7.4 in /home/tomershtein/.pyenv/versions/3.6.15/envs/profanity_detector/lib/python3.6/site-packages (from spacy<3.3.0,>=3.2.0->en-core-web-sm==3.2.0) (1.8.2)\n",
      "Requirement already satisfied: catalogue<2.1.0,>=2.0.6 in /home/tomershtein/.pyenv/versions/3.6.15/envs/profanity_detector/lib/python3.6/site-packages (from spacy<3.3.0,>=3.2.0->en-core-web-sm==3.2.0) (2.0.6)\n",
      "Requirement already satisfied: pathy>=0.3.5 in /home/tomershtein/.pyenv/versions/3.6.15/envs/profanity_detector/lib/python3.6/site-packages (from spacy<3.3.0,>=3.2.0->en-core-web-sm==3.2.0) (0.6.1)\n",
      "Requirement already satisfied: requests<3.0.0,>=2.13.0 in /home/tomershtein/.pyenv/versions/3.6.15/envs/profanity_detector/lib/python3.6/site-packages (from spacy<3.3.0,>=3.2.0->en-core-web-sm==3.2.0) (2.27.1)\n",
      "Requirement already satisfied: thinc<8.1.0,>=8.0.12 in /home/tomershtein/.pyenv/versions/3.6.15/envs/profanity_detector/lib/python3.6/site-packages (from spacy<3.3.0,>=3.2.0->en-core-web-sm==3.2.0) (8.0.13)\n",
      "Requirement already satisfied: tqdm<5.0.0,>=4.38.0 in /home/tomershtein/.pyenv/versions/3.6.15/envs/profanity_detector/lib/python3.6/site-packages (from spacy<3.3.0,>=3.2.0->en-core-web-sm==3.2.0) (4.62.3)\n",
      "Requirement already satisfied: zipp>=0.5 in /home/tomershtein/.pyenv/versions/3.6.15/envs/profanity_detector/lib/python3.6/site-packages (from catalogue<2.1.0,>=2.0.6->spacy<3.3.0,>=3.2.0->en-core-web-sm==3.2.0) (3.6.0)\n",
      "Requirement already satisfied: pyparsing!=3.0.5,>=2.0.2 in /home/tomershtein/.pyenv/versions/3.6.15/envs/profanity_detector/lib/python3.6/site-packages (from packaging>=20.0->spacy<3.3.0,>=3.2.0->en-core-web-sm==3.2.0) (3.0.7)\n",
      "Requirement already satisfied: smart-open<6.0.0,>=5.0.0 in /home/tomershtein/.pyenv/versions/3.6.15/envs/profanity_detector/lib/python3.6/site-packages (from pathy>=0.3.5->spacy<3.3.0,>=3.2.0->en-core-web-sm==3.2.0) (5.2.1)\n",
      "Requirement already satisfied: dataclasses<1.0,>=0.6 in /home/tomershtein/.pyenv/versions/3.6.15/envs/profanity_detector/lib/python3.6/site-packages (from pathy>=0.3.5->spacy<3.3.0,>=3.2.0->en-core-web-sm==3.2.0) (0.8)\n",
      "Requirement already satisfied: idna<4,>=2.5 in /home/tomershtein/.pyenv/versions/3.6.15/envs/profanity_detector/lib/python3.6/site-packages (from requests<3.0.0,>=2.13.0->spacy<3.3.0,>=3.2.0->en-core-web-sm==3.2.0) (3.3)\n",
      "Requirement already satisfied: charset-normalizer~=2.0.0 in /home/tomershtein/.pyenv/versions/3.6.15/envs/profanity_detector/lib/python3.6/site-packages (from requests<3.0.0,>=2.13.0->spacy<3.3.0,>=3.2.0->en-core-web-sm==3.2.0) (2.0.12)\n",
      "Requirement already satisfied: certifi>=2017.4.17 in /home/tomershtein/.pyenv/versions/3.6.15/envs/profanity_detector/lib/python3.6/site-packages (from requests<3.0.0,>=2.13.0->spacy<3.3.0,>=3.2.0->en-core-web-sm==3.2.0) (2021.10.8)\n",
      "Requirement already satisfied: urllib3<1.27,>=1.21.1 in /home/tomershtein/.pyenv/versions/3.6.15/envs/profanity_detector/lib/python3.6/site-packages (from requests<3.0.0,>=2.13.0->spacy<3.3.0,>=3.2.0->en-core-web-sm==3.2.0) (1.26.8)\n",
      "Requirement already satisfied: contextvars<3,>=2.4 in /home/tomershtein/.pyenv/versions/3.6.15/envs/profanity_detector/lib/python3.6/site-packages (from thinc<8.1.0,>=8.0.12->spacy<3.3.0,>=3.2.0->en-core-web-sm==3.2.0) (2.4)\n",
      "Requirement already satisfied: click<9.0.0,>=7.1.1 in /home/tomershtein/.pyenv/versions/3.6.15/envs/profanity_detector/lib/python3.6/site-packages (from typer<0.5.0,>=0.3.0->spacy<3.3.0,>=3.2.0->en-core-web-sm==3.2.0) (8.0.4)\n",
      "Requirement already satisfied: MarkupSafe>=2.0 in /home/tomershtein/.pyenv/versions/3.6.15/envs/profanity_detector/lib/python3.6/site-packages (from jinja2->spacy<3.3.0,>=3.2.0->en-core-web-sm==3.2.0) (2.0.1)\n",
      "Requirement already satisfied: importlib-metadata in /home/tomershtein/.pyenv/versions/3.6.15/envs/profanity_detector/lib/python3.6/site-packages (from click<9.0.0,>=7.1.1->typer<0.5.0,>=0.3.0->spacy<3.3.0,>=3.2.0->en-core-web-sm==3.2.0) (4.8.3)\n",
      "Requirement already satisfied: immutables>=0.9 in /home/tomershtein/.pyenv/versions/3.6.15/envs/profanity_detector/lib/python3.6/site-packages (from contextvars<3,>=2.4->thinc<8.1.0,>=8.0.12->spacy<3.3.0,>=3.2.0->en-core-web-sm==3.2.0) (0.16)\n",
      "\u001b[38;5;2m✔ Download and installation successful\u001b[0m\n",
      "You can now load the package via spacy.load('en_core_web_sm')\n"
     ]
    }
   ],
   "source": [
    "! python -m spacy download en_core_web_sm"
   ]
  },
  {
   "cell_type": "markdown",
   "id": "ffb446a0",
   "metadata": {},
   "source": [
    "# Location tagger"
   ]
  },
  {
   "cell_type": "code",
   "execution_count": 10,
   "id": "3d2cb5d9",
   "metadata": {},
   "outputs": [],
   "source": [
    "import locationtagger"
   ]
  },
  {
   "cell_type": "code",
   "execution_count": 11,
   "id": "cf3ea421",
   "metadata": {},
   "outputs": [],
   "source": [
    "movie_meta, quotes_df, reviews_df, locations_df = movie_data('machete')"
   ]
  },
  {
   "cell_type": "code",
   "execution_count": 12,
   "id": "3c7d7777",
   "metadata": {},
   "outputs": [],
   "source": [
    "location = locations_df['locations'][2]"
   ]
  },
  {
   "cell_type": "code",
   "execution_count": 13,
   "id": "674d3137",
   "metadata": {
    "scrolled": true
   },
   "outputs": [
    {
     "data": {
      "text/plain": [
       "'Troublemaker Studios - 4900 Old Manor Road, Austin, Texas, USA::(studio)'"
      ]
     },
     "execution_count": 13,
     "metadata": {},
     "output_type": "execute_result"
    }
   ],
   "source": [
    "location"
   ]
  },
  {
   "cell_type": "markdown",
   "id": "f961d3d6",
   "metadata": {},
   "source": [
    "# preparing the data"
   ]
  },
  {
   "cell_type": "code",
   "execution_count": 14,
   "id": "e042ff2b",
   "metadata": {},
   "outputs": [],
   "source": [
    "def get_movie_location(location):\n",
    "    if '::' in location:\n",
    "        splitlist = location.split('::')\n",
    "        movie_location = splitlist[1]\n",
    "            \n",
    "    else:\n",
    "        movie_location = ''\n",
    "           \n",
    "    return movie_location"
   ]
  },
  {
   "cell_type": "code",
   "execution_count": 15,
   "id": "ac51f7ca",
   "metadata": {},
   "outputs": [],
   "source": [
    "def get_set_location(location):\n",
    "    if '::' in location:\n",
    "        splitlist = location.split('::')\n",
    "        set_location = splitlist[0]\n",
    "    \n",
    "    else:\n",
    "        set_location = location\n",
    "    \n",
    "    \n",
    "    return set_location "
   ]
  },
  {
   "cell_type": "code",
   "execution_count": 16,
   "id": "08df9d18",
   "metadata": {},
   "outputs": [],
   "source": [
    "locations_df['movie_location'] = locations_df.apply(lambda x: get_movie_location(x['locations']),\n",
    "                                                                     axis=1 )"
   ]
  },
  {
   "cell_type": "code",
   "execution_count": 17,
   "id": "b671cada",
   "metadata": {},
   "outputs": [],
   "source": [
    "locations_df['set_location'] = locations_df.apply(lambda x: get_set_location(x['locations']),\n",
    "                                                                     axis=1 )"
   ]
  },
  {
   "cell_type": "code",
   "execution_count": 71,
   "id": "fc98aac6",
   "metadata": {},
   "outputs": [
    {
     "data": {
      "text/html": [
       "<div>\n",
       "<style scoped>\n",
       "    .dataframe tbody tr th:only-of-type {\n",
       "        vertical-align: middle;\n",
       "    }\n",
       "\n",
       "    .dataframe tbody tr th {\n",
       "        vertical-align: top;\n",
       "    }\n",
       "\n",
       "    .dataframe thead th {\n",
       "        text-align: right;\n",
       "    }\n",
       "</style>\n",
       "<table border=\"1\" class=\"dataframe\">\n",
       "  <thead>\n",
       "    <tr style=\"text-align: right;\">\n",
       "      <th></th>\n",
       "      <th>locations</th>\n",
       "      <th>imdb_id</th>\n",
       "      <th>title</th>\n",
       "      <th>movie_location</th>\n",
       "      <th>set_location</th>\n",
       "      <th>latitude</th>\n",
       "      <th>longitude</th>\n",
       "    </tr>\n",
       "  </thead>\n",
       "  <tbody>\n",
       "    <tr>\n",
       "      <th>0</th>\n",
       "      <td>St. Mary's Church - 203 E. 10th St. Austin, Te...</td>\n",
       "      <td>0985694</td>\n",
       "      <td>Machete</td>\n",
       "      <td></td>\n",
       "      <td>St. Mary's Church - 203 E. 10th St. Austin, Te...</td>\n",
       "      <td>NaN</td>\n",
       "      <td>NaN</td>\n",
       "    </tr>\n",
       "    <tr>\n",
       "      <th>1</th>\n",
       "      <td>Austin, Texas, USA</td>\n",
       "      <td>0985694</td>\n",
       "      <td>Machete</td>\n",
       "      <td></td>\n",
       "      <td>Austin, Texas, USA</td>\n",
       "      <td>NaN</td>\n",
       "      <td>NaN</td>\n",
       "    </tr>\n",
       "    <tr>\n",
       "      <th>2</th>\n",
       "      <td>Troublemaker Studios - 4900 Old Manor Road, Au...</td>\n",
       "      <td>0985694</td>\n",
       "      <td>Machete</td>\n",
       "      <td>(studio)</td>\n",
       "      <td>Troublemaker Studios - 4900 Old Manor Road, Au...</td>\n",
       "      <td>NaN</td>\n",
       "      <td>NaN</td>\n",
       "    </tr>\n",
       "    <tr>\n",
       "      <th>3</th>\n",
       "      <td>Texas, USA</td>\n",
       "      <td>0985694</td>\n",
       "      <td>Machete</td>\n",
       "      <td></td>\n",
       "      <td>Texas, USA</td>\n",
       "      <td>NaN</td>\n",
       "      <td>NaN</td>\n",
       "    </tr>\n",
       "    <tr>\n",
       "      <th>4</th>\n",
       "      <td>USA</td>\n",
       "      <td>0985694</td>\n",
       "      <td>Machete</td>\n",
       "      <td></td>\n",
       "      <td>USA</td>\n",
       "      <td>NaN</td>\n",
       "      <td>NaN</td>\n",
       "    </tr>\n",
       "  </tbody>\n",
       "</table>\n",
       "</div>"
      ],
      "text/plain": [
       "                                           locations  imdb_id    title  \\\n",
       "0  St. Mary's Church - 203 E. 10th St. Austin, Te...  0985694  Machete   \n",
       "1                                 Austin, Texas, USA  0985694  Machete   \n",
       "2  Troublemaker Studios - 4900 Old Manor Road, Au...  0985694  Machete   \n",
       "3                                         Texas, USA  0985694  Machete   \n",
       "4                                                USA  0985694  Machete   \n",
       "\n",
       "  movie_location                                       set_location  latitude  \\\n",
       "0                 St. Mary's Church - 203 E. 10th St. Austin, Te...       NaN   \n",
       "1                                                Austin, Texas, USA       NaN   \n",
       "2       (studio)  Troublemaker Studios - 4900 Old Manor Road, Au...       NaN   \n",
       "3                                                        Texas, USA       NaN   \n",
       "4                                                               USA       NaN   \n",
       "\n",
       "   longitude  \n",
       "0        NaN  \n",
       "1        NaN  \n",
       "2        NaN  \n",
       "3        NaN  \n",
       "4        NaN  "
      ]
     },
     "execution_count": 71,
     "metadata": {},
     "output_type": "execute_result"
    }
   ],
   "source": [
    "locations_df"
   ]
  },
  {
   "cell_type": "code",
   "execution_count": 19,
   "id": "e69a9ac9",
   "metadata": {},
   "outputs": [
    {
     "data": {
      "text/plain": [
       "'Troublemaker Studios - 4900 Old Manor Road, Austin, Texas, USA'"
      ]
     },
     "execution_count": 19,
     "metadata": {},
     "output_type": "execute_result"
    }
   ],
   "source": [
    "locations_df['set_location'][2]"
   ]
  },
  {
   "cell_type": "markdown",
   "id": "15fe3032",
   "metadata": {},
   "source": [
    "# geograpy"
   ]
  },
  {
   "cell_type": "code",
   "execution_count": 20,
   "id": "a4bf930d",
   "metadata": {},
   "outputs": [],
   "source": [
    "import geograpy"
   ]
  },
  {
   "cell_type": "code",
   "execution_count": 21,
   "id": "010bbea9",
   "metadata": {},
   "outputs": [],
   "source": [
    "from geopy.geocoders import Nominatim"
   ]
  },
  {
   "cell_type": "code",
   "execution_count": 22,
   "id": "a9c78eb3",
   "metadata": {
    "hide_input": false
   },
   "outputs": [
    {
     "name": "stdout",
     "output_type": "stream",
     "text": [
      "[nltk_data] Downloading package maxent_ne_chunker to\n",
      "[nltk_data]     /home/tomershtein/nltk_data...\n",
      "[nltk_data]   Package maxent_ne_chunker is already up-to-date!\n",
      "[nltk_data] Downloading package words to\n",
      "[nltk_data]     /home/tomershtein/nltk_data...\n",
      "[nltk_data]   Package words is already up-to-date!\n",
      "[nltk_data] Downloading package treebank to\n",
      "[nltk_data]     /home/tomershtein/nltk_data...\n",
      "[nltk_data]   Package treebank is already up-to-date!\n",
      "[nltk_data] Downloading package maxent_treebank_pos_tagger to\n",
      "[nltk_data]     /home/tomershtein/nltk_data...\n",
      "[nltk_data]   Package maxent_treebank_pos_tagger is already up-to-\n",
      "[nltk_data]       date!\n",
      "[nltk_data] Downloading package punkt to\n",
      "[nltk_data]     /home/tomershtein/nltk_data...\n",
      "[nltk_data]   Package punkt is already up-to-date!\n",
      "[nltk_data] Downloading package averaged_perceptron_tagger to\n",
      "[nltk_data]     /home/tomershtein/nltk_data...\n",
      "[nltk_data]   Package averaged_perceptron_tagger is already up-to-\n",
      "[nltk_data]       date!\n"
     ]
    }
   ],
   "source": [
    "! geograpy-nltk"
   ]
  },
  {
   "cell_type": "markdown",
   "id": "aea7b63f",
   "metadata": {},
   "source": [
    "value_when_true if condition, else value_when_false"
   ]
  },
  {
   "cell_type": "code",
   "execution_count": 23,
   "id": "94dc5647",
   "metadata": {},
   "outputs": [],
   "source": [
    "loc_list = list(locations_df['set_location'])"
   ]
  },
  {
   "cell_type": "code",
   "execution_count": 24,
   "id": "7c15bdfc",
   "metadata": {},
   "outputs": [
    {
     "data": {
      "text/plain": [
       "[\"St. Mary's Church - 203 E. 10th St. Austin, Texas, USA\",\n",
       " 'Austin, Texas, USA',\n",
       " 'Troublemaker Studios - 4900 Old Manor Road, Austin, Texas, USA',\n",
       " 'Texas, USA',\n",
       " 'USA']"
      ]
     },
     "execution_count": 24,
     "metadata": {},
     "output_type": "execute_result"
    }
   ],
   "source": [
    "loc_list"
   ]
  },
  {
   "cell_type": "code",
   "execution_count": 75,
   "id": "72330eb9",
   "metadata": {},
   "outputs": [],
   "source": [
    "locations_df = locations_df.drop(['latitude','longitude'], axis=1)"
   ]
  },
  {
   "cell_type": "code",
   "execution_count": 76,
   "id": "df081b57",
   "metadata": {},
   "outputs": [
    {
     "data": {
      "text/html": [
       "<div>\n",
       "<style scoped>\n",
       "    .dataframe tbody tr th:only-of-type {\n",
       "        vertical-align: middle;\n",
       "    }\n",
       "\n",
       "    .dataframe tbody tr th {\n",
       "        vertical-align: top;\n",
       "    }\n",
       "\n",
       "    .dataframe thead th {\n",
       "        text-align: right;\n",
       "    }\n",
       "</style>\n",
       "<table border=\"1\" class=\"dataframe\">\n",
       "  <thead>\n",
       "    <tr style=\"text-align: right;\">\n",
       "      <th></th>\n",
       "      <th>locations</th>\n",
       "      <th>imdb_id</th>\n",
       "      <th>title</th>\n",
       "    </tr>\n",
       "  </thead>\n",
       "  <tbody>\n",
       "    <tr>\n",
       "      <th>0</th>\n",
       "      <td>St. Mary's Church - 203 E. 10th St. Austin, Te...</td>\n",
       "      <td>0985694</td>\n",
       "      <td>Machete</td>\n",
       "    </tr>\n",
       "    <tr>\n",
       "      <th>1</th>\n",
       "      <td>Austin, Texas, USA</td>\n",
       "      <td>0985694</td>\n",
       "      <td>Machete</td>\n",
       "    </tr>\n",
       "    <tr>\n",
       "      <th>2</th>\n",
       "      <td>Troublemaker Studios - 4900 Old Manor Road, Au...</td>\n",
       "      <td>0985694</td>\n",
       "      <td>Machete</td>\n",
       "    </tr>\n",
       "    <tr>\n",
       "      <th>3</th>\n",
       "      <td>Texas, USA</td>\n",
       "      <td>0985694</td>\n",
       "      <td>Machete</td>\n",
       "    </tr>\n",
       "    <tr>\n",
       "      <th>4</th>\n",
       "      <td>USA</td>\n",
       "      <td>0985694</td>\n",
       "      <td>Machete</td>\n",
       "    </tr>\n",
       "  </tbody>\n",
       "</table>\n",
       "</div>"
      ],
      "text/plain": [
       "                                           locations  imdb_id    title\n",
       "0  St. Mary's Church - 203 E. 10th St. Austin, Te...  0985694  Machete\n",
       "1                                 Austin, Texas, USA  0985694  Machete\n",
       "2  Troublemaker Studios - 4900 Old Manor Road, Au...  0985694  Machete\n",
       "3                                         Texas, USA  0985694  Machete\n",
       "4                                                USA  0985694  Machete"
      ]
     },
     "execution_count": 76,
     "metadata": {},
     "output_type": "execute_result"
    }
   ],
   "source": [
    "locations_df"
   ]
  },
  {
   "cell_type": "code",
   "execution_count": 26,
   "id": "8f800196",
   "metadata": {},
   "outputs": [
    {
     "name": "stdout",
     "output_type": "stream",
     "text": [
      "St. Mary's Church - 203 E. 10th St. Austin, Texas, USA (38.1903261, -76.42523646075932)\n",
      "Austin, Texas, USA (30.2711286, -97.7436995)\n",
      "Troublemaker Studios - 4900 Old Manor Road, Austin, Texas, USA (30.2711286, -97.7436995)\n",
      "Texas, USA (31.2638905, -98.5456116)\n",
      "USA (39.7837304, -100.445882)\n"
     ]
    }
   ],
   "source": [
    "for location in locations_df['set_location']:\n",
    "    print(location, get_coordinates(location))    "
   ]
  },
  {
   "cell_type": "code",
   "execution_count": 27,
   "id": "53fc2c4d",
   "metadata": {
    "scrolled": true
   },
   "outputs": [
    {
     "ename": "NameError",
     "evalue": "name 'mega_coordinates' is not defined",
     "output_type": "error",
     "traceback": [
      "\u001b[0;31m---------------------------------------------------------------------------\u001b[0m",
      "\u001b[0;31mNameError\u001b[0m                                 Traceback (most recent call last)",
      "\u001b[0;32m<ipython-input-27-09c4d6cfc702>\u001b[0m in \u001b[0;36m<module>\u001b[0;34m\u001b[0m\n\u001b[1;32m      1\u001b[0m \u001b[0;32mfor\u001b[0m \u001b[0mlocation\u001b[0m \u001b[0;32min\u001b[0m \u001b[0mlocations_df\u001b[0m\u001b[0;34m[\u001b[0m\u001b[0;34m'set_location'\u001b[0m\u001b[0;34m]\u001b[0m\u001b[0;34m:\u001b[0m\u001b[0;34m\u001b[0m\u001b[0;34m\u001b[0m\u001b[0m\n\u001b[0;32m----> 2\u001b[0;31m     \u001b[0mprint\u001b[0m\u001b[0;34m(\u001b[0m\u001b[0mlocation\u001b[0m\u001b[0;34m,\u001b[0m \u001b[0mmega_coordinates\u001b[0m\u001b[0;34m(\u001b[0m\u001b[0mlocation\u001b[0m\u001b[0;34m)\u001b[0m\u001b[0;34m)\u001b[0m\u001b[0;34m\u001b[0m\u001b[0;34m\u001b[0m\u001b[0m\n\u001b[0m",
      "\u001b[0;31mNameError\u001b[0m: name 'mega_coordinates' is not defined"
     ]
    }
   ],
   "source": [
    "for location in locations_df['set_location']:\n",
    "    print(location, mega_coordinates(location)) "
   ]
  },
  {
   "cell_type": "code",
   "execution_count": 30,
   "id": "bed72ffe",
   "metadata": {},
   "outputs": [],
   "source": [
    "location_df2['movie_location'] = location_df2.apply(lambda x: get_movie_location(x['locations']), axis=1)"
   ]
  },
  {
   "cell_type": "code",
   "execution_count": 31,
   "id": "010bf796",
   "metadata": {},
   "outputs": [],
   "source": [
    "location_df2['set_location'] = location_df2.apply(lambda x: get_set_location(x['locations']), axis=1)"
   ]
  },
  {
   "cell_type": "code",
   "execution_count": null,
   "id": "2cda4909",
   "metadata": {},
   "outputs": [],
   "source": []
  },
  {
   "cell_type": "code",
   "execution_count": 69,
   "id": "b76c3394",
   "metadata": {},
   "outputs": [],
   "source": [
    "location_df2[['latitude','longitude']] = location_df2.apply(lambda x: get_coordinates(x['set_location']), axis=1, result_type='expand')"
   ]
  },
  {
   "cell_type": "code",
   "execution_count": 77,
   "id": "5579f2bc",
   "metadata": {},
   "outputs": [
    {
     "data": {
      "text/html": [
       "<div>\n",
       "<style scoped>\n",
       "    .dataframe tbody tr th:only-of-type {\n",
       "        vertical-align: middle;\n",
       "    }\n",
       "\n",
       "    .dataframe tbody tr th {\n",
       "        vertical-align: top;\n",
       "    }\n",
       "\n",
       "    .dataframe thead th {\n",
       "        text-align: right;\n",
       "    }\n",
       "</style>\n",
       "<table border=\"1\" class=\"dataframe\">\n",
       "  <thead>\n",
       "    <tr style=\"text-align: right;\">\n",
       "      <th></th>\n",
       "      <th>locations</th>\n",
       "      <th>imdb_id</th>\n",
       "      <th>title</th>\n",
       "      <th>movie_location</th>\n",
       "      <th>set_location</th>\n",
       "      <th>latitude</th>\n",
       "      <th>longitude</th>\n",
       "    </tr>\n",
       "  </thead>\n",
       "  <tbody>\n",
       "    <tr>\n",
       "      <th>0</th>\n",
       "      <td>St. Mary's Church - 203 E. 10th St. Austin, Te...</td>\n",
       "      <td>0985694</td>\n",
       "      <td>Machete</td>\n",
       "      <td></td>\n",
       "      <td>St. Mary's Church - 203 E. 10th St. Austin, Te...</td>\n",
       "      <td>38.190326</td>\n",
       "      <td>-76.425236</td>\n",
       "    </tr>\n",
       "    <tr>\n",
       "      <th>1</th>\n",
       "      <td>Austin, Texas, USA</td>\n",
       "      <td>0985694</td>\n",
       "      <td>Machete</td>\n",
       "      <td></td>\n",
       "      <td>Austin, Texas, USA</td>\n",
       "      <td>30.271129</td>\n",
       "      <td>-97.743700</td>\n",
       "    </tr>\n",
       "    <tr>\n",
       "      <th>2</th>\n",
       "      <td>Troublemaker Studios - 4900 Old Manor Road, Au...</td>\n",
       "      <td>0985694</td>\n",
       "      <td>Machete</td>\n",
       "      <td>(studio)</td>\n",
       "      <td>Troublemaker Studios - 4900 Old Manor Road, Au...</td>\n",
       "      <td>30.271129</td>\n",
       "      <td>-97.743700</td>\n",
       "    </tr>\n",
       "    <tr>\n",
       "      <th>3</th>\n",
       "      <td>Texas, USA</td>\n",
       "      <td>0985694</td>\n",
       "      <td>Machete</td>\n",
       "      <td></td>\n",
       "      <td>Texas, USA</td>\n",
       "      <td>31.263890</td>\n",
       "      <td>-98.545612</td>\n",
       "    </tr>\n",
       "    <tr>\n",
       "      <th>4</th>\n",
       "      <td>USA</td>\n",
       "      <td>0985694</td>\n",
       "      <td>Machete</td>\n",
       "      <td></td>\n",
       "      <td>USA</td>\n",
       "      <td>39.783730</td>\n",
       "      <td>-100.445882</td>\n",
       "    </tr>\n",
       "  </tbody>\n",
       "</table>\n",
       "</div>"
      ],
      "text/plain": [
       "                                           locations  imdb_id    title  \\\n",
       "0  St. Mary's Church - 203 E. 10th St. Austin, Te...  0985694  Machete   \n",
       "1                                 Austin, Texas, USA  0985694  Machete   \n",
       "2  Troublemaker Studios - 4900 Old Manor Road, Au...  0985694  Machete   \n",
       "3                                         Texas, USA  0985694  Machete   \n",
       "4                                                USA  0985694  Machete   \n",
       "\n",
       "  movie_location                                       set_location  \\\n",
       "0                 St. Mary's Church - 203 E. 10th St. Austin, Te...   \n",
       "1                                                Austin, Texas, USA   \n",
       "2       (studio)  Troublemaker Studios - 4900 Old Manor Road, Au...   \n",
       "3                                                        Texas, USA   \n",
       "4                                                               USA   \n",
       "\n",
       "    latitude   longitude  \n",
       "0  38.190326  -76.425236  \n",
       "1  30.271129  -97.743700  \n",
       "2  30.271129  -97.743700  \n",
       "3  31.263890  -98.545612  \n",
       "4  39.783730 -100.445882  "
      ]
     },
     "execution_count": 77,
     "metadata": {},
     "output_type": "execute_result"
    }
   ],
   "source": [
    "enrich_locations(locations_df)"
   ]
  }
 ],
 "metadata": {
  "hide_input": false,
  "kernelspec": {
   "display_name": "Python 3",
   "language": "python",
   "name": "python3"
  },
  "language_info": {
   "codemirror_mode": {
    "name": "ipython",
    "version": 3
   },
   "file_extension": ".py",
   "mimetype": "text/x-python",
   "name": "python",
   "nbconvert_exporter": "python",
   "pygments_lexer": "ipython3",
   "version": "3.6.15"
  },
  "toc": {
   "base_numbering": 1,
   "nav_menu": {},
   "number_sections": true,
   "sideBar": true,
   "skip_h1_title": false,
   "title_cell": "Table of Contents",
   "title_sidebar": "Contents",
   "toc_cell": false,
   "toc_position": {},
   "toc_section_display": true,
   "toc_window_display": false
  }
 },
 "nbformat": 4,
 "nbformat_minor": 5
}
