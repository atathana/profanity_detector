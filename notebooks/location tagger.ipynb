{
 "cells": [
  {
   "cell_type": "code",
   "execution_count": 1,
   "id": "b3aa5b61",
   "metadata": {},
   "outputs": [],
   "source": [
    "%load_ext autoreload\n",
    "%autoreload 2"
   ]
  },
  {
   "cell_type": "code",
   "execution_count": 2,
   "id": "1d14b978",
   "metadata": {},
   "outputs": [],
   "source": [
    "import pandas as pd\n",
    "from imdb import Cinemagoer"
   ]
  },
  {
   "cell_type": "code",
   "execution_count": 3,
   "id": "3f51edc6",
   "metadata": {},
   "outputs": [],
   "source": [
    "import os\n",
    "import sys\n",
    "import inspect\n",
    "\n",
    "currentdir = os.path.dirname(os.path.abspath(inspect.getfile(inspect.currentframe())))\n",
    "parentdir = os.path.dirname(currentdir)\n",
    "sys.path.insert(0, parentdir) "
   ]
  },
  {
   "cell_type": "code",
   "execution_count": 4,
   "id": "f4fda77c",
   "metadata": {},
   "outputs": [],
   "source": [
    "from profanity_detector.get_data import movie_data, get_all_movie_data, run_and_display, get_all_movie_data"
   ]
  },
  {
   "cell_type": "code",
   "execution_count": 5,
   "id": "bede335a",
   "metadata": {},
   "outputs": [],
   "source": [
    "from profanity_detector.feature_data_enrichment import get_movie_location, get_set_location, get_coordinates, enrich_locations\n",
    "from geopy.geocoders import Nominatim"
   ]
  },
  {
   "cell_type": "code",
   "execution_count": 6,
   "id": "8f3da418",
   "metadata": {},
   "outputs": [],
   "source": [
    "import nltk"
   ]
  },
  {
   "cell_type": "code",
   "execution_count": 7,
   "id": "d7e97ecb",
   "metadata": {},
   "outputs": [],
   "source": [
    "import spacy"
   ]
  },
  {
   "cell_type": "code",
   "execution_count": 8,
   "id": "602618c9",
   "metadata": {},
   "outputs": [
    {
     "name": "stderr",
     "output_type": "stream",
     "text": [
      "[nltk_data] Downloading package maxent_ne_chunker to\n",
      "[nltk_data]     /home/tomershtein/nltk_data...\n",
      "[nltk_data]   Package maxent_ne_chunker is already up-to-date!\n",
      "[nltk_data] Downloading package words to\n",
      "[nltk_data]     /home/tomershtein/nltk_data...\n",
      "[nltk_data]   Package words is already up-to-date!\n",
      "[nltk_data] Downloading package treebank to\n",
      "[nltk_data]     /home/tomershtein/nltk_data...\n",
      "[nltk_data]   Package treebank is already up-to-date!\n",
      "[nltk_data] Downloading package maxent_treebank_pos_tagger to\n",
      "[nltk_data]     /home/tomershtein/nltk_data...\n",
      "[nltk_data]   Package maxent_treebank_pos_tagger is already up-to-\n",
      "[nltk_data]       date!\n",
      "[nltk_data] Downloading package punkt to\n",
      "[nltk_data]     /home/tomershtein/nltk_data...\n",
      "[nltk_data]   Package punkt is already up-to-date!\n",
      "[nltk_data] Downloading package averaged_perceptron_tagger to\n",
      "[nltk_data]     /home/tomershtein/nltk_data...\n",
      "[nltk_data]   Package averaged_perceptron_tagger is already up-to-\n",
      "[nltk_data]       date!\n"
     ]
    },
    {
     "data": {
      "text/plain": [
       "True"
      ]
     },
     "execution_count": 8,
     "metadata": {},
     "output_type": "execute_result"
    }
   ],
   "source": [
    "nltk.downloader.download('maxent_ne_chunker')\n",
    "nltk.downloader.download('words')\n",
    "nltk.downloader.download('treebank')\n",
    "nltk.downloader.download('maxent_treebank_pos_tagger')\n",
    "nltk.downloader.download('punkt')\n",
    "nltk.download('averaged_perceptron_tagger')"
   ]
  },
  {
   "cell_type": "code",
   "execution_count": 9,
   "id": "0cd80b31",
   "metadata": {
    "collapsed": true
   },
   "outputs": [
    {
     "name": "stdout",
     "output_type": "stream",
     "text": [
      "Collecting en-core-web-sm==3.2.0\n",
      "  Downloading https://github.com/explosion/spacy-models/releases/download/en_core_web_sm-3.2.0/en_core_web_sm-3.2.0-py3-none-any.whl (13.9 MB)\n",
      "     |████████████████████████████████| 13.9 MB 16.7 MB/s            \n",
      "\u001b[?25hRequirement already satisfied: spacy<3.3.0,>=3.2.0 in /home/tomershtein/.pyenv/versions/3.6.15/envs/profanity_detector/lib/python3.6/site-packages (from en-core-web-sm==3.2.0) (3.2.3)\n",
      "Requirement already satisfied: numpy>=1.15.0 in /home/tomershtein/.pyenv/versions/3.6.15/envs/profanity_detector/lib/python3.6/site-packages (from spacy<3.3.0,>=3.2.0->en-core-web-sm==3.2.0) (1.19.5)\n",
      "Requirement already satisfied: spacy-loggers<2.0.0,>=1.0.0 in /home/tomershtein/.pyenv/versions/3.6.15/envs/profanity_detector/lib/python3.6/site-packages (from spacy<3.3.0,>=3.2.0->en-core-web-sm==3.2.0) (1.0.1)\n",
      "Requirement already satisfied: blis<0.8.0,>=0.4.0 in /home/tomershtein/.pyenv/versions/3.6.15/envs/profanity_detector/lib/python3.6/site-packages (from spacy<3.3.0,>=3.2.0->en-core-web-sm==3.2.0) (0.7.6)\n",
      "Requirement already satisfied: typing-extensions<4.0.0.0,>=3.7.4 in /home/tomershtein/.pyenv/versions/3.6.15/envs/profanity_detector/lib/python3.6/site-packages (from spacy<3.3.0,>=3.2.0->en-core-web-sm==3.2.0) (3.10.0.2)\n",
      "Requirement already satisfied: murmurhash<1.1.0,>=0.28.0 in /home/tomershtein/.pyenv/versions/3.6.15/envs/profanity_detector/lib/python3.6/site-packages (from spacy<3.3.0,>=3.2.0->en-core-web-sm==3.2.0) (1.0.6)\n",
      "Requirement already satisfied: packaging>=20.0 in /home/tomershtein/.pyenv/versions/3.6.15/envs/profanity_detector/lib/python3.6/site-packages (from spacy<3.3.0,>=3.2.0->en-core-web-sm==3.2.0) (21.3)\n",
      "Requirement already satisfied: setuptools in /home/tomershtein/.pyenv/versions/3.6.15/envs/profanity_detector/lib/python3.6/site-packages (from spacy<3.3.0,>=3.2.0->en-core-web-sm==3.2.0) (40.6.2)\n",
      "Requirement already satisfied: preshed<3.1.0,>=3.0.2 in /home/tomershtein/.pyenv/versions/3.6.15/envs/profanity_detector/lib/python3.6/site-packages (from spacy<3.3.0,>=3.2.0->en-core-web-sm==3.2.0) (3.0.6)\n",
      "Requirement already satisfied: srsly<3.0.0,>=2.4.1 in /home/tomershtein/.pyenv/versions/3.6.15/envs/profanity_detector/lib/python3.6/site-packages (from spacy<3.3.0,>=3.2.0->en-core-web-sm==3.2.0) (2.4.2)\n",
      "Requirement already satisfied: spacy-legacy<3.1.0,>=3.0.8 in /home/tomershtein/.pyenv/versions/3.6.15/envs/profanity_detector/lib/python3.6/site-packages (from spacy<3.3.0,>=3.2.0->en-core-web-sm==3.2.0) (3.0.9)\n",
      "Requirement already satisfied: langcodes<4.0.0,>=3.2.0 in /home/tomershtein/.pyenv/versions/3.6.15/envs/profanity_detector/lib/python3.6/site-packages (from spacy<3.3.0,>=3.2.0->en-core-web-sm==3.2.0) (3.3.0)\n",
      "Requirement already satisfied: wasabi<1.1.0,>=0.8.1 in /home/tomershtein/.pyenv/versions/3.6.15/envs/profanity_detector/lib/python3.6/site-packages (from spacy<3.3.0,>=3.2.0->en-core-web-sm==3.2.0) (0.9.0)\n",
      "Requirement already satisfied: jinja2 in /home/tomershtein/.pyenv/versions/3.6.15/envs/profanity_detector/lib/python3.6/site-packages (from spacy<3.3.0,>=3.2.0->en-core-web-sm==3.2.0) (3.0.3)\n",
      "Requirement already satisfied: cymem<2.1.0,>=2.0.2 in /home/tomershtein/.pyenv/versions/3.6.15/envs/profanity_detector/lib/python3.6/site-packages (from spacy<3.3.0,>=3.2.0->en-core-web-sm==3.2.0) (2.0.6)\n",
      "Requirement already satisfied: typer<0.5.0,>=0.3.0 in /home/tomershtein/.pyenv/versions/3.6.15/envs/profanity_detector/lib/python3.6/site-packages (from spacy<3.3.0,>=3.2.0->en-core-web-sm==3.2.0) (0.4.0)\n",
      "Requirement already satisfied: pydantic!=1.8,!=1.8.1,<1.9.0,>=1.7.4 in /home/tomershtein/.pyenv/versions/3.6.15/envs/profanity_detector/lib/python3.6/site-packages (from spacy<3.3.0,>=3.2.0->en-core-web-sm==3.2.0) (1.8.2)\n",
      "Requirement already satisfied: catalogue<2.1.0,>=2.0.6 in /home/tomershtein/.pyenv/versions/3.6.15/envs/profanity_detector/lib/python3.6/site-packages (from spacy<3.3.0,>=3.2.0->en-core-web-sm==3.2.0) (2.0.6)\n",
      "Requirement already satisfied: pathy>=0.3.5 in /home/tomershtein/.pyenv/versions/3.6.15/envs/profanity_detector/lib/python3.6/site-packages (from spacy<3.3.0,>=3.2.0->en-core-web-sm==3.2.0) (0.6.1)\n",
      "Requirement already satisfied: requests<3.0.0,>=2.13.0 in /home/tomershtein/.pyenv/versions/3.6.15/envs/profanity_detector/lib/python3.6/site-packages (from spacy<3.3.0,>=3.2.0->en-core-web-sm==3.2.0) (2.27.1)\n",
      "Requirement already satisfied: thinc<8.1.0,>=8.0.12 in /home/tomershtein/.pyenv/versions/3.6.15/envs/profanity_detector/lib/python3.6/site-packages (from spacy<3.3.0,>=3.2.0->en-core-web-sm==3.2.0) (8.0.13)\n",
      "Requirement already satisfied: tqdm<5.0.0,>=4.38.0 in /home/tomershtein/.pyenv/versions/3.6.15/envs/profanity_detector/lib/python3.6/site-packages (from spacy<3.3.0,>=3.2.0->en-core-web-sm==3.2.0) (4.62.3)\n",
      "Requirement already satisfied: zipp>=0.5 in /home/tomershtein/.pyenv/versions/3.6.15/envs/profanity_detector/lib/python3.6/site-packages (from catalogue<2.1.0,>=2.0.6->spacy<3.3.0,>=3.2.0->en-core-web-sm==3.2.0) (3.6.0)\n",
      "Requirement already satisfied: pyparsing!=3.0.5,>=2.0.2 in /home/tomershtein/.pyenv/versions/3.6.15/envs/profanity_detector/lib/python3.6/site-packages (from packaging>=20.0->spacy<3.3.0,>=3.2.0->en-core-web-sm==3.2.0) (3.0.7)\n",
      "Requirement already satisfied: smart-open<6.0.0,>=5.0.0 in /home/tomershtein/.pyenv/versions/3.6.15/envs/profanity_detector/lib/python3.6/site-packages (from pathy>=0.3.5->spacy<3.3.0,>=3.2.0->en-core-web-sm==3.2.0) (5.2.1)\n",
      "Requirement already satisfied: dataclasses<1.0,>=0.6 in /home/tomershtein/.pyenv/versions/3.6.15/envs/profanity_detector/lib/python3.6/site-packages (from pathy>=0.3.5->spacy<3.3.0,>=3.2.0->en-core-web-sm==3.2.0) (0.8)\n",
      "Requirement already satisfied: idna<4,>=2.5 in /home/tomershtein/.pyenv/versions/3.6.15/envs/profanity_detector/lib/python3.6/site-packages (from requests<3.0.0,>=2.13.0->spacy<3.3.0,>=3.2.0->en-core-web-sm==3.2.0) (3.3)\n",
      "Requirement already satisfied: charset-normalizer~=2.0.0 in /home/tomershtein/.pyenv/versions/3.6.15/envs/profanity_detector/lib/python3.6/site-packages (from requests<3.0.0,>=2.13.0->spacy<3.3.0,>=3.2.0->en-core-web-sm==3.2.0) (2.0.12)\n",
      "Requirement already satisfied: certifi>=2017.4.17 in /home/tomershtein/.pyenv/versions/3.6.15/envs/profanity_detector/lib/python3.6/site-packages (from requests<3.0.0,>=2.13.0->spacy<3.3.0,>=3.2.0->en-core-web-sm==3.2.0) (2021.10.8)\n",
      "Requirement already satisfied: urllib3<1.27,>=1.21.1 in /home/tomershtein/.pyenv/versions/3.6.15/envs/profanity_detector/lib/python3.6/site-packages (from requests<3.0.0,>=2.13.0->spacy<3.3.0,>=3.2.0->en-core-web-sm==3.2.0) (1.26.8)\n",
      "Requirement already satisfied: contextvars<3,>=2.4 in /home/tomershtein/.pyenv/versions/3.6.15/envs/profanity_detector/lib/python3.6/site-packages (from thinc<8.1.0,>=8.0.12->spacy<3.3.0,>=3.2.0->en-core-web-sm==3.2.0) (2.4)\n",
      "Requirement already satisfied: click<9.0.0,>=7.1.1 in /home/tomershtein/.pyenv/versions/3.6.15/envs/profanity_detector/lib/python3.6/site-packages (from typer<0.5.0,>=0.3.0->spacy<3.3.0,>=3.2.0->en-core-web-sm==3.2.0) (8.0.4)\n",
      "Requirement already satisfied: MarkupSafe>=2.0 in /home/tomershtein/.pyenv/versions/3.6.15/envs/profanity_detector/lib/python3.6/site-packages (from jinja2->spacy<3.3.0,>=3.2.0->en-core-web-sm==3.2.0) (2.0.1)\n",
      "Requirement already satisfied: importlib-metadata in /home/tomershtein/.pyenv/versions/3.6.15/envs/profanity_detector/lib/python3.6/site-packages (from click<9.0.0,>=7.1.1->typer<0.5.0,>=0.3.0->spacy<3.3.0,>=3.2.0->en-core-web-sm==3.2.0) (4.8.3)\n",
      "Requirement already satisfied: immutables>=0.9 in /home/tomershtein/.pyenv/versions/3.6.15/envs/profanity_detector/lib/python3.6/site-packages (from contextvars<3,>=2.4->thinc<8.1.0,>=8.0.12->spacy<3.3.0,>=3.2.0->en-core-web-sm==3.2.0) (0.16)\n",
      "\u001b[38;5;2m✔ Download and installation successful\u001b[0m\n",
      "You can now load the package via spacy.load('en_core_web_sm')\n"
     ]
    }
   ],
   "source": [
    "! python -m spacy download en_core_web_sm"
   ]
  },
  {
   "cell_type": "markdown",
   "id": "33982f80",
   "metadata": {},
   "source": [
    "# Location tagger"
   ]
  },
  {
   "cell_type": "code",
   "execution_count": 10,
   "id": "839d407a",
   "metadata": {},
   "outputs": [],
   "source": [
    "import locationtagger"
   ]
  },
  {
   "cell_type": "code",
   "execution_count": 116,
   "id": "f0313c34",
   "metadata": {},
   "outputs": [],
   "source": [
    "movie_meta, quotes_df, reviews_df, locations_df = movie_data('lord of the rings')"
   ]
  },
  {
   "cell_type": "code",
   "execution_count": 117,
   "id": "5aff8de0",
   "metadata": {},
   "outputs": [],
   "source": [
    "location = locations_df['locations'][2]"
   ]
  },
  {
   "cell_type": "code",
   "execution_count": 118,
   "id": "07db24ea",
   "metadata": {
    "scrolled": true
   },
   "outputs": [
    {
     "data": {
      "text/plain": [
       "'Kaitoke Regional Park, Wellington Region, New Zealand::(Rivendell) (River Anduin)'"
      ]
     },
     "execution_count": 118,
     "metadata": {},
     "output_type": "execute_result"
    }
   ],
   "source": [
    "location"
   ]
  },
  {
   "cell_type": "markdown",
   "id": "6fdbb3bb",
   "metadata": {},
   "source": [
    "# preparing the data"
   ]
  },
  {
   "cell_type": "code",
   "execution_count": 14,
   "id": "ff93f7d4",
   "metadata": {},
   "outputs": [],
   "source": [
    "def get_movie_location(location):\n",
    "    if '::' in location:\n",
    "        splitlist = location.split('::')\n",
    "        movie_location = splitlist[1]\n",
    "            \n",
    "    else:\n",
    "        movie_location = ''\n",
    "           \n",
    "    return movie_location"
   ]
  },
  {
   "cell_type": "code",
   "execution_count": 15,
   "id": "2323bf02",
   "metadata": {},
   "outputs": [],
   "source": [
    "def get_set_location(location):\n",
    "    if '::' in location:\n",
    "        splitlist = location.split('::')\n",
    "        set_location = splitlist[0]\n",
    "    \n",
    "    else:\n",
    "        set_location = location\n",
    "    \n",
    "    \n",
    "    return set_location "
   ]
  },
  {
   "cell_type": "code",
   "execution_count": 16,
   "id": "36a0f68e",
   "metadata": {},
   "outputs": [],
   "source": [
    "locations_df['movie_location'] = locations_df.apply(lambda x: get_movie_location(x['locations']),\n",
    "                                                                     axis=1 )"
   ]
  },
  {
   "cell_type": "code",
   "execution_count": 17,
   "id": "918f8daa",
   "metadata": {},
   "outputs": [],
   "source": [
    "locations_df['set_location'] = locations_df.apply(lambda x: get_set_location(x['locations']),\n",
    "                                                                     axis=1 )"
   ]
  },
  {
   "cell_type": "code",
   "execution_count": 71,
   "id": "8ef25c85",
   "metadata": {},
   "outputs": [
    {
     "data": {
      "text/html": [
       "<div>\n",
       "<style scoped>\n",
       "    .dataframe tbody tr th:only-of-type {\n",
       "        vertical-align: middle;\n",
       "    }\n",
       "\n",
       "    .dataframe tbody tr th {\n",
       "        vertical-align: top;\n",
       "    }\n",
       "\n",
       "    .dataframe thead th {\n",
       "        text-align: right;\n",
       "    }\n",
       "</style>\n",
       "<table border=\"1\" class=\"dataframe\">\n",
       "  <thead>\n",
       "    <tr style=\"text-align: right;\">\n",
       "      <th></th>\n",
       "      <th>locations</th>\n",
       "      <th>imdb_id</th>\n",
       "      <th>title</th>\n",
       "      <th>movie_location</th>\n",
       "      <th>set_location</th>\n",
       "      <th>latitude</th>\n",
       "      <th>longitude</th>\n",
       "    </tr>\n",
       "  </thead>\n",
       "  <tbody>\n",
       "    <tr>\n",
       "      <th>0</th>\n",
       "      <td>St. Mary's Church - 203 E. 10th St. Austin, Te...</td>\n",
       "      <td>0985694</td>\n",
       "      <td>Machete</td>\n",
       "      <td></td>\n",
       "      <td>St. Mary's Church - 203 E. 10th St. Austin, Te...</td>\n",
       "      <td>NaN</td>\n",
       "      <td>NaN</td>\n",
       "    </tr>\n",
       "    <tr>\n",
       "      <th>1</th>\n",
       "      <td>Austin, Texas, USA</td>\n",
       "      <td>0985694</td>\n",
       "      <td>Machete</td>\n",
       "      <td></td>\n",
       "      <td>Austin, Texas, USA</td>\n",
       "      <td>NaN</td>\n",
       "      <td>NaN</td>\n",
       "    </tr>\n",
       "    <tr>\n",
       "      <th>2</th>\n",
       "      <td>Troublemaker Studios - 4900 Old Manor Road, Au...</td>\n",
       "      <td>0985694</td>\n",
       "      <td>Machete</td>\n",
       "      <td>(studio)</td>\n",
       "      <td>Troublemaker Studios - 4900 Old Manor Road, Au...</td>\n",
       "      <td>NaN</td>\n",
       "      <td>NaN</td>\n",
       "    </tr>\n",
       "    <tr>\n",
       "      <th>3</th>\n",
       "      <td>Texas, USA</td>\n",
       "      <td>0985694</td>\n",
       "      <td>Machete</td>\n",
       "      <td></td>\n",
       "      <td>Texas, USA</td>\n",
       "      <td>NaN</td>\n",
       "      <td>NaN</td>\n",
       "    </tr>\n",
       "    <tr>\n",
       "      <th>4</th>\n",
       "      <td>USA</td>\n",
       "      <td>0985694</td>\n",
       "      <td>Machete</td>\n",
       "      <td></td>\n",
       "      <td>USA</td>\n",
       "      <td>NaN</td>\n",
       "      <td>NaN</td>\n",
       "    </tr>\n",
       "  </tbody>\n",
       "</table>\n",
       "</div>"
      ],
      "text/plain": [
       "                                           locations  imdb_id    title  \\\n",
       "0  St. Mary's Church - 203 E. 10th St. Austin, Te...  0985694  Machete   \n",
       "1                                 Austin, Texas, USA  0985694  Machete   \n",
       "2  Troublemaker Studios - 4900 Old Manor Road, Au...  0985694  Machete   \n",
       "3                                         Texas, USA  0985694  Machete   \n",
       "4                                                USA  0985694  Machete   \n",
       "\n",
       "  movie_location                                       set_location  latitude  \\\n",
       "0                 St. Mary's Church - 203 E. 10th St. Austin, Te...       NaN   \n",
       "1                                                Austin, Texas, USA       NaN   \n",
       "2       (studio)  Troublemaker Studios - 4900 Old Manor Road, Au...       NaN   \n",
       "3                                                        Texas, USA       NaN   \n",
       "4                                                               USA       NaN   \n",
       "\n",
       "   longitude  \n",
       "0        NaN  \n",
       "1        NaN  \n",
       "2        NaN  \n",
       "3        NaN  \n",
       "4        NaN  "
      ]
     },
     "execution_count": 71,
     "metadata": {},
     "output_type": "execute_result"
    }
   ],
   "source": [
    "locations_df"
   ]
  },
  {
   "cell_type": "code",
   "execution_count": 19,
   "id": "05c4f20b",
   "metadata": {},
   "outputs": [
    {
     "data": {
      "text/plain": [
       "'Troublemaker Studios - 4900 Old Manor Road, Austin, Texas, USA'"
      ]
     },
     "execution_count": 19,
     "metadata": {},
     "output_type": "execute_result"
    }
   ],
   "source": [
    "locations_df['set_location'][2]"
   ]
  },
  {
   "cell_type": "markdown",
   "id": "4979566b",
   "metadata": {},
   "source": [
    "# geograpy"
   ]
  },
  {
   "cell_type": "code",
   "execution_count": 20,
   "id": "0b5edc6e",
   "metadata": {},
   "outputs": [],
   "source": [
    "import geograpy"
   ]
  },
  {
   "cell_type": "code",
   "execution_count": 21,
   "id": "c3e0594c",
   "metadata": {},
   "outputs": [],
   "source": [
    "from geopy.geocoders import Nominatim"
   ]
  },
  {
   "cell_type": "code",
   "execution_count": 22,
   "id": "bd4efaf2",
   "metadata": {
    "hide_input": false
   },
   "outputs": [
    {
     "name": "stdout",
     "output_type": "stream",
     "text": [
      "[nltk_data] Downloading package maxent_ne_chunker to\n",
      "[nltk_data]     /home/tomershtein/nltk_data...\n",
      "[nltk_data]   Package maxent_ne_chunker is already up-to-date!\n",
      "[nltk_data] Downloading package words to\n",
      "[nltk_data]     /home/tomershtein/nltk_data...\n",
      "[nltk_data]   Package words is already up-to-date!\n",
      "[nltk_data] Downloading package treebank to\n",
      "[nltk_data]     /home/tomershtein/nltk_data...\n",
      "[nltk_data]   Package treebank is already up-to-date!\n",
      "[nltk_data] Downloading package maxent_treebank_pos_tagger to\n",
      "[nltk_data]     /home/tomershtein/nltk_data...\n",
      "[nltk_data]   Package maxent_treebank_pos_tagger is already up-to-\n",
      "[nltk_data]       date!\n",
      "[nltk_data] Downloading package punkt to\n",
      "[nltk_data]     /home/tomershtein/nltk_data...\n",
      "[nltk_data]   Package punkt is already up-to-date!\n",
      "[nltk_data] Downloading package averaged_perceptron_tagger to\n",
      "[nltk_data]     /home/tomershtein/nltk_data...\n",
      "[nltk_data]   Package averaged_perceptron_tagger is already up-to-\n",
      "[nltk_data]       date!\n"
     ]
    }
   ],
   "source": [
    "! geograpy-nltk"
   ]
  },
  {
   "cell_type": "markdown",
   "id": "049fe87f",
   "metadata": {},
   "source": [
    "value_when_true if condition, else value_when_false"
   ]
  },
  {
   "cell_type": "code",
   "execution_count": 23,
   "id": "20ad1f41",
   "metadata": {},
   "outputs": [],
   "source": [
    "loc_list = list(locations_df['set_location'])"
   ]
  },
  {
   "cell_type": "code",
   "execution_count": 24,
   "id": "190a9469",
   "metadata": {},
   "outputs": [
    {
     "data": {
      "text/plain": [
       "[\"St. Mary's Church - 203 E. 10th St. Austin, Texas, USA\",\n",
       " 'Austin, Texas, USA',\n",
       " 'Troublemaker Studios - 4900 Old Manor Road, Austin, Texas, USA',\n",
       " 'Texas, USA',\n",
       " 'USA']"
      ]
     },
     "execution_count": 24,
     "metadata": {},
     "output_type": "execute_result"
    }
   ],
   "source": [
    "loc_list"
   ]
  },
  {
   "cell_type": "code",
   "execution_count": 75,
   "id": "2bc08525",
   "metadata": {},
   "outputs": [],
   "source": [
    "locations_df = locations_df.drop(['latitude','longitude'], axis=1)"
   ]
  },
  {
   "cell_type": "code",
   "execution_count": 121,
   "id": "7a86dc2c",
   "metadata": {
    "collapsed": true
   },
   "outputs": [
    {
     "data": {
      "text/html": [
       "<div>\n",
       "<style scoped>\n",
       "    .dataframe tbody tr th:only-of-type {\n",
       "        vertical-align: middle;\n",
       "    }\n",
       "\n",
       "    .dataframe tbody tr th {\n",
       "        vertical-align: top;\n",
       "    }\n",
       "\n",
       "    .dataframe thead th {\n",
       "        text-align: right;\n",
       "    }\n",
       "</style>\n",
       "<table border=\"1\" class=\"dataframe\">\n",
       "  <thead>\n",
       "    <tr style=\"text-align: right;\">\n",
       "      <th></th>\n",
       "      <th>locations</th>\n",
       "      <th>imdb_id</th>\n",
       "      <th>title</th>\n",
       "      <th>movie_location</th>\n",
       "      <th>set_location</th>\n",
       "    </tr>\n",
       "  </thead>\n",
       "  <tbody>\n",
       "    <tr>\n",
       "      <th>0</th>\n",
       "      <td>Wellington, New Zealand::(Bree)</td>\n",
       "      <td>0120737</td>\n",
       "      <td>The Lord of the Rings: The Fellowship of the Ring</td>\n",
       "      <td>(Bree)</td>\n",
       "      <td>Wellington, New Zealand</td>\n",
       "    </tr>\n",
       "    <tr>\n",
       "      <th>1</th>\n",
       "      <td>Hinuera Valley, Matamata, Waikato, New Zealand...</td>\n",
       "      <td>0120737</td>\n",
       "      <td>The Lord of the Rings: The Fellowship of the Ring</td>\n",
       "      <td>(Hobbiton)</td>\n",
       "      <td>Hinuera Valley, Matamata, Waikato, New Zealand</td>\n",
       "    </tr>\n",
       "    <tr>\n",
       "      <th>2</th>\n",
       "      <td>Kaitoke Regional Park, Wellington Region, New ...</td>\n",
       "      <td>0120737</td>\n",
       "      <td>The Lord of the Rings: The Fellowship of the Ring</td>\n",
       "      <td>(Rivendell) (River Anduin)</td>\n",
       "      <td>Kaitoke Regional Park, Wellington Region, New ...</td>\n",
       "    </tr>\n",
       "    <tr>\n",
       "      <th>3</th>\n",
       "      <td>Queenstown, Otago, New Zealand::(Ford of Bruin...</td>\n",
       "      <td>0120737</td>\n",
       "      <td>The Lord of the Rings: The Fellowship of the Ring</td>\n",
       "      <td>(Ford of Bruinen) (River Anduin) (Amon Hen)</td>\n",
       "      <td>Queenstown, Otago, New Zealand</td>\n",
       "    </tr>\n",
       "    <tr>\n",
       "      <th>4</th>\n",
       "      <td>Milford Sound, Fiordland National Park, Southl...</td>\n",
       "      <td>0120737</td>\n",
       "      <td>The Lord of the Rings: The Fellowship of the Ring</td>\n",
       "      <td></td>\n",
       "      <td>Milford Sound, Fiordland National Park, Southl...</td>\n",
       "    </tr>\n",
       "    <tr>\n",
       "      <th>5</th>\n",
       "      <td>Port Waikato, Waikato, New Zealand::(Weathertop)</td>\n",
       "      <td>0120737</td>\n",
       "      <td>The Lord of the Rings: The Fellowship of the Ring</td>\n",
       "      <td>(Weathertop)</td>\n",
       "      <td>Port Waikato, Waikato, New Zealand</td>\n",
       "    </tr>\n",
       "    <tr>\n",
       "      <th>6</th>\n",
       "      <td>Fernside, Featherston, Wairarapa, New Zealand:...</td>\n",
       "      <td>0120737</td>\n",
       "      <td>The Lord of the Rings: The Fellowship of the Ring</td>\n",
       "      <td>(Lothlorien)</td>\n",
       "      <td>Fernside, Featherston, Wairarapa, New Zealand</td>\n",
       "    </tr>\n",
       "    <tr>\n",
       "      <th>7</th>\n",
       "      <td>Rangipo Desert, Waiouru, Tongariro National Pa...</td>\n",
       "      <td>0120737</td>\n",
       "      <td>The Lord of the Rings: The Fellowship of the Ring</td>\n",
       "      <td></td>\n",
       "      <td>Rangipo Desert, Waiouru, Tongariro National Pa...</td>\n",
       "    </tr>\n",
       "    <tr>\n",
       "      <th>8</th>\n",
       "      <td>Rangitikei River, Manawatu-Wanganui, New Zeala...</td>\n",
       "      <td>0120737</td>\n",
       "      <td>The Lord of the Rings: The Fellowship of the Ring</td>\n",
       "      <td>(River Anduin)</td>\n",
       "      <td>Rangitikei River, Manawatu-Wanganui, New Zealand</td>\n",
       "    </tr>\n",
       "    <tr>\n",
       "      <th>9</th>\n",
       "      <td>Tongariro National Park, Central Plateau, New ...</td>\n",
       "      <td>0120737</td>\n",
       "      <td>The Lord of the Rings: The Fellowship of the Ring</td>\n",
       "      <td>(Mordor)</td>\n",
       "      <td>Tongariro National Park, Central Plateau, New ...</td>\n",
       "    </tr>\n",
       "    <tr>\n",
       "      <th>10</th>\n",
       "      <td>Lake Wakatipu, Queenstown, Otago, New Zealand:...</td>\n",
       "      <td>0120737</td>\n",
       "      <td>The Lord of the Rings: The Fellowship of the Ring</td>\n",
       "      <td>(Amon Hen)</td>\n",
       "      <td>Lake Wakatipu, Queenstown, Otago, New Zealand</td>\n",
       "    </tr>\n",
       "    <tr>\n",
       "      <th>11</th>\n",
       "      <td>Mavora Lakes, Southland, New Zealand::(Amon Hen)</td>\n",
       "      <td>0120737</td>\n",
       "      <td>The Lord of the Rings: The Fellowship of the Ring</td>\n",
       "      <td>(Amon Hen)</td>\n",
       "      <td>Mavora Lakes, Southland, New Zealand</td>\n",
       "    </tr>\n",
       "    <tr>\n",
       "      <th>12</th>\n",
       "      <td>Tarras, Wanaka, Otago, New Zealand::(Ford of B...</td>\n",
       "      <td>0120737</td>\n",
       "      <td>The Lord of the Rings: The Fellowship of the Ring</td>\n",
       "      <td>(Ford of Bruinen)</td>\n",
       "      <td>Tarras, Wanaka, Otago, New Zealand</td>\n",
       "    </tr>\n",
       "    <tr>\n",
       "      <th>13</th>\n",
       "      <td>Canterbury, New Zealand::(Edoras)</td>\n",
       "      <td>0120737</td>\n",
       "      <td>The Lord of the Rings: The Fellowship of the Ring</td>\n",
       "      <td>(Edoras)</td>\n",
       "      <td>Canterbury, New Zealand</td>\n",
       "    </tr>\n",
       "    <tr>\n",
       "      <th>14</th>\n",
       "      <td>Poet's Corner, Upper Hutt, Wellington, New Zea...</td>\n",
       "      <td>0120737</td>\n",
       "      <td>The Lord of the Rings: The Fellowship of the Ring</td>\n",
       "      <td>(River Anduin)</td>\n",
       "      <td>Poet's Corner, Upper Hutt, Wellington, New Zea...</td>\n",
       "    </tr>\n",
       "    <tr>\n",
       "      <th>15</th>\n",
       "      <td>South Island, New Zealand::(waterfalls scenes ...</td>\n",
       "      <td>0120737</td>\n",
       "      <td>The Lord of the Rings: The Fellowship of the Ring</td>\n",
       "      <td>(waterfalls scenes of Rivendell)</td>\n",
       "      <td>South Island, New Zealand</td>\n",
       "    </tr>\n",
       "    <tr>\n",
       "      <th>16</th>\n",
       "      <td>Harcourt Park, Upper Hutt, Wellington, New Zea...</td>\n",
       "      <td>0120737</td>\n",
       "      <td>The Lord of the Rings: The Fellowship of the Ring</td>\n",
       "      <td>(Gardens of Isengard)</td>\n",
       "      <td>Harcourt Park, Upper Hutt, Wellington, New Zea...</td>\n",
       "    </tr>\n",
       "    <tr>\n",
       "      <th>17</th>\n",
       "      <td>Upper Hutt, Wellington, New Zealand</td>\n",
       "      <td>0120737</td>\n",
       "      <td>The Lord of the Rings: The Fellowship of the Ring</td>\n",
       "      <td></td>\n",
       "      <td>Upper Hutt, Wellington, New Zealand</td>\n",
       "    </tr>\n",
       "    <tr>\n",
       "      <th>18</th>\n",
       "      <td>Camperdown Studios, Camperdown Road, Miramar, ...</td>\n",
       "      <td>0120737</td>\n",
       "      <td>The Lord of the Rings: The Fellowship of the Ring</td>\n",
       "      <td>(studio)</td>\n",
       "      <td>Camperdown Studios, Camperdown Road, Miramar, ...</td>\n",
       "    </tr>\n",
       "    <tr>\n",
       "      <th>19</th>\n",
       "      <td>Twizel, Canterbury, New Zealand</td>\n",
       "      <td>0120737</td>\n",
       "      <td>The Lord of the Rings: The Fellowship of the Ring</td>\n",
       "      <td></td>\n",
       "      <td>Twizel, Canterbury, New Zealand</td>\n",
       "    </tr>\n",
       "    <tr>\n",
       "      <th>20</th>\n",
       "      <td>Arrowtown Recreational Reserve, Arrowtown, Ota...</td>\n",
       "      <td>0120737</td>\n",
       "      <td>The Lord of the Rings: The Fellowship of the Ring</td>\n",
       "      <td>(Ford of Bruinen)</td>\n",
       "      <td>Arrowtown Recreational Reserve, Arrowtown, Ota...</td>\n",
       "    </tr>\n",
       "    <tr>\n",
       "      <th>21</th>\n",
       "      <td>Paradise, Glenorchy, Otago, New Zealand::(Loth...</td>\n",
       "      <td>0120737</td>\n",
       "      <td>The Lord of the Rings: The Fellowship of the Ring</td>\n",
       "      <td>(Lothlorien) (Amon Hen)</td>\n",
       "      <td>Paradise, Glenorchy, Otago, New Zealand</td>\n",
       "    </tr>\n",
       "    <tr>\n",
       "      <th>22</th>\n",
       "      <td>Te Anau, Southland District, Southland, New Ze...</td>\n",
       "      <td>0120737</td>\n",
       "      <td>The Lord of the Rings: The Fellowship of the Ring</td>\n",
       "      <td>(the Fellowship's river journey)</td>\n",
       "      <td>Te Anau, Southland District, Southland, New Ze...</td>\n",
       "    </tr>\n",
       "    <tr>\n",
       "      <th>23</th>\n",
       "      <td>Lake Alta, The Remarkables, Nelson, South Isla...</td>\n",
       "      <td>0120737</td>\n",
       "      <td>The Lord of the Rings: The Fellowship of the Ring</td>\n",
       "      <td>(Dimrill Dale)</td>\n",
       "      <td>Lake Alta, The Remarkables, Nelson, South Isla...</td>\n",
       "    </tr>\n",
       "    <tr>\n",
       "      <th>24</th>\n",
       "      <td>Closeburn, Southern Lakes, South Island, New Z...</td>\n",
       "      <td>0120737</td>\n",
       "      <td>The Lord of the Rings: The Fellowship of the Ring</td>\n",
       "      <td>(Amon Hen)</td>\n",
       "      <td>Closeburn, Southern Lakes, South Island, New Z...</td>\n",
       "    </tr>\n",
       "    <tr>\n",
       "      <th>25</th>\n",
       "      <td>Abel Tasman National Park, South Island, Tasma...</td>\n",
       "      <td>0120737</td>\n",
       "      <td>The Lord of the Rings: The Fellowship of the Ring</td>\n",
       "      <td>(exteriors of Moria)</td>\n",
       "      <td>Abel Tasman National Park, South Island, Tasma...</td>\n",
       "    </tr>\n",
       "    <tr>\n",
       "      <th>26</th>\n",
       "      <td>Otaki Gorge Road, Kapiti Coast District, North...</td>\n",
       "      <td>0120737</td>\n",
       "      <td>The Lord of the Rings: The Fellowship of the Ring</td>\n",
       "      <td>(the Shire woods)</td>\n",
       "      <td>Otaki Gorge Road, Kapiti Coast District, North...</td>\n",
       "    </tr>\n",
       "    <tr>\n",
       "      <th>27</th>\n",
       "      <td>Takaka Hill, Nelson, South Island, New Zealand...</td>\n",
       "      <td>0120737</td>\n",
       "      <td>The Lord of the Rings: The Fellowship of the Ring</td>\n",
       "      <td>(forest near Bree)</td>\n",
       "      <td>Takaka Hill, Nelson, South Island, New Zealand</td>\n",
       "    </tr>\n",
       "    <tr>\n",
       "      <th>28</th>\n",
       "      <td>Kepler Mire, Te Anau, South Island, New Zealan...</td>\n",
       "      <td>0120737</td>\n",
       "      <td>The Lord of the Rings: The Fellowship of the Ring</td>\n",
       "      <td>(Dead Marshes)</td>\n",
       "      <td>Kepler Mire, Te Anau, South Island, New Zealand</td>\n",
       "    </tr>\n",
       "    <tr>\n",
       "      <th>29</th>\n",
       "      <td>Mount Owen, Tasman district, Nelson, South Isl...</td>\n",
       "      <td>0120737</td>\n",
       "      <td>The Lord of the Rings: The Fellowship of the Ring</td>\n",
       "      <td>(Dimrill Dale)</td>\n",
       "      <td>Mount Owen, Tasman district, Nelson, South Isl...</td>\n",
       "    </tr>\n",
       "    <tr>\n",
       "      <th>30</th>\n",
       "      <td>Paradise, Glenorchy, Otago, New Zealand::(Part...</td>\n",
       "      <td>0120737</td>\n",
       "      <td>The Lord of the Rings: The Fellowship of the Ring</td>\n",
       "      <td>(Parth Galen)</td>\n",
       "      <td>Paradise, Glenorchy, Otago, New Zealand</td>\n",
       "    </tr>\n",
       "    <tr>\n",
       "      <th>31</th>\n",
       "      <td>Fort Dorset, Miramar, Wellington, New Zealand:...</td>\n",
       "      <td>0120737</td>\n",
       "      <td>The Lord of the Rings: The Fellowship of the Ring</td>\n",
       "      <td>(Inn of the Prancing Pony's exteriors)</td>\n",
       "      <td>Fort Dorset, Miramar, Wellington, New Zealand</td>\n",
       "    </tr>\n",
       "    <tr>\n",
       "      <th>32</th>\n",
       "      <td>Hutt Valley, Wellington, New Zealand::(exterio...</td>\n",
       "      <td>0120737</td>\n",
       "      <td>The Lord of the Rings: The Fellowship of the Ring</td>\n",
       "      <td>(exteriors of Moria)</td>\n",
       "      <td>Hutt Valley, Wellington, New Zealand</td>\n",
       "    </tr>\n",
       "    <tr>\n",
       "      <th>33</th>\n",
       "      <td>Whakapapa Skifield, Mount Ruapehu, Tongariro N...</td>\n",
       "      <td>0120737</td>\n",
       "      <td>The Lord of the Rings: The Fellowship of the Ring</td>\n",
       "      <td>(Mordor prologue scene)</td>\n",
       "      <td>Whakapapa Skifield, Mount Ruapehu, Tongariro N...</td>\n",
       "    </tr>\n",
       "    <tr>\n",
       "      <th>34</th>\n",
       "      <td>Keeling Farm, Manakau, Horowhenua District, No...</td>\n",
       "      <td>0120737</td>\n",
       "      <td>The Lord of the Rings: The Fellowship of the Ring</td>\n",
       "      <td>(Bucklebury Ferry)</td>\n",
       "      <td>Keeling Farm, Manakau, Horowhenua District, No...</td>\n",
       "    </tr>\n",
       "    <tr>\n",
       "      <th>35</th>\n",
       "      <td>Waitarere Forest, Horowhenua District, North I...</td>\n",
       "      <td>0120737</td>\n",
       "      <td>The Lord of the Rings: The Fellowship of the Ring</td>\n",
       "      <td>(Trollshaws)</td>\n",
       "      <td>Waitarere Forest, Horowhenua District, North I...</td>\n",
       "    </tr>\n",
       "    <tr>\n",
       "      <th>36</th>\n",
       "      <td>Mount Olympus, Nelson, South Island, New Zeala...</td>\n",
       "      <td>0120737</td>\n",
       "      <td>The Lord of the Rings: The Fellowship of the Ring</td>\n",
       "      <td>(Eregion)</td>\n",
       "      <td>Mount Olympus, Nelson, South Island, New Zealand</td>\n",
       "    </tr>\n",
       "    <tr>\n",
       "      <th>37</th>\n",
       "      <td>Upper Waiau River, Fiordland National Park, So...</td>\n",
       "      <td>0120737</td>\n",
       "      <td>The Lord of the Rings: The Fellowship of the Ring</td>\n",
       "      <td>(River Anduin)</td>\n",
       "      <td>Upper Waiau River, Fiordland National Park, So...</td>\n",
       "    </tr>\n",
       "    <tr>\n",
       "      <th>38</th>\n",
       "      <td>Chicago, Illinois, USA</td>\n",
       "      <td>0120737</td>\n",
       "      <td>The Lord of the Rings: The Fellowship of the Ring</td>\n",
       "      <td></td>\n",
       "      <td>Chicago, Illinois, USA</td>\n",
       "    </tr>\n",
       "  </tbody>\n",
       "</table>\n",
       "</div>"
      ],
      "text/plain": [
       "                                            locations  imdb_id  \\\n",
       "0                     Wellington, New Zealand::(Bree)  0120737   \n",
       "1   Hinuera Valley, Matamata, Waikato, New Zealand...  0120737   \n",
       "2   Kaitoke Regional Park, Wellington Region, New ...  0120737   \n",
       "3   Queenstown, Otago, New Zealand::(Ford of Bruin...  0120737   \n",
       "4   Milford Sound, Fiordland National Park, Southl...  0120737   \n",
       "5    Port Waikato, Waikato, New Zealand::(Weathertop)  0120737   \n",
       "6   Fernside, Featherston, Wairarapa, New Zealand:...  0120737   \n",
       "7   Rangipo Desert, Waiouru, Tongariro National Pa...  0120737   \n",
       "8   Rangitikei River, Manawatu-Wanganui, New Zeala...  0120737   \n",
       "9   Tongariro National Park, Central Plateau, New ...  0120737   \n",
       "10  Lake Wakatipu, Queenstown, Otago, New Zealand:...  0120737   \n",
       "11   Mavora Lakes, Southland, New Zealand::(Amon Hen)  0120737   \n",
       "12  Tarras, Wanaka, Otago, New Zealand::(Ford of B...  0120737   \n",
       "13                  Canterbury, New Zealand::(Edoras)  0120737   \n",
       "14  Poet's Corner, Upper Hutt, Wellington, New Zea...  0120737   \n",
       "15  South Island, New Zealand::(waterfalls scenes ...  0120737   \n",
       "16  Harcourt Park, Upper Hutt, Wellington, New Zea...  0120737   \n",
       "17                Upper Hutt, Wellington, New Zealand  0120737   \n",
       "18  Camperdown Studios, Camperdown Road, Miramar, ...  0120737   \n",
       "19                    Twizel, Canterbury, New Zealand  0120737   \n",
       "20  Arrowtown Recreational Reserve, Arrowtown, Ota...  0120737   \n",
       "21  Paradise, Glenorchy, Otago, New Zealand::(Loth...  0120737   \n",
       "22  Te Anau, Southland District, Southland, New Ze...  0120737   \n",
       "23  Lake Alta, The Remarkables, Nelson, South Isla...  0120737   \n",
       "24  Closeburn, Southern Lakes, South Island, New Z...  0120737   \n",
       "25  Abel Tasman National Park, South Island, Tasma...  0120737   \n",
       "26  Otaki Gorge Road, Kapiti Coast District, North...  0120737   \n",
       "27  Takaka Hill, Nelson, South Island, New Zealand...  0120737   \n",
       "28  Kepler Mire, Te Anau, South Island, New Zealan...  0120737   \n",
       "29  Mount Owen, Tasman district, Nelson, South Isl...  0120737   \n",
       "30  Paradise, Glenorchy, Otago, New Zealand::(Part...  0120737   \n",
       "31  Fort Dorset, Miramar, Wellington, New Zealand:...  0120737   \n",
       "32  Hutt Valley, Wellington, New Zealand::(exterio...  0120737   \n",
       "33  Whakapapa Skifield, Mount Ruapehu, Tongariro N...  0120737   \n",
       "34  Keeling Farm, Manakau, Horowhenua District, No...  0120737   \n",
       "35  Waitarere Forest, Horowhenua District, North I...  0120737   \n",
       "36  Mount Olympus, Nelson, South Island, New Zeala...  0120737   \n",
       "37  Upper Waiau River, Fiordland National Park, So...  0120737   \n",
       "38                             Chicago, Illinois, USA  0120737   \n",
       "\n",
       "                                                title  \\\n",
       "0   The Lord of the Rings: The Fellowship of the Ring   \n",
       "1   The Lord of the Rings: The Fellowship of the Ring   \n",
       "2   The Lord of the Rings: The Fellowship of the Ring   \n",
       "3   The Lord of the Rings: The Fellowship of the Ring   \n",
       "4   The Lord of the Rings: The Fellowship of the Ring   \n",
       "5   The Lord of the Rings: The Fellowship of the Ring   \n",
       "6   The Lord of the Rings: The Fellowship of the Ring   \n",
       "7   The Lord of the Rings: The Fellowship of the Ring   \n",
       "8   The Lord of the Rings: The Fellowship of the Ring   \n",
       "9   The Lord of the Rings: The Fellowship of the Ring   \n",
       "10  The Lord of the Rings: The Fellowship of the Ring   \n",
       "11  The Lord of the Rings: The Fellowship of the Ring   \n",
       "12  The Lord of the Rings: The Fellowship of the Ring   \n",
       "13  The Lord of the Rings: The Fellowship of the Ring   \n",
       "14  The Lord of the Rings: The Fellowship of the Ring   \n",
       "15  The Lord of the Rings: The Fellowship of the Ring   \n",
       "16  The Lord of the Rings: The Fellowship of the Ring   \n",
       "17  The Lord of the Rings: The Fellowship of the Ring   \n",
       "18  The Lord of the Rings: The Fellowship of the Ring   \n",
       "19  The Lord of the Rings: The Fellowship of the Ring   \n",
       "20  The Lord of the Rings: The Fellowship of the Ring   \n",
       "21  The Lord of the Rings: The Fellowship of the Ring   \n",
       "22  The Lord of the Rings: The Fellowship of the Ring   \n",
       "23  The Lord of the Rings: The Fellowship of the Ring   \n",
       "24  The Lord of the Rings: The Fellowship of the Ring   \n",
       "25  The Lord of the Rings: The Fellowship of the Ring   \n",
       "26  The Lord of the Rings: The Fellowship of the Ring   \n",
       "27  The Lord of the Rings: The Fellowship of the Ring   \n",
       "28  The Lord of the Rings: The Fellowship of the Ring   \n",
       "29  The Lord of the Rings: The Fellowship of the Ring   \n",
       "30  The Lord of the Rings: The Fellowship of the Ring   \n",
       "31  The Lord of the Rings: The Fellowship of the Ring   \n",
       "32  The Lord of the Rings: The Fellowship of the Ring   \n",
       "33  The Lord of the Rings: The Fellowship of the Ring   \n",
       "34  The Lord of the Rings: The Fellowship of the Ring   \n",
       "35  The Lord of the Rings: The Fellowship of the Ring   \n",
       "36  The Lord of the Rings: The Fellowship of the Ring   \n",
       "37  The Lord of the Rings: The Fellowship of the Ring   \n",
       "38  The Lord of the Rings: The Fellowship of the Ring   \n",
       "\n",
       "                                 movie_location  \\\n",
       "0                                        (Bree)   \n",
       "1                                    (Hobbiton)   \n",
       "2                    (Rivendell) (River Anduin)   \n",
       "3   (Ford of Bruinen) (River Anduin) (Amon Hen)   \n",
       "4                                                 \n",
       "5                                  (Weathertop)   \n",
       "6                                  (Lothlorien)   \n",
       "7                                                 \n",
       "8                                (River Anduin)   \n",
       "9                                      (Mordor)   \n",
       "10                                   (Amon Hen)   \n",
       "11                                   (Amon Hen)   \n",
       "12                            (Ford of Bruinen)   \n",
       "13                                     (Edoras)   \n",
       "14                               (River Anduin)   \n",
       "15             (waterfalls scenes of Rivendell)   \n",
       "16                        (Gardens of Isengard)   \n",
       "17                                                \n",
       "18                                     (studio)   \n",
       "19                                                \n",
       "20                            (Ford of Bruinen)   \n",
       "21                      (Lothlorien) (Amon Hen)   \n",
       "22             (the Fellowship's river journey)   \n",
       "23                               (Dimrill Dale)   \n",
       "24                                   (Amon Hen)   \n",
       "25                         (exteriors of Moria)   \n",
       "26                            (the Shire woods)   \n",
       "27                           (forest near Bree)   \n",
       "28                               (Dead Marshes)   \n",
       "29                               (Dimrill Dale)   \n",
       "30                                (Parth Galen)   \n",
       "31       (Inn of the Prancing Pony's exteriors)   \n",
       "32                         (exteriors of Moria)   \n",
       "33                      (Mordor prologue scene)   \n",
       "34                           (Bucklebury Ferry)   \n",
       "35                                 (Trollshaws)   \n",
       "36                                    (Eregion)   \n",
       "37                               (River Anduin)   \n",
       "38                                                \n",
       "\n",
       "                                         set_location  \n",
       "0                             Wellington, New Zealand  \n",
       "1      Hinuera Valley, Matamata, Waikato, New Zealand  \n",
       "2   Kaitoke Regional Park, Wellington Region, New ...  \n",
       "3                      Queenstown, Otago, New Zealand  \n",
       "4   Milford Sound, Fiordland National Park, Southl...  \n",
       "5                  Port Waikato, Waikato, New Zealand  \n",
       "6       Fernside, Featherston, Wairarapa, New Zealand  \n",
       "7   Rangipo Desert, Waiouru, Tongariro National Pa...  \n",
       "8    Rangitikei River, Manawatu-Wanganui, New Zealand  \n",
       "9   Tongariro National Park, Central Plateau, New ...  \n",
       "10      Lake Wakatipu, Queenstown, Otago, New Zealand  \n",
       "11               Mavora Lakes, Southland, New Zealand  \n",
       "12                 Tarras, Wanaka, Otago, New Zealand  \n",
       "13                            Canterbury, New Zealand  \n",
       "14  Poet's Corner, Upper Hutt, Wellington, New Zea...  \n",
       "15                          South Island, New Zealand  \n",
       "16  Harcourt Park, Upper Hutt, Wellington, New Zea...  \n",
       "17                Upper Hutt, Wellington, New Zealand  \n",
       "18  Camperdown Studios, Camperdown Road, Miramar, ...  \n",
       "19                    Twizel, Canterbury, New Zealand  \n",
       "20  Arrowtown Recreational Reserve, Arrowtown, Ota...  \n",
       "21            Paradise, Glenorchy, Otago, New Zealand  \n",
       "22  Te Anau, Southland District, Southland, New Ze...  \n",
       "23  Lake Alta, The Remarkables, Nelson, South Isla...  \n",
       "24  Closeburn, Southern Lakes, South Island, New Z...  \n",
       "25  Abel Tasman National Park, South Island, Tasma...  \n",
       "26  Otaki Gorge Road, Kapiti Coast District, North...  \n",
       "27     Takaka Hill, Nelson, South Island, New Zealand  \n",
       "28    Kepler Mire, Te Anau, South Island, New Zealand  \n",
       "29  Mount Owen, Tasman district, Nelson, South Isl...  \n",
       "30            Paradise, Glenorchy, Otago, New Zealand  \n",
       "31      Fort Dorset, Miramar, Wellington, New Zealand  \n",
       "32               Hutt Valley, Wellington, New Zealand  \n",
       "33  Whakapapa Skifield, Mount Ruapehu, Tongariro N...  \n",
       "34  Keeling Farm, Manakau, Horowhenua District, No...  \n",
       "35  Waitarere Forest, Horowhenua District, North I...  \n",
       "36   Mount Olympus, Nelson, South Island, New Zealand  \n",
       "37  Upper Waiau River, Fiordland National Park, So...  \n",
       "38                             Chicago, Illinois, USA  "
      ]
     },
     "execution_count": 121,
     "metadata": {},
     "output_type": "execute_result"
    }
   ],
   "source": [
    "locations_df"
   ]
  },
  {
   "cell_type": "code",
   "execution_count": 122,
   "id": "17c08c1e",
   "metadata": {
    "scrolled": true
   },
   "outputs": [
    {
     "name": "stdout",
     "output_type": "stream",
     "text": [
      "Wellington, New Zealand (-41.2887953, 174.7772114)\n",
      "Hinuera Valley, Matamata, Waikato, New Zealand (-37.7741407, 175.4883742)\n",
      "Kaitoke Regional Park, Wellington Region, New Zealand (-41.0495879, 175.1791197)\n",
      "Queenstown, Otago, New Zealand (-45.0321923, 168.661)\n",
      "Milford Sound, Fiordland National Park, Southland, New Zealand (-44.67184, 167.9254592)\n",
      "Port Waikato, Waikato, New Zealand (-37.3913264, 174.717334)\n",
      "Fernside, Featherston, Wairarapa, New Zealand (-41.0885537, 175.3505731)\n",
      "Rangipo Desert, Waiouru, Tongariro National Park, Central Plateau, New Zealand (-39.4772125, 175.6697752)\n",
      "Rangitikei River, Manawatu-Wanganui, New Zealand (-39.7665195, 175.8152587)\n",
      "Tongariro National Park, Central Plateau, New Zealand (-39.1727294, 175.4037274)\n",
      "Lake Wakatipu, Queenstown, Otago, New Zealand (-45.08880415, 168.52111077909876)\n",
      "Mavora Lakes, Southland, New Zealand (-45.36653, 168.11838)\n",
      "Tarras, Wanaka, Otago, New Zealand (-44.6941691, 169.1364637)\n",
      "Canterbury, New Zealand (-43.49417615, 171.8098447584145)\n",
      "Poet's Corner, Upper Hutt, Wellington, New Zealand (-41.2887953, 174.7772114)\n",
      "South Island, New Zealand (-43.586562, 171.21232939964904)\n",
      "Harcourt Park, Upper Hutt, Wellington, New Zealand (-41.10165085, 175.09427325890724)\n",
      "Upper Hutt, Wellington, New Zealand (-41.1240674, 175.0699589)\n",
      "Camperdown Studios, Camperdown Road, Miramar, Wellington, New Zealand (-41.3061798, 174.8236202)\n",
      "Twizel, Canterbury, New Zealand (-44.257483, 170.0994145)\n",
      "Arrowtown Recreational Reserve, Arrowtown, Otago, New Zealand (-44.9405627, 168.8350761)\n",
      "Paradise, Glenorchy, Otago, New Zealand (-44.8231841, 168.3985085)\n",
      "Te Anau, Southland District, Southland, New Zealand (-45.41449, 167.717489)\n"
     ]
    },
    {
     "ename": "AttributeError",
     "evalue": "'NoneType' object has no attribute 'latitude'",
     "output_type": "error",
     "traceback": [
      "\u001b[0;31m---------------------------------------------------------------------------\u001b[0m",
      "\u001b[0;31mAttributeError\u001b[0m                            Traceback (most recent call last)",
      "\u001b[0;32m<ipython-input-122-636f5084d2f5>\u001b[0m in \u001b[0;36m<module>\u001b[0;34m\u001b[0m\n\u001b[1;32m      1\u001b[0m \u001b[0;32mfor\u001b[0m \u001b[0mlocation\u001b[0m \u001b[0;32min\u001b[0m \u001b[0mlocations_df\u001b[0m\u001b[0;34m[\u001b[0m\u001b[0;34m'set_location'\u001b[0m\u001b[0;34m]\u001b[0m\u001b[0;34m:\u001b[0m\u001b[0;34m\u001b[0m\u001b[0;34m\u001b[0m\u001b[0m\n\u001b[0;32m----> 2\u001b[0;31m     \u001b[0mprint\u001b[0m\u001b[0;34m(\u001b[0m\u001b[0mlocation\u001b[0m\u001b[0;34m,\u001b[0m \u001b[0mget_coordinates\u001b[0m\u001b[0;34m(\u001b[0m\u001b[0mlocation\u001b[0m\u001b[0;34m)\u001b[0m\u001b[0;34m)\u001b[0m\u001b[0;34m\u001b[0m\u001b[0;34m\u001b[0m\u001b[0m\n\u001b[0m",
      "\u001b[0;32m~/code/atathana/profanity_detector/profanity_detector/feature_data_enrichment.py\u001b[0m in \u001b[0;36mget_coordinates\u001b[0;34m(location)\u001b[0m\n\u001b[1;32m     65\u001b[0m         \u001b[0mgetLoc\u001b[0m \u001b[0;34m=\u001b[0m \u001b[0mloc\u001b[0m\u001b[0;34m.\u001b[0m\u001b[0mgeocode\u001b[0m\u001b[0;34m(\u001b[0m\u001b[0malt_location\u001b[0m\u001b[0;34m)\u001b[0m\u001b[0;34m\u001b[0m\u001b[0;34m\u001b[0m\u001b[0m\n\u001b[1;32m     66\u001b[0m \u001b[0;34m\u001b[0m\u001b[0m\n\u001b[0;32m---> 67\u001b[0;31m     \u001b[0mlatitude\u001b[0m \u001b[0;34m=\u001b[0m \u001b[0mgetLoc\u001b[0m\u001b[0;34m.\u001b[0m\u001b[0mlatitude\u001b[0m\u001b[0;34m\u001b[0m\u001b[0;34m\u001b[0m\u001b[0m\n\u001b[0m\u001b[1;32m     68\u001b[0m     \u001b[0mlongitude\u001b[0m \u001b[0;34m=\u001b[0m \u001b[0mgetLoc\u001b[0m\u001b[0;34m.\u001b[0m\u001b[0mlongitude\u001b[0m\u001b[0;34m\u001b[0m\u001b[0;34m\u001b[0m\u001b[0m\n\u001b[1;32m     69\u001b[0m \u001b[0;34m\u001b[0m\u001b[0m\n",
      "\u001b[0;31mAttributeError\u001b[0m: 'NoneType' object has no attribute 'latitude'"
     ]
    }
   ],
   "source": [
    "for location in locations_df['set_location']:\n",
    "    print(location, get_coordinates(location))    "
   ]
  },
  {
   "cell_type": "code",
   "execution_count": 124,
   "id": "92e30d5b",
   "metadata": {},
   "outputs": [],
   "source": [
    "loc = Nominatim(user_agent=\"profanity_detector\")"
   ]
  },
  {
   "cell_type": "code",
   "execution_count": 125,
   "id": "dddf1ea1",
   "metadata": {},
   "outputs": [],
   "source": [
    "getLoc = loc.geocode('Lake Alta, The Remarkables, Nelson, South Island, New Zealand')\n",
    "\n",
    "getLoc is None"
   ]
  },
  {
   "cell_type": "code",
   "execution_count": 127,
   "id": "3c67c0f9",
   "metadata": {},
   "outputs": [],
   "source": [
    "places = geograpy.get_place_context(text='Lake Alta, The Remarkables, Nelson, South Island, New Zealand')"
   ]
  },
  {
   "cell_type": "code",
   "execution_count": 128,
   "id": "46103917",
   "metadata": {
    "scrolled": true
   },
   "outputs": [
    {
     "data": {
      "text/plain": [
       "{'debug': False,\n",
       " 'correctMisspelling': False,\n",
       " 'storageConfig': <lodstorage.storageconfig.StorageConfig at 0x7f229458b978>,\n",
       " 'db_path': '/home/tomershtein/.geograpy3',\n",
       " 'db_file': '/home/tomershtein/.geograpy3/locations.db',\n",
       " 'view': 'CityLookup',\n",
       " 'sqlDB': <lodstorage.sql.SQLDB at 0x7f229422e160>,\n",
       " 'aliases': {'UK': 'GB',\n",
       "  'USA': 'United States of America',\n",
       "  'United States': 'United States of America'},\n",
       " 'dbVersion': '2021-08-18 16:15:00',\n",
       " 'places': ['Lake',\n",
       "  'Alta',\n",
       "  'Remarkables',\n",
       "  'Nelson',\n",
       "  'South Island',\n",
       "  'New Zealand'],\n",
       " 'country_mentions': [('New Zealand', 1),\n",
       "  ('Norway', 1),\n",
       "  ('United States of America', 1),\n",
       "  ('Australia', 1),\n",
       "  ('Germany', 1),\n",
       "  ('Canada', 1),\n",
       "  ('United Kingdom', 1),\n",
       "  ('Argentina', 1)],\n",
       " 'countries': ['New Zealand',\n",
       "  'Norway',\n",
       "  'United States of America',\n",
       "  'Australia',\n",
       "  'Germany',\n",
       "  'Canada',\n",
       "  'United Kingdom',\n",
       "  'Argentina'],\n",
       " 'country_regions': {'New Zealand': ['South Island', 'Nelson']},\n",
       " 'region_mentions': [('Nelson', 1), ('South Island', 1)],\n",
       " 'regions': ['South Island', 'Nelson'],\n",
       " 'cities': ['Nelson', 'Alta', 'Lake', 'New Zealand'],\n",
       " 'country_cities': {'New Zealand': ['Nelson'],\n",
       "  'Norway': ['Alta'],\n",
       "  'United States of America': ['Nelson', 'Alta', 'Lake'],\n",
       "  'Australia': ['Nelson'],\n",
       "  'Germany': ['Lake'],\n",
       "  'Canada': ['Nelson'],\n",
       "  'United Kingdom': ['Nelson', 'Lake', 'New Zealand'],\n",
       "  'Argentina': ['Nelson']},\n",
       " 'address_strings': [],\n",
       " 'city_mentions': [('Lake', 1),\n",
       "  ('Alta', 1),\n",
       "  ('Nelson', 1),\n",
       "  ('New Zealand', 1)],\n",
       " 'other': ['Remarkables']}"
      ]
     },
     "execution_count": 128,
     "metadata": {},
     "output_type": "execute_result"
    }
   ],
   "source": [
    "places.__dict__"
   ]
  },
  {
   "cell_type": "code",
   "execution_count": 138,
   "id": "8d3ae7f5",
   "metadata": {},
   "outputs": [],
   "source": [
    "country = places.countries[0] if places.countries != [] else ''\n",
    "\n",
    "#extract region\n",
    "if places.regions != [] and places.regions[0] != places.countries[0]:\n",
    "    region = places.regions[0]  \n",
    "elif places.regions != [] and places.regions[0] == places.countries[0] and len(places.regions) > 1:\n",
    "     region = places.regions[1]\n",
    "else:\n",
    "    region = ''    \n",
    "\n",
    "#extract city\n",
    "city = places.cities[0] if places.cities != [] else ''\n",
    "\n",
    "#create alt_location string\n",
    "loc_parse = [city, region, country]\n",
    "place = []\n",
    "for l in loc_parse:\n",
    "    if l != '':\n",
    "        place.append(l) \n",
    "alt_location = ', '.join(place)"
   ]
  },
  {
   "cell_type": "code",
   "execution_count": 139,
   "id": "351fd5ea",
   "metadata": {},
   "outputs": [
    {
     "data": {
      "text/plain": [
       "'Nelson, South Island, New Zealand'"
      ]
     },
     "execution_count": 139,
     "metadata": {},
     "output_type": "execute_result"
    }
   ],
   "source": [
    "alt_location"
   ]
  },
  {
   "cell_type": "code",
   "execution_count": 141,
   "id": "f95ef164",
   "metadata": {},
   "outputs": [],
   "source": [
    "alt_list = alt_location.split(',')\n",
    "\n",
    "alt_list.remove(alt_list[0])\n",
    "\n",
    "alt_location = ', '.join(alt_list)\n",
    "\n",
    "alt_location"
   ]
  },
  {
   "cell_type": "code",
   "execution_count": 148,
   "id": "972ea8e9",
   "metadata": {},
   "outputs": [
    {
     "data": {
      "text/plain": [
       "False"
      ]
     },
     "execution_count": 148,
     "metadata": {},
     "output_type": "execute_result"
    }
   ],
   "source": [
    "getLoc2 = loc.geocode(' South Island,  New Zealand')\n",
    "\n",
    "getLoc2 is None"
   ]
  },
  {
   "cell_type": "code",
   "execution_count": 178,
   "id": "ea6422f1",
   "metadata": {
    "scrolled": true
   },
   "outputs": [
    {
     "data": {
      "text/plain": [
       "{'place_id': 282866552,\n",
       " 'licence': 'Data © OpenStreetMap contributors, ODbL 1.0. https://osm.org/copyright',\n",
       " 'osm_type': 'relation',\n",
       " 'osm_id': 3986157,\n",
       " 'boundingbox': ['-46.6754988', '-40.4978624', '166.4255531', '174.315863'],\n",
       " 'lat': '-43.586562',\n",
       " 'lon': '171.21232939964904',\n",
       " 'display_name': 'South Island, New Zealand / Aotearoa',\n",
       " 'class': 'place',\n",
       " 'type': 'island',\n",
       " 'importance': 0.9734959443839385}"
      ]
     },
     "execution_count": 178,
     "metadata": {},
     "output_type": "execute_result"
    }
   ],
   "source": [
    "getLoc2.raw"
   ]
  },
  {
   "cell_type": "code",
   "execution_count": null,
   "id": "20cc6964",
   "metadata": {},
   "outputs": [],
   "source": [
    "locations_df['country'] = locations_df.apply(lambda x: , axis=1)"
   ]
  },
  {
   "cell_type": "code",
   "execution_count": null,
   "id": "279f3e58",
   "metadata": {},
   "outputs": [],
   "source": [
    "def get_country_from_coordinates(latitude, longitude)\n",
    "    loc = Nominatim(user_agent=\"profanity_detector\")\n",
    "    reverse_location = loc.reverse([getLoc2.latitude, getLoc2.longitude])\n",
    "    country_name = reverse_location.raw['address']['country']\n",
    "    return country_name"
   ]
  },
  {
   "cell_type": "code",
   "execution_count": 183,
   "id": "7f1a4c5e",
   "metadata": {},
   "outputs": [],
   "source": [
    "reverse_location = loc.reverse([getLoc2.latitude, getLoc2.longitude])"
   ]
  },
  {
   "cell_type": "code",
   "execution_count": 185,
   "id": "198dd6f3",
   "metadata": {},
   "outputs": [
    {
     "data": {
      "text/plain": [
       "'New Zealand / Aotearoa'"
      ]
     },
     "execution_count": 185,
     "metadata": {},
     "output_type": "execute_result"
    }
   ],
   "source": [
    "reverse_location.raw['address']['country']"
   ]
  },
  {
   "cell_type": "code",
   "execution_count": null,
   "id": "e6f396be",
   "metadata": {},
   "outputs": [],
   "source": []
  },
  {
   "cell_type": "code",
   "execution_count": 155,
   "id": "c03d1e74",
   "metadata": {
    "collapsed": true
   },
   "outputs": [
    {
     "data": {
      "text/html": [
       "<div>\n",
       "<style scoped>\n",
       "    .dataframe tbody tr th:only-of-type {\n",
       "        vertical-align: middle;\n",
       "    }\n",
       "\n",
       "    .dataframe tbody tr th {\n",
       "        vertical-align: top;\n",
       "    }\n",
       "\n",
       "    .dataframe thead th {\n",
       "        text-align: right;\n",
       "    }\n",
       "</style>\n",
       "<table border=\"1\" class=\"dataframe\">\n",
       "  <thead>\n",
       "    <tr style=\"text-align: right;\">\n",
       "      <th></th>\n",
       "      <th>locations</th>\n",
       "      <th>imdb_id</th>\n",
       "      <th>title</th>\n",
       "      <th>movie_location</th>\n",
       "      <th>set_location</th>\n",
       "    </tr>\n",
       "  </thead>\n",
       "  <tbody>\n",
       "    <tr>\n",
       "      <th>0</th>\n",
       "      <td>Wellington, New Zealand::(Bree)</td>\n",
       "      <td>0120737</td>\n",
       "      <td>The Lord of the Rings: The Fellowship of the Ring</td>\n",
       "      <td>(Bree)</td>\n",
       "      <td>Wellington, New Zealand</td>\n",
       "    </tr>\n",
       "    <tr>\n",
       "      <th>1</th>\n",
       "      <td>Hinuera Valley, Matamata, Waikato, New Zealand...</td>\n",
       "      <td>0120737</td>\n",
       "      <td>The Lord of the Rings: The Fellowship of the Ring</td>\n",
       "      <td>(Hobbiton)</td>\n",
       "      <td>Hinuera Valley, Matamata, Waikato, New Zealand</td>\n",
       "    </tr>\n",
       "    <tr>\n",
       "      <th>2</th>\n",
       "      <td>Kaitoke Regional Park, Wellington Region, New ...</td>\n",
       "      <td>0120737</td>\n",
       "      <td>The Lord of the Rings: The Fellowship of the Ring</td>\n",
       "      <td>(Rivendell) (River Anduin)</td>\n",
       "      <td>Kaitoke Regional Park, Wellington Region, New ...</td>\n",
       "    </tr>\n",
       "    <tr>\n",
       "      <th>3</th>\n",
       "      <td>Queenstown, Otago, New Zealand::(Ford of Bruin...</td>\n",
       "      <td>0120737</td>\n",
       "      <td>The Lord of the Rings: The Fellowship of the Ring</td>\n",
       "      <td>(Ford of Bruinen) (River Anduin) (Amon Hen)</td>\n",
       "      <td>Queenstown, Otago, New Zealand</td>\n",
       "    </tr>\n",
       "    <tr>\n",
       "      <th>4</th>\n",
       "      <td>Milford Sound, Fiordland National Park, Southl...</td>\n",
       "      <td>0120737</td>\n",
       "      <td>The Lord of the Rings: The Fellowship of the Ring</td>\n",
       "      <td></td>\n",
       "      <td>Milford Sound, Fiordland National Park, Southl...</td>\n",
       "    </tr>\n",
       "    <tr>\n",
       "      <th>5</th>\n",
       "      <td>Port Waikato, Waikato, New Zealand::(Weathertop)</td>\n",
       "      <td>0120737</td>\n",
       "      <td>The Lord of the Rings: The Fellowship of the Ring</td>\n",
       "      <td>(Weathertop)</td>\n",
       "      <td>Port Waikato, Waikato, New Zealand</td>\n",
       "    </tr>\n",
       "    <tr>\n",
       "      <th>6</th>\n",
       "      <td>Fernside, Featherston, Wairarapa, New Zealand:...</td>\n",
       "      <td>0120737</td>\n",
       "      <td>The Lord of the Rings: The Fellowship of the Ring</td>\n",
       "      <td>(Lothlorien)</td>\n",
       "      <td>Fernside, Featherston, Wairarapa, New Zealand</td>\n",
       "    </tr>\n",
       "    <tr>\n",
       "      <th>7</th>\n",
       "      <td>Rangipo Desert, Waiouru, Tongariro National Pa...</td>\n",
       "      <td>0120737</td>\n",
       "      <td>The Lord of the Rings: The Fellowship of the Ring</td>\n",
       "      <td></td>\n",
       "      <td>Rangipo Desert, Waiouru, Tongariro National Pa...</td>\n",
       "    </tr>\n",
       "    <tr>\n",
       "      <th>8</th>\n",
       "      <td>Rangitikei River, Manawatu-Wanganui, New Zeala...</td>\n",
       "      <td>0120737</td>\n",
       "      <td>The Lord of the Rings: The Fellowship of the Ring</td>\n",
       "      <td>(River Anduin)</td>\n",
       "      <td>Rangitikei River, Manawatu-Wanganui, New Zealand</td>\n",
       "    </tr>\n",
       "    <tr>\n",
       "      <th>9</th>\n",
       "      <td>Tongariro National Park, Central Plateau, New ...</td>\n",
       "      <td>0120737</td>\n",
       "      <td>The Lord of the Rings: The Fellowship of the Ring</td>\n",
       "      <td>(Mordor)</td>\n",
       "      <td>Tongariro National Park, Central Plateau, New ...</td>\n",
       "    </tr>\n",
       "    <tr>\n",
       "      <th>10</th>\n",
       "      <td>Lake Wakatipu, Queenstown, Otago, New Zealand:...</td>\n",
       "      <td>0120737</td>\n",
       "      <td>The Lord of the Rings: The Fellowship of the Ring</td>\n",
       "      <td>(Amon Hen)</td>\n",
       "      <td>Lake Wakatipu, Queenstown, Otago, New Zealand</td>\n",
       "    </tr>\n",
       "    <tr>\n",
       "      <th>11</th>\n",
       "      <td>Mavora Lakes, Southland, New Zealand::(Amon Hen)</td>\n",
       "      <td>0120737</td>\n",
       "      <td>The Lord of the Rings: The Fellowship of the Ring</td>\n",
       "      <td>(Amon Hen)</td>\n",
       "      <td>Mavora Lakes, Southland, New Zealand</td>\n",
       "    </tr>\n",
       "    <tr>\n",
       "      <th>12</th>\n",
       "      <td>Tarras, Wanaka, Otago, New Zealand::(Ford of B...</td>\n",
       "      <td>0120737</td>\n",
       "      <td>The Lord of the Rings: The Fellowship of the Ring</td>\n",
       "      <td>(Ford of Bruinen)</td>\n",
       "      <td>Tarras, Wanaka, Otago, New Zealand</td>\n",
       "    </tr>\n",
       "    <tr>\n",
       "      <th>13</th>\n",
       "      <td>Canterbury, New Zealand::(Edoras)</td>\n",
       "      <td>0120737</td>\n",
       "      <td>The Lord of the Rings: The Fellowship of the Ring</td>\n",
       "      <td>(Edoras)</td>\n",
       "      <td>Canterbury, New Zealand</td>\n",
       "    </tr>\n",
       "    <tr>\n",
       "      <th>14</th>\n",
       "      <td>Poet's Corner, Upper Hutt, Wellington, New Zea...</td>\n",
       "      <td>0120737</td>\n",
       "      <td>The Lord of the Rings: The Fellowship of the Ring</td>\n",
       "      <td>(River Anduin)</td>\n",
       "      <td>Poet's Corner, Upper Hutt, Wellington, New Zea...</td>\n",
       "    </tr>\n",
       "    <tr>\n",
       "      <th>15</th>\n",
       "      <td>South Island, New Zealand::(waterfalls scenes ...</td>\n",
       "      <td>0120737</td>\n",
       "      <td>The Lord of the Rings: The Fellowship of the Ring</td>\n",
       "      <td>(waterfalls scenes of Rivendell)</td>\n",
       "      <td>South Island, New Zealand</td>\n",
       "    </tr>\n",
       "    <tr>\n",
       "      <th>16</th>\n",
       "      <td>Harcourt Park, Upper Hutt, Wellington, New Zea...</td>\n",
       "      <td>0120737</td>\n",
       "      <td>The Lord of the Rings: The Fellowship of the Ring</td>\n",
       "      <td>(Gardens of Isengard)</td>\n",
       "      <td>Harcourt Park, Upper Hutt, Wellington, New Zea...</td>\n",
       "    </tr>\n",
       "    <tr>\n",
       "      <th>17</th>\n",
       "      <td>Upper Hutt, Wellington, New Zealand</td>\n",
       "      <td>0120737</td>\n",
       "      <td>The Lord of the Rings: The Fellowship of the Ring</td>\n",
       "      <td></td>\n",
       "      <td>Upper Hutt, Wellington, New Zealand</td>\n",
       "    </tr>\n",
       "    <tr>\n",
       "      <th>18</th>\n",
       "      <td>Camperdown Studios, Camperdown Road, Miramar, ...</td>\n",
       "      <td>0120737</td>\n",
       "      <td>The Lord of the Rings: The Fellowship of the Ring</td>\n",
       "      <td>(studio)</td>\n",
       "      <td>Camperdown Studios, Camperdown Road, Miramar, ...</td>\n",
       "    </tr>\n",
       "    <tr>\n",
       "      <th>19</th>\n",
       "      <td>Twizel, Canterbury, New Zealand</td>\n",
       "      <td>0120737</td>\n",
       "      <td>The Lord of the Rings: The Fellowship of the Ring</td>\n",
       "      <td></td>\n",
       "      <td>Twizel, Canterbury, New Zealand</td>\n",
       "    </tr>\n",
       "    <tr>\n",
       "      <th>20</th>\n",
       "      <td>Arrowtown Recreational Reserve, Arrowtown, Ota...</td>\n",
       "      <td>0120737</td>\n",
       "      <td>The Lord of the Rings: The Fellowship of the Ring</td>\n",
       "      <td>(Ford of Bruinen)</td>\n",
       "      <td>Arrowtown Recreational Reserve, Arrowtown, Ota...</td>\n",
       "    </tr>\n",
       "    <tr>\n",
       "      <th>21</th>\n",
       "      <td>Paradise, Glenorchy, Otago, New Zealand::(Loth...</td>\n",
       "      <td>0120737</td>\n",
       "      <td>The Lord of the Rings: The Fellowship of the Ring</td>\n",
       "      <td>(Lothlorien) (Amon Hen)</td>\n",
       "      <td>Paradise, Glenorchy, Otago, New Zealand</td>\n",
       "    </tr>\n",
       "    <tr>\n",
       "      <th>22</th>\n",
       "      <td>Te Anau, Southland District, Southland, New Ze...</td>\n",
       "      <td>0120737</td>\n",
       "      <td>The Lord of the Rings: The Fellowship of the Ring</td>\n",
       "      <td>(the Fellowship's river journey)</td>\n",
       "      <td>Te Anau, Southland District, Southland, New Ze...</td>\n",
       "    </tr>\n",
       "    <tr>\n",
       "      <th>23</th>\n",
       "      <td>Lake Alta, The Remarkables, Nelson, South Isla...</td>\n",
       "      <td>0120737</td>\n",
       "      <td>The Lord of the Rings: The Fellowship of the Ring</td>\n",
       "      <td>(Dimrill Dale)</td>\n",
       "      <td>Lake Alta, The Remarkables, Nelson, South Isla...</td>\n",
       "    </tr>\n",
       "    <tr>\n",
       "      <th>24</th>\n",
       "      <td>Closeburn, Southern Lakes, South Island, New Z...</td>\n",
       "      <td>0120737</td>\n",
       "      <td>The Lord of the Rings: The Fellowship of the Ring</td>\n",
       "      <td>(Amon Hen)</td>\n",
       "      <td>Closeburn, Southern Lakes, South Island, New Z...</td>\n",
       "    </tr>\n",
       "    <tr>\n",
       "      <th>25</th>\n",
       "      <td>Abel Tasman National Park, South Island, Tasma...</td>\n",
       "      <td>0120737</td>\n",
       "      <td>The Lord of the Rings: The Fellowship of the Ring</td>\n",
       "      <td>(exteriors of Moria)</td>\n",
       "      <td>Abel Tasman National Park, South Island, Tasma...</td>\n",
       "    </tr>\n",
       "    <tr>\n",
       "      <th>26</th>\n",
       "      <td>Otaki Gorge Road, Kapiti Coast District, North...</td>\n",
       "      <td>0120737</td>\n",
       "      <td>The Lord of the Rings: The Fellowship of the Ring</td>\n",
       "      <td>(the Shire woods)</td>\n",
       "      <td>Otaki Gorge Road, Kapiti Coast District, North...</td>\n",
       "    </tr>\n",
       "    <tr>\n",
       "      <th>27</th>\n",
       "      <td>Takaka Hill, Nelson, South Island, New Zealand...</td>\n",
       "      <td>0120737</td>\n",
       "      <td>The Lord of the Rings: The Fellowship of the Ring</td>\n",
       "      <td>(forest near Bree)</td>\n",
       "      <td>Takaka Hill, Nelson, South Island, New Zealand</td>\n",
       "    </tr>\n",
       "    <tr>\n",
       "      <th>28</th>\n",
       "      <td>Kepler Mire, Te Anau, South Island, New Zealan...</td>\n",
       "      <td>0120737</td>\n",
       "      <td>The Lord of the Rings: The Fellowship of the Ring</td>\n",
       "      <td>(Dead Marshes)</td>\n",
       "      <td>Kepler Mire, Te Anau, South Island, New Zealand</td>\n",
       "    </tr>\n",
       "    <tr>\n",
       "      <th>29</th>\n",
       "      <td>Mount Owen, Tasman district, Nelson, South Isl...</td>\n",
       "      <td>0120737</td>\n",
       "      <td>The Lord of the Rings: The Fellowship of the Ring</td>\n",
       "      <td>(Dimrill Dale)</td>\n",
       "      <td>Mount Owen, Tasman district, Nelson, South Isl...</td>\n",
       "    </tr>\n",
       "    <tr>\n",
       "      <th>30</th>\n",
       "      <td>Paradise, Glenorchy, Otago, New Zealand::(Part...</td>\n",
       "      <td>0120737</td>\n",
       "      <td>The Lord of the Rings: The Fellowship of the Ring</td>\n",
       "      <td>(Parth Galen)</td>\n",
       "      <td>Paradise, Glenorchy, Otago, New Zealand</td>\n",
       "    </tr>\n",
       "    <tr>\n",
       "      <th>31</th>\n",
       "      <td>Fort Dorset, Miramar, Wellington, New Zealand:...</td>\n",
       "      <td>0120737</td>\n",
       "      <td>The Lord of the Rings: The Fellowship of the Ring</td>\n",
       "      <td>(Inn of the Prancing Pony's exteriors)</td>\n",
       "      <td>Fort Dorset, Miramar, Wellington, New Zealand</td>\n",
       "    </tr>\n",
       "    <tr>\n",
       "      <th>32</th>\n",
       "      <td>Hutt Valley, Wellington, New Zealand::(exterio...</td>\n",
       "      <td>0120737</td>\n",
       "      <td>The Lord of the Rings: The Fellowship of the Ring</td>\n",
       "      <td>(exteriors of Moria)</td>\n",
       "      <td>Hutt Valley, Wellington, New Zealand</td>\n",
       "    </tr>\n",
       "    <tr>\n",
       "      <th>33</th>\n",
       "      <td>Whakapapa Skifield, Mount Ruapehu, Tongariro N...</td>\n",
       "      <td>0120737</td>\n",
       "      <td>The Lord of the Rings: The Fellowship of the Ring</td>\n",
       "      <td>(Mordor prologue scene)</td>\n",
       "      <td>Whakapapa Skifield, Mount Ruapehu, Tongariro N...</td>\n",
       "    </tr>\n",
       "    <tr>\n",
       "      <th>34</th>\n",
       "      <td>Keeling Farm, Manakau, Horowhenua District, No...</td>\n",
       "      <td>0120737</td>\n",
       "      <td>The Lord of the Rings: The Fellowship of the Ring</td>\n",
       "      <td>(Bucklebury Ferry)</td>\n",
       "      <td>Keeling Farm, Manakau, Horowhenua District, No...</td>\n",
       "    </tr>\n",
       "  </tbody>\n",
       "</table>\n",
       "</div>"
      ],
      "text/plain": [
       "                                            locations  imdb_id  \\\n",
       "0                     Wellington, New Zealand::(Bree)  0120737   \n",
       "1   Hinuera Valley, Matamata, Waikato, New Zealand...  0120737   \n",
       "2   Kaitoke Regional Park, Wellington Region, New ...  0120737   \n",
       "3   Queenstown, Otago, New Zealand::(Ford of Bruin...  0120737   \n",
       "4   Milford Sound, Fiordland National Park, Southl...  0120737   \n",
       "5    Port Waikato, Waikato, New Zealand::(Weathertop)  0120737   \n",
       "6   Fernside, Featherston, Wairarapa, New Zealand:...  0120737   \n",
       "7   Rangipo Desert, Waiouru, Tongariro National Pa...  0120737   \n",
       "8   Rangitikei River, Manawatu-Wanganui, New Zeala...  0120737   \n",
       "9   Tongariro National Park, Central Plateau, New ...  0120737   \n",
       "10  Lake Wakatipu, Queenstown, Otago, New Zealand:...  0120737   \n",
       "11   Mavora Lakes, Southland, New Zealand::(Amon Hen)  0120737   \n",
       "12  Tarras, Wanaka, Otago, New Zealand::(Ford of B...  0120737   \n",
       "13                  Canterbury, New Zealand::(Edoras)  0120737   \n",
       "14  Poet's Corner, Upper Hutt, Wellington, New Zea...  0120737   \n",
       "15  South Island, New Zealand::(waterfalls scenes ...  0120737   \n",
       "16  Harcourt Park, Upper Hutt, Wellington, New Zea...  0120737   \n",
       "17                Upper Hutt, Wellington, New Zealand  0120737   \n",
       "18  Camperdown Studios, Camperdown Road, Miramar, ...  0120737   \n",
       "19                    Twizel, Canterbury, New Zealand  0120737   \n",
       "20  Arrowtown Recreational Reserve, Arrowtown, Ota...  0120737   \n",
       "21  Paradise, Glenorchy, Otago, New Zealand::(Loth...  0120737   \n",
       "22  Te Anau, Southland District, Southland, New Ze...  0120737   \n",
       "23  Lake Alta, The Remarkables, Nelson, South Isla...  0120737   \n",
       "24  Closeburn, Southern Lakes, South Island, New Z...  0120737   \n",
       "25  Abel Tasman National Park, South Island, Tasma...  0120737   \n",
       "26  Otaki Gorge Road, Kapiti Coast District, North...  0120737   \n",
       "27  Takaka Hill, Nelson, South Island, New Zealand...  0120737   \n",
       "28  Kepler Mire, Te Anau, South Island, New Zealan...  0120737   \n",
       "29  Mount Owen, Tasman district, Nelson, South Isl...  0120737   \n",
       "30  Paradise, Glenorchy, Otago, New Zealand::(Part...  0120737   \n",
       "31  Fort Dorset, Miramar, Wellington, New Zealand:...  0120737   \n",
       "32  Hutt Valley, Wellington, New Zealand::(exterio...  0120737   \n",
       "33  Whakapapa Skifield, Mount Ruapehu, Tongariro N...  0120737   \n",
       "34  Keeling Farm, Manakau, Horowhenua District, No...  0120737   \n",
       "\n",
       "                                                title  \\\n",
       "0   The Lord of the Rings: The Fellowship of the Ring   \n",
       "1   The Lord of the Rings: The Fellowship of the Ring   \n",
       "2   The Lord of the Rings: The Fellowship of the Ring   \n",
       "3   The Lord of the Rings: The Fellowship of the Ring   \n",
       "4   The Lord of the Rings: The Fellowship of the Ring   \n",
       "5   The Lord of the Rings: The Fellowship of the Ring   \n",
       "6   The Lord of the Rings: The Fellowship of the Ring   \n",
       "7   The Lord of the Rings: The Fellowship of the Ring   \n",
       "8   The Lord of the Rings: The Fellowship of the Ring   \n",
       "9   The Lord of the Rings: The Fellowship of the Ring   \n",
       "10  The Lord of the Rings: The Fellowship of the Ring   \n",
       "11  The Lord of the Rings: The Fellowship of the Ring   \n",
       "12  The Lord of the Rings: The Fellowship of the Ring   \n",
       "13  The Lord of the Rings: The Fellowship of the Ring   \n",
       "14  The Lord of the Rings: The Fellowship of the Ring   \n",
       "15  The Lord of the Rings: The Fellowship of the Ring   \n",
       "16  The Lord of the Rings: The Fellowship of the Ring   \n",
       "17  The Lord of the Rings: The Fellowship of the Ring   \n",
       "18  The Lord of the Rings: The Fellowship of the Ring   \n",
       "19  The Lord of the Rings: The Fellowship of the Ring   \n",
       "20  The Lord of the Rings: The Fellowship of the Ring   \n",
       "21  The Lord of the Rings: The Fellowship of the Ring   \n",
       "22  The Lord of the Rings: The Fellowship of the Ring   \n",
       "23  The Lord of the Rings: The Fellowship of the Ring   \n",
       "24  The Lord of the Rings: The Fellowship of the Ring   \n",
       "25  The Lord of the Rings: The Fellowship of the Ring   \n",
       "26  The Lord of the Rings: The Fellowship of the Ring   \n",
       "27  The Lord of the Rings: The Fellowship of the Ring   \n",
       "28  The Lord of the Rings: The Fellowship of the Ring   \n",
       "29  The Lord of the Rings: The Fellowship of the Ring   \n",
       "30  The Lord of the Rings: The Fellowship of the Ring   \n",
       "31  The Lord of the Rings: The Fellowship of the Ring   \n",
       "32  The Lord of the Rings: The Fellowship of the Ring   \n",
       "33  The Lord of the Rings: The Fellowship of the Ring   \n",
       "34  The Lord of the Rings: The Fellowship of the Ring   \n",
       "\n",
       "                                 movie_location  \\\n",
       "0                                        (Bree)   \n",
       "1                                    (Hobbiton)   \n",
       "2                    (Rivendell) (River Anduin)   \n",
       "3   (Ford of Bruinen) (River Anduin) (Amon Hen)   \n",
       "4                                                 \n",
       "5                                  (Weathertop)   \n",
       "6                                  (Lothlorien)   \n",
       "7                                                 \n",
       "8                                (River Anduin)   \n",
       "9                                      (Mordor)   \n",
       "10                                   (Amon Hen)   \n",
       "11                                   (Amon Hen)   \n",
       "12                            (Ford of Bruinen)   \n",
       "13                                     (Edoras)   \n",
       "14                               (River Anduin)   \n",
       "15             (waterfalls scenes of Rivendell)   \n",
       "16                        (Gardens of Isengard)   \n",
       "17                                                \n",
       "18                                     (studio)   \n",
       "19                                                \n",
       "20                            (Ford of Bruinen)   \n",
       "21                      (Lothlorien) (Amon Hen)   \n",
       "22             (the Fellowship's river journey)   \n",
       "23                               (Dimrill Dale)   \n",
       "24                                   (Amon Hen)   \n",
       "25                         (exteriors of Moria)   \n",
       "26                            (the Shire woods)   \n",
       "27                           (forest near Bree)   \n",
       "28                               (Dead Marshes)   \n",
       "29                               (Dimrill Dale)   \n",
       "30                                (Parth Galen)   \n",
       "31       (Inn of the Prancing Pony's exteriors)   \n",
       "32                         (exteriors of Moria)   \n",
       "33                      (Mordor prologue scene)   \n",
       "34                           (Bucklebury Ferry)   \n",
       "\n",
       "                                         set_location  \n",
       "0                             Wellington, New Zealand  \n",
       "1      Hinuera Valley, Matamata, Waikato, New Zealand  \n",
       "2   Kaitoke Regional Park, Wellington Region, New ...  \n",
       "3                      Queenstown, Otago, New Zealand  \n",
       "4   Milford Sound, Fiordland National Park, Southl...  \n",
       "5                  Port Waikato, Waikato, New Zealand  \n",
       "6       Fernside, Featherston, Wairarapa, New Zealand  \n",
       "7   Rangipo Desert, Waiouru, Tongariro National Pa...  \n",
       "8    Rangitikei River, Manawatu-Wanganui, New Zealand  \n",
       "9   Tongariro National Park, Central Plateau, New ...  \n",
       "10      Lake Wakatipu, Queenstown, Otago, New Zealand  \n",
       "11               Mavora Lakes, Southland, New Zealand  \n",
       "12                 Tarras, Wanaka, Otago, New Zealand  \n",
       "13                            Canterbury, New Zealand  \n",
       "14  Poet's Corner, Upper Hutt, Wellington, New Zea...  \n",
       "15                          South Island, New Zealand  \n",
       "16  Harcourt Park, Upper Hutt, Wellington, New Zea...  \n",
       "17                Upper Hutt, Wellington, New Zealand  \n",
       "18  Camperdown Studios, Camperdown Road, Miramar, ...  \n",
       "19                    Twizel, Canterbury, New Zealand  \n",
       "20  Arrowtown Recreational Reserve, Arrowtown, Ota...  \n",
       "21            Paradise, Glenorchy, Otago, New Zealand  \n",
       "22  Te Anau, Southland District, Southland, New Ze...  \n",
       "23  Lake Alta, The Remarkables, Nelson, South Isla...  \n",
       "24  Closeburn, Southern Lakes, South Island, New Z...  \n",
       "25  Abel Tasman National Park, South Island, Tasma...  \n",
       "26  Otaki Gorge Road, Kapiti Coast District, North...  \n",
       "27     Takaka Hill, Nelson, South Island, New Zealand  \n",
       "28    Kepler Mire, Te Anau, South Island, New Zealand  \n",
       "29  Mount Owen, Tasman district, Nelson, South Isl...  \n",
       "30            Paradise, Glenorchy, Otago, New Zealand  \n",
       "31      Fort Dorset, Miramar, Wellington, New Zealand  \n",
       "32               Hutt Valley, Wellington, New Zealand  \n",
       "33  Whakapapa Skifield, Mount Ruapehu, Tongariro N...  \n",
       "34  Keeling Farm, Manakau, Horowhenua District, No...  "
      ]
     },
     "execution_count": 155,
     "metadata": {},
     "output_type": "execute_result"
    }
   ],
   "source": [
    "locations_df.iloc[:34,:]"
   ]
  },
  {
   "cell_type": "code",
   "execution_count": 160,
   "id": "8bd4737b",
   "metadata": {
    "scrolled": true
   },
   "outputs": [
    {
     "name": "stdout",
     "output_type": "stream",
     "text": [
      "Wellington, New Zealand (-41.2887953, 174.7772114)\n",
      "Hinuera Valley, Matamata, Waikato, New Zealand (-37.7741407, 175.4883742)\n",
      "Kaitoke Regional Park, Wellington Region, New Zealand (-41.0495879, 175.1791197)\n",
      "Queenstown, Otago, New Zealand (-45.0321923, 168.661)\n",
      "Milford Sound, Fiordland National Park, Southland, New Zealand (-44.67184, 167.9254592)\n",
      "Port Waikato, Waikato, New Zealand (-37.3913264, 174.717334)\n",
      "Fernside, Featherston, Wairarapa, New Zealand (-41.0885537, 175.3505731)\n",
      "Rangipo Desert, Waiouru, Tongariro National Park, Central Plateau, New Zealand (-39.4772125, 175.6697752)\n",
      "Rangitikei River, Manawatu-Wanganui, New Zealand (-39.7665195, 175.8152587)\n",
      "Tongariro National Park, Central Plateau, New Zealand (-39.1727294, 175.4037274)\n",
      "Lake Wakatipu, Queenstown, Otago, New Zealand (-45.08880415, 168.52111077909876)\n",
      "Mavora Lakes, Southland, New Zealand (-45.36653, 168.11838)\n",
      "Tarras, Wanaka, Otago, New Zealand (-44.6941691, 169.1364637)\n",
      "Canterbury, New Zealand (-43.49417615, 171.8098447584145)\n",
      "Poet's Corner, Upper Hutt, Wellington, New Zealand (-41.2887953, 174.7772114)\n",
      "South Island, New Zealand (-43.586562, 171.21232939964904)\n",
      "Harcourt Park, Upper Hutt, Wellington, New Zealand (-41.10165085, 175.09427325890724)\n",
      "Upper Hutt, Wellington, New Zealand (-41.1240674, 175.0699589)\n",
      "Camperdown Studios, Camperdown Road, Miramar, Wellington, New Zealand (-41.3061798, 174.8236202)\n",
      "Twizel, Canterbury, New Zealand (-44.257483, 170.0994145)\n",
      "Arrowtown Recreational Reserve, Arrowtown, Otago, New Zealand (-44.9405627, 168.8350761)\n",
      "Paradise, Glenorchy, Otago, New Zealand (-44.8231841, 168.3985085)\n",
      "Te Anau, Southland District, Southland, New Zealand (-45.41449, 167.717489)\n",
      "Lake Alta, The Remarkables, Nelson, South Island, New Zealand (-43.586562, 171.21232939964904)\n",
      "Closeburn, Southern Lakes, South Island, New Zealand (-43.586562, 171.21232939964904)\n",
      "Abel Tasman National Park, South Island, Tasman Region, New Zealand (-43.586562, 171.21232939964904)\n",
      "Otaki Gorge Road, Kapiti Coast District, North Island, New Zealand (-38.00353045, 175.95785260835657)\n",
      "Takaka Hill, Nelson, South Island, New Zealand (-43.586562, 171.21232939964904)\n",
      "Kepler Mire, Te Anau, South Island, New Zealand (-43.586562, 171.21232939964904)\n",
      "Mount Owen, Tasman district, Nelson, South Island, New Zealand (-43.586562, 171.21232939964904)\n",
      "Paradise, Glenorchy, Otago, New Zealand (-44.8231841, 168.3985085)\n",
      "Fort Dorset, Miramar, Wellington, New Zealand (-41.2887953, 174.7772114)\n",
      "Hutt Valley, Wellington, New Zealand (-41.1485427, 174.9919508)\n",
      "Whakapapa Skifield, Mount Ruapehu, Tongariro National Park, New Zealand (-41.5000831, 172.8344077)\n"
     ]
    }
   ],
   "source": [
    "for location in locations_df['set_location'][0:34]:\n",
    "    print(location, get_coordinates(location)) "
   ]
  },
  {
   "cell_type": "code",
   "execution_count": 30,
   "id": "0adef934",
   "metadata": {},
   "outputs": [],
   "source": [
    "location_df2['movie_location'] = location_df2.apply(lambda x: get_movie_location(x['locations']), axis=1)"
   ]
  },
  {
   "cell_type": "code",
   "execution_count": 31,
   "id": "385cd2b8",
   "metadata": {},
   "outputs": [],
   "source": [
    "location_df2['set_location'] = location_df2.apply(lambda x: get_set_location(x['locations']), axis=1)"
   ]
  },
  {
   "cell_type": "code",
   "execution_count": null,
   "id": "993f0bc7",
   "metadata": {},
   "outputs": [],
   "source": []
  },
  {
   "cell_type": "code",
   "execution_count": 69,
   "id": "4931f42f",
   "metadata": {},
   "outputs": [],
   "source": [
    "location_df2[['latitude','longitude']] = location_df2.apply(lambda x: get_coordinates(x['set_location']), axis=1, result_type='expand')"
   ]
  },
  {
   "cell_type": "code",
   "execution_count": null,
   "id": "e64b6035",
   "metadata": {},
   "outputs": [],
   "source": [
    "enrich_locations(locations_df)"
   ]
  },
  {
   "cell_type": "markdown",
   "id": "2aade541",
   "metadata": {},
   "source": [
    "# Folium"
   ]
  },
  {
   "cell_type": "code",
   "execution_count": 88,
   "id": "bde06512",
   "metadata": {},
   "outputs": [
    {
     "data": {
      "text/html": [
       "<div>\n",
       "<style scoped>\n",
       "    .dataframe tbody tr th:only-of-type {\n",
       "        vertical-align: middle;\n",
       "    }\n",
       "\n",
       "    .dataframe tbody tr th {\n",
       "        vertical-align: top;\n",
       "    }\n",
       "\n",
       "    .dataframe thead th {\n",
       "        text-align: right;\n",
       "    }\n",
       "</style>\n",
       "<table border=\"1\" class=\"dataframe\">\n",
       "  <thead>\n",
       "    <tr style=\"text-align: right;\">\n",
       "      <th></th>\n",
       "      <th>locations</th>\n",
       "      <th>imdb_id</th>\n",
       "      <th>title</th>\n",
       "      <th>movie_location</th>\n",
       "      <th>set_location</th>\n",
       "      <th>latitude</th>\n",
       "      <th>longitude</th>\n",
       "    </tr>\n",
       "  </thead>\n",
       "  <tbody>\n",
       "    <tr>\n",
       "      <th>0</th>\n",
       "      <td>Nashville, Tennessee, USA::(exterior scenes: s...</td>\n",
       "      <td>0133093</td>\n",
       "      <td>The Matrix</td>\n",
       "      <td>(exterior scenes: skyline in opening Trinity r...</td>\n",
       "      <td>Nashville, Tennessee, USA</td>\n",
       "      <td>36.162277</td>\n",
       "      <td>-86.774298</td>\n",
       "    </tr>\n",
       "  </tbody>\n",
       "</table>\n",
       "</div>"
      ],
      "text/plain": [
       "                                           locations  imdb_id       title  \\\n",
       "0  Nashville, Tennessee, USA::(exterior scenes: s...  0133093  The Matrix   \n",
       "\n",
       "                                      movie_location  \\\n",
       "0  (exterior scenes: skyline in opening Trinity r...   \n",
       "\n",
       "                set_location   latitude  longitude  \n",
       "0  Nashville, Tennessee, USA  36.162277 -86.774298  "
      ]
     },
     "execution_count": 88,
     "metadata": {},
     "output_type": "execute_result"
    }
   ],
   "source": [
    "locations_df.iloc[:1,:]"
   ]
  },
  {
   "cell_type": "code",
   "execution_count": 89,
   "id": "c85c0f8c",
   "metadata": {},
   "outputs": [
    {
     "data": {
      "text/plain": [
       "22"
      ]
     },
     "execution_count": 89,
     "metadata": {},
     "output_type": "execute_result"
    }
   ],
   "source": [
    "len(locations_df['latitude'])"
   ]
  },
  {
   "cell_type": "code",
   "execution_count": 105,
   "id": "8caad7ea",
   "metadata": {},
   "outputs": [
    {
     "data": {
      "text/plain": [
       "[36.1622767, -86.7742984]"
      ]
     },
     "execution_count": 105,
     "metadata": {},
     "output_type": "execute_result"
    }
   ],
   "source": [
    "list(locations_df[['latitude', 'longitude']].loc[0])"
   ]
  },
  {
   "cell_type": "code",
   "execution_count": 106,
   "id": "25c12ed5",
   "metadata": {},
   "outputs": [],
   "source": [
    "locations = locations_df[['latitude', 'longitude']]"
   ]
  },
  {
   "cell_type": "code",
   "execution_count": 107,
   "id": "b2af9672",
   "metadata": {},
   "outputs": [],
   "source": [
    "locationlist = locations.values.tolist()"
   ]
  },
  {
   "cell_type": "code",
   "execution_count": 108,
   "id": "80203e78",
   "metadata": {
    "collapsed": true
   },
   "outputs": [
    {
     "data": {
      "text/plain": [
       "[[36.1622767, -86.7742984],\n",
       " [-33.8548157, 151.2164539],\n",
       " [-33.8931044, 151.2040292],\n",
       " [37.7790262, -122.419906],\n",
       " [-33.8548157, 151.2164539],\n",
       " [-33.8548157, 151.2164539],\n",
       " [-33.8548157, 151.2164539],\n",
       " [-33.890960899999996, 151.22750517838074],\n",
       " [-33.8548157, 151.2164539],\n",
       " [-33.86376205, 151.20362772900535],\n",
       " [-33.8548157, 151.2164539],\n",
       " [-33.8548157, 151.2164539],\n",
       " [-33.8573904, 151.2030854],\n",
       " [-33.8645002, 151.1743543],\n",
       " [-33.9002762, 151.2073137],\n",
       " [-33.8548157, 151.2164539],\n",
       " [-33.8548157, 151.2164539],\n",
       " [-33.8548157, 151.2164539],\n",
       " [-31.8759835, 147.2869493],\n",
       " [-33.8845123, 151.2100301],\n",
       " [-33.8548157, 151.2164539],\n",
       " [-33.8863291, 151.1998211]]"
      ]
     },
     "execution_count": 108,
     "metadata": {},
     "output_type": "execute_result"
    }
   ],
   "source": [
    "locationlist"
   ]
  },
  {
   "cell_type": "code",
   "execution_count": 109,
   "id": "57a4fc94",
   "metadata": {},
   "outputs": [
    {
     "data": {
      "text/plain": [
       "[36.1622767, -86.7742984]"
      ]
     },
     "execution_count": 109,
     "metadata": {},
     "output_type": "execute_result"
    }
   ],
   "source": [
    "locationlist[0]"
   ]
  },
  {
   "cell_type": "code",
   "execution_count": 112,
   "id": "6eac77f4",
   "metadata": {},
   "outputs": [],
   "source": [
    "import folium"
   ]
  },
  {
   "cell_type": "code",
   "execution_count": 115,
   "id": "cce1441d",
   "metadata": {},
   "outputs": [
    {
     "data": {
      "text/html": [
       "<div style=\"width:100%;\"><div style=\"position:relative;width:100%;height:0;padding-bottom:60%;\"><span style=\"color:#565656\">Make this Notebook Trusted to load map: File -> Trust Notebook</span><iframe src=\"about:blank\" style=\"position:absolute;width:100%;height:100%;left:0;top:0;border:none !important;\" data-html=%3C%21DOCTYPE%20html%3E%0A%3Chead%3E%20%20%20%20%0A%20%20%20%20%3Cmeta%20http-equiv%3D%22content-type%22%20content%3D%22text/html%3B%20charset%3DUTF-8%22%20/%3E%0A%20%20%20%20%0A%20%20%20%20%20%20%20%20%3Cscript%3E%0A%20%20%20%20%20%20%20%20%20%20%20%20L_NO_TOUCH%20%3D%20false%3B%0A%20%20%20%20%20%20%20%20%20%20%20%20L_DISABLE_3D%20%3D%20false%3B%0A%20%20%20%20%20%20%20%20%3C/script%3E%0A%20%20%20%20%0A%20%20%20%20%3Cstyle%3Ehtml%2C%20body%20%7Bwidth%3A%20100%25%3Bheight%3A%20100%25%3Bmargin%3A%200%3Bpadding%3A%200%3B%7D%3C/style%3E%0A%20%20%20%20%3Cstyle%3E%23map%20%7Bposition%3Aabsolute%3Btop%3A0%3Bbottom%3A0%3Bright%3A0%3Bleft%3A0%3B%7D%3C/style%3E%0A%20%20%20%20%3Cscript%20src%3D%22https%3A//cdn.jsdelivr.net/npm/leaflet%401.6.0/dist/leaflet.js%22%3E%3C/script%3E%0A%20%20%20%20%3Cscript%20src%3D%22https%3A//code.jquery.com/jquery-1.12.4.min.js%22%3E%3C/script%3E%0A%20%20%20%20%3Cscript%20src%3D%22https%3A//maxcdn.bootstrapcdn.com/bootstrap/3.2.0/js/bootstrap.min.js%22%3E%3C/script%3E%0A%20%20%20%20%3Cscript%20src%3D%22https%3A//cdnjs.cloudflare.com/ajax/libs/Leaflet.awesome-markers/2.0.2/leaflet.awesome-markers.js%22%3E%3C/script%3E%0A%20%20%20%20%3Clink%20rel%3D%22stylesheet%22%20href%3D%22https%3A//cdn.jsdelivr.net/npm/leaflet%401.6.0/dist/leaflet.css%22/%3E%0A%20%20%20%20%3Clink%20rel%3D%22stylesheet%22%20href%3D%22https%3A//maxcdn.bootstrapcdn.com/bootstrap/3.2.0/css/bootstrap.min.css%22/%3E%0A%20%20%20%20%3Clink%20rel%3D%22stylesheet%22%20href%3D%22https%3A//maxcdn.bootstrapcdn.com/bootstrap/3.2.0/css/bootstrap-theme.min.css%22/%3E%0A%20%20%20%20%3Clink%20rel%3D%22stylesheet%22%20href%3D%22https%3A//maxcdn.bootstrapcdn.com/font-awesome/4.6.3/css/font-awesome.min.css%22/%3E%0A%20%20%20%20%3Clink%20rel%3D%22stylesheet%22%20href%3D%22https%3A//cdnjs.cloudflare.com/ajax/libs/Leaflet.awesome-markers/2.0.2/leaflet.awesome-markers.css%22/%3E%0A%20%20%20%20%3Clink%20rel%3D%22stylesheet%22%20href%3D%22https%3A//cdn.jsdelivr.net/gh/python-visualization/folium/folium/templates/leaflet.awesome.rotate.min.css%22/%3E%0A%20%20%20%20%0A%20%20%20%20%20%20%20%20%20%20%20%20%3Cmeta%20name%3D%22viewport%22%20content%3D%22width%3Ddevice-width%2C%0A%20%20%20%20%20%20%20%20%20%20%20%20%20%20%20%20initial-scale%3D1.0%2C%20maximum-scale%3D1.0%2C%20user-scalable%3Dno%22%20/%3E%0A%20%20%20%20%20%20%20%20%20%20%20%20%3Cstyle%3E%0A%20%20%20%20%20%20%20%20%20%20%20%20%20%20%20%20%23map_31b36bc6bfff4ce48ec71b9acc90c07c%20%7B%0A%20%20%20%20%20%20%20%20%20%20%20%20%20%20%20%20%20%20%20%20position%3A%20relative%3B%0A%20%20%20%20%20%20%20%20%20%20%20%20%20%20%20%20%20%20%20%20width%3A%20100.0%25%3B%0A%20%20%20%20%20%20%20%20%20%20%20%20%20%20%20%20%20%20%20%20height%3A%20100.0%25%3B%0A%20%20%20%20%20%20%20%20%20%20%20%20%20%20%20%20%20%20%20%20left%3A%200.0%25%3B%0A%20%20%20%20%20%20%20%20%20%20%20%20%20%20%20%20%20%20%20%20top%3A%200.0%25%3B%0A%20%20%20%20%20%20%20%20%20%20%20%20%20%20%20%20%7D%0A%20%20%20%20%20%20%20%20%20%20%20%20%3C/style%3E%0A%20%20%20%20%20%20%20%20%0A%3C/head%3E%0A%3Cbody%3E%20%20%20%20%0A%20%20%20%20%0A%20%20%20%20%20%20%20%20%20%20%20%20%3Cdiv%20class%3D%22folium-map%22%20id%3D%22map_31b36bc6bfff4ce48ec71b9acc90c07c%22%20%3E%3C/div%3E%0A%20%20%20%20%20%20%20%20%0A%3C/body%3E%0A%3Cscript%3E%20%20%20%20%0A%20%20%20%20%0A%20%20%20%20%20%20%20%20%20%20%20%20var%20map_31b36bc6bfff4ce48ec71b9acc90c07c%20%3D%20L.map%28%0A%20%20%20%20%20%20%20%20%20%20%20%20%20%20%20%20%22map_31b36bc6bfff4ce48ec71b9acc90c07c%22%2C%0A%20%20%20%20%20%20%20%20%20%20%20%20%20%20%20%20%7B%0A%20%20%20%20%20%20%20%20%20%20%20%20%20%20%20%20%20%20%20%20center%3A%20%5B36.1622767%2C%20-86.7742984%5D%2C%0A%20%20%20%20%20%20%20%20%20%20%20%20%20%20%20%20%20%20%20%20crs%3A%20L.CRS.EPSG3857%2C%0A%20%20%20%20%20%20%20%20%20%20%20%20%20%20%20%20%20%20%20%20zoom%3A%2012%2C%0A%20%20%20%20%20%20%20%20%20%20%20%20%20%20%20%20%20%20%20%20zoomControl%3A%20true%2C%0A%20%20%20%20%20%20%20%20%20%20%20%20%20%20%20%20%20%20%20%20preferCanvas%3A%20false%2C%0A%20%20%20%20%20%20%20%20%20%20%20%20%20%20%20%20%7D%0A%20%20%20%20%20%20%20%20%20%20%20%20%29%3B%0A%0A%20%20%20%20%20%20%20%20%20%20%20%20%0A%0A%20%20%20%20%20%20%20%20%0A%20%20%20%20%0A%20%20%20%20%20%20%20%20%20%20%20%20var%20tile_layer_b34996b9ac8d46c79ff9bb6c29a93a36%20%3D%20L.tileLayer%28%0A%20%20%20%20%20%20%20%20%20%20%20%20%20%20%20%20%22https%3A//%7Bs%7D.tile.openstreetmap.org/%7Bz%7D/%7Bx%7D/%7By%7D.png%22%2C%0A%20%20%20%20%20%20%20%20%20%20%20%20%20%20%20%20%7B%22attribution%22%3A%20%22Data%20by%20%5Cu0026copy%3B%20%5Cu003ca%20href%3D%5C%22http%3A//openstreetmap.org%5C%22%5Cu003eOpenStreetMap%5Cu003c/a%5Cu003e%2C%20under%20%5Cu003ca%20href%3D%5C%22http%3A//www.openstreetmap.org/copyright%5C%22%5Cu003eODbL%5Cu003c/a%5Cu003e.%22%2C%20%22detectRetina%22%3A%20false%2C%20%22maxNativeZoom%22%3A%2018%2C%20%22maxZoom%22%3A%2018%2C%20%22minZoom%22%3A%200%2C%20%22noWrap%22%3A%20false%2C%20%22opacity%22%3A%201%2C%20%22subdomains%22%3A%20%22abc%22%2C%20%22tms%22%3A%20false%7D%0A%20%20%20%20%20%20%20%20%20%20%20%20%29.addTo%28map_31b36bc6bfff4ce48ec71b9acc90c07c%29%3B%0A%20%20%20%20%20%20%20%20%0A%20%20%20%20%0A%20%20%20%20%20%20%20%20%20%20%20%20var%20marker_33bbf60336574c3391707a7dddb54503%20%3D%20L.marker%28%0A%20%20%20%20%20%20%20%20%20%20%20%20%20%20%20%20%5B36.1622767%2C%20-86.7742984%5D%2C%0A%20%20%20%20%20%20%20%20%20%20%20%20%20%20%20%20%7B%7D%0A%20%20%20%20%20%20%20%20%20%20%20%20%29.addTo%28map_31b36bc6bfff4ce48ec71b9acc90c07c%29%3B%0A%20%20%20%20%20%20%20%20%0A%20%20%20%20%0A%20%20%20%20%20%20%20%20var%20popup_e113757f598e4699812143c5c7e4ab14%20%3D%20L.popup%28%7B%22maxWidth%22%3A%20%22100%25%22%7D%29%3B%0A%0A%20%20%20%20%20%20%20%20%0A%20%20%20%20%20%20%20%20%20%20%20%20var%20html_89bd97d330aa4c0d9ee887333f35e05a%20%3D%20%24%28%60%3Cdiv%20id%3D%22html_89bd97d330aa4c0d9ee887333f35e05a%22%20style%3D%22width%3A%20100.0%25%3B%20height%3A%20100.0%25%3B%22%3E%28exterior%20scenes%3A%20skyline%20in%20opening%20Trinity%20rooftop%20chase%29%3C/div%3E%60%29%5B0%5D%3B%0A%20%20%20%20%20%20%20%20%20%20%20%20popup_e113757f598e4699812143c5c7e4ab14.setContent%28html_89bd97d330aa4c0d9ee887333f35e05a%29%3B%0A%20%20%20%20%20%20%20%20%0A%0A%20%20%20%20%20%20%20%20marker_33bbf60336574c3391707a7dddb54503.bindPopup%28popup_e113757f598e4699812143c5c7e4ab14%29%0A%20%20%20%20%20%20%20%20%3B%0A%0A%20%20%20%20%20%20%20%20%0A%20%20%20%20%0A%20%20%20%20%0A%20%20%20%20%20%20%20%20%20%20%20%20var%20marker_cd94da3423144874a155e4d30a4c8041%20%3D%20L.marker%28%0A%20%20%20%20%20%20%20%20%20%20%20%20%20%20%20%20%5B-33.8548157%2C%20151.2164539%5D%2C%0A%20%20%20%20%20%20%20%20%20%20%20%20%20%20%20%20%7B%7D%0A%20%20%20%20%20%20%20%20%20%20%20%20%29.addTo%28map_31b36bc6bfff4ce48ec71b9acc90c07c%29%3B%0A%20%20%20%20%20%20%20%20%0A%20%20%20%20%0A%20%20%20%20%20%20%20%20var%20popup_d65acb70118f44d797e68828cdcf0163%20%3D%20L.popup%28%7B%22maxWidth%22%3A%20%22100%25%22%7D%29%3B%0A%0A%20%20%20%20%20%20%20%20%0A%20%20%20%20%20%20%20%20%20%20%20%20var%20html_5eaf1f7223c7417ead1f7cbcb26200cb%20%3D%20%24%28%60%3Cdiv%20id%3D%22html_5eaf1f7223c7417ead1f7cbcb26200cb%22%20style%3D%22width%3A%20100.0%25%3B%20height%3A%20100.0%25%3B%22%3E%3C/div%3E%60%29%5B0%5D%3B%0A%20%20%20%20%20%20%20%20%20%20%20%20popup_d65acb70118f44d797e68828cdcf0163.setContent%28html_5eaf1f7223c7417ead1f7cbcb26200cb%29%3B%0A%20%20%20%20%20%20%20%20%0A%0A%20%20%20%20%20%20%20%20marker_cd94da3423144874a155e4d30a4c8041.bindPopup%28popup_d65acb70118f44d797e68828cdcf0163%29%0A%20%20%20%20%20%20%20%20%3B%0A%0A%20%20%20%20%20%20%20%20%0A%20%20%20%20%0A%20%20%20%20%0A%20%20%20%20%20%20%20%20%20%20%20%20var%20marker_10b9ab96380c4c3899d834f6e32bf746%20%3D%20L.marker%28%0A%20%20%20%20%20%20%20%20%20%20%20%20%20%20%20%20%5B-33.8931044%2C%20151.2040292%5D%2C%0A%20%20%20%20%20%20%20%20%20%20%20%20%20%20%20%20%7B%7D%0A%20%20%20%20%20%20%20%20%20%20%20%20%29.addTo%28map_31b36bc6bfff4ce48ec71b9acc90c07c%29%3B%0A%20%20%20%20%20%20%20%20%0A%20%20%20%20%0A%20%20%20%20%20%20%20%20var%20popup_8548c45ece4d4df08a517c3404bee48a%20%3D%20L.popup%28%7B%22maxWidth%22%3A%20%22100%25%22%7D%29%3B%0A%0A%20%20%20%20%20%20%20%20%0A%20%20%20%20%20%20%20%20%20%20%20%20var%20html_02b20e293a1e4adab90375efea9b21ca%20%3D%20%24%28%60%3Cdiv%20id%3D%22html_02b20e293a1e4adab90375efea9b21ca%22%20style%3D%22width%3A%20100.0%25%3B%20height%3A%20100.0%25%3B%22%3E%28Subway%20Scenes%29%3C/div%3E%60%29%5B0%5D%3B%0A%20%20%20%20%20%20%20%20%20%20%20%20popup_8548c45ece4d4df08a517c3404bee48a.setContent%28html_02b20e293a1e4adab90375efea9b21ca%29%3B%0A%20%20%20%20%20%20%20%20%0A%0A%20%20%20%20%20%20%20%20marker_10b9ab96380c4c3899d834f6e32bf746.bindPopup%28popup_8548c45ece4d4df08a517c3404bee48a%29%0A%20%20%20%20%20%20%20%20%3B%0A%0A%20%20%20%20%20%20%20%20%0A%20%20%20%20%0A%20%20%20%20%0A%20%20%20%20%20%20%20%20%20%20%20%20var%20marker_ec7c77e28c314241978a3ce423192780%20%3D%20L.marker%28%0A%20%20%20%20%20%20%20%20%20%20%20%20%20%20%20%20%5B37.7790262%2C%20-122.419906%5D%2C%0A%20%20%20%20%20%20%20%20%20%20%20%20%20%20%20%20%7B%7D%0A%20%20%20%20%20%20%20%20%20%20%20%20%29.addTo%28map_31b36bc6bfff4ce48ec71b9acc90c07c%29%3B%0A%20%20%20%20%20%20%20%20%0A%20%20%20%20%0A%20%20%20%20%20%20%20%20var%20popup_b9e647e9de7d45b28619a25629a23a8d%20%3D%20L.popup%28%7B%22maxWidth%22%3A%20%22100%25%22%7D%29%3B%0A%0A%20%20%20%20%20%20%20%20%0A%20%20%20%20%20%20%20%20%20%20%20%20var%20html_aa4006a5a9e3439897844f468df5dbe6%20%3D%20%24%28%60%3Cdiv%20id%3D%22html_aa4006a5a9e3439897844f468df5dbe6%22%20style%3D%22width%3A%20100.0%25%3B%20height%3A%20100.0%25%3B%22%3E%28exterior%20scenes%3A%20skyline%20in%20opening%20Trinity%20rooftop%20chase%29%3C/div%3E%60%29%5B0%5D%3B%0A%20%20%20%20%20%20%20%20%20%20%20%20popup_b9e647e9de7d45b28619a25629a23a8d.setContent%28html_aa4006a5a9e3439897844f468df5dbe6%29%3B%0A%20%20%20%20%20%20%20%20%0A%0A%20%20%20%20%20%20%20%20marker_ec7c77e28c314241978a3ce423192780.bindPopup%28popup_b9e647e9de7d45b28619a25629a23a8d%29%0A%20%20%20%20%20%20%20%20%3B%0A%0A%20%20%20%20%20%20%20%20%0A%20%20%20%20%0A%20%20%20%20%0A%20%20%20%20%20%20%20%20%20%20%20%20var%20marker_ad1ee95e614541819afdf834087e11d2%20%3D%20L.marker%28%0A%20%20%20%20%20%20%20%20%20%20%20%20%20%20%20%20%5B-33.8548157%2C%20151.2164539%5D%2C%0A%20%20%20%20%20%20%20%20%20%20%20%20%20%20%20%20%7B%7D%0A%20%20%20%20%20%20%20%20%20%20%20%20%29.addTo%28map_31b36bc6bfff4ce48ec71b9acc90c07c%29%3B%0A%20%20%20%20%20%20%20%20%0A%20%20%20%20%0A%20%20%20%20%20%20%20%20var%20popup_7e6d615958244d2c86cc7fb07f2c3077%20%3D%20L.popup%28%7B%22maxWidth%22%3A%20%22100%25%22%7D%29%3B%0A%0A%20%20%20%20%20%20%20%20%0A%20%20%20%20%20%20%20%20%20%20%20%20var%20html_902ad3f2f46349c88edf8b740b72405b%20%3D%20%24%28%60%3Cdiv%20id%3D%22html_902ad3f2f46349c88edf8b740b72405b%22%20style%3D%22width%3A%20100.0%25%3B%20height%3A%20100.0%25%3B%22%3E%3C/div%3E%60%29%5B0%5D%3B%0A%20%20%20%20%20%20%20%20%20%20%20%20popup_7e6d615958244d2c86cc7fb07f2c3077.setContent%28html_902ad3f2f46349c88edf8b740b72405b%29%3B%0A%20%20%20%20%20%20%20%20%0A%0A%20%20%20%20%20%20%20%20marker_ad1ee95e614541819afdf834087e11d2.bindPopup%28popup_7e6d615958244d2c86cc7fb07f2c3077%29%0A%20%20%20%20%20%20%20%20%3B%0A%0A%20%20%20%20%20%20%20%20%0A%20%20%20%20%0A%20%20%20%20%0A%20%20%20%20%20%20%20%20%20%20%20%20var%20marker_a089c91b7a374530a9f46e4d9a93c6a4%20%3D%20L.marker%28%0A%20%20%20%20%20%20%20%20%20%20%20%20%20%20%20%20%5B-33.8548157%2C%20151.2164539%5D%2C%0A%20%20%20%20%20%20%20%20%20%20%20%20%20%20%20%20%7B%7D%0A%20%20%20%20%20%20%20%20%20%20%20%20%29.addTo%28map_31b36bc6bfff4ce48ec71b9acc90c07c%29%3B%0A%20%20%20%20%20%20%20%20%0A%20%20%20%20%0A%20%20%20%20%20%20%20%20var%20popup_d9db95a4db5c4969a8b632e9b293398b%20%3D%20L.popup%28%7B%22maxWidth%22%3A%20%22100%25%22%7D%29%3B%0A%0A%20%20%20%20%20%20%20%20%0A%20%20%20%20%20%20%20%20%20%20%20%20var%20html_b5dec72d7fb74887b25678b92ff5d3e6%20%3D%20%24%28%60%3Cdiv%20id%3D%22html_b5dec72d7fb74887b25678b92ff5d3e6%22%20style%3D%22width%3A%20100.0%25%3B%20height%3A%20100.0%25%3B%22%3E%28government%20building%29%3C/div%3E%60%29%5B0%5D%3B%0A%20%20%20%20%20%20%20%20%20%20%20%20popup_d9db95a4db5c4969a8b632e9b293398b.setContent%28html_b5dec72d7fb74887b25678b92ff5d3e6%29%3B%0A%20%20%20%20%20%20%20%20%0A%0A%20%20%20%20%20%20%20%20marker_a089c91b7a374530a9f46e4d9a93c6a4.bindPopup%28popup_d9db95a4db5c4969a8b632e9b293398b%29%0A%20%20%20%20%20%20%20%20%3B%0A%0A%20%20%20%20%20%20%20%20%0A%20%20%20%20%0A%20%20%20%20%0A%20%20%20%20%20%20%20%20%20%20%20%20var%20marker_a22c284d445547919f7aa39f9946288f%20%3D%20L.marker%28%0A%20%20%20%20%20%20%20%20%20%20%20%20%20%20%20%20%5B-33.8548157%2C%20151.2164539%5D%2C%0A%20%20%20%20%20%20%20%20%20%20%20%20%20%20%20%20%7B%7D%0A%20%20%20%20%20%20%20%20%20%20%20%20%29.addTo%28map_31b36bc6bfff4ce48ec71b9acc90c07c%29%3B%0A%20%20%20%20%20%20%20%20%0A%20%20%20%20%0A%20%20%20%20%20%20%20%20var%20popup_e9247730fd164ccc8ee2db11c188365e%20%3D%20L.popup%28%7B%22maxWidth%22%3A%20%22100%25%22%7D%29%3B%0A%0A%20%20%20%20%20%20%20%20%0A%20%20%20%20%20%20%20%20%20%20%20%20var%20html_81eb7703fab74d849e2fcd26b309ac44%20%3D%20%24%28%60%3Cdiv%20id%3D%22html_81eb7703fab74d849e2fcd26b309ac44%22%20style%3D%22width%3A%20100.0%25%3B%20height%3A%20100.0%25%3B%22%3E%28deja-vu%20staircase%29%3C/div%3E%60%29%5B0%5D%3B%0A%20%20%20%20%20%20%20%20%20%20%20%20popup_e9247730fd164ccc8ee2db11c188365e.setContent%28html_81eb7703fab74d849e2fcd26b309ac44%29%3B%0A%20%20%20%20%20%20%20%20%0A%0A%20%20%20%20%20%20%20%20marker_a22c284d445547919f7aa39f9946288f.bindPopup%28popup_e9247730fd164ccc8ee2db11c188365e%29%0A%20%20%20%20%20%20%20%20%3B%0A%0A%20%20%20%20%20%20%20%20%0A%20%20%20%20%0A%20%20%20%20%0A%20%20%20%20%20%20%20%20%20%20%20%20var%20marker_4566c60e01f74163b8952f7b31e5b724%20%3D%20L.marker%28%0A%20%20%20%20%20%20%20%20%20%20%20%20%20%20%20%20%5B-33.890960899999996%2C%20151.22750517838074%5D%2C%0A%20%20%20%20%20%20%20%20%20%20%20%20%20%20%20%20%7B%7D%0A%20%20%20%20%20%20%20%20%20%20%20%20%29.addTo%28map_31b36bc6bfff4ce48ec71b9acc90c07c%29%3B%0A%20%20%20%20%20%20%20%20%0A%20%20%20%20%0A%20%20%20%20%20%20%20%20var%20popup_6109aca4ab0a429c80e168a68cb6cab2%20%3D%20L.popup%28%7B%22maxWidth%22%3A%20%22100%25%22%7D%29%3B%0A%0A%20%20%20%20%20%20%20%20%0A%20%20%20%20%20%20%20%20%20%20%20%20var%20html_2d3ce5450ad748df85358baef457925a%20%3D%20%24%28%60%3Cdiv%20id%3D%22html_2d3ce5450ad748df85358baef457925a%22%20style%3D%22width%3A%20100.0%25%3B%20height%3A%20100.0%25%3B%22%3E%28studio%29%3C/div%3E%60%29%5B0%5D%3B%0A%20%20%20%20%20%20%20%20%20%20%20%20popup_6109aca4ab0a429c80e168a68cb6cab2.setContent%28html_2d3ce5450ad748df85358baef457925a%29%3B%0A%20%20%20%20%20%20%20%20%0A%0A%20%20%20%20%20%20%20%20marker_4566c60e01f74163b8952f7b31e5b724.bindPopup%28popup_6109aca4ab0a429c80e168a68cb6cab2%29%0A%20%20%20%20%20%20%20%20%3B%0A%0A%20%20%20%20%20%20%20%20%0A%20%20%20%20%0A%20%20%20%20%0A%20%20%20%20%20%20%20%20%20%20%20%20var%20marker_fceb7c6c01454e5ab4e976d3076d5ee7%20%3D%20L.marker%28%0A%20%20%20%20%20%20%20%20%20%20%20%20%20%20%20%20%5B-33.8548157%2C%20151.2164539%5D%2C%0A%20%20%20%20%20%20%20%20%20%20%20%20%20%20%20%20%7B%7D%0A%20%20%20%20%20%20%20%20%20%20%20%20%29.addTo%28map_31b36bc6bfff4ce48ec71b9acc90c07c%29%3B%0A%20%20%20%20%20%20%20%20%0A%20%20%20%20%0A%20%20%20%20%20%20%20%20var%20popup_be12427dc600433c94c7cabdd35d224f%20%3D%20L.popup%28%7B%22maxWidth%22%3A%20%22100%25%22%7D%29%3B%0A%0A%20%20%20%20%20%20%20%20%0A%20%20%20%20%20%20%20%20%20%20%20%20var%20html_5c315fa47f45423aaf54f0e3b4e3cb77%20%3D%20%24%28%60%3Cdiv%20id%3D%22html_5c315fa47f45423aaf54f0e3b4e3cb77%22%20style%3D%22width%3A%20100.0%25%3B%20height%3A%20100.0%25%3B%22%3E%28Cypher/Agent%20Smith%20meeting%29%3C/div%3E%60%29%5B0%5D%3B%0A%20%20%20%20%20%20%20%20%20%20%20%20popup_be12427dc600433c94c7cabdd35d224f.setContent%28html_5c315fa47f45423aaf54f0e3b4e3cb77%29%3B%0A%20%20%20%20%20%20%20%20%0A%0A%20%20%20%20%20%20%20%20marker_fceb7c6c01454e5ab4e976d3076d5ee7.bindPopup%28popup_be12427dc600433c94c7cabdd35d224f%29%0A%20%20%20%20%20%20%20%20%3B%0A%0A%20%20%20%20%20%20%20%20%0A%20%20%20%20%0A%20%20%20%20%0A%20%20%20%20%20%20%20%20%20%20%20%20var%20marker_8ac3f7d7f8104e1bbb4cde4399a7cabd%20%3D%20L.marker%28%0A%20%20%20%20%20%20%20%20%20%20%20%20%20%20%20%20%5B-33.86376205%2C%20151.20362772900535%5D%2C%0A%20%20%20%20%20%20%20%20%20%20%20%20%20%20%20%20%7B%7D%0A%20%20%20%20%20%20%20%20%20%20%20%20%29.addTo%28map_31b36bc6bfff4ce48ec71b9acc90c07c%29%3B%0A%20%20%20%20%20%20%20%20%0A%20%20%20%20%0A%20%20%20%20%20%20%20%20var%20popup_0ba161e384684798b90a8a3de80c1546%20%3D%20L.popup%28%7B%22maxWidth%22%3A%20%22100%25%22%7D%29%3B%0A%0A%20%20%20%20%20%20%20%20%0A%20%20%20%20%20%20%20%20%20%20%20%20var%20html_cc3ddb70f9b44f33b38d576e3202189e%20%3D%20%24%28%60%3Cdiv%20id%3D%22html_cc3ddb70f9b44f33b38d576e3202189e%22%20style%3D%22width%3A%20100.0%25%3B%20height%3A%20100.0%25%3B%22%3E%28government%20building%20rooftop%29%3C/div%3E%60%29%5B0%5D%3B%0A%20%20%20%20%20%20%20%20%20%20%20%20popup_0ba161e384684798b90a8a3de80c1546.setContent%28html_cc3ddb70f9b44f33b38d576e3202189e%29%3B%0A%20%20%20%20%20%20%20%20%0A%0A%20%20%20%20%20%20%20%20marker_8ac3f7d7f8104e1bbb4cde4399a7cabd.bindPopup%28popup_0ba161e384684798b90a8a3de80c1546%29%0A%20%20%20%20%20%20%20%20%3B%0A%0A%20%20%20%20%20%20%20%20%0A%20%20%20%20%0A%20%20%20%20%0A%20%20%20%20%20%20%20%20%20%20%20%20var%20marker_dbe2eec4540143e2bd5256a3de4ca567%20%3D%20L.marker%28%0A%20%20%20%20%20%20%20%20%20%20%20%20%20%20%20%20%5B-33.8548157%2C%20151.2164539%5D%2C%0A%20%20%20%20%20%20%20%20%20%20%20%20%20%20%20%20%7B%7D%0A%20%20%20%20%20%20%20%20%20%20%20%20%29.addTo%28map_31b36bc6bfff4ce48ec71b9acc90c07c%29%3B%0A%20%20%20%20%20%20%20%20%0A%20%20%20%20%0A%20%20%20%20%20%20%20%20var%20popup_cef765d0fc3249f6aa054e4ad2125857%20%3D%20L.popup%28%7B%22maxWidth%22%3A%20%22100%25%22%7D%29%3B%0A%0A%20%20%20%20%20%20%20%20%0A%20%20%20%20%20%20%20%20%20%20%20%20var%20html_fcf06cb12d9f400889d3ad7938e817c2%20%3D%20%24%28%60%3Cdiv%20id%3D%22html_fcf06cb12d9f400889d3ad7938e817c2%22%20style%3D%22width%3A%20100.0%25%3B%20height%3A%20100.0%25%3B%22%3E%28helicopter%20crash%29%3C/div%3E%60%29%5B0%5D%3B%0A%20%20%20%20%20%20%20%20%20%20%20%20popup_cef765d0fc3249f6aa054e4ad2125857.setContent%28html_fcf06cb12d9f400889d3ad7938e817c2%29%3B%0A%20%20%20%20%20%20%20%20%0A%0A%20%20%20%20%20%20%20%20marker_dbe2eec4540143e2bd5256a3de4ca567.bindPopup%28popup_cef765d0fc3249f6aa054e4ad2125857%29%0A%20%20%20%20%20%20%20%20%3B%0A%0A%20%20%20%20%20%20%20%20%0A%20%20%20%20%0A%20%20%20%20%0A%20%20%20%20%20%20%20%20%20%20%20%20var%20marker_652077ee58de49579c7e306bbb019c26%20%3D%20L.marker%28%0A%20%20%20%20%20%20%20%20%20%20%20%20%20%20%20%20%5B-33.8548157%2C%20151.2164539%5D%2C%0A%20%20%20%20%20%20%20%20%20%20%20%20%20%20%20%20%7B%7D%0A%20%20%20%20%20%20%20%20%20%20%20%20%29.addTo%28map_31b36bc6bfff4ce48ec71b9acc90c07c%29%3B%0A%20%20%20%20%20%20%20%20%0A%20%20%20%20%0A%20%20%20%20%20%20%20%20var%20popup_4cf389d180314fd68d4ea6e97d685512%20%3D%20L.popup%28%7B%22maxWidth%22%3A%20%22100%25%22%7D%29%3B%0A%0A%20%20%20%20%20%20%20%20%0A%20%20%20%20%20%20%20%20%20%20%20%20var%20html_b09a49bbe8bd444493038539cd6fb4c0%20%3D%20%24%28%60%3Cdiv%20id%3D%22html_b09a49bbe8bd444493038539cd6fb4c0%22%20style%3D%22width%3A%20100.0%25%3B%20height%3A%20100.0%25%3B%22%3E%28Neo%27s%20phone%20call%20to%20the%20machines%20at%20the%20end%29%3C/div%3E%60%29%5B0%5D%3B%0A%20%20%20%20%20%20%20%20%20%20%20%20popup_4cf389d180314fd68d4ea6e97d685512.setContent%28html_b09a49bbe8bd444493038539cd6fb4c0%29%3B%0A%20%20%20%20%20%20%20%20%0A%0A%20%20%20%20%20%20%20%20marker_652077ee58de49579c7e306bbb019c26.bindPopup%28popup_4cf389d180314fd68d4ea6e97d685512%29%0A%20%20%20%20%20%20%20%20%3B%0A%0A%20%20%20%20%20%20%20%20%0A%20%20%20%20%0A%20%20%20%20%0A%20%20%20%20%20%20%20%20%20%20%20%20var%20marker_41beb58dd7f149fdb9e73a0801a19e08%20%3D%20L.marker%28%0A%20%20%20%20%20%20%20%20%20%20%20%20%20%20%20%20%5B-33.8573904%2C%20151.2030854%5D%2C%0A%20%20%20%20%20%20%20%20%20%20%20%20%20%20%20%20%7B%7D%0A%20%20%20%20%20%20%20%20%20%20%20%20%29.addTo%28map_31b36bc6bfff4ce48ec71b9acc90c07c%29%3B%0A%20%20%20%20%20%20%20%20%0A%20%20%20%20%0A%20%20%20%20%20%20%20%20var%20popup_bf816e73914841d3acec18185079d225%20%3D%20L.popup%28%7B%22maxWidth%22%3A%20%22100%25%22%7D%29%3B%0A%0A%20%20%20%20%20%20%20%20%0A%20%20%20%20%20%20%20%20%20%20%20%20var%20html_ade372ccb6db4c59b5bf0a76e1e4d19a%20%3D%20%24%28%60%3Cdiv%20id%3D%22html_ade372ccb6db4c59b5bf0a76e1e4d19a%22%20style%3D%22width%3A%20100.0%25%3B%20height%3A%20100.0%25%3B%22%3E%28Trinity%20phone%20booth%20escape%29%3C/div%3E%60%29%5B0%5D%3B%0A%20%20%20%20%20%20%20%20%20%20%20%20popup_bf816e73914841d3acec18185079d225.setContent%28html_ade372ccb6db4c59b5bf0a76e1e4d19a%29%3B%0A%20%20%20%20%20%20%20%20%0A%0A%20%20%20%20%20%20%20%20marker_41beb58dd7f149fdb9e73a0801a19e08.bindPopup%28popup_bf816e73914841d3acec18185079d225%29%0A%20%20%20%20%20%20%20%20%3B%0A%0A%20%20%20%20%20%20%20%20%0A%20%20%20%20%0A%20%20%20%20%0A%20%20%20%20%20%20%20%20%20%20%20%20var%20marker_059e8780625845028c258486773388ce%20%3D%20L.marker%28%0A%20%20%20%20%20%20%20%20%20%20%20%20%20%20%20%20%5B-33.8645002%2C%20151.1743543%5D%2C%0A%20%20%20%20%20%20%20%20%20%20%20%20%20%20%20%20%7B%7D%0A%20%20%20%20%20%20%20%20%20%20%20%20%29.addTo%28map_31b36bc6bfff4ce48ec71b9acc90c07c%29%3B%0A%20%20%20%20%20%20%20%20%0A%20%20%20%20%0A%20%20%20%20%20%20%20%20var%20popup_ad9b5076d16c4d568ff92a81a52ef44f%20%3D%20L.popup%28%7B%22maxWidth%22%3A%20%22100%25%22%7D%29%3B%0A%0A%20%20%20%20%20%20%20%20%0A%20%20%20%20%20%20%20%20%20%20%20%20var%20html_6bda05cfabf04df082b47995218a1209%20%3D%20%24%28%60%3Cdiv%20id%3D%22html_6bda05cfabf04df082b47995218a1209%22%20style%3D%22width%3A%20100.0%25%3B%20height%3A%20100.0%25%3B%22%3E%28subway%20station%29%3C/div%3E%60%29%5B0%5D%3B%0A%20%20%20%20%20%20%20%20%20%20%20%20popup_ad9b5076d16c4d568ff92a81a52ef44f.setContent%28html_6bda05cfabf04df082b47995218a1209%29%3B%0A%20%20%20%20%20%20%20%20%0A%0A%20%20%20%20%20%20%20%20marker_059e8780625845028c258486773388ce.bindPopup%28popup_ad9b5076d16c4d568ff92a81a52ef44f%29%0A%20%20%20%20%20%20%20%20%3B%0A%0A%20%20%20%20%20%20%20%20%0A%20%20%20%20%0A%20%20%20%20%0A%20%20%20%20%20%20%20%20%20%20%20%20var%20marker_db13d910f349416b9851668d1b009be7%20%3D%20L.marker%28%0A%20%20%20%20%20%20%20%20%20%20%20%20%20%20%20%20%5B-33.9002762%2C%20151.2073137%5D%2C%0A%20%20%20%20%20%20%20%20%20%20%20%20%20%20%20%20%7B%7D%0A%20%20%20%20%20%20%20%20%20%20%20%20%29.addTo%28map_31b36bc6bfff4ce48ec71b9acc90c07c%29%3B%0A%20%20%20%20%20%20%20%20%0A%20%20%20%20%0A%20%20%20%20%20%20%20%20var%20popup_05311d6b94be42efb0333f866e2aa9ef%20%3D%20L.popup%28%7B%22maxWidth%22%3A%20%22100%25%22%7D%29%3B%0A%0A%20%20%20%20%20%20%20%20%0A%20%20%20%20%20%20%20%20%20%20%20%20var%20html_c472d7cdf5144e9d9baab4b1cf83f79d%20%3D%20%24%28%60%3Cdiv%20id%3D%22html_c472d7cdf5144e9d9baab4b1cf83f79d%22%20style%3D%22width%3A%20100.0%25%3B%20height%3A%20100.0%25%3B%22%3E%28building%20scene%29%3C/div%3E%60%29%5B0%5D%3B%0A%20%20%20%20%20%20%20%20%20%20%20%20popup_05311d6b94be42efb0333f866e2aa9ef.setContent%28html_c472d7cdf5144e9d9baab4b1cf83f79d%29%3B%0A%20%20%20%20%20%20%20%20%0A%0A%20%20%20%20%20%20%20%20marker_db13d910f349416b9851668d1b009be7.bindPopup%28popup_05311d6b94be42efb0333f866e2aa9ef%29%0A%20%20%20%20%20%20%20%20%3B%0A%0A%20%20%20%20%20%20%20%20%0A%20%20%20%20%0A%20%20%20%20%0A%20%20%20%20%20%20%20%20%20%20%20%20var%20marker_cc7edf34114b49ed968ecff7a195d51e%20%3D%20L.marker%28%0A%20%20%20%20%20%20%20%20%20%20%20%20%20%20%20%20%5B-33.8548157%2C%20151.2164539%5D%2C%0A%20%20%20%20%20%20%20%20%20%20%20%20%20%20%20%20%7B%7D%0A%20%20%20%20%20%20%20%20%20%20%20%20%29.addTo%28map_31b36bc6bfff4ce48ec71b9acc90c07c%29%3B%0A%20%20%20%20%20%20%20%20%0A%20%20%20%20%0A%20%20%20%20%20%20%20%20var%20popup_19ad21c5709649d98dfd47c0d6eab9f0%20%3D%20L.popup%28%7B%22maxWidth%22%3A%20%22100%25%22%7D%29%3B%0A%0A%20%20%20%20%20%20%20%20%0A%20%20%20%20%20%20%20%20%20%20%20%20var%20html_36b91a2cbb914cb9bfc317548685fdf2%20%3D%20%24%28%60%3Cdiv%20id%3D%22html_36b91a2cbb914cb9bfc317548685fdf2%22%20style%3D%22width%3A%20100.0%25%3B%20height%3A%20100.0%25%3B%22%3E%28studio%29%3C/div%3E%60%29%5B0%5D%3B%0A%20%20%20%20%20%20%20%20%20%20%20%20popup_19ad21c5709649d98dfd47c0d6eab9f0.setContent%28html_36b91a2cbb914cb9bfc317548685fdf2%29%3B%0A%20%20%20%20%20%20%20%20%0A%0A%20%20%20%20%20%20%20%20marker_cc7edf34114b49ed968ecff7a195d51e.bindPopup%28popup_19ad21c5709649d98dfd47c0d6eab9f0%29%0A%20%20%20%20%20%20%20%20%3B%0A%0A%20%20%20%20%20%20%20%20%0A%20%20%20%20%0A%20%20%20%20%0A%20%20%20%20%20%20%20%20%20%20%20%20var%20marker_8831cf3582c5498b8b2acf3cccf59b8d%20%3D%20L.marker%28%0A%20%20%20%20%20%20%20%20%20%20%20%20%20%20%20%20%5B-33.8548157%2C%20151.2164539%5D%2C%0A%20%20%20%20%20%20%20%20%20%20%20%20%20%20%20%20%7B%7D%0A%20%20%20%20%20%20%20%20%20%20%20%20%29.addTo%28map_31b36bc6bfff4ce48ec71b9acc90c07c%29%3B%0A%20%20%20%20%20%20%20%20%0A%20%20%20%20%0A%20%20%20%20%20%20%20%20var%20popup_9dddfd7fd3bb41ba89f1f5240ee3ff87%20%3D%20L.popup%28%7B%22maxWidth%22%3A%20%22100%25%22%7D%29%3B%0A%0A%20%20%20%20%20%20%20%20%0A%20%20%20%20%20%20%20%20%20%20%20%20var%20html_f49ed3845b64444b8e0f7696489e00e9%20%3D%20%24%28%60%3Cdiv%20id%3D%22html_f49ed3845b64444b8e0f7696489e00e9%22%20style%3D%22width%3A%20100.0%25%3B%20height%3A%20100.0%25%3B%22%3E%28Major%20Chase%20Scenes%29%3C/div%3E%60%29%5B0%5D%3B%0A%20%20%20%20%20%20%20%20%20%20%20%20popup_9dddfd7fd3bb41ba89f1f5240ee3ff87.setContent%28html_f49ed3845b64444b8e0f7696489e00e9%29%3B%0A%20%20%20%20%20%20%20%20%0A%0A%20%20%20%20%20%20%20%20marker_8831cf3582c5498b8b2acf3cccf59b8d.bindPopup%28popup_9dddfd7fd3bb41ba89f1f5240ee3ff87%29%0A%20%20%20%20%20%20%20%20%3B%0A%0A%20%20%20%20%20%20%20%20%0A%20%20%20%20%0A%20%20%20%20%0A%20%20%20%20%20%20%20%20%20%20%20%20var%20marker_a25ed154b0664fadb3008fd445f68c28%20%3D%20L.marker%28%0A%20%20%20%20%20%20%20%20%20%20%20%20%20%20%20%20%5B-33.8548157%2C%20151.2164539%5D%2C%0A%20%20%20%20%20%20%20%20%20%20%20%20%20%20%20%20%7B%7D%0A%20%20%20%20%20%20%20%20%20%20%20%20%29.addTo%28map_31b36bc6bfff4ce48ec71b9acc90c07c%29%3B%0A%20%20%20%20%20%20%20%20%0A%20%20%20%20%0A%20%20%20%20%20%20%20%20var%20popup_8d247dcbf54a42c9abeaab0b03a1df7c%20%3D%20L.popup%28%7B%22maxWidth%22%3A%20%22100%25%22%7D%29%3B%0A%0A%20%20%20%20%20%20%20%20%0A%20%20%20%20%20%20%20%20%20%20%20%20var%20html_01b8a28dff054289a83b42583a6ffe97%20%3D%20%24%28%60%3Cdiv%20id%3D%22html_01b8a28dff054289a83b42583a6ffe97%22%20style%3D%22width%3A%20100.0%25%3B%20height%3A%20100.0%25%3B%22%3E%28agent%20training%20program%29%3C/div%3E%60%29%5B0%5D%3B%0A%20%20%20%20%20%20%20%20%20%20%20%20popup_8d247dcbf54a42c9abeaab0b03a1df7c.setContent%28html_01b8a28dff054289a83b42583a6ffe97%29%3B%0A%20%20%20%20%20%20%20%20%0A%0A%20%20%20%20%20%20%20%20marker_a25ed154b0664fadb3008fd445f68c28.bindPopup%28popup_8d247dcbf54a42c9abeaab0b03a1df7c%29%0A%20%20%20%20%20%20%20%20%3B%0A%0A%20%20%20%20%20%20%20%20%0A%20%20%20%20%0A%20%20%20%20%0A%20%20%20%20%20%20%20%20%20%20%20%20var%20marker_9445218d5575483ba51379eb73b92f3a%20%3D%20L.marker%28%0A%20%20%20%20%20%20%20%20%20%20%20%20%20%20%20%20%5B-31.8759835%2C%20147.2869493%5D%2C%0A%20%20%20%20%20%20%20%20%20%20%20%20%20%20%20%20%7B%7D%0A%20%20%20%20%20%20%20%20%20%20%20%20%29.addTo%28map_31b36bc6bfff4ce48ec71b9acc90c07c%29%3B%0A%20%20%20%20%20%20%20%20%0A%20%20%20%20%0A%20%20%20%20%20%20%20%20var%20popup_5ef710415a1d4c8c83f734db5fdb5e2c%20%3D%20L.popup%28%7B%22maxWidth%22%3A%20%22100%25%22%7D%29%3B%0A%0A%20%20%20%20%20%20%20%20%0A%20%20%20%20%20%20%20%20%20%20%20%20var%20html_ce05f359773940a1b568055a4a0384b9%20%3D%20%24%28%60%3Cdiv%20id%3D%22html_ce05f359773940a1b568055a4a0384b9%22%20style%3D%22width%3A%20100.0%25%3B%20height%3A%20100.0%25%3B%22%3E%3C/div%3E%60%29%5B0%5D%3B%0A%20%20%20%20%20%20%20%20%20%20%20%20popup_5ef710415a1d4c8c83f734db5fdb5e2c.setContent%28html_ce05f359773940a1b568055a4a0384b9%29%3B%0A%20%20%20%20%20%20%20%20%0A%0A%20%20%20%20%20%20%20%20marker_9445218d5575483ba51379eb73b92f3a.bindPopup%28popup_5ef710415a1d4c8c83f734db5fdb5e2c%29%0A%20%20%20%20%20%20%20%20%3B%0A%0A%20%20%20%20%20%20%20%20%0A%20%20%20%20%0A%20%20%20%20%0A%20%20%20%20%20%20%20%20%20%20%20%20var%20marker_3246d656f3fd4ceabcb44919c0eaa2cd%20%3D%20L.marker%28%0A%20%20%20%20%20%20%20%20%20%20%20%20%20%20%20%20%5B-33.8845123%2C%20151.2100301%5D%2C%0A%20%20%20%20%20%20%20%20%20%20%20%20%20%20%20%20%7B%7D%0A%20%20%20%20%20%20%20%20%20%20%20%20%29.addTo%28map_31b36bc6bfff4ce48ec71b9acc90c07c%29%3B%0A%20%20%20%20%20%20%20%20%0A%20%20%20%20%0A%20%20%20%20%20%20%20%20var%20popup_382e593d42ef459589f0e363ddb29e6a%20%3D%20L.popup%28%7B%22maxWidth%22%3A%20%22100%25%22%7D%29%3B%0A%0A%20%20%20%20%20%20%20%20%0A%20%20%20%20%20%20%20%20%20%20%20%20var%20html_5b194e2422e54e79bbb44c8ad3a5f057%20%3D%20%24%28%60%3Cdiv%20id%3D%22html_5b194e2422e54e79bbb44c8ad3a5f057%22%20style%3D%22width%3A%20100.0%25%3B%20height%3A%20100.0%25%3B%22%3E%3C/div%3E%60%29%5B0%5D%3B%0A%20%20%20%20%20%20%20%20%20%20%20%20popup_382e593d42ef459589f0e363ddb29e6a.setContent%28html_5b194e2422e54e79bbb44c8ad3a5f057%29%3B%0A%20%20%20%20%20%20%20%20%0A%0A%20%20%20%20%20%20%20%20marker_3246d656f3fd4ceabcb44919c0eaa2cd.bindPopup%28popup_382e593d42ef459589f0e363ddb29e6a%29%0A%20%20%20%20%20%20%20%20%3B%0A%0A%20%20%20%20%20%20%20%20%0A%20%20%20%20%0A%20%20%20%20%0A%20%20%20%20%20%20%20%20%20%20%20%20var%20marker_a9b5619e99b549eba32af9177a0e8993%20%3D%20L.marker%28%0A%20%20%20%20%20%20%20%20%20%20%20%20%20%20%20%20%5B-33.8548157%2C%20151.2164539%5D%2C%0A%20%20%20%20%20%20%20%20%20%20%20%20%20%20%20%20%7B%7D%0A%20%20%20%20%20%20%20%20%20%20%20%20%29.addTo%28map_31b36bc6bfff4ce48ec71b9acc90c07c%29%3B%0A%20%20%20%20%20%20%20%20%0A%20%20%20%20%0A%20%20%20%20%20%20%20%20var%20popup_41d27bc232c34866bb416d41927fc5c2%20%3D%20L.popup%28%7B%22maxWidth%22%3A%20%22100%25%22%7D%29%3B%0A%0A%20%20%20%20%20%20%20%20%0A%20%20%20%20%20%20%20%20%20%20%20%20var%20html_1724e8682a6043fc84d0bf53366c0564%20%3D%20%24%28%60%3Cdiv%20id%3D%22html_1724e8682a6043fc84d0bf53366c0564%22%20style%3D%22width%3A%20100.0%25%3B%20height%3A%20100.0%25%3B%22%3E%28helicopter%20crash%20rescue%29%3C/div%3E%60%29%5B0%5D%3B%0A%20%20%20%20%20%20%20%20%20%20%20%20popup_41d27bc232c34866bb416d41927fc5c2.setContent%28html_1724e8682a6043fc84d0bf53366c0564%29%3B%0A%20%20%20%20%20%20%20%20%0A%0A%20%20%20%20%20%20%20%20marker_a9b5619e99b549eba32af9177a0e8993.bindPopup%28popup_41d27bc232c34866bb416d41927fc5c2%29%0A%20%20%20%20%20%20%20%20%3B%0A%0A%20%20%20%20%20%20%20%20%0A%20%20%20%20%0A%20%20%20%20%0A%20%20%20%20%20%20%20%20%20%20%20%20var%20marker_dd079bea252c4038aeaf1d514b058a06%20%3D%20L.marker%28%0A%20%20%20%20%20%20%20%20%20%20%20%20%20%20%20%20%5B-33.8863291%2C%20151.1998211%5D%2C%0A%20%20%20%20%20%20%20%20%20%20%20%20%20%20%20%20%7B%7D%0A%20%20%20%20%20%20%20%20%20%20%20%20%29.addTo%28map_31b36bc6bfff4ce48ec71b9acc90c07c%29%3B%0A%20%20%20%20%20%20%20%20%0A%20%20%20%20%0A%20%20%20%20%20%20%20%20var%20popup_9c001009485541d9bb13ecbe16046164%20%3D%20L.popup%28%7B%22maxWidth%22%3A%20%22100%25%22%7D%29%3B%0A%0A%20%20%20%20%20%20%20%20%0A%20%20%20%20%20%20%20%20%20%20%20%20var%20html_40ce203ffd28487fa78bdcf3febdd8eb%20%3D%20%24%28%60%3Cdiv%20id%3D%22html_40ce203ffd28487fa78bdcf3febdd8eb%22%20style%3D%22width%3A%20100.0%25%3B%20height%3A%20100.0%25%3B%22%3E%3C/div%3E%60%29%5B0%5D%3B%0A%20%20%20%20%20%20%20%20%20%20%20%20popup_9c001009485541d9bb13ecbe16046164.setContent%28html_40ce203ffd28487fa78bdcf3febdd8eb%29%3B%0A%20%20%20%20%20%20%20%20%0A%0A%20%20%20%20%20%20%20%20marker_dd079bea252c4038aeaf1d514b058a06.bindPopup%28popup_9c001009485541d9bb13ecbe16046164%29%0A%20%20%20%20%20%20%20%20%3B%0A%0A%20%20%20%20%20%20%20%20%0A%20%20%20%20%0A%3C/script%3E onload=\"this.contentDocument.open();this.contentDocument.write(    decodeURIComponent(this.getAttribute('data-html')));this.contentDocument.close();\" allowfullscreen webkitallowfullscreen mozallowfullscreen></iframe></div></div>"
      ],
      "text/plain": [
       "<folium.folium.Map at 0x7f2294692080>"
      ]
     },
     "execution_count": 115,
     "metadata": {},
     "output_type": "execute_result"
    }
   ],
   "source": [
    "map = folium.Map(location=locationlist[0], zoom_start=12)\n",
    "for point in range(0, len(locations_df['latitude'])):\n",
    "    folium.Marker(locationlist[point], popup=locations_df['movie_location'][point]).add_to(map)\n",
    "map"
   ]
  }
 ],
 "metadata": {
  "hide_input": false,
  "kernelspec": {
   "display_name": "Python 3",
   "language": "python",
   "name": "python3"
  },
  "language_info": {
   "codemirror_mode": {
    "name": "ipython",
    "version": 3
   },
   "file_extension": ".py",
   "mimetype": "text/x-python",
   "name": "python",
   "nbconvert_exporter": "python",
   "pygments_lexer": "ipython3",
   "version": "3.6.15"
  },
  "toc": {
   "base_numbering": 1,
   "nav_menu": {},
   "number_sections": true,
   "sideBar": true,
   "skip_h1_title": false,
   "title_cell": "Table of Contents",
   "title_sidebar": "Contents",
   "toc_cell": false,
   "toc_position": {},
   "toc_section_display": true,
   "toc_window_display": false
  }
 },
 "nbformat": 4,
 "nbformat_minor": 5
}
