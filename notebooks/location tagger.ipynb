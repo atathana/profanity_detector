{
 "cells": [
  {
   "cell_type": "code",
   "execution_count": 1,
   "id": "b3aa5b61",
   "metadata": {},
   "outputs": [],
   "source": [
    "%load_ext autoreload\n",
    "%autoreload 2"
   ]
  },
  {
   "cell_type": "code",
   "execution_count": 178,
   "id": "1d14b978",
   "metadata": {},
   "outputs": [],
   "source": [
    "import pandas as pd\n",
    "from imdb import Cinemagoer\n",
    "import warnings\n",
    "import os\n",
    "import sys\n",
    "import inspect\n",
    "import nltk\n",
    "import spacy\n",
    "from geopy.geocoders import Nominatim\n",
    "import geograpy\n",
    "import folium"
   ]
  },
  {
   "cell_type": "code",
   "execution_count": 110,
   "id": "3f51edc6",
   "metadata": {},
   "outputs": [],
   "source": [
    "warnings.filterwarnings('ignore')\n",
    "currentdir = os.path.dirname(os.path.abspath(inspect.getfile(inspect.currentframe())))\n",
    "parentdir = os.path.dirname(currentdir)\n",
    "sys.path.insert(0, parentdir) "
   ]
  },
  {
   "cell_type": "code",
   "execution_count": 113,
   "id": "f4fda77c",
   "metadata": {},
   "outputs": [],
   "source": [
    "from profanity_detector.get_data import movie_data, get_all_movie_data, run_and_display, get_all_movie_data\n",
    "from profanity_detector.geo_data import get_movie_location, get_set_location, get_coordinates, enrich_locations"
   ]
  },
  {
   "cell_type": "code",
   "execution_count": 9,
   "id": "602618c9",
   "metadata": {
    "collapsed": true
   },
   "outputs": [
    {
     "name": "stderr",
     "output_type": "stream",
     "text": [
      "[nltk_data] Downloading package maxent_ne_chunker to\n",
      "[nltk_data]     /home/tomershtein/nltk_data...\n",
      "[nltk_data]   Package maxent_ne_chunker is already up-to-date!\n",
      "[nltk_data] Downloading package words to\n",
      "[nltk_data]     /home/tomershtein/nltk_data...\n",
      "[nltk_data]   Package words is already up-to-date!\n",
      "[nltk_data] Downloading package treebank to\n",
      "[nltk_data]     /home/tomershtein/nltk_data...\n",
      "[nltk_data]   Package treebank is already up-to-date!\n",
      "[nltk_data] Downloading package maxent_treebank_pos_tagger to\n",
      "[nltk_data]     /home/tomershtein/nltk_data...\n",
      "[nltk_data]   Package maxent_treebank_pos_tagger is already up-to-\n",
      "[nltk_data]       date!\n",
      "[nltk_data] Downloading package punkt to\n",
      "[nltk_data]     /home/tomershtein/nltk_data...\n",
      "[nltk_data]   Package punkt is already up-to-date!\n",
      "[nltk_data] Downloading package averaged_perceptron_tagger to\n",
      "[nltk_data]     /home/tomershtein/nltk_data...\n",
      "[nltk_data]   Package averaged_perceptron_tagger is already up-to-\n",
      "[nltk_data]       date!\n"
     ]
    },
    {
     "data": {
      "text/plain": [
       "True"
      ]
     },
     "execution_count": 9,
     "metadata": {},
     "output_type": "execute_result"
    }
   ],
   "source": [
    "nltk.downloader.download('maxent_ne_chunker')\n",
    "nltk.downloader.download('words')\n",
    "nltk.downloader.download('treebank')\n",
    "nltk.downloader.download('maxent_treebank_pos_tagger')\n",
    "nltk.downloader.download('punkt')\n",
    "nltk.download('averaged_perceptron_tagger')"
   ]
  },
  {
   "cell_type": "code",
   "execution_count": 10,
   "id": "0cd80b31",
   "metadata": {
    "collapsed": true
   },
   "outputs": [
    {
     "name": "stdout",
     "output_type": "stream",
     "text": [
      "Collecting en-core-web-sm==3.2.0\n",
      "  Downloading https://github.com/explosion/spacy-models/releases/download/en_core_web_sm-3.2.0/en_core_web_sm-3.2.0-py3-none-any.whl (13.9 MB)\n",
      "     |████████████████████████████████| 13.9 MB 19.5 MB/s            \n",
      "\u001b[?25hRequirement already satisfied: spacy<3.3.0,>=3.2.0 in /home/tomershtein/.pyenv/versions/3.6.15/envs/profanity_detector/lib/python3.6/site-packages (from en-core-web-sm==3.2.0) (3.2.3)\n",
      "Requirement already satisfied: srsly<3.0.0,>=2.4.1 in /home/tomershtein/.pyenv/versions/3.6.15/envs/profanity_detector/lib/python3.6/site-packages (from spacy<3.3.0,>=3.2.0->en-core-web-sm==3.2.0) (2.4.2)\n",
      "Requirement already satisfied: wasabi<1.1.0,>=0.8.1 in /home/tomershtein/.pyenv/versions/3.6.15/envs/profanity_detector/lib/python3.6/site-packages (from spacy<3.3.0,>=3.2.0->en-core-web-sm==3.2.0) (0.9.0)\n",
      "Requirement already satisfied: numpy>=1.15.0 in /home/tomershtein/.pyenv/versions/3.6.15/envs/profanity_detector/lib/python3.6/site-packages (from spacy<3.3.0,>=3.2.0->en-core-web-sm==3.2.0) (1.19.5)\n",
      "Requirement already satisfied: requests<3.0.0,>=2.13.0 in /home/tomershtein/.pyenv/versions/3.6.15/envs/profanity_detector/lib/python3.6/site-packages (from spacy<3.3.0,>=3.2.0->en-core-web-sm==3.2.0) (2.27.1)\n",
      "Requirement already satisfied: thinc<8.1.0,>=8.0.12 in /home/tomershtein/.pyenv/versions/3.6.15/envs/profanity_detector/lib/python3.6/site-packages (from spacy<3.3.0,>=3.2.0->en-core-web-sm==3.2.0) (8.0.13)\n",
      "Requirement already satisfied: pathy>=0.3.5 in /home/tomershtein/.pyenv/versions/3.6.15/envs/profanity_detector/lib/python3.6/site-packages (from spacy<3.3.0,>=3.2.0->en-core-web-sm==3.2.0) (0.6.1)\n",
      "Requirement already satisfied: blis<0.8.0,>=0.4.0 in /home/tomershtein/.pyenv/versions/3.6.15/envs/profanity_detector/lib/python3.6/site-packages (from spacy<3.3.0,>=3.2.0->en-core-web-sm==3.2.0) (0.7.6)\n",
      "Requirement already satisfied: tqdm<5.0.0,>=4.38.0 in /home/tomershtein/.pyenv/versions/3.6.15/envs/profanity_detector/lib/python3.6/site-packages (from spacy<3.3.0,>=3.2.0->en-core-web-sm==3.2.0) (4.62.3)\n",
      "Requirement already satisfied: murmurhash<1.1.0,>=0.28.0 in /home/tomershtein/.pyenv/versions/3.6.15/envs/profanity_detector/lib/python3.6/site-packages (from spacy<3.3.0,>=3.2.0->en-core-web-sm==3.2.0) (1.0.6)\n",
      "Requirement already satisfied: spacy-legacy<3.1.0,>=3.0.8 in /home/tomershtein/.pyenv/versions/3.6.15/envs/profanity_detector/lib/python3.6/site-packages (from spacy<3.3.0,>=3.2.0->en-core-web-sm==3.2.0) (3.0.9)\n",
      "Requirement already satisfied: jinja2 in /home/tomershtein/.pyenv/versions/3.6.15/envs/profanity_detector/lib/python3.6/site-packages (from spacy<3.3.0,>=3.2.0->en-core-web-sm==3.2.0) (3.0.3)\n",
      "Requirement already satisfied: setuptools in /home/tomershtein/.pyenv/versions/3.6.15/envs/profanity_detector/lib/python3.6/site-packages (from spacy<3.3.0,>=3.2.0->en-core-web-sm==3.2.0) (40.6.2)\n",
      "Requirement already satisfied: packaging>=20.0 in /home/tomershtein/.pyenv/versions/3.6.15/envs/profanity_detector/lib/python3.6/site-packages (from spacy<3.3.0,>=3.2.0->en-core-web-sm==3.2.0) (21.3)\n",
      "Requirement already satisfied: typing-extensions<4.0.0.0,>=3.7.4 in /home/tomershtein/.pyenv/versions/3.6.15/envs/profanity_detector/lib/python3.6/site-packages (from spacy<3.3.0,>=3.2.0->en-core-web-sm==3.2.0) (3.10.0.2)\n",
      "Requirement already satisfied: typer<0.5.0,>=0.3.0 in /home/tomershtein/.pyenv/versions/3.6.15/envs/profanity_detector/lib/python3.6/site-packages (from spacy<3.3.0,>=3.2.0->en-core-web-sm==3.2.0) (0.4.0)\n",
      "Requirement already satisfied: cymem<2.1.0,>=2.0.2 in /home/tomershtein/.pyenv/versions/3.6.15/envs/profanity_detector/lib/python3.6/site-packages (from spacy<3.3.0,>=3.2.0->en-core-web-sm==3.2.0) (2.0.6)\n",
      "Requirement already satisfied: catalogue<2.1.0,>=2.0.6 in /home/tomershtein/.pyenv/versions/3.6.15/envs/profanity_detector/lib/python3.6/site-packages (from spacy<3.3.0,>=3.2.0->en-core-web-sm==3.2.0) (2.0.6)\n",
      "Requirement already satisfied: spacy-loggers<2.0.0,>=1.0.0 in /home/tomershtein/.pyenv/versions/3.6.15/envs/profanity_detector/lib/python3.6/site-packages (from spacy<3.3.0,>=3.2.0->en-core-web-sm==3.2.0) (1.0.1)\n",
      "Requirement already satisfied: langcodes<4.0.0,>=3.2.0 in /home/tomershtein/.pyenv/versions/3.6.15/envs/profanity_detector/lib/python3.6/site-packages (from spacy<3.3.0,>=3.2.0->en-core-web-sm==3.2.0) (3.3.0)\n",
      "Requirement already satisfied: preshed<3.1.0,>=3.0.2 in /home/tomershtein/.pyenv/versions/3.6.15/envs/profanity_detector/lib/python3.6/site-packages (from spacy<3.3.0,>=3.2.0->en-core-web-sm==3.2.0) (3.0.6)\n",
      "Requirement already satisfied: pydantic!=1.8,!=1.8.1,<1.9.0,>=1.7.4 in /home/tomershtein/.pyenv/versions/3.6.15/envs/profanity_detector/lib/python3.6/site-packages (from spacy<3.3.0,>=3.2.0->en-core-web-sm==3.2.0) (1.8.2)\n",
      "Requirement already satisfied: zipp>=0.5 in /home/tomershtein/.pyenv/versions/3.6.15/envs/profanity_detector/lib/python3.6/site-packages (from catalogue<2.1.0,>=2.0.6->spacy<3.3.0,>=3.2.0->en-core-web-sm==3.2.0) (3.6.0)\n",
      "Requirement already satisfied: pyparsing!=3.0.5,>=2.0.2 in /home/tomershtein/.pyenv/versions/3.6.15/envs/profanity_detector/lib/python3.6/site-packages (from packaging>=20.0->spacy<3.3.0,>=3.2.0->en-core-web-sm==3.2.0) (3.0.7)\n",
      "Requirement already satisfied: dataclasses<1.0,>=0.6 in /home/tomershtein/.pyenv/versions/3.6.15/envs/profanity_detector/lib/python3.6/site-packages (from pathy>=0.3.5->spacy<3.3.0,>=3.2.0->en-core-web-sm==3.2.0) (0.8)\n",
      "Requirement already satisfied: smart-open<6.0.0,>=5.0.0 in /home/tomershtein/.pyenv/versions/3.6.15/envs/profanity_detector/lib/python3.6/site-packages (from pathy>=0.3.5->spacy<3.3.0,>=3.2.0->en-core-web-sm==3.2.0) (5.2.1)\n",
      "Requirement already satisfied: charset-normalizer~=2.0.0 in /home/tomershtein/.pyenv/versions/3.6.15/envs/profanity_detector/lib/python3.6/site-packages (from requests<3.0.0,>=2.13.0->spacy<3.3.0,>=3.2.0->en-core-web-sm==3.2.0) (2.0.12)\n",
      "Requirement already satisfied: idna<4,>=2.5 in /home/tomershtein/.pyenv/versions/3.6.15/envs/profanity_detector/lib/python3.6/site-packages (from requests<3.0.0,>=2.13.0->spacy<3.3.0,>=3.2.0->en-core-web-sm==3.2.0) (3.3)\n",
      "Requirement already satisfied: urllib3<1.27,>=1.21.1 in /home/tomershtein/.pyenv/versions/3.6.15/envs/profanity_detector/lib/python3.6/site-packages (from requests<3.0.0,>=2.13.0->spacy<3.3.0,>=3.2.0->en-core-web-sm==3.2.0) (1.26.8)\n",
      "Requirement already satisfied: certifi>=2017.4.17 in /home/tomershtein/.pyenv/versions/3.6.15/envs/profanity_detector/lib/python3.6/site-packages (from requests<3.0.0,>=2.13.0->spacy<3.3.0,>=3.2.0->en-core-web-sm==3.2.0) (2021.10.8)\n",
      "Requirement already satisfied: contextvars<3,>=2.4 in /home/tomershtein/.pyenv/versions/3.6.15/envs/profanity_detector/lib/python3.6/site-packages (from thinc<8.1.0,>=8.0.12->spacy<3.3.0,>=3.2.0->en-core-web-sm==3.2.0) (2.4)\n",
      "Requirement already satisfied: click<9.0.0,>=7.1.1 in /home/tomershtein/.pyenv/versions/3.6.15/envs/profanity_detector/lib/python3.6/site-packages (from typer<0.5.0,>=0.3.0->spacy<3.3.0,>=3.2.0->en-core-web-sm==3.2.0) (8.0.4)\n",
      "Requirement already satisfied: MarkupSafe>=2.0 in /home/tomershtein/.pyenv/versions/3.6.15/envs/profanity_detector/lib/python3.6/site-packages (from jinja2->spacy<3.3.0,>=3.2.0->en-core-web-sm==3.2.0) (2.0.1)\n",
      "Requirement already satisfied: importlib-metadata in /home/tomershtein/.pyenv/versions/3.6.15/envs/profanity_detector/lib/python3.6/site-packages (from click<9.0.0,>=7.1.1->typer<0.5.0,>=0.3.0->spacy<3.3.0,>=3.2.0->en-core-web-sm==3.2.0) (4.8.3)\n",
      "Requirement already satisfied: immutables>=0.9 in /home/tomershtein/.pyenv/versions/3.6.15/envs/profanity_detector/lib/python3.6/site-packages (from contextvars<3,>=2.4->thinc<8.1.0,>=8.0.12->spacy<3.3.0,>=3.2.0->en-core-web-sm==3.2.0) (0.16)\n",
      "\u001b[38;5;2m✔ Download and installation successful\u001b[0m\n",
      "You can now load the package via spacy.load('en_core_web_sm')\n"
     ]
    }
   ],
   "source": [
    "! python -m spacy download en_core_web_sm"
   ]
  },
  {
   "cell_type": "markdown",
   "id": "33982f80",
   "metadata": {},
   "source": [
    "# Location tagger"
   ]
  },
  {
   "cell_type": "code",
   "execution_count": 11,
   "id": "f0313c34",
   "metadata": {},
   "outputs": [],
   "source": [
    "movie_meta, quotes_df, reviews_df, locations_df = movie_data('lord of the rings')"
   ]
  },
  {
   "cell_type": "code",
   "execution_count": 12,
   "id": "5aff8de0",
   "metadata": {},
   "outputs": [],
   "source": [
    "location = locations_df['locations'][2]"
   ]
  },
  {
   "cell_type": "code",
   "execution_count": 13,
   "id": "07db24ea",
   "metadata": {
    "scrolled": true
   },
   "outputs": [
    {
     "data": {
      "text/plain": [
       "'Kaitoke Regional Park, Wellington Region, New Zealand::(Rivendell) (River Anduin)'"
      ]
     },
     "execution_count": 13,
     "metadata": {},
     "output_type": "execute_result"
    }
   ],
   "source": [
    "location"
   ]
  },
  {
   "cell_type": "markdown",
   "id": "6fdbb3bb",
   "metadata": {
    "heading_collapsed": true
   },
   "source": [
    "# preparing the data"
   ]
  },
  {
   "cell_type": "code",
   "execution_count": 14,
   "id": "ff93f7d4",
   "metadata": {
    "hidden": true
   },
   "outputs": [],
   "source": [
    "def get_movie_location(location):\n",
    "    if '::' in location:\n",
    "        splitlist = location.split('::')\n",
    "        movie_location = splitlist[1]\n",
    "            \n",
    "    else:\n",
    "        movie_location = ''\n",
    "           \n",
    "    return movie_location"
   ]
  },
  {
   "cell_type": "code",
   "execution_count": 15,
   "id": "2323bf02",
   "metadata": {
    "hidden": true
   },
   "outputs": [],
   "source": [
    "def get_set_location(location):\n",
    "    if '::' in location:\n",
    "        splitlist = location.split('::')\n",
    "        set_location = splitlist[0]\n",
    "    \n",
    "    else:\n",
    "        set_location = location\n",
    "    \n",
    "    \n",
    "    return set_location "
   ]
  },
  {
   "cell_type": "code",
   "execution_count": null,
   "id": "36a0f68e",
   "metadata": {
    "hidden": true
   },
   "outputs": [],
   "source": [
    "locations_df['movie_location'] = locations_df.apply(lambda x: get_movie_location(x['locations']),\n",
    "                                                                     axis=1 )"
   ]
  },
  {
   "cell_type": "code",
   "execution_count": null,
   "id": "918f8daa",
   "metadata": {
    "hidden": true
   },
   "outputs": [],
   "source": [
    "locations_df['set_location'] = locations_df.apply(lambda x: get_set_location(x['locations']),\n",
    "                                                                     axis=1 )"
   ]
  },
  {
   "cell_type": "code",
   "execution_count": null,
   "id": "8ef25c85",
   "metadata": {
    "hidden": true
   },
   "outputs": [],
   "source": [
    "locations_df"
   ]
  },
  {
   "cell_type": "code",
   "execution_count": null,
   "id": "05c4f20b",
   "metadata": {
    "hidden": true
   },
   "outputs": [],
   "source": [
    "locations_df['set_location'][2]"
   ]
  },
  {
   "cell_type": "markdown",
   "id": "4979566b",
   "metadata": {
    "heading_collapsed": true
   },
   "source": [
    "# geograpy"
   ]
  },
  {
   "cell_type": "code",
   "execution_count": null,
   "id": "bd4efaf2",
   "metadata": {
    "hidden": true,
    "hide_input": false
   },
   "outputs": [],
   "source": [
    "! geograpy-nltk"
   ]
  },
  {
   "cell_type": "markdown",
   "id": "049fe87f",
   "metadata": {
    "hidden": true
   },
   "source": [
    "value_when_true if condition, else value_when_false"
   ]
  },
  {
   "cell_type": "code",
   "execution_count": null,
   "id": "20ad1f41",
   "metadata": {
    "hidden": true
   },
   "outputs": [],
   "source": [
    "loc_list = list(locations_df['set_location'])"
   ]
  },
  {
   "cell_type": "code",
   "execution_count": null,
   "id": "190a9469",
   "metadata": {
    "hidden": true
   },
   "outputs": [],
   "source": [
    "loc_list"
   ]
  },
  {
   "cell_type": "code",
   "execution_count": null,
   "id": "2bc08525",
   "metadata": {
    "hidden": true
   },
   "outputs": [],
   "source": [
    "locations_df = locations_df.drop(['latitude','longitude'], axis=1)"
   ]
  },
  {
   "cell_type": "code",
   "execution_count": null,
   "id": "7a86dc2c",
   "metadata": {
    "hidden": true
   },
   "outputs": [],
   "source": [
    "locations_df"
   ]
  },
  {
   "cell_type": "code",
   "execution_count": null,
   "id": "17c08c1e",
   "metadata": {
    "hidden": true,
    "scrolled": true
   },
   "outputs": [],
   "source": [
    "for location in locations_df['set_location']:\n",
    "    print(location, get_coordinates(location))    "
   ]
  },
  {
   "cell_type": "code",
   "execution_count": null,
   "id": "92e30d5b",
   "metadata": {
    "hidden": true
   },
   "outputs": [],
   "source": [
    "loc = Nominatim(user_agent=\"profanity_detector\")"
   ]
  },
  {
   "cell_type": "code",
   "execution_count": null,
   "id": "dddf1ea1",
   "metadata": {
    "hidden": true
   },
   "outputs": [],
   "source": [
    "getLoc = loc.geocode('Lake Alta, The Remarkables, Nelson, South Island, New Zealand')\n",
    "\n",
    "getLoc is None"
   ]
  },
  {
   "cell_type": "code",
   "execution_count": null,
   "id": "3c67c0f9",
   "metadata": {
    "hidden": true
   },
   "outputs": [],
   "source": [
    "places = geograpy.get_place_context(text='Lake Alta, The Remarkables, Nelson, South Island, New Zealand')"
   ]
  },
  {
   "cell_type": "code",
   "execution_count": null,
   "id": "46103917",
   "metadata": {
    "hidden": true,
    "scrolled": true
   },
   "outputs": [],
   "source": [
    "places.__dict__"
   ]
  },
  {
   "cell_type": "code",
   "execution_count": null,
   "id": "8d3ae7f5",
   "metadata": {
    "hidden": true
   },
   "outputs": [],
   "source": [
    "country = places.countries[0] if places.countries != [] else ''\n",
    "\n",
    "#extract region\n",
    "if places.regions != [] and places.regions[0] != places.countries[0]:\n",
    "    region = places.regions[0]  \n",
    "elif places.regions != [] and places.regions[0] == places.countries[0] and len(places.regions) > 1:\n",
    "     region = places.regions[1]\n",
    "else:\n",
    "    region = ''    \n",
    "\n",
    "#extract city\n",
    "city = places.cities[0] if places.cities != [] else ''\n",
    "\n",
    "#create alt_location string\n",
    "loc_parse = [city, region, country]\n",
    "place = []\n",
    "for l in loc_parse:\n",
    "    if l != '':\n",
    "        place.append(l) \n",
    "alt_location = ', '.join(place)"
   ]
  },
  {
   "cell_type": "code",
   "execution_count": null,
   "id": "351fd5ea",
   "metadata": {
    "hidden": true
   },
   "outputs": [],
   "source": [
    "alt_location"
   ]
  },
  {
   "cell_type": "code",
   "execution_count": null,
   "id": "f95ef164",
   "metadata": {
    "hidden": true
   },
   "outputs": [],
   "source": [
    "alt_list = alt_location.split(',')\n",
    "\n",
    "alt_list.remove(alt_list[0])\n",
    "\n",
    "alt_location = ', '.join(alt_list)\n",
    "\n",
    "alt_location"
   ]
  },
  {
   "cell_type": "code",
   "execution_count": null,
   "id": "972ea8e9",
   "metadata": {
    "hidden": true
   },
   "outputs": [],
   "source": [
    "getLoc2 = loc.geocode(' South Island,  New Zealand')\n",
    "\n",
    "getLoc2 is None"
   ]
  },
  {
   "cell_type": "code",
   "execution_count": null,
   "id": "ea6422f1",
   "metadata": {
    "hidden": true,
    "scrolled": true
   },
   "outputs": [],
   "source": [
    "getLoc2.raw"
   ]
  },
  {
   "cell_type": "code",
   "execution_count": null,
   "id": "20cc6964",
   "metadata": {
    "hidden": true
   },
   "outputs": [],
   "source": [
    "locations_df['country'] = locations_df.apply(lambda x: , axis=1)"
   ]
  },
  {
   "cell_type": "code",
   "execution_count": null,
   "id": "279f3e58",
   "metadata": {
    "hidden": true
   },
   "outputs": [],
   "source": [
    "def get_country_from_coordinates(latitude, longitude)\n",
    "    loc = Nominatim(user_agent=\"profanity_detector\")\n",
    "    reverse_location = loc.reverse([getLoc2.latitude, getLoc2.longitude])\n",
    "    country_name = reverse_location.raw['address']['country']\n",
    "    return country_name"
   ]
  },
  {
   "cell_type": "code",
   "execution_count": null,
   "id": "7f1a4c5e",
   "metadata": {
    "hidden": true
   },
   "outputs": [],
   "source": [
    "reverse_location = loc.reverse([getLoc2.latitude, getLoc2.longitude])"
   ]
  },
  {
   "cell_type": "code",
   "execution_count": null,
   "id": "198dd6f3",
   "metadata": {
    "hidden": true
   },
   "outputs": [],
   "source": [
    "reverse_location.raw['address']['country']"
   ]
  },
  {
   "cell_type": "code",
   "execution_count": null,
   "id": "e6f396be",
   "metadata": {
    "hidden": true
   },
   "outputs": [],
   "source": []
  },
  {
   "cell_type": "code",
   "execution_count": null,
   "id": "c03d1e74",
   "metadata": {
    "hidden": true
   },
   "outputs": [],
   "source": [
    "locations_df.iloc[:34,:]"
   ]
  },
  {
   "cell_type": "code",
   "execution_count": null,
   "id": "8bd4737b",
   "metadata": {
    "hidden": true,
    "scrolled": true
   },
   "outputs": [],
   "source": [
    "for location in locations_df['set_location'][0:34]:\n",
    "    print(location, get_coordinates(location)) "
   ]
  },
  {
   "cell_type": "code",
   "execution_count": null,
   "id": "0adef934",
   "metadata": {
    "hidden": true
   },
   "outputs": [],
   "source": [
    "location_df2['movie_location'] = location_df2.apply(lambda x: get_movie_location(x['locations']), axis=1)"
   ]
  },
  {
   "cell_type": "code",
   "execution_count": null,
   "id": "385cd2b8",
   "metadata": {
    "hidden": true
   },
   "outputs": [],
   "source": [
    "location_df2['set_location'] = location_df2.apply(lambda x: get_set_location(x['locations']), axis=1)"
   ]
  },
  {
   "cell_type": "code",
   "execution_count": null,
   "id": "993f0bc7",
   "metadata": {
    "hidden": true
   },
   "outputs": [],
   "source": []
  },
  {
   "cell_type": "code",
   "execution_count": null,
   "id": "4931f42f",
   "metadata": {
    "hidden": true
   },
   "outputs": [],
   "source": [
    "location_df2[['latitude','longitude']] = location_df2.apply(lambda x: get_coordinates(x['set_location']), axis=1, result_type='expand')"
   ]
  },
  {
   "cell_type": "code",
   "execution_count": null,
   "id": "e64b6035",
   "metadata": {
    "hidden": true
   },
   "outputs": [],
   "source": [
    "enrich_locations(locations_df)"
   ]
  },
  {
   "cell_type": "markdown",
   "id": "2aade541",
   "metadata": {},
   "source": [
    "# Folium"
   ]
  },
  {
   "cell_type": "code",
   "execution_count": 18,
   "id": "3f4ab2f2",
   "metadata": {
    "collapsed": true
   },
   "outputs": [
    {
     "data": {
      "text/html": [
       "<div>\n",
       "<style scoped>\n",
       "    .dataframe tbody tr th:only-of-type {\n",
       "        vertical-align: middle;\n",
       "    }\n",
       "\n",
       "    .dataframe tbody tr th {\n",
       "        vertical-align: top;\n",
       "    }\n",
       "\n",
       "    .dataframe thead th {\n",
       "        text-align: right;\n",
       "    }\n",
       "</style>\n",
       "<table border=\"1\" class=\"dataframe\">\n",
       "  <thead>\n",
       "    <tr style=\"text-align: right;\">\n",
       "      <th></th>\n",
       "      <th>locations</th>\n",
       "      <th>imdb_id</th>\n",
       "      <th>title</th>\n",
       "    </tr>\n",
       "  </thead>\n",
       "  <tbody>\n",
       "    <tr>\n",
       "      <th>0</th>\n",
       "      <td>Wellington, New Zealand::(Bree)</td>\n",
       "      <td>0120737</td>\n",
       "      <td>The Lord of the Rings: The Fellowship of the Ring</td>\n",
       "    </tr>\n",
       "    <tr>\n",
       "      <th>1</th>\n",
       "      <td>Hinuera Valley, Matamata, Waikato, New Zealand...</td>\n",
       "      <td>0120737</td>\n",
       "      <td>The Lord of the Rings: The Fellowship of the Ring</td>\n",
       "    </tr>\n",
       "    <tr>\n",
       "      <th>2</th>\n",
       "      <td>Kaitoke Regional Park, Wellington Region, New ...</td>\n",
       "      <td>0120737</td>\n",
       "      <td>The Lord of the Rings: The Fellowship of the Ring</td>\n",
       "    </tr>\n",
       "    <tr>\n",
       "      <th>3</th>\n",
       "      <td>Queenstown, Otago, New Zealand::(Ford of Bruin...</td>\n",
       "      <td>0120737</td>\n",
       "      <td>The Lord of the Rings: The Fellowship of the Ring</td>\n",
       "    </tr>\n",
       "    <tr>\n",
       "      <th>4</th>\n",
       "      <td>Milford Sound, Fiordland National Park, Southl...</td>\n",
       "      <td>0120737</td>\n",
       "      <td>The Lord of the Rings: The Fellowship of the Ring</td>\n",
       "    </tr>\n",
       "  </tbody>\n",
       "</table>\n",
       "</div>"
      ],
      "text/plain": [
       "                                           locations  imdb_id  \\\n",
       "0                    Wellington, New Zealand::(Bree)  0120737   \n",
       "1  Hinuera Valley, Matamata, Waikato, New Zealand...  0120737   \n",
       "2  Kaitoke Regional Park, Wellington Region, New ...  0120737   \n",
       "3  Queenstown, Otago, New Zealand::(Ford of Bruin...  0120737   \n",
       "4  Milford Sound, Fiordland National Park, Southl...  0120737   \n",
       "\n",
       "                                               title  \n",
       "0  The Lord of the Rings: The Fellowship of the Ring  \n",
       "1  The Lord of the Rings: The Fellowship of the Ring  \n",
       "2  The Lord of the Rings: The Fellowship of the Ring  \n",
       "3  The Lord of the Rings: The Fellowship of the Ring  \n",
       "4  The Lord of the Rings: The Fellowship of the Ring  "
      ]
     },
     "execution_count": 18,
     "metadata": {},
     "output_type": "execute_result"
    }
   ],
   "source": [
    "locations_df.head()"
   ]
  },
  {
   "cell_type": "code",
   "execution_count": 19,
   "id": "755d630e",
   "metadata": {
    "collapsed": true
   },
   "outputs": [
    {
     "name": "stderr",
     "output_type": "stream",
     "text": [
      "/home/tomershtein/code/atathana/profanity_detector/profanity_detector/geo_data.py:98: SettingWithCopyWarning: \n",
      "A value is trying to be set on a copy of a slice from a DataFrame.\n",
      "Try using .loc[row_indexer,col_indexer] = value instead\n",
      "\n",
      "See the caveats in the documentation: https://pandas.pydata.org/pandas-docs/stable/user_guide/indexing.html#returning-a-view-versus-a-copy\n",
      "  locations_df['movie_location'] = locations_df.apply(lambda x: get_movie_location(x['locations']), axis=1 )\n",
      "/home/tomershtein/code/atathana/profanity_detector/profanity_detector/geo_data.py:99: SettingWithCopyWarning: \n",
      "A value is trying to be set on a copy of a slice from a DataFrame.\n",
      "Try using .loc[row_indexer,col_indexer] = value instead\n",
      "\n",
      "See the caveats in the documentation: https://pandas.pydata.org/pandas-docs/stable/user_guide/indexing.html#returning-a-view-versus-a-copy\n",
      "  locations_df['set_location'] = locations_df.apply(lambda x: get_set_location(x['locations']), axis=1 )\n",
      "/home/tomershtein/.pyenv/versions/3.6.15/envs/profanity_detector/lib/python3.6/site-packages/pandas/core/frame.py:3069: SettingWithCopyWarning: \n",
      "A value is trying to be set on a copy of a slice from a DataFrame.\n",
      "Try using .loc[row_indexer,col_indexer] = value instead\n",
      "\n",
      "See the caveats in the documentation: https://pandas.pydata.org/pandas-docs/stable/user_guide/indexing.html#returning-a-view-versus-a-copy\n",
      "  self[k1] = value[k2]\n",
      "/home/tomershtein/code/atathana/profanity_detector/profanity_detector/geo_data.py:105: SettingWithCopyWarning: \n",
      "A value is trying to be set on a copy of a slice from a DataFrame.\n",
      "Try using .loc[row_indexer,col_indexer] = value instead\n",
      "\n",
      "See the caveats in the documentation: https://pandas.pydata.org/pandas-docs/stable/user_guide/indexing.html#returning-a-view-versus-a-copy\n",
      "  locations_df['country'] = locations_df.apply(lambda x: get_country_from_coordinates(x['latitude'], x['longitude']), axis=1)\n"
     ]
    }
   ],
   "source": [
    "locations_df = enrich_locations(locations_df)"
   ]
  },
  {
   "cell_type": "code",
   "execution_count": 20,
   "id": "f6e54823",
   "metadata": {
    "collapsed": true
   },
   "outputs": [
    {
     "data": {
      "text/html": [
       "<div>\n",
       "<style scoped>\n",
       "    .dataframe tbody tr th:only-of-type {\n",
       "        vertical-align: middle;\n",
       "    }\n",
       "\n",
       "    .dataframe tbody tr th {\n",
       "        vertical-align: top;\n",
       "    }\n",
       "\n",
       "    .dataframe thead th {\n",
       "        text-align: right;\n",
       "    }\n",
       "</style>\n",
       "<table border=\"1\" class=\"dataframe\">\n",
       "  <thead>\n",
       "    <tr style=\"text-align: right;\">\n",
       "      <th></th>\n",
       "      <th>locations</th>\n",
       "      <th>imdb_id</th>\n",
       "      <th>title</th>\n",
       "      <th>movie_location</th>\n",
       "      <th>set_location</th>\n",
       "      <th>latitude</th>\n",
       "      <th>longitude</th>\n",
       "      <th>country</th>\n",
       "    </tr>\n",
       "  </thead>\n",
       "  <tbody>\n",
       "    <tr>\n",
       "      <th>0</th>\n",
       "      <td>Wellington, New Zealand::(Bree)</td>\n",
       "      <td>0120737</td>\n",
       "      <td>The Lord of the Rings: The Fellowship of the Ring</td>\n",
       "      <td>(Bree)</td>\n",
       "      <td>Wellington, New Zealand</td>\n",
       "      <td>-41.288795</td>\n",
       "      <td>174.777211</td>\n",
       "      <td>New Zealand / Aotearoa</td>\n",
       "    </tr>\n",
       "    <tr>\n",
       "      <th>1</th>\n",
       "      <td>Hinuera Valley, Matamata, Waikato, New Zealand...</td>\n",
       "      <td>0120737</td>\n",
       "      <td>The Lord of the Rings: The Fellowship of the Ring</td>\n",
       "      <td>(Hobbiton)</td>\n",
       "      <td>Hinuera Valley, Matamata, Waikato, New Zealand</td>\n",
       "      <td>-37.774141</td>\n",
       "      <td>175.488374</td>\n",
       "      <td>New Zealand / Aotearoa</td>\n",
       "    </tr>\n",
       "    <tr>\n",
       "      <th>2</th>\n",
       "      <td>Kaitoke Regional Park, Wellington Region, New ...</td>\n",
       "      <td>0120737</td>\n",
       "      <td>The Lord of the Rings: The Fellowship of the Ring</td>\n",
       "      <td>(Rivendell) (River Anduin)</td>\n",
       "      <td>Kaitoke Regional Park, Wellington Region, New ...</td>\n",
       "      <td>-41.049588</td>\n",
       "      <td>175.179120</td>\n",
       "      <td>New Zealand / Aotearoa</td>\n",
       "    </tr>\n",
       "    <tr>\n",
       "      <th>3</th>\n",
       "      <td>Queenstown, Otago, New Zealand::(Ford of Bruin...</td>\n",
       "      <td>0120737</td>\n",
       "      <td>The Lord of the Rings: The Fellowship of the Ring</td>\n",
       "      <td>(Ford of Bruinen) (River Anduin) (Amon Hen)</td>\n",
       "      <td>Queenstown, Otago, New Zealand</td>\n",
       "      <td>-45.032192</td>\n",
       "      <td>168.661000</td>\n",
       "      <td>New Zealand / Aotearoa</td>\n",
       "    </tr>\n",
       "    <tr>\n",
       "      <th>4</th>\n",
       "      <td>Milford Sound, Fiordland National Park, Southl...</td>\n",
       "      <td>0120737</td>\n",
       "      <td>The Lord of the Rings: The Fellowship of the Ring</td>\n",
       "      <td></td>\n",
       "      <td>Milford Sound, Fiordland National Park, Southl...</td>\n",
       "      <td>-44.668546</td>\n",
       "      <td>167.928030</td>\n",
       "      <td>New Zealand / Aotearoa</td>\n",
       "    </tr>\n",
       "    <tr>\n",
       "      <th>5</th>\n",
       "      <td>Port Waikato, Waikato, New Zealand::(Weathertop)</td>\n",
       "      <td>0120737</td>\n",
       "      <td>The Lord of the Rings: The Fellowship of the Ring</td>\n",
       "      <td>(Weathertop)</td>\n",
       "      <td>Port Waikato, Waikato, New Zealand</td>\n",
       "      <td>-37.391326</td>\n",
       "      <td>174.717334</td>\n",
       "      <td>New Zealand / Aotearoa</td>\n",
       "    </tr>\n",
       "    <tr>\n",
       "      <th>6</th>\n",
       "      <td>Fernside, Featherston, Wairarapa, New Zealand:...</td>\n",
       "      <td>0120737</td>\n",
       "      <td>The Lord of the Rings: The Fellowship of the Ring</td>\n",
       "      <td>(Lothlorien)</td>\n",
       "      <td>Fernside, Featherston, Wairarapa, New Zealand</td>\n",
       "      <td>-41.088554</td>\n",
       "      <td>175.350573</td>\n",
       "      <td>New Zealand / Aotearoa</td>\n",
       "    </tr>\n",
       "    <tr>\n",
       "      <th>7</th>\n",
       "      <td>Rangipo Desert, Waiouru, Tongariro National Pa...</td>\n",
       "      <td>0120737</td>\n",
       "      <td>The Lord of the Rings: The Fellowship of the Ring</td>\n",
       "      <td></td>\n",
       "      <td>Rangipo Desert, Waiouru, Tongariro National Pa...</td>\n",
       "      <td>-39.477213</td>\n",
       "      <td>175.669775</td>\n",
       "      <td>New Zealand / Aotearoa</td>\n",
       "    </tr>\n",
       "    <tr>\n",
       "      <th>8</th>\n",
       "      <td>Rangitikei River, Manawatu-Wanganui, New Zeala...</td>\n",
       "      <td>0120737</td>\n",
       "      <td>The Lord of the Rings: The Fellowship of the Ring</td>\n",
       "      <td>(River Anduin)</td>\n",
       "      <td>Rangitikei River, Manawatu-Wanganui, New Zealand</td>\n",
       "      <td>-39.766520</td>\n",
       "      <td>175.815259</td>\n",
       "      <td>New Zealand / Aotearoa</td>\n",
       "    </tr>\n",
       "    <tr>\n",
       "      <th>9</th>\n",
       "      <td>Tongariro National Park, Central Plateau, New ...</td>\n",
       "      <td>0120737</td>\n",
       "      <td>The Lord of the Rings: The Fellowship of the Ring</td>\n",
       "      <td>(Mordor)</td>\n",
       "      <td>Tongariro National Park, Central Plateau, New ...</td>\n",
       "      <td>-39.172729</td>\n",
       "      <td>175.403727</td>\n",
       "      <td>New Zealand / Aotearoa</td>\n",
       "    </tr>\n",
       "    <tr>\n",
       "      <th>10</th>\n",
       "      <td>Lake Wakatipu, Queenstown, Otago, New Zealand:...</td>\n",
       "      <td>0120737</td>\n",
       "      <td>The Lord of the Rings: The Fellowship of the Ring</td>\n",
       "      <td>(Amon Hen)</td>\n",
       "      <td>Lake Wakatipu, Queenstown, Otago, New Zealand</td>\n",
       "      <td>-45.088804</td>\n",
       "      <td>168.521111</td>\n",
       "      <td>New Zealand / Aotearoa</td>\n",
       "    </tr>\n",
       "    <tr>\n",
       "      <th>11</th>\n",
       "      <td>Mavora Lakes, Southland, New Zealand::(Amon Hen)</td>\n",
       "      <td>0120737</td>\n",
       "      <td>The Lord of the Rings: The Fellowship of the Ring</td>\n",
       "      <td>(Amon Hen)</td>\n",
       "      <td>Mavora Lakes, Southland, New Zealand</td>\n",
       "      <td>-45.366530</td>\n",
       "      <td>168.118380</td>\n",
       "      <td>New Zealand / Aotearoa</td>\n",
       "    </tr>\n",
       "    <tr>\n",
       "      <th>12</th>\n",
       "      <td>Tarras, Wanaka, Otago, New Zealand::(Ford of B...</td>\n",
       "      <td>0120737</td>\n",
       "      <td>The Lord of the Rings: The Fellowship of the Ring</td>\n",
       "      <td>(Ford of Bruinen)</td>\n",
       "      <td>Tarras, Wanaka, Otago, New Zealand</td>\n",
       "      <td>-44.694169</td>\n",
       "      <td>169.136464</td>\n",
       "      <td>New Zealand / Aotearoa</td>\n",
       "    </tr>\n",
       "    <tr>\n",
       "      <th>13</th>\n",
       "      <td>Canterbury, New Zealand::(Edoras)</td>\n",
       "      <td>0120737</td>\n",
       "      <td>The Lord of the Rings: The Fellowship of the Ring</td>\n",
       "      <td>(Edoras)</td>\n",
       "      <td>Canterbury, New Zealand</td>\n",
       "      <td>-43.494176</td>\n",
       "      <td>171.809845</td>\n",
       "      <td>New Zealand / Aotearoa</td>\n",
       "    </tr>\n",
       "    <tr>\n",
       "      <th>14</th>\n",
       "      <td>Poet's Corner, Upper Hutt, Wellington, New Zea...</td>\n",
       "      <td>0120737</td>\n",
       "      <td>The Lord of the Rings: The Fellowship of the Ring</td>\n",
       "      <td>(River Anduin)</td>\n",
       "      <td>Poet's Corner, Upper Hutt, Wellington, New Zea...</td>\n",
       "      <td>-41.288795</td>\n",
       "      <td>174.777211</td>\n",
       "      <td>New Zealand / Aotearoa</td>\n",
       "    </tr>\n",
       "    <tr>\n",
       "      <th>15</th>\n",
       "      <td>South Island, New Zealand::(waterfalls scenes ...</td>\n",
       "      <td>0120737</td>\n",
       "      <td>The Lord of the Rings: The Fellowship of the Ring</td>\n",
       "      <td>(waterfalls scenes of Rivendell)</td>\n",
       "      <td>South Island, New Zealand</td>\n",
       "      <td>-43.586562</td>\n",
       "      <td>171.212329</td>\n",
       "      <td>New Zealand / Aotearoa</td>\n",
       "    </tr>\n",
       "    <tr>\n",
       "      <th>16</th>\n",
       "      <td>Harcourt Park, Upper Hutt, Wellington, New Zea...</td>\n",
       "      <td>0120737</td>\n",
       "      <td>The Lord of the Rings: The Fellowship of the Ring</td>\n",
       "      <td>(Gardens of Isengard)</td>\n",
       "      <td>Harcourt Park, Upper Hutt, Wellington, New Zea...</td>\n",
       "      <td>-41.101651</td>\n",
       "      <td>175.094273</td>\n",
       "      <td>New Zealand / Aotearoa</td>\n",
       "    </tr>\n",
       "    <tr>\n",
       "      <th>17</th>\n",
       "      <td>Upper Hutt, Wellington, New Zealand</td>\n",
       "      <td>0120737</td>\n",
       "      <td>The Lord of the Rings: The Fellowship of the Ring</td>\n",
       "      <td></td>\n",
       "      <td>Upper Hutt, Wellington, New Zealand</td>\n",
       "      <td>-41.124067</td>\n",
       "      <td>175.069959</td>\n",
       "      <td>New Zealand / Aotearoa</td>\n",
       "    </tr>\n",
       "    <tr>\n",
       "      <th>18</th>\n",
       "      <td>Camperdown Studios, Camperdown Road, Miramar, ...</td>\n",
       "      <td>0120737</td>\n",
       "      <td>The Lord of the Rings: The Fellowship of the Ring</td>\n",
       "      <td>(studio)</td>\n",
       "      <td>Camperdown Studios, Camperdown Road, Miramar, ...</td>\n",
       "      <td>-41.306180</td>\n",
       "      <td>174.823620</td>\n",
       "      <td>New Zealand / Aotearoa</td>\n",
       "    </tr>\n",
       "    <tr>\n",
       "      <th>19</th>\n",
       "      <td>Twizel, Canterbury, New Zealand</td>\n",
       "      <td>0120737</td>\n",
       "      <td>The Lord of the Rings: The Fellowship of the Ring</td>\n",
       "      <td></td>\n",
       "      <td>Twizel, Canterbury, New Zealand</td>\n",
       "      <td>-44.257483</td>\n",
       "      <td>170.099414</td>\n",
       "      <td>New Zealand / Aotearoa</td>\n",
       "    </tr>\n",
       "    <tr>\n",
       "      <th>20</th>\n",
       "      <td>Arrowtown Recreational Reserve, Arrowtown, Ota...</td>\n",
       "      <td>0120737</td>\n",
       "      <td>The Lord of the Rings: The Fellowship of the Ring</td>\n",
       "      <td>(Ford of Bruinen)</td>\n",
       "      <td>Arrowtown Recreational Reserve, Arrowtown, Ota...</td>\n",
       "      <td>-44.940563</td>\n",
       "      <td>168.835076</td>\n",
       "      <td>New Zealand / Aotearoa</td>\n",
       "    </tr>\n",
       "    <tr>\n",
       "      <th>21</th>\n",
       "      <td>Paradise, Glenorchy, Otago, New Zealand::(Loth...</td>\n",
       "      <td>0120737</td>\n",
       "      <td>The Lord of the Rings: The Fellowship of the Ring</td>\n",
       "      <td>(Lothlorien) (Amon Hen)</td>\n",
       "      <td>Paradise, Glenorchy, Otago, New Zealand</td>\n",
       "      <td>-44.823184</td>\n",
       "      <td>168.398508</td>\n",
       "      <td>New Zealand / Aotearoa</td>\n",
       "    </tr>\n",
       "    <tr>\n",
       "      <th>22</th>\n",
       "      <td>Te Anau, Southland District, Southland, New Ze...</td>\n",
       "      <td>0120737</td>\n",
       "      <td>The Lord of the Rings: The Fellowship of the Ring</td>\n",
       "      <td>(the Fellowship's river journey)</td>\n",
       "      <td>Te Anau, Southland District, Southland, New Ze...</td>\n",
       "      <td>-45.414490</td>\n",
       "      <td>167.717489</td>\n",
       "      <td>New Zealand / Aotearoa</td>\n",
       "    </tr>\n",
       "    <tr>\n",
       "      <th>23</th>\n",
       "      <td>Lake Alta, The Remarkables, Nelson, South Isla...</td>\n",
       "      <td>0120737</td>\n",
       "      <td>The Lord of the Rings: The Fellowship of the Ring</td>\n",
       "      <td>(Dimrill Dale)</td>\n",
       "      <td>Lake Alta, The Remarkables, Nelson, South Isla...</td>\n",
       "      <td>-41.271085</td>\n",
       "      <td>173.283676</td>\n",
       "      <td>New Zealand / Aotearoa</td>\n",
       "    </tr>\n",
       "    <tr>\n",
       "      <th>24</th>\n",
       "      <td>Closeburn, Southern Lakes, South Island, New Z...</td>\n",
       "      <td>0120737</td>\n",
       "      <td>The Lord of the Rings: The Fellowship of the Ring</td>\n",
       "      <td>(Amon Hen)</td>\n",
       "      <td>Closeburn, Southern Lakes, South Island, New Z...</td>\n",
       "      <td>-43.586562</td>\n",
       "      <td>171.212329</td>\n",
       "      <td>New Zealand / Aotearoa</td>\n",
       "    </tr>\n",
       "    <tr>\n",
       "      <th>25</th>\n",
       "      <td>Abel Tasman National Park, South Island, Tasma...</td>\n",
       "      <td>0120737</td>\n",
       "      <td>The Lord of the Rings: The Fellowship of the Ring</td>\n",
       "      <td>(exteriors of Moria)</td>\n",
       "      <td>Abel Tasman National Park, South Island, Tasma...</td>\n",
       "      <td>-40.741107</td>\n",
       "      <td>175.117577</td>\n",
       "      <td>New Zealand / Aotearoa</td>\n",
       "    </tr>\n",
       "    <tr>\n",
       "      <th>26</th>\n",
       "      <td>Otaki Gorge Road, Kapiti Coast District, North...</td>\n",
       "      <td>0120737</td>\n",
       "      <td>The Lord of the Rings: The Fellowship of the Ring</td>\n",
       "      <td>(the Shire woods)</td>\n",
       "      <td>Otaki Gorge Road, Kapiti Coast District, North...</td>\n",
       "      <td>-38.003530</td>\n",
       "      <td>175.957853</td>\n",
       "      <td>New Zealand / Aotearoa</td>\n",
       "    </tr>\n",
       "    <tr>\n",
       "      <th>27</th>\n",
       "      <td>Takaka Hill, Nelson, South Island, New Zealand...</td>\n",
       "      <td>0120737</td>\n",
       "      <td>The Lord of the Rings: The Fellowship of the Ring</td>\n",
       "      <td>(forest near Bree)</td>\n",
       "      <td>Takaka Hill, Nelson, South Island, New Zealand</td>\n",
       "      <td>-41.271085</td>\n",
       "      <td>173.283676</td>\n",
       "      <td>New Zealand / Aotearoa</td>\n",
       "    </tr>\n",
       "    <tr>\n",
       "      <th>28</th>\n",
       "      <td>Kepler Mire, Te Anau, South Island, New Zealan...</td>\n",
       "      <td>0120737</td>\n",
       "      <td>The Lord of the Rings: The Fellowship of the Ring</td>\n",
       "      <td>(Dead Marshes)</td>\n",
       "      <td>Kepler Mire, Te Anau, South Island, New Zealand</td>\n",
       "      <td>-43.586562</td>\n",
       "      <td>171.212329</td>\n",
       "      <td>New Zealand / Aotearoa</td>\n",
       "    </tr>\n",
       "    <tr>\n",
       "      <th>29</th>\n",
       "      <td>Mount Owen, Tasman district, Nelson, South Isl...</td>\n",
       "      <td>0120737</td>\n",
       "      <td>The Lord of the Rings: The Fellowship of the Ring</td>\n",
       "      <td>(Dimrill Dale)</td>\n",
       "      <td>Mount Owen, Tasman district, Nelson, South Isl...</td>\n",
       "      <td>-42.041622</td>\n",
       "      <td>172.628664</td>\n",
       "      <td>New Zealand / Aotearoa</td>\n",
       "    </tr>\n",
       "    <tr>\n",
       "      <th>30</th>\n",
       "      <td>Paradise, Glenorchy, Otago, New Zealand::(Part...</td>\n",
       "      <td>0120737</td>\n",
       "      <td>The Lord of the Rings: The Fellowship of the Ring</td>\n",
       "      <td>(Parth Galen)</td>\n",
       "      <td>Paradise, Glenorchy, Otago, New Zealand</td>\n",
       "      <td>-44.823184</td>\n",
       "      <td>168.398508</td>\n",
       "      <td>New Zealand / Aotearoa</td>\n",
       "    </tr>\n",
       "    <tr>\n",
       "      <th>31</th>\n",
       "      <td>Fort Dorset, Miramar, Wellington, New Zealand:...</td>\n",
       "      <td>0120737</td>\n",
       "      <td>The Lord of the Rings: The Fellowship of the Ring</td>\n",
       "      <td>(Inn of the Prancing Pony's exteriors)</td>\n",
       "      <td>Fort Dorset, Miramar, Wellington, New Zealand</td>\n",
       "      <td>-41.288795</td>\n",
       "      <td>174.777211</td>\n",
       "      <td>New Zealand / Aotearoa</td>\n",
       "    </tr>\n",
       "    <tr>\n",
       "      <th>32</th>\n",
       "      <td>Hutt Valley, Wellington, New Zealand::(exterio...</td>\n",
       "      <td>0120737</td>\n",
       "      <td>The Lord of the Rings: The Fellowship of the Ring</td>\n",
       "      <td>(exteriors of Moria)</td>\n",
       "      <td>Hutt Valley, Wellington, New Zealand</td>\n",
       "      <td>-41.148543</td>\n",
       "      <td>174.991951</td>\n",
       "      <td>New Zealand / Aotearoa</td>\n",
       "    </tr>\n",
       "    <tr>\n",
       "      <th>33</th>\n",
       "      <td>Whakapapa Skifield, Mount Ruapehu, Tongariro N...</td>\n",
       "      <td>0120737</td>\n",
       "      <td>The Lord of the Rings: The Fellowship of the Ring</td>\n",
       "      <td>(Mordor prologue scene)</td>\n",
       "      <td>Whakapapa Skifield, Mount Ruapehu, Tongariro N...</td>\n",
       "      <td>-41.500083</td>\n",
       "      <td>172.834408</td>\n",
       "      <td>New Zealand / Aotearoa</td>\n",
       "    </tr>\n",
       "  </tbody>\n",
       "</table>\n",
       "</div>"
      ],
      "text/plain": [
       "                                            locations  imdb_id  \\\n",
       "0                     Wellington, New Zealand::(Bree)  0120737   \n",
       "1   Hinuera Valley, Matamata, Waikato, New Zealand...  0120737   \n",
       "2   Kaitoke Regional Park, Wellington Region, New ...  0120737   \n",
       "3   Queenstown, Otago, New Zealand::(Ford of Bruin...  0120737   \n",
       "4   Milford Sound, Fiordland National Park, Southl...  0120737   \n",
       "5    Port Waikato, Waikato, New Zealand::(Weathertop)  0120737   \n",
       "6   Fernside, Featherston, Wairarapa, New Zealand:...  0120737   \n",
       "7   Rangipo Desert, Waiouru, Tongariro National Pa...  0120737   \n",
       "8   Rangitikei River, Manawatu-Wanganui, New Zeala...  0120737   \n",
       "9   Tongariro National Park, Central Plateau, New ...  0120737   \n",
       "10  Lake Wakatipu, Queenstown, Otago, New Zealand:...  0120737   \n",
       "11   Mavora Lakes, Southland, New Zealand::(Amon Hen)  0120737   \n",
       "12  Tarras, Wanaka, Otago, New Zealand::(Ford of B...  0120737   \n",
       "13                  Canterbury, New Zealand::(Edoras)  0120737   \n",
       "14  Poet's Corner, Upper Hutt, Wellington, New Zea...  0120737   \n",
       "15  South Island, New Zealand::(waterfalls scenes ...  0120737   \n",
       "16  Harcourt Park, Upper Hutt, Wellington, New Zea...  0120737   \n",
       "17                Upper Hutt, Wellington, New Zealand  0120737   \n",
       "18  Camperdown Studios, Camperdown Road, Miramar, ...  0120737   \n",
       "19                    Twizel, Canterbury, New Zealand  0120737   \n",
       "20  Arrowtown Recreational Reserve, Arrowtown, Ota...  0120737   \n",
       "21  Paradise, Glenorchy, Otago, New Zealand::(Loth...  0120737   \n",
       "22  Te Anau, Southland District, Southland, New Ze...  0120737   \n",
       "23  Lake Alta, The Remarkables, Nelson, South Isla...  0120737   \n",
       "24  Closeburn, Southern Lakes, South Island, New Z...  0120737   \n",
       "25  Abel Tasman National Park, South Island, Tasma...  0120737   \n",
       "26  Otaki Gorge Road, Kapiti Coast District, North...  0120737   \n",
       "27  Takaka Hill, Nelson, South Island, New Zealand...  0120737   \n",
       "28  Kepler Mire, Te Anau, South Island, New Zealan...  0120737   \n",
       "29  Mount Owen, Tasman district, Nelson, South Isl...  0120737   \n",
       "30  Paradise, Glenorchy, Otago, New Zealand::(Part...  0120737   \n",
       "31  Fort Dorset, Miramar, Wellington, New Zealand:...  0120737   \n",
       "32  Hutt Valley, Wellington, New Zealand::(exterio...  0120737   \n",
       "33  Whakapapa Skifield, Mount Ruapehu, Tongariro N...  0120737   \n",
       "\n",
       "                                                title  \\\n",
       "0   The Lord of the Rings: The Fellowship of the Ring   \n",
       "1   The Lord of the Rings: The Fellowship of the Ring   \n",
       "2   The Lord of the Rings: The Fellowship of the Ring   \n",
       "3   The Lord of the Rings: The Fellowship of the Ring   \n",
       "4   The Lord of the Rings: The Fellowship of the Ring   \n",
       "5   The Lord of the Rings: The Fellowship of the Ring   \n",
       "6   The Lord of the Rings: The Fellowship of the Ring   \n",
       "7   The Lord of the Rings: The Fellowship of the Ring   \n",
       "8   The Lord of the Rings: The Fellowship of the Ring   \n",
       "9   The Lord of the Rings: The Fellowship of the Ring   \n",
       "10  The Lord of the Rings: The Fellowship of the Ring   \n",
       "11  The Lord of the Rings: The Fellowship of the Ring   \n",
       "12  The Lord of the Rings: The Fellowship of the Ring   \n",
       "13  The Lord of the Rings: The Fellowship of the Ring   \n",
       "14  The Lord of the Rings: The Fellowship of the Ring   \n",
       "15  The Lord of the Rings: The Fellowship of the Ring   \n",
       "16  The Lord of the Rings: The Fellowship of the Ring   \n",
       "17  The Lord of the Rings: The Fellowship of the Ring   \n",
       "18  The Lord of the Rings: The Fellowship of the Ring   \n",
       "19  The Lord of the Rings: The Fellowship of the Ring   \n",
       "20  The Lord of the Rings: The Fellowship of the Ring   \n",
       "21  The Lord of the Rings: The Fellowship of the Ring   \n",
       "22  The Lord of the Rings: The Fellowship of the Ring   \n",
       "23  The Lord of the Rings: The Fellowship of the Ring   \n",
       "24  The Lord of the Rings: The Fellowship of the Ring   \n",
       "25  The Lord of the Rings: The Fellowship of the Ring   \n",
       "26  The Lord of the Rings: The Fellowship of the Ring   \n",
       "27  The Lord of the Rings: The Fellowship of the Ring   \n",
       "28  The Lord of the Rings: The Fellowship of the Ring   \n",
       "29  The Lord of the Rings: The Fellowship of the Ring   \n",
       "30  The Lord of the Rings: The Fellowship of the Ring   \n",
       "31  The Lord of the Rings: The Fellowship of the Ring   \n",
       "32  The Lord of the Rings: The Fellowship of the Ring   \n",
       "33  The Lord of the Rings: The Fellowship of the Ring   \n",
       "\n",
       "                                 movie_location  \\\n",
       "0                                        (Bree)   \n",
       "1                                    (Hobbiton)   \n",
       "2                    (Rivendell) (River Anduin)   \n",
       "3   (Ford of Bruinen) (River Anduin) (Amon Hen)   \n",
       "4                                                 \n",
       "5                                  (Weathertop)   \n",
       "6                                  (Lothlorien)   \n",
       "7                                                 \n",
       "8                                (River Anduin)   \n",
       "9                                      (Mordor)   \n",
       "10                                   (Amon Hen)   \n",
       "11                                   (Amon Hen)   \n",
       "12                            (Ford of Bruinen)   \n",
       "13                                     (Edoras)   \n",
       "14                               (River Anduin)   \n",
       "15             (waterfalls scenes of Rivendell)   \n",
       "16                        (Gardens of Isengard)   \n",
       "17                                                \n",
       "18                                     (studio)   \n",
       "19                                                \n",
       "20                            (Ford of Bruinen)   \n",
       "21                      (Lothlorien) (Amon Hen)   \n",
       "22             (the Fellowship's river journey)   \n",
       "23                               (Dimrill Dale)   \n",
       "24                                   (Amon Hen)   \n",
       "25                         (exteriors of Moria)   \n",
       "26                            (the Shire woods)   \n",
       "27                           (forest near Bree)   \n",
       "28                               (Dead Marshes)   \n",
       "29                               (Dimrill Dale)   \n",
       "30                                (Parth Galen)   \n",
       "31       (Inn of the Prancing Pony's exteriors)   \n",
       "32                         (exteriors of Moria)   \n",
       "33                      (Mordor prologue scene)   \n",
       "\n",
       "                                         set_location   latitude   longitude  \\\n",
       "0                             Wellington, New Zealand -41.288795  174.777211   \n",
       "1      Hinuera Valley, Matamata, Waikato, New Zealand -37.774141  175.488374   \n",
       "2   Kaitoke Regional Park, Wellington Region, New ... -41.049588  175.179120   \n",
       "3                      Queenstown, Otago, New Zealand -45.032192  168.661000   \n",
       "4   Milford Sound, Fiordland National Park, Southl... -44.668546  167.928030   \n",
       "5                  Port Waikato, Waikato, New Zealand -37.391326  174.717334   \n",
       "6       Fernside, Featherston, Wairarapa, New Zealand -41.088554  175.350573   \n",
       "7   Rangipo Desert, Waiouru, Tongariro National Pa... -39.477213  175.669775   \n",
       "8    Rangitikei River, Manawatu-Wanganui, New Zealand -39.766520  175.815259   \n",
       "9   Tongariro National Park, Central Plateau, New ... -39.172729  175.403727   \n",
       "10      Lake Wakatipu, Queenstown, Otago, New Zealand -45.088804  168.521111   \n",
       "11               Mavora Lakes, Southland, New Zealand -45.366530  168.118380   \n",
       "12                 Tarras, Wanaka, Otago, New Zealand -44.694169  169.136464   \n",
       "13                            Canterbury, New Zealand -43.494176  171.809845   \n",
       "14  Poet's Corner, Upper Hutt, Wellington, New Zea... -41.288795  174.777211   \n",
       "15                          South Island, New Zealand -43.586562  171.212329   \n",
       "16  Harcourt Park, Upper Hutt, Wellington, New Zea... -41.101651  175.094273   \n",
       "17                Upper Hutt, Wellington, New Zealand -41.124067  175.069959   \n",
       "18  Camperdown Studios, Camperdown Road, Miramar, ... -41.306180  174.823620   \n",
       "19                    Twizel, Canterbury, New Zealand -44.257483  170.099414   \n",
       "20  Arrowtown Recreational Reserve, Arrowtown, Ota... -44.940563  168.835076   \n",
       "21            Paradise, Glenorchy, Otago, New Zealand -44.823184  168.398508   \n",
       "22  Te Anau, Southland District, Southland, New Ze... -45.414490  167.717489   \n",
       "23  Lake Alta, The Remarkables, Nelson, South Isla... -41.271085  173.283676   \n",
       "24  Closeburn, Southern Lakes, South Island, New Z... -43.586562  171.212329   \n",
       "25  Abel Tasman National Park, South Island, Tasma... -40.741107  175.117577   \n",
       "26  Otaki Gorge Road, Kapiti Coast District, North... -38.003530  175.957853   \n",
       "27     Takaka Hill, Nelson, South Island, New Zealand -41.271085  173.283676   \n",
       "28    Kepler Mire, Te Anau, South Island, New Zealand -43.586562  171.212329   \n",
       "29  Mount Owen, Tasman district, Nelson, South Isl... -42.041622  172.628664   \n",
       "30            Paradise, Glenorchy, Otago, New Zealand -44.823184  168.398508   \n",
       "31      Fort Dorset, Miramar, Wellington, New Zealand -41.288795  174.777211   \n",
       "32               Hutt Valley, Wellington, New Zealand -41.148543  174.991951   \n",
       "33  Whakapapa Skifield, Mount Ruapehu, Tongariro N... -41.500083  172.834408   \n",
       "\n",
       "                   country  \n",
       "0   New Zealand / Aotearoa  \n",
       "1   New Zealand / Aotearoa  \n",
       "2   New Zealand / Aotearoa  \n",
       "3   New Zealand / Aotearoa  \n",
       "4   New Zealand / Aotearoa  \n",
       "5   New Zealand / Aotearoa  \n",
       "6   New Zealand / Aotearoa  \n",
       "7   New Zealand / Aotearoa  \n",
       "8   New Zealand / Aotearoa  \n",
       "9   New Zealand / Aotearoa  \n",
       "10  New Zealand / Aotearoa  \n",
       "11  New Zealand / Aotearoa  \n",
       "12  New Zealand / Aotearoa  \n",
       "13  New Zealand / Aotearoa  \n",
       "14  New Zealand / Aotearoa  \n",
       "15  New Zealand / Aotearoa  \n",
       "16  New Zealand / Aotearoa  \n",
       "17  New Zealand / Aotearoa  \n",
       "18  New Zealand / Aotearoa  \n",
       "19  New Zealand / Aotearoa  \n",
       "20  New Zealand / Aotearoa  \n",
       "21  New Zealand / Aotearoa  \n",
       "22  New Zealand / Aotearoa  \n",
       "23  New Zealand / Aotearoa  \n",
       "24  New Zealand / Aotearoa  \n",
       "25  New Zealand / Aotearoa  \n",
       "26  New Zealand / Aotearoa  \n",
       "27  New Zealand / Aotearoa  \n",
       "28  New Zealand / Aotearoa  \n",
       "29  New Zealand / Aotearoa  \n",
       "30  New Zealand / Aotearoa  \n",
       "31  New Zealand / Aotearoa  \n",
       "32  New Zealand / Aotearoa  \n",
       "33  New Zealand / Aotearoa  "
      ]
     },
     "execution_count": 20,
     "metadata": {},
     "output_type": "execute_result"
    }
   ],
   "source": [
    "locations_df"
   ]
  },
  {
   "cell_type": "code",
   "execution_count": null,
   "id": "8452df81",
   "metadata": {},
   "outputs": [],
   "source": [
    "locations_df[['latitude', 'longitude']]"
   ]
  },
  {
   "cell_type": "code",
   "execution_count": 21,
   "id": "3eabac63",
   "metadata": {},
   "outputs": [
    {
     "data": {
      "text/plain": [
       "latitude     -42.131130\n",
       "longitude    172.538302\n",
       "dtype: float64"
      ]
     },
     "execution_count": 21,
     "metadata": {},
     "output_type": "execute_result"
    }
   ],
   "source": [
    "locations_df[['latitude', 'longitude']].mean()"
   ]
  },
  {
   "cell_type": "code",
   "execution_count": 22,
   "id": "bde06512",
   "metadata": {
    "scrolled": true
   },
   "outputs": [
    {
     "data": {
      "text/html": [
       "<div>\n",
       "<style scoped>\n",
       "    .dataframe tbody tr th:only-of-type {\n",
       "        vertical-align: middle;\n",
       "    }\n",
       "\n",
       "    .dataframe tbody tr th {\n",
       "        vertical-align: top;\n",
       "    }\n",
       "\n",
       "    .dataframe thead th {\n",
       "        text-align: right;\n",
       "    }\n",
       "</style>\n",
       "<table border=\"1\" class=\"dataframe\">\n",
       "  <thead>\n",
       "    <tr style=\"text-align: right;\">\n",
       "      <th></th>\n",
       "      <th>locations</th>\n",
       "      <th>imdb_id</th>\n",
       "      <th>title</th>\n",
       "      <th>movie_location</th>\n",
       "      <th>set_location</th>\n",
       "      <th>latitude</th>\n",
       "      <th>longitude</th>\n",
       "      <th>country</th>\n",
       "    </tr>\n",
       "  </thead>\n",
       "  <tbody>\n",
       "    <tr>\n",
       "      <th>0</th>\n",
       "      <td>Wellington, New Zealand::(Bree)</td>\n",
       "      <td>0120737</td>\n",
       "      <td>The Lord of the Rings: The Fellowship of the Ring</td>\n",
       "      <td>(Bree)</td>\n",
       "      <td>Wellington, New Zealand</td>\n",
       "      <td>-41.288795</td>\n",
       "      <td>174.777211</td>\n",
       "      <td>New Zealand / Aotearoa</td>\n",
       "    </tr>\n",
       "  </tbody>\n",
       "</table>\n",
       "</div>"
      ],
      "text/plain": [
       "                         locations  imdb_id  \\\n",
       "0  Wellington, New Zealand::(Bree)  0120737   \n",
       "\n",
       "                                               title movie_location  \\\n",
       "0  The Lord of the Rings: The Fellowship of the Ring         (Bree)   \n",
       "\n",
       "              set_location   latitude   longitude                 country  \n",
       "0  Wellington, New Zealand -41.288795  174.777211  New Zealand / Aotearoa  "
      ]
     },
     "execution_count": 22,
     "metadata": {},
     "output_type": "execute_result"
    }
   ],
   "source": [
    "locations_df.iloc[:1,:]"
   ]
  },
  {
   "cell_type": "code",
   "execution_count": 37,
   "id": "b79d7ee4",
   "metadata": {},
   "outputs": [],
   "source": [
    "def remove_parantheses(text):\n",
    "    text = text.replace('(','')\n",
    "    text = text.replace(')','')\n",
    "    return text"
   ]
  },
  {
   "cell_type": "code",
   "execution_count": null,
   "id": "d63019f0",
   "metadata": {},
   "outputs": [],
   "source": [
    "locations_df = enrich_locations(locations_df)"
   ]
  },
  {
   "cell_type": "code",
   "execution_count": 175,
   "id": "eddb05e1",
   "metadata": {},
   "outputs": [],
   "source": [
    "def plot_location_map(locations_df):\n",
    "    \n",
    "    #cleaning scene name strings\n",
    "    locations_df['movie_location'] = locations_df.apply(lambda x: remove_parantheses(x['movie_location']), axis =1)\n",
    "    \n",
    "    \n",
    "    #calculate optimal map start_location\n",
    "    max_country = locations_df.groupby(['country']).count()['locations'].idxmax()\n",
    "    \n",
    "    min_latitude = locations_df['latitude'][locations_df['country'] == max_country].quantile(0.10)\n",
    "    max_latitude = locations_df['latitude'][locations_df['country'] == max_country].quantile(0.90)\n",
    "    min_longitude = locations_df['longitude'][locations_df['country'] == max_country].quantile(0.10)\n",
    "    max_longitude = locations_df['longitude'][locations_df['country'] == max_country].quantile(0.90)\n",
    "    \n",
    "    start_location = locations_df[['latitude', 'longitude']][(locations_df['country'] == max_country) & (locations_df['latitude'].between(min_latitude,max_latitude)) & (locations_df['longitude'].between(min_longitude,max_longitude))].drop_duplicates().mean()\n",
    "    \n",
    "    #crate df of coordinates  and list of location names\n",
    "    \n",
    "    locations = locations_df[['latitude', 'longitude']]\n",
    "    locationlist = locations.values.tolist()\n",
    "    \n",
    "    #plotting map\n",
    "    map = folium.Map(location=start_location, zoom_start=9)\n",
    "    for point in range(0, len(locations_df['latitude'])):\n",
    "        folium.Marker(locationlist[point], popup=locations_df['movie_location'][point]).add_to(map)\n",
    "    \n",
    "    sw = [min_latitude,min_longitude]\n",
    "    ne = [max_latitude,max_longitude]\n",
    "    map.fit_bounds([sw, ne])\n",
    "    \n",
    "    \n",
    "    return map"
   ]
  },
  {
   "cell_type": "code",
   "execution_count": 124,
   "id": "b1b4dc2a",
   "metadata": {},
   "outputs": [
    {
     "data": {
      "text/plain": [
       "-33.869503225"
      ]
     },
     "execution_count": 124,
     "metadata": {},
     "output_type": "execute_result"
    }
   ],
   "source": [
    "locations_df2['latitude'][locations_df2['country'] == max_country].quantile(0.25)"
   ]
  },
  {
   "cell_type": "code",
   "execution_count": 128,
   "id": "1d033639",
   "metadata": {
    "scrolled": false
   },
   "outputs": [
    {
     "data": {
      "text/plain": [
       "-33.8548157"
      ]
     },
     "execution_count": 128,
     "metadata": {},
     "output_type": "execute_result"
    }
   ],
   "source": [
    "locations_df2['latitude'][locations_df2['country'] == max_country].quantile(0.75)"
   ]
  },
  {
   "cell_type": "code",
   "execution_count": 126,
   "id": "475ddee2",
   "metadata": {},
   "outputs": [
    {
     "data": {
      "text/plain": [
       "'Australia'"
      ]
     },
     "execution_count": 126,
     "metadata": {},
     "output_type": "execute_result"
    }
   ],
   "source": [
    "max_country"
   ]
  },
  {
   "cell_type": "code",
   "execution_count": 125,
   "id": "bb4122f0",
   "metadata": {},
   "outputs": [
    {
     "data": {
      "text/plain": [
       "0     36.162277\n",
       "1    -33.854816\n",
       "2    -33.893104\n",
       "3     37.779026\n",
       "4    -33.854816\n",
       "5    -33.854816\n",
       "6    -33.854816\n",
       "7    -33.890961\n",
       "8    -33.854816\n",
       "9    -33.863762\n",
       "10   -33.854816\n",
       "11   -33.854816\n",
       "12   -33.857390\n",
       "13   -33.864500\n",
       "14   -33.900276\n",
       "15   -33.854816\n",
       "16   -33.854816\n",
       "17   -33.854816\n",
       "18   -31.875984\n",
       "19   -33.884512\n",
       "20   -33.854816\n",
       "21   -33.886329\n",
       "Name: latitude, dtype: float64"
      ]
     },
     "execution_count": 125,
     "metadata": {},
     "output_type": "execute_result"
    }
   ],
   "source": [
    "locations_df2['latitude']"
   ]
  },
  {
   "cell_type": "code",
   "execution_count": 44,
   "id": "cce1441d",
   "metadata": {
    "collapsed": true
   },
   "outputs": [
    {
     "data": {
      "text/html": [
       "<div style=\"width:100%;\"><div style=\"position:relative;width:100%;height:0;padding-bottom:60%;\"><span style=\"color:#565656\">Make this Notebook Trusted to load map: File -> Trust Notebook</span><iframe src=\"about:blank\" style=\"position:absolute;width:100%;height:100%;left:0;top:0;border:none !important;\" data-html=%3C%21DOCTYPE%20html%3E%0A%3Chead%3E%20%20%20%20%0A%20%20%20%20%3Cmeta%20http-equiv%3D%22content-type%22%20content%3D%22text/html%3B%20charset%3DUTF-8%22%20/%3E%0A%20%20%20%20%0A%20%20%20%20%20%20%20%20%3Cscript%3E%0A%20%20%20%20%20%20%20%20%20%20%20%20L_NO_TOUCH%20%3D%20false%3B%0A%20%20%20%20%20%20%20%20%20%20%20%20L_DISABLE_3D%20%3D%20false%3B%0A%20%20%20%20%20%20%20%20%3C/script%3E%0A%20%20%20%20%0A%20%20%20%20%3Cstyle%3Ehtml%2C%20body%20%7Bwidth%3A%20100%25%3Bheight%3A%20100%25%3Bmargin%3A%200%3Bpadding%3A%200%3B%7D%3C/style%3E%0A%20%20%20%20%3Cstyle%3E%23map%20%7Bposition%3Aabsolute%3Btop%3A0%3Bbottom%3A0%3Bright%3A0%3Bleft%3A0%3B%7D%3C/style%3E%0A%20%20%20%20%3Cscript%20src%3D%22https%3A//cdn.jsdelivr.net/npm/leaflet%401.6.0/dist/leaflet.js%22%3E%3C/script%3E%0A%20%20%20%20%3Cscript%20src%3D%22https%3A//code.jquery.com/jquery-1.12.4.min.js%22%3E%3C/script%3E%0A%20%20%20%20%3Cscript%20src%3D%22https%3A//maxcdn.bootstrapcdn.com/bootstrap/3.2.0/js/bootstrap.min.js%22%3E%3C/script%3E%0A%20%20%20%20%3Cscript%20src%3D%22https%3A//cdnjs.cloudflare.com/ajax/libs/Leaflet.awesome-markers/2.0.2/leaflet.awesome-markers.js%22%3E%3C/script%3E%0A%20%20%20%20%3Clink%20rel%3D%22stylesheet%22%20href%3D%22https%3A//cdn.jsdelivr.net/npm/leaflet%401.6.0/dist/leaflet.css%22/%3E%0A%20%20%20%20%3Clink%20rel%3D%22stylesheet%22%20href%3D%22https%3A//maxcdn.bootstrapcdn.com/bootstrap/3.2.0/css/bootstrap.min.css%22/%3E%0A%20%20%20%20%3Clink%20rel%3D%22stylesheet%22%20href%3D%22https%3A//maxcdn.bootstrapcdn.com/bootstrap/3.2.0/css/bootstrap-theme.min.css%22/%3E%0A%20%20%20%20%3Clink%20rel%3D%22stylesheet%22%20href%3D%22https%3A//maxcdn.bootstrapcdn.com/font-awesome/4.6.3/css/font-awesome.min.css%22/%3E%0A%20%20%20%20%3Clink%20rel%3D%22stylesheet%22%20href%3D%22https%3A//cdnjs.cloudflare.com/ajax/libs/Leaflet.awesome-markers/2.0.2/leaflet.awesome-markers.css%22/%3E%0A%20%20%20%20%3Clink%20rel%3D%22stylesheet%22%20href%3D%22https%3A//cdn.jsdelivr.net/gh/python-visualization/folium/folium/templates/leaflet.awesome.rotate.min.css%22/%3E%0A%20%20%20%20%0A%20%20%20%20%20%20%20%20%20%20%20%20%3Cmeta%20name%3D%22viewport%22%20content%3D%22width%3Ddevice-width%2C%0A%20%20%20%20%20%20%20%20%20%20%20%20%20%20%20%20initial-scale%3D1.0%2C%20maximum-scale%3D1.0%2C%20user-scalable%3Dno%22%20/%3E%0A%20%20%20%20%20%20%20%20%20%20%20%20%3Cstyle%3E%0A%20%20%20%20%20%20%20%20%20%20%20%20%20%20%20%20%23map_e6fd11d9215f49c1a011e3787eb7b42a%20%7B%0A%20%20%20%20%20%20%20%20%20%20%20%20%20%20%20%20%20%20%20%20position%3A%20relative%3B%0A%20%20%20%20%20%20%20%20%20%20%20%20%20%20%20%20%20%20%20%20width%3A%20100.0%25%3B%0A%20%20%20%20%20%20%20%20%20%20%20%20%20%20%20%20%20%20%20%20height%3A%20100.0%25%3B%0A%20%20%20%20%20%20%20%20%20%20%20%20%20%20%20%20%20%20%20%20left%3A%200.0%25%3B%0A%20%20%20%20%20%20%20%20%20%20%20%20%20%20%20%20%20%20%20%20top%3A%200.0%25%3B%0A%20%20%20%20%20%20%20%20%20%20%20%20%20%20%20%20%7D%0A%20%20%20%20%20%20%20%20%20%20%20%20%3C/style%3E%0A%20%20%20%20%20%20%20%20%0A%3C/head%3E%0A%3Cbody%3E%20%20%20%20%0A%20%20%20%20%0A%20%20%20%20%20%20%20%20%20%20%20%20%3Cdiv%20class%3D%22folium-map%22%20id%3D%22map_e6fd11d9215f49c1a011e3787eb7b42a%22%20%3E%3C/div%3E%0A%20%20%20%20%20%20%20%20%0A%3C/body%3E%0A%3Cscript%3E%20%20%20%20%0A%20%20%20%20%0A%20%20%20%20%20%20%20%20%20%20%20%20var%20map_e6fd11d9215f49c1a011e3787eb7b42a%20%3D%20L.map%28%0A%20%20%20%20%20%20%20%20%20%20%20%20%20%20%20%20%22map_e6fd11d9215f49c1a011e3787eb7b42a%22%2C%0A%20%20%20%20%20%20%20%20%20%20%20%20%20%20%20%20%7B%0A%20%20%20%20%20%20%20%20%20%20%20%20%20%20%20%20%20%20%20%20center%3A%20%5B-41.2887953%2C%20174.7772114%5D%2C%0A%20%20%20%20%20%20%20%20%20%20%20%20%20%20%20%20%20%20%20%20crs%3A%20L.CRS.EPSG3857%2C%0A%20%20%20%20%20%20%20%20%20%20%20%20%20%20%20%20%20%20%20%20zoom%3A%206%2C%0A%20%20%20%20%20%20%20%20%20%20%20%20%20%20%20%20%20%20%20%20zoomControl%3A%20true%2C%0A%20%20%20%20%20%20%20%20%20%20%20%20%20%20%20%20%20%20%20%20preferCanvas%3A%20false%2C%0A%20%20%20%20%20%20%20%20%20%20%20%20%20%20%20%20%7D%0A%20%20%20%20%20%20%20%20%20%20%20%20%29%3B%0A%0A%20%20%20%20%20%20%20%20%20%20%20%20%0A%0A%20%20%20%20%20%20%20%20%0A%20%20%20%20%0A%20%20%20%20%20%20%20%20%20%20%20%20var%20tile_layer_34c53b287e964a43913cb11d1f412351%20%3D%20L.tileLayer%28%0A%20%20%20%20%20%20%20%20%20%20%20%20%20%20%20%20%22https%3A//%7Bs%7D.tile.openstreetmap.org/%7Bz%7D/%7Bx%7D/%7By%7D.png%22%2C%0A%20%20%20%20%20%20%20%20%20%20%20%20%20%20%20%20%7B%22attribution%22%3A%20%22Data%20by%20%5Cu0026copy%3B%20%5Cu003ca%20href%3D%5C%22http%3A//openstreetmap.org%5C%22%5Cu003eOpenStreetMap%5Cu003c/a%5Cu003e%2C%20under%20%5Cu003ca%20href%3D%5C%22http%3A//www.openstreetmap.org/copyright%5C%22%5Cu003eODbL%5Cu003c/a%5Cu003e.%22%2C%20%22detectRetina%22%3A%20false%2C%20%22maxNativeZoom%22%3A%2018%2C%20%22maxZoom%22%3A%2018%2C%20%22minZoom%22%3A%200%2C%20%22noWrap%22%3A%20false%2C%20%22opacity%22%3A%201%2C%20%22subdomains%22%3A%20%22abc%22%2C%20%22tms%22%3A%20false%7D%0A%20%20%20%20%20%20%20%20%20%20%20%20%29.addTo%28map_e6fd11d9215f49c1a011e3787eb7b42a%29%3B%0A%20%20%20%20%20%20%20%20%0A%20%20%20%20%0A%20%20%20%20%20%20%20%20%20%20%20%20var%20marker_44ae9259d28d4e0383503590f76c9f5c%20%3D%20L.marker%28%0A%20%20%20%20%20%20%20%20%20%20%20%20%20%20%20%20%5B-41.2887953%2C%20174.7772114%5D%2C%0A%20%20%20%20%20%20%20%20%20%20%20%20%20%20%20%20%7B%7D%0A%20%20%20%20%20%20%20%20%20%20%20%20%29.addTo%28map_e6fd11d9215f49c1a011e3787eb7b42a%29%3B%0A%20%20%20%20%20%20%20%20%0A%20%20%20%20%0A%20%20%20%20%20%20%20%20var%20popup_ae081fd51a77414a84193d56c776b5cb%20%3D%20L.popup%28%7B%22maxWidth%22%3A%20%22100%25%22%7D%29%3B%0A%0A%20%20%20%20%20%20%20%20%0A%20%20%20%20%20%20%20%20%20%20%20%20var%20html_214c2f1bf5b64271883dfce5df81e1f3%20%3D%20%24%28%60%3Cdiv%20id%3D%22html_214c2f1bf5b64271883dfce5df81e1f3%22%20style%3D%22width%3A%20100.0%25%3B%20height%3A%20100.0%25%3B%22%3EBree%3C/div%3E%60%29%5B0%5D%3B%0A%20%20%20%20%20%20%20%20%20%20%20%20popup_ae081fd51a77414a84193d56c776b5cb.setContent%28html_214c2f1bf5b64271883dfce5df81e1f3%29%3B%0A%20%20%20%20%20%20%20%20%0A%0A%20%20%20%20%20%20%20%20marker_44ae9259d28d4e0383503590f76c9f5c.bindPopup%28popup_ae081fd51a77414a84193d56c776b5cb%29%0A%20%20%20%20%20%20%20%20%3B%0A%0A%20%20%20%20%20%20%20%20%0A%20%20%20%20%0A%20%20%20%20%0A%20%20%20%20%20%20%20%20%20%20%20%20var%20marker_b5bf7d3a1cba4a13a2ba4c1bffca2f90%20%3D%20L.marker%28%0A%20%20%20%20%20%20%20%20%20%20%20%20%20%20%20%20%5B-37.7741407%2C%20175.4883742%5D%2C%0A%20%20%20%20%20%20%20%20%20%20%20%20%20%20%20%20%7B%7D%0A%20%20%20%20%20%20%20%20%20%20%20%20%29.addTo%28map_e6fd11d9215f49c1a011e3787eb7b42a%29%3B%0A%20%20%20%20%20%20%20%20%0A%20%20%20%20%0A%20%20%20%20%20%20%20%20var%20popup_ed39b3abc79b457a8953136d10159c43%20%3D%20L.popup%28%7B%22maxWidth%22%3A%20%22100%25%22%7D%29%3B%0A%0A%20%20%20%20%20%20%20%20%0A%20%20%20%20%20%20%20%20%20%20%20%20var%20html_684f18a20f254a0d937ccbf608d571c1%20%3D%20%24%28%60%3Cdiv%20id%3D%22html_684f18a20f254a0d937ccbf608d571c1%22%20style%3D%22width%3A%20100.0%25%3B%20height%3A%20100.0%25%3B%22%3EHobbiton%3C/div%3E%60%29%5B0%5D%3B%0A%20%20%20%20%20%20%20%20%20%20%20%20popup_ed39b3abc79b457a8953136d10159c43.setContent%28html_684f18a20f254a0d937ccbf608d571c1%29%3B%0A%20%20%20%20%20%20%20%20%0A%0A%20%20%20%20%20%20%20%20marker_b5bf7d3a1cba4a13a2ba4c1bffca2f90.bindPopup%28popup_ed39b3abc79b457a8953136d10159c43%29%0A%20%20%20%20%20%20%20%20%3B%0A%0A%20%20%20%20%20%20%20%20%0A%20%20%20%20%0A%20%20%20%20%0A%20%20%20%20%20%20%20%20%20%20%20%20var%20marker_4d7462c326344bebaede56e25f194526%20%3D%20L.marker%28%0A%20%20%20%20%20%20%20%20%20%20%20%20%20%20%20%20%5B-41.0495879%2C%20175.1791197%5D%2C%0A%20%20%20%20%20%20%20%20%20%20%20%20%20%20%20%20%7B%7D%0A%20%20%20%20%20%20%20%20%20%20%20%20%29.addTo%28map_e6fd11d9215f49c1a011e3787eb7b42a%29%3B%0A%20%20%20%20%20%20%20%20%0A%20%20%20%20%0A%20%20%20%20%20%20%20%20var%20popup_2d7996a765e9463eaf77c76dc987a1cf%20%3D%20L.popup%28%7B%22maxWidth%22%3A%20%22100%25%22%7D%29%3B%0A%0A%20%20%20%20%20%20%20%20%0A%20%20%20%20%20%20%20%20%20%20%20%20var%20html_b89a1500ee96454d9d716f0b4108398b%20%3D%20%24%28%60%3Cdiv%20id%3D%22html_b89a1500ee96454d9d716f0b4108398b%22%20style%3D%22width%3A%20100.0%25%3B%20height%3A%20100.0%25%3B%22%3ERivendell%20River%20Anduin%3C/div%3E%60%29%5B0%5D%3B%0A%20%20%20%20%20%20%20%20%20%20%20%20popup_2d7996a765e9463eaf77c76dc987a1cf.setContent%28html_b89a1500ee96454d9d716f0b4108398b%29%3B%0A%20%20%20%20%20%20%20%20%0A%0A%20%20%20%20%20%20%20%20marker_4d7462c326344bebaede56e25f194526.bindPopup%28popup_2d7996a765e9463eaf77c76dc987a1cf%29%0A%20%20%20%20%20%20%20%20%3B%0A%0A%20%20%20%20%20%20%20%20%0A%20%20%20%20%0A%20%20%20%20%0A%20%20%20%20%20%20%20%20%20%20%20%20var%20marker_078851f16ef242958f4dbb66123b7c06%20%3D%20L.marker%28%0A%20%20%20%20%20%20%20%20%20%20%20%20%20%20%20%20%5B-45.0321923%2C%20168.661%5D%2C%0A%20%20%20%20%20%20%20%20%20%20%20%20%20%20%20%20%7B%7D%0A%20%20%20%20%20%20%20%20%20%20%20%20%29.addTo%28map_e6fd11d9215f49c1a011e3787eb7b42a%29%3B%0A%20%20%20%20%20%20%20%20%0A%20%20%20%20%0A%20%20%20%20%20%20%20%20var%20popup_9de2a16cae3b40ca918847c14e0f7d27%20%3D%20L.popup%28%7B%22maxWidth%22%3A%20%22100%25%22%7D%29%3B%0A%0A%20%20%20%20%20%20%20%20%0A%20%20%20%20%20%20%20%20%20%20%20%20var%20html_52237d4938cd4ad597bd37b5297a65f2%20%3D%20%24%28%60%3Cdiv%20id%3D%22html_52237d4938cd4ad597bd37b5297a65f2%22%20style%3D%22width%3A%20100.0%25%3B%20height%3A%20100.0%25%3B%22%3EFord%20of%20Bruinen%20River%20Anduin%20Amon%20Hen%3C/div%3E%60%29%5B0%5D%3B%0A%20%20%20%20%20%20%20%20%20%20%20%20popup_9de2a16cae3b40ca918847c14e0f7d27.setContent%28html_52237d4938cd4ad597bd37b5297a65f2%29%3B%0A%20%20%20%20%20%20%20%20%0A%0A%20%20%20%20%20%20%20%20marker_078851f16ef242958f4dbb66123b7c06.bindPopup%28popup_9de2a16cae3b40ca918847c14e0f7d27%29%0A%20%20%20%20%20%20%20%20%3B%0A%0A%20%20%20%20%20%20%20%20%0A%20%20%20%20%0A%20%20%20%20%0A%20%20%20%20%20%20%20%20%20%20%20%20var%20marker_2bc6c64a285746049d30c185a7aa524d%20%3D%20L.marker%28%0A%20%20%20%20%20%20%20%20%20%20%20%20%20%20%20%20%5B-44.6685455%2C%20167.92803%5D%2C%0A%20%20%20%20%20%20%20%20%20%20%20%20%20%20%20%20%7B%7D%0A%20%20%20%20%20%20%20%20%20%20%20%20%29.addTo%28map_e6fd11d9215f49c1a011e3787eb7b42a%29%3B%0A%20%20%20%20%20%20%20%20%0A%20%20%20%20%0A%20%20%20%20%20%20%20%20var%20popup_27a128c9ff774d46ae2d2383560ae1ef%20%3D%20L.popup%28%7B%22maxWidth%22%3A%20%22100%25%22%7D%29%3B%0A%0A%20%20%20%20%20%20%20%20%0A%20%20%20%20%20%20%20%20%20%20%20%20var%20html_dd187efb0bad4e1591b253317759d055%20%3D%20%24%28%60%3Cdiv%20id%3D%22html_dd187efb0bad4e1591b253317759d055%22%20style%3D%22width%3A%20100.0%25%3B%20height%3A%20100.0%25%3B%22%3E%3C/div%3E%60%29%5B0%5D%3B%0A%20%20%20%20%20%20%20%20%20%20%20%20popup_27a128c9ff774d46ae2d2383560ae1ef.setContent%28html_dd187efb0bad4e1591b253317759d055%29%3B%0A%20%20%20%20%20%20%20%20%0A%0A%20%20%20%20%20%20%20%20marker_2bc6c64a285746049d30c185a7aa524d.bindPopup%28popup_27a128c9ff774d46ae2d2383560ae1ef%29%0A%20%20%20%20%20%20%20%20%3B%0A%0A%20%20%20%20%20%20%20%20%0A%20%20%20%20%0A%20%20%20%20%0A%20%20%20%20%20%20%20%20%20%20%20%20var%20marker_8c237f3a73ce41618790871272175984%20%3D%20L.marker%28%0A%20%20%20%20%20%20%20%20%20%20%20%20%20%20%20%20%5B-37.3913264%2C%20174.717334%5D%2C%0A%20%20%20%20%20%20%20%20%20%20%20%20%20%20%20%20%7B%7D%0A%20%20%20%20%20%20%20%20%20%20%20%20%29.addTo%28map_e6fd11d9215f49c1a011e3787eb7b42a%29%3B%0A%20%20%20%20%20%20%20%20%0A%20%20%20%20%0A%20%20%20%20%20%20%20%20var%20popup_b38a4e3e05ee48f2b3c25bad222f353b%20%3D%20L.popup%28%7B%22maxWidth%22%3A%20%22100%25%22%7D%29%3B%0A%0A%20%20%20%20%20%20%20%20%0A%20%20%20%20%20%20%20%20%20%20%20%20var%20html_af43e42924d84be8b5d90d33d2a7a07a%20%3D%20%24%28%60%3Cdiv%20id%3D%22html_af43e42924d84be8b5d90d33d2a7a07a%22%20style%3D%22width%3A%20100.0%25%3B%20height%3A%20100.0%25%3B%22%3EWeathertop%3C/div%3E%60%29%5B0%5D%3B%0A%20%20%20%20%20%20%20%20%20%20%20%20popup_b38a4e3e05ee48f2b3c25bad222f353b.setContent%28html_af43e42924d84be8b5d90d33d2a7a07a%29%3B%0A%20%20%20%20%20%20%20%20%0A%0A%20%20%20%20%20%20%20%20marker_8c237f3a73ce41618790871272175984.bindPopup%28popup_b38a4e3e05ee48f2b3c25bad222f353b%29%0A%20%20%20%20%20%20%20%20%3B%0A%0A%20%20%20%20%20%20%20%20%0A%20%20%20%20%0A%20%20%20%20%0A%20%20%20%20%20%20%20%20%20%20%20%20var%20marker_823505875b2d432c9225b276b9191651%20%3D%20L.marker%28%0A%20%20%20%20%20%20%20%20%20%20%20%20%20%20%20%20%5B-41.0885537%2C%20175.3505731%5D%2C%0A%20%20%20%20%20%20%20%20%20%20%20%20%20%20%20%20%7B%7D%0A%20%20%20%20%20%20%20%20%20%20%20%20%29.addTo%28map_e6fd11d9215f49c1a011e3787eb7b42a%29%3B%0A%20%20%20%20%20%20%20%20%0A%20%20%20%20%0A%20%20%20%20%20%20%20%20var%20popup_36439ae217a04a73907bf04cb8f31113%20%3D%20L.popup%28%7B%22maxWidth%22%3A%20%22100%25%22%7D%29%3B%0A%0A%20%20%20%20%20%20%20%20%0A%20%20%20%20%20%20%20%20%20%20%20%20var%20html_8f2bcb7641f94724b5d59d0a343a53b2%20%3D%20%24%28%60%3Cdiv%20id%3D%22html_8f2bcb7641f94724b5d59d0a343a53b2%22%20style%3D%22width%3A%20100.0%25%3B%20height%3A%20100.0%25%3B%22%3ELothlorien%3C/div%3E%60%29%5B0%5D%3B%0A%20%20%20%20%20%20%20%20%20%20%20%20popup_36439ae217a04a73907bf04cb8f31113.setContent%28html_8f2bcb7641f94724b5d59d0a343a53b2%29%3B%0A%20%20%20%20%20%20%20%20%0A%0A%20%20%20%20%20%20%20%20marker_823505875b2d432c9225b276b9191651.bindPopup%28popup_36439ae217a04a73907bf04cb8f31113%29%0A%20%20%20%20%20%20%20%20%3B%0A%0A%20%20%20%20%20%20%20%20%0A%20%20%20%20%0A%20%20%20%20%0A%20%20%20%20%20%20%20%20%20%20%20%20var%20marker_f8261bd281e9433881eb838673740f77%20%3D%20L.marker%28%0A%20%20%20%20%20%20%20%20%20%20%20%20%20%20%20%20%5B-39.4772125%2C%20175.6697752%5D%2C%0A%20%20%20%20%20%20%20%20%20%20%20%20%20%20%20%20%7B%7D%0A%20%20%20%20%20%20%20%20%20%20%20%20%29.addTo%28map_e6fd11d9215f49c1a011e3787eb7b42a%29%3B%0A%20%20%20%20%20%20%20%20%0A%20%20%20%20%0A%20%20%20%20%20%20%20%20var%20popup_28aa8db578e9467d99ea47bbb95fe960%20%3D%20L.popup%28%7B%22maxWidth%22%3A%20%22100%25%22%7D%29%3B%0A%0A%20%20%20%20%20%20%20%20%0A%20%20%20%20%20%20%20%20%20%20%20%20var%20html_eb98a4b27105446a9b31f3813bb7109c%20%3D%20%24%28%60%3Cdiv%20id%3D%22html_eb98a4b27105446a9b31f3813bb7109c%22%20style%3D%22width%3A%20100.0%25%3B%20height%3A%20100.0%25%3B%22%3E%3C/div%3E%60%29%5B0%5D%3B%0A%20%20%20%20%20%20%20%20%20%20%20%20popup_28aa8db578e9467d99ea47bbb95fe960.setContent%28html_eb98a4b27105446a9b31f3813bb7109c%29%3B%0A%20%20%20%20%20%20%20%20%0A%0A%20%20%20%20%20%20%20%20marker_f8261bd281e9433881eb838673740f77.bindPopup%28popup_28aa8db578e9467d99ea47bbb95fe960%29%0A%20%20%20%20%20%20%20%20%3B%0A%0A%20%20%20%20%20%20%20%20%0A%20%20%20%20%0A%20%20%20%20%0A%20%20%20%20%20%20%20%20%20%20%20%20var%20marker_64710a605bff4798a0e9f0877be3117c%20%3D%20L.marker%28%0A%20%20%20%20%20%20%20%20%20%20%20%20%20%20%20%20%5B-39.7665195%2C%20175.8152587%5D%2C%0A%20%20%20%20%20%20%20%20%20%20%20%20%20%20%20%20%7B%7D%0A%20%20%20%20%20%20%20%20%20%20%20%20%29.addTo%28map_e6fd11d9215f49c1a011e3787eb7b42a%29%3B%0A%20%20%20%20%20%20%20%20%0A%20%20%20%20%0A%20%20%20%20%20%20%20%20var%20popup_6725c7c0d0f540e8b375a9eecd28712c%20%3D%20L.popup%28%7B%22maxWidth%22%3A%20%22100%25%22%7D%29%3B%0A%0A%20%20%20%20%20%20%20%20%0A%20%20%20%20%20%20%20%20%20%20%20%20var%20html_f630605b16394398ab757a94194f3074%20%3D%20%24%28%60%3Cdiv%20id%3D%22html_f630605b16394398ab757a94194f3074%22%20style%3D%22width%3A%20100.0%25%3B%20height%3A%20100.0%25%3B%22%3ERiver%20Anduin%3C/div%3E%60%29%5B0%5D%3B%0A%20%20%20%20%20%20%20%20%20%20%20%20popup_6725c7c0d0f540e8b375a9eecd28712c.setContent%28html_f630605b16394398ab757a94194f3074%29%3B%0A%20%20%20%20%20%20%20%20%0A%0A%20%20%20%20%20%20%20%20marker_64710a605bff4798a0e9f0877be3117c.bindPopup%28popup_6725c7c0d0f540e8b375a9eecd28712c%29%0A%20%20%20%20%20%20%20%20%3B%0A%0A%20%20%20%20%20%20%20%20%0A%20%20%20%20%0A%20%20%20%20%0A%20%20%20%20%20%20%20%20%20%20%20%20var%20marker_8f00cf36bbf74a9f94348bc9678e0623%20%3D%20L.marker%28%0A%20%20%20%20%20%20%20%20%20%20%20%20%20%20%20%20%5B-39.1727294%2C%20175.4037274%5D%2C%0A%20%20%20%20%20%20%20%20%20%20%20%20%20%20%20%20%7B%7D%0A%20%20%20%20%20%20%20%20%20%20%20%20%29.addTo%28map_e6fd11d9215f49c1a011e3787eb7b42a%29%3B%0A%20%20%20%20%20%20%20%20%0A%20%20%20%20%0A%20%20%20%20%20%20%20%20var%20popup_23704aa4ee394934bb450d5bd96d4e01%20%3D%20L.popup%28%7B%22maxWidth%22%3A%20%22100%25%22%7D%29%3B%0A%0A%20%20%20%20%20%20%20%20%0A%20%20%20%20%20%20%20%20%20%20%20%20var%20html_c1e06256c45b4ad0a5b7c3a728c73fb9%20%3D%20%24%28%60%3Cdiv%20id%3D%22html_c1e06256c45b4ad0a5b7c3a728c73fb9%22%20style%3D%22width%3A%20100.0%25%3B%20height%3A%20100.0%25%3B%22%3EMordor%3C/div%3E%60%29%5B0%5D%3B%0A%20%20%20%20%20%20%20%20%20%20%20%20popup_23704aa4ee394934bb450d5bd96d4e01.setContent%28html_c1e06256c45b4ad0a5b7c3a728c73fb9%29%3B%0A%20%20%20%20%20%20%20%20%0A%0A%20%20%20%20%20%20%20%20marker_8f00cf36bbf74a9f94348bc9678e0623.bindPopup%28popup_23704aa4ee394934bb450d5bd96d4e01%29%0A%20%20%20%20%20%20%20%20%3B%0A%0A%20%20%20%20%20%20%20%20%0A%20%20%20%20%0A%20%20%20%20%0A%20%20%20%20%20%20%20%20%20%20%20%20var%20marker_31fd73d2289841df954c446b8339754f%20%3D%20L.marker%28%0A%20%20%20%20%20%20%20%20%20%20%20%20%20%20%20%20%5B-45.08880415%2C%20168.52111077909876%5D%2C%0A%20%20%20%20%20%20%20%20%20%20%20%20%20%20%20%20%7B%7D%0A%20%20%20%20%20%20%20%20%20%20%20%20%29.addTo%28map_e6fd11d9215f49c1a011e3787eb7b42a%29%3B%0A%20%20%20%20%20%20%20%20%0A%20%20%20%20%0A%20%20%20%20%20%20%20%20var%20popup_5056eedfae1443dd88d987529f88b8fc%20%3D%20L.popup%28%7B%22maxWidth%22%3A%20%22100%25%22%7D%29%3B%0A%0A%20%20%20%20%20%20%20%20%0A%20%20%20%20%20%20%20%20%20%20%20%20var%20html_e8d0426dc94a4127a5e022742d403c8d%20%3D%20%24%28%60%3Cdiv%20id%3D%22html_e8d0426dc94a4127a5e022742d403c8d%22%20style%3D%22width%3A%20100.0%25%3B%20height%3A%20100.0%25%3B%22%3EAmon%20Hen%3C/div%3E%60%29%5B0%5D%3B%0A%20%20%20%20%20%20%20%20%20%20%20%20popup_5056eedfae1443dd88d987529f88b8fc.setContent%28html_e8d0426dc94a4127a5e022742d403c8d%29%3B%0A%20%20%20%20%20%20%20%20%0A%0A%20%20%20%20%20%20%20%20marker_31fd73d2289841df954c446b8339754f.bindPopup%28popup_5056eedfae1443dd88d987529f88b8fc%29%0A%20%20%20%20%20%20%20%20%3B%0A%0A%20%20%20%20%20%20%20%20%0A%20%20%20%20%0A%20%20%20%20%0A%20%20%20%20%20%20%20%20%20%20%20%20var%20marker_41087121040a4615babcc9b576a3d665%20%3D%20L.marker%28%0A%20%20%20%20%20%20%20%20%20%20%20%20%20%20%20%20%5B-45.36653%2C%20168.11838%5D%2C%0A%20%20%20%20%20%20%20%20%20%20%20%20%20%20%20%20%7B%7D%0A%20%20%20%20%20%20%20%20%20%20%20%20%29.addTo%28map_e6fd11d9215f49c1a011e3787eb7b42a%29%3B%0A%20%20%20%20%20%20%20%20%0A%20%20%20%20%0A%20%20%20%20%20%20%20%20var%20popup_8f4203d292db4839a567a3f599d983fd%20%3D%20L.popup%28%7B%22maxWidth%22%3A%20%22100%25%22%7D%29%3B%0A%0A%20%20%20%20%20%20%20%20%0A%20%20%20%20%20%20%20%20%20%20%20%20var%20html_15586d52bfe04095aab23754034a3ac3%20%3D%20%24%28%60%3Cdiv%20id%3D%22html_15586d52bfe04095aab23754034a3ac3%22%20style%3D%22width%3A%20100.0%25%3B%20height%3A%20100.0%25%3B%22%3EAmon%20Hen%3C/div%3E%60%29%5B0%5D%3B%0A%20%20%20%20%20%20%20%20%20%20%20%20popup_8f4203d292db4839a567a3f599d983fd.setContent%28html_15586d52bfe04095aab23754034a3ac3%29%3B%0A%20%20%20%20%20%20%20%20%0A%0A%20%20%20%20%20%20%20%20marker_41087121040a4615babcc9b576a3d665.bindPopup%28popup_8f4203d292db4839a567a3f599d983fd%29%0A%20%20%20%20%20%20%20%20%3B%0A%0A%20%20%20%20%20%20%20%20%0A%20%20%20%20%0A%20%20%20%20%0A%20%20%20%20%20%20%20%20%20%20%20%20var%20marker_e2fac2e649e34270adc68e517a0b6ccd%20%3D%20L.marker%28%0A%20%20%20%20%20%20%20%20%20%20%20%20%20%20%20%20%5B-44.6941691%2C%20169.1364637%5D%2C%0A%20%20%20%20%20%20%20%20%20%20%20%20%20%20%20%20%7B%7D%0A%20%20%20%20%20%20%20%20%20%20%20%20%29.addTo%28map_e6fd11d9215f49c1a011e3787eb7b42a%29%3B%0A%20%20%20%20%20%20%20%20%0A%20%20%20%20%0A%20%20%20%20%20%20%20%20var%20popup_f9559fb8b8234ce0afd13aa5330c5020%20%3D%20L.popup%28%7B%22maxWidth%22%3A%20%22100%25%22%7D%29%3B%0A%0A%20%20%20%20%20%20%20%20%0A%20%20%20%20%20%20%20%20%20%20%20%20var%20html_28acd9cb41b2458b9ccc74c487b97a9a%20%3D%20%24%28%60%3Cdiv%20id%3D%22html_28acd9cb41b2458b9ccc74c487b97a9a%22%20style%3D%22width%3A%20100.0%25%3B%20height%3A%20100.0%25%3B%22%3EFord%20of%20Bruinen%3C/div%3E%60%29%5B0%5D%3B%0A%20%20%20%20%20%20%20%20%20%20%20%20popup_f9559fb8b8234ce0afd13aa5330c5020.setContent%28html_28acd9cb41b2458b9ccc74c487b97a9a%29%3B%0A%20%20%20%20%20%20%20%20%0A%0A%20%20%20%20%20%20%20%20marker_e2fac2e649e34270adc68e517a0b6ccd.bindPopup%28popup_f9559fb8b8234ce0afd13aa5330c5020%29%0A%20%20%20%20%20%20%20%20%3B%0A%0A%20%20%20%20%20%20%20%20%0A%20%20%20%20%0A%20%20%20%20%0A%20%20%20%20%20%20%20%20%20%20%20%20var%20marker_9ae055f5caa342018e88fe3017cf11fe%20%3D%20L.marker%28%0A%20%20%20%20%20%20%20%20%20%20%20%20%20%20%20%20%5B-43.49417615%2C%20171.8098447584145%5D%2C%0A%20%20%20%20%20%20%20%20%20%20%20%20%20%20%20%20%7B%7D%0A%20%20%20%20%20%20%20%20%20%20%20%20%29.addTo%28map_e6fd11d9215f49c1a011e3787eb7b42a%29%3B%0A%20%20%20%20%20%20%20%20%0A%20%20%20%20%0A%20%20%20%20%20%20%20%20var%20popup_95ca74397645422791a2f130509f85be%20%3D%20L.popup%28%7B%22maxWidth%22%3A%20%22100%25%22%7D%29%3B%0A%0A%20%20%20%20%20%20%20%20%0A%20%20%20%20%20%20%20%20%20%20%20%20var%20html_8a90e2ce525843fba1ff2eda3a063ec9%20%3D%20%24%28%60%3Cdiv%20id%3D%22html_8a90e2ce525843fba1ff2eda3a063ec9%22%20style%3D%22width%3A%20100.0%25%3B%20height%3A%20100.0%25%3B%22%3EEdoras%3C/div%3E%60%29%5B0%5D%3B%0A%20%20%20%20%20%20%20%20%20%20%20%20popup_95ca74397645422791a2f130509f85be.setContent%28html_8a90e2ce525843fba1ff2eda3a063ec9%29%3B%0A%20%20%20%20%20%20%20%20%0A%0A%20%20%20%20%20%20%20%20marker_9ae055f5caa342018e88fe3017cf11fe.bindPopup%28popup_95ca74397645422791a2f130509f85be%29%0A%20%20%20%20%20%20%20%20%3B%0A%0A%20%20%20%20%20%20%20%20%0A%20%20%20%20%0A%20%20%20%20%0A%20%20%20%20%20%20%20%20%20%20%20%20var%20marker_0b0d94e837f8451db4af0384c0cdb714%20%3D%20L.marker%28%0A%20%20%20%20%20%20%20%20%20%20%20%20%20%20%20%20%5B-41.2887953%2C%20174.7772114%5D%2C%0A%20%20%20%20%20%20%20%20%20%20%20%20%20%20%20%20%7B%7D%0A%20%20%20%20%20%20%20%20%20%20%20%20%29.addTo%28map_e6fd11d9215f49c1a011e3787eb7b42a%29%3B%0A%20%20%20%20%20%20%20%20%0A%20%20%20%20%0A%20%20%20%20%20%20%20%20var%20popup_a35af1f602c84be8bdb3586213ae1142%20%3D%20L.popup%28%7B%22maxWidth%22%3A%20%22100%25%22%7D%29%3B%0A%0A%20%20%20%20%20%20%20%20%0A%20%20%20%20%20%20%20%20%20%20%20%20var%20html_bd8ad28cc2dd42e6a0e7ec4d6f0efd61%20%3D%20%24%28%60%3Cdiv%20id%3D%22html_bd8ad28cc2dd42e6a0e7ec4d6f0efd61%22%20style%3D%22width%3A%20100.0%25%3B%20height%3A%20100.0%25%3B%22%3ERiver%20Anduin%3C/div%3E%60%29%5B0%5D%3B%0A%20%20%20%20%20%20%20%20%20%20%20%20popup_a35af1f602c84be8bdb3586213ae1142.setContent%28html_bd8ad28cc2dd42e6a0e7ec4d6f0efd61%29%3B%0A%20%20%20%20%20%20%20%20%0A%0A%20%20%20%20%20%20%20%20marker_0b0d94e837f8451db4af0384c0cdb714.bindPopup%28popup_a35af1f602c84be8bdb3586213ae1142%29%0A%20%20%20%20%20%20%20%20%3B%0A%0A%20%20%20%20%20%20%20%20%0A%20%20%20%20%0A%20%20%20%20%0A%20%20%20%20%20%20%20%20%20%20%20%20var%20marker_be8dc6cb24964617be199db45cbf0137%20%3D%20L.marker%28%0A%20%20%20%20%20%20%20%20%20%20%20%20%20%20%20%20%5B-43.586562%2C%20171.21232939964904%5D%2C%0A%20%20%20%20%20%20%20%20%20%20%20%20%20%20%20%20%7B%7D%0A%20%20%20%20%20%20%20%20%20%20%20%20%29.addTo%28map_e6fd11d9215f49c1a011e3787eb7b42a%29%3B%0A%20%20%20%20%20%20%20%20%0A%20%20%20%20%0A%20%20%20%20%20%20%20%20var%20popup_22e0fd60694040c589b5310da9cf5d80%20%3D%20L.popup%28%7B%22maxWidth%22%3A%20%22100%25%22%7D%29%3B%0A%0A%20%20%20%20%20%20%20%20%0A%20%20%20%20%20%20%20%20%20%20%20%20var%20html_191980ba1ac348cd9e89fc3061d8a11d%20%3D%20%24%28%60%3Cdiv%20id%3D%22html_191980ba1ac348cd9e89fc3061d8a11d%22%20style%3D%22width%3A%20100.0%25%3B%20height%3A%20100.0%25%3B%22%3Ewaterfalls%20scenes%20of%20Rivendell%3C/div%3E%60%29%5B0%5D%3B%0A%20%20%20%20%20%20%20%20%20%20%20%20popup_22e0fd60694040c589b5310da9cf5d80.setContent%28html_191980ba1ac348cd9e89fc3061d8a11d%29%3B%0A%20%20%20%20%20%20%20%20%0A%0A%20%20%20%20%20%20%20%20marker_be8dc6cb24964617be199db45cbf0137.bindPopup%28popup_22e0fd60694040c589b5310da9cf5d80%29%0A%20%20%20%20%20%20%20%20%3B%0A%0A%20%20%20%20%20%20%20%20%0A%20%20%20%20%0A%20%20%20%20%0A%20%20%20%20%20%20%20%20%20%20%20%20var%20marker_999335e7447d4e70882e7c7e35a2fa35%20%3D%20L.marker%28%0A%20%20%20%20%20%20%20%20%20%20%20%20%20%20%20%20%5B-41.10165085%2C%20175.09427325890724%5D%2C%0A%20%20%20%20%20%20%20%20%20%20%20%20%20%20%20%20%7B%7D%0A%20%20%20%20%20%20%20%20%20%20%20%20%29.addTo%28map_e6fd11d9215f49c1a011e3787eb7b42a%29%3B%0A%20%20%20%20%20%20%20%20%0A%20%20%20%20%0A%20%20%20%20%20%20%20%20var%20popup_47981530ddbe4e9492b47878a6bbdf6a%20%3D%20L.popup%28%7B%22maxWidth%22%3A%20%22100%25%22%7D%29%3B%0A%0A%20%20%20%20%20%20%20%20%0A%20%20%20%20%20%20%20%20%20%20%20%20var%20html_0241dcd83e5f4b848d243086d67eaf36%20%3D%20%24%28%60%3Cdiv%20id%3D%22html_0241dcd83e5f4b848d243086d67eaf36%22%20style%3D%22width%3A%20100.0%25%3B%20height%3A%20100.0%25%3B%22%3EGardens%20of%20Isengard%3C/div%3E%60%29%5B0%5D%3B%0A%20%20%20%20%20%20%20%20%20%20%20%20popup_47981530ddbe4e9492b47878a6bbdf6a.setContent%28html_0241dcd83e5f4b848d243086d67eaf36%29%3B%0A%20%20%20%20%20%20%20%20%0A%0A%20%20%20%20%20%20%20%20marker_999335e7447d4e70882e7c7e35a2fa35.bindPopup%28popup_47981530ddbe4e9492b47878a6bbdf6a%29%0A%20%20%20%20%20%20%20%20%3B%0A%0A%20%20%20%20%20%20%20%20%0A%20%20%20%20%0A%20%20%20%20%0A%20%20%20%20%20%20%20%20%20%20%20%20var%20marker_e605724507f8463799c490cb6a9a24c1%20%3D%20L.marker%28%0A%20%20%20%20%20%20%20%20%20%20%20%20%20%20%20%20%5B-41.1240674%2C%20175.0699589%5D%2C%0A%20%20%20%20%20%20%20%20%20%20%20%20%20%20%20%20%7B%7D%0A%20%20%20%20%20%20%20%20%20%20%20%20%29.addTo%28map_e6fd11d9215f49c1a011e3787eb7b42a%29%3B%0A%20%20%20%20%20%20%20%20%0A%20%20%20%20%0A%20%20%20%20%20%20%20%20var%20popup_adc79e4358ba48bc86c1ade7c8c48aff%20%3D%20L.popup%28%7B%22maxWidth%22%3A%20%22100%25%22%7D%29%3B%0A%0A%20%20%20%20%20%20%20%20%0A%20%20%20%20%20%20%20%20%20%20%20%20var%20html_a477c8d4a7b64df2bebc5d57d252eeaa%20%3D%20%24%28%60%3Cdiv%20id%3D%22html_a477c8d4a7b64df2bebc5d57d252eeaa%22%20style%3D%22width%3A%20100.0%25%3B%20height%3A%20100.0%25%3B%22%3E%3C/div%3E%60%29%5B0%5D%3B%0A%20%20%20%20%20%20%20%20%20%20%20%20popup_adc79e4358ba48bc86c1ade7c8c48aff.setContent%28html_a477c8d4a7b64df2bebc5d57d252eeaa%29%3B%0A%20%20%20%20%20%20%20%20%0A%0A%20%20%20%20%20%20%20%20marker_e605724507f8463799c490cb6a9a24c1.bindPopup%28popup_adc79e4358ba48bc86c1ade7c8c48aff%29%0A%20%20%20%20%20%20%20%20%3B%0A%0A%20%20%20%20%20%20%20%20%0A%20%20%20%20%0A%20%20%20%20%0A%20%20%20%20%20%20%20%20%20%20%20%20var%20marker_569d42663e4c41b98317d8c577528d90%20%3D%20L.marker%28%0A%20%20%20%20%20%20%20%20%20%20%20%20%20%20%20%20%5B-41.3061798%2C%20174.8236202%5D%2C%0A%20%20%20%20%20%20%20%20%20%20%20%20%20%20%20%20%7B%7D%0A%20%20%20%20%20%20%20%20%20%20%20%20%29.addTo%28map_e6fd11d9215f49c1a011e3787eb7b42a%29%3B%0A%20%20%20%20%20%20%20%20%0A%20%20%20%20%0A%20%20%20%20%20%20%20%20var%20popup_beed9f66c18b43d59afa07fab551e5c0%20%3D%20L.popup%28%7B%22maxWidth%22%3A%20%22100%25%22%7D%29%3B%0A%0A%20%20%20%20%20%20%20%20%0A%20%20%20%20%20%20%20%20%20%20%20%20var%20html_e8225945fe1c4d4181623702324c14e4%20%3D%20%24%28%60%3Cdiv%20id%3D%22html_e8225945fe1c4d4181623702324c14e4%22%20style%3D%22width%3A%20100.0%25%3B%20height%3A%20100.0%25%3B%22%3Estudio%3C/div%3E%60%29%5B0%5D%3B%0A%20%20%20%20%20%20%20%20%20%20%20%20popup_beed9f66c18b43d59afa07fab551e5c0.setContent%28html_e8225945fe1c4d4181623702324c14e4%29%3B%0A%20%20%20%20%20%20%20%20%0A%0A%20%20%20%20%20%20%20%20marker_569d42663e4c41b98317d8c577528d90.bindPopup%28popup_beed9f66c18b43d59afa07fab551e5c0%29%0A%20%20%20%20%20%20%20%20%3B%0A%0A%20%20%20%20%20%20%20%20%0A%20%20%20%20%0A%20%20%20%20%0A%20%20%20%20%20%20%20%20%20%20%20%20var%20marker_901b145487274ca79909dd114f5edf27%20%3D%20L.marker%28%0A%20%20%20%20%20%20%20%20%20%20%20%20%20%20%20%20%5B-44.257483%2C%20170.0994145%5D%2C%0A%20%20%20%20%20%20%20%20%20%20%20%20%20%20%20%20%7B%7D%0A%20%20%20%20%20%20%20%20%20%20%20%20%29.addTo%28map_e6fd11d9215f49c1a011e3787eb7b42a%29%3B%0A%20%20%20%20%20%20%20%20%0A%20%20%20%20%0A%20%20%20%20%20%20%20%20var%20popup_daae4401e06c42b3acb56b31173d3570%20%3D%20L.popup%28%7B%22maxWidth%22%3A%20%22100%25%22%7D%29%3B%0A%0A%20%20%20%20%20%20%20%20%0A%20%20%20%20%20%20%20%20%20%20%20%20var%20html_bcffbc9b5a0b43189960ef4d0edc0961%20%3D%20%24%28%60%3Cdiv%20id%3D%22html_bcffbc9b5a0b43189960ef4d0edc0961%22%20style%3D%22width%3A%20100.0%25%3B%20height%3A%20100.0%25%3B%22%3E%3C/div%3E%60%29%5B0%5D%3B%0A%20%20%20%20%20%20%20%20%20%20%20%20popup_daae4401e06c42b3acb56b31173d3570.setContent%28html_bcffbc9b5a0b43189960ef4d0edc0961%29%3B%0A%20%20%20%20%20%20%20%20%0A%0A%20%20%20%20%20%20%20%20marker_901b145487274ca79909dd114f5edf27.bindPopup%28popup_daae4401e06c42b3acb56b31173d3570%29%0A%20%20%20%20%20%20%20%20%3B%0A%0A%20%20%20%20%20%20%20%20%0A%20%20%20%20%0A%20%20%20%20%0A%20%20%20%20%20%20%20%20%20%20%20%20var%20marker_20dbb3d7f92c40dd991fd8cca764bc45%20%3D%20L.marker%28%0A%20%20%20%20%20%20%20%20%20%20%20%20%20%20%20%20%5B-44.9405627%2C%20168.8350761%5D%2C%0A%20%20%20%20%20%20%20%20%20%20%20%20%20%20%20%20%7B%7D%0A%20%20%20%20%20%20%20%20%20%20%20%20%29.addTo%28map_e6fd11d9215f49c1a011e3787eb7b42a%29%3B%0A%20%20%20%20%20%20%20%20%0A%20%20%20%20%0A%20%20%20%20%20%20%20%20var%20popup_b909ca5b5d314bcd96624561fa209548%20%3D%20L.popup%28%7B%22maxWidth%22%3A%20%22100%25%22%7D%29%3B%0A%0A%20%20%20%20%20%20%20%20%0A%20%20%20%20%20%20%20%20%20%20%20%20var%20html_6dee6dfb522f43bcb127e8980389677c%20%3D%20%24%28%60%3Cdiv%20id%3D%22html_6dee6dfb522f43bcb127e8980389677c%22%20style%3D%22width%3A%20100.0%25%3B%20height%3A%20100.0%25%3B%22%3EFord%20of%20Bruinen%3C/div%3E%60%29%5B0%5D%3B%0A%20%20%20%20%20%20%20%20%20%20%20%20popup_b909ca5b5d314bcd96624561fa209548.setContent%28html_6dee6dfb522f43bcb127e8980389677c%29%3B%0A%20%20%20%20%20%20%20%20%0A%0A%20%20%20%20%20%20%20%20marker_20dbb3d7f92c40dd991fd8cca764bc45.bindPopup%28popup_b909ca5b5d314bcd96624561fa209548%29%0A%20%20%20%20%20%20%20%20%3B%0A%0A%20%20%20%20%20%20%20%20%0A%20%20%20%20%0A%20%20%20%20%0A%20%20%20%20%20%20%20%20%20%20%20%20var%20marker_42cc948bc0a44ac79da0ccecce409363%20%3D%20L.marker%28%0A%20%20%20%20%20%20%20%20%20%20%20%20%20%20%20%20%5B-44.8231841%2C%20168.3985085%5D%2C%0A%20%20%20%20%20%20%20%20%20%20%20%20%20%20%20%20%7B%7D%0A%20%20%20%20%20%20%20%20%20%20%20%20%29.addTo%28map_e6fd11d9215f49c1a011e3787eb7b42a%29%3B%0A%20%20%20%20%20%20%20%20%0A%20%20%20%20%0A%20%20%20%20%20%20%20%20var%20popup_d856cb5583dd475c9f3b27ef90c3f4cd%20%3D%20L.popup%28%7B%22maxWidth%22%3A%20%22100%25%22%7D%29%3B%0A%0A%20%20%20%20%20%20%20%20%0A%20%20%20%20%20%20%20%20%20%20%20%20var%20html_82a2dc9ddef64fcdadb5a74faf568cda%20%3D%20%24%28%60%3Cdiv%20id%3D%22html_82a2dc9ddef64fcdadb5a74faf568cda%22%20style%3D%22width%3A%20100.0%25%3B%20height%3A%20100.0%25%3B%22%3ELothlorien%20Amon%20Hen%3C/div%3E%60%29%5B0%5D%3B%0A%20%20%20%20%20%20%20%20%20%20%20%20popup_d856cb5583dd475c9f3b27ef90c3f4cd.setContent%28html_82a2dc9ddef64fcdadb5a74faf568cda%29%3B%0A%20%20%20%20%20%20%20%20%0A%0A%20%20%20%20%20%20%20%20marker_42cc948bc0a44ac79da0ccecce409363.bindPopup%28popup_d856cb5583dd475c9f3b27ef90c3f4cd%29%0A%20%20%20%20%20%20%20%20%3B%0A%0A%20%20%20%20%20%20%20%20%0A%20%20%20%20%0A%20%20%20%20%0A%20%20%20%20%20%20%20%20%20%20%20%20var%20marker_17b9a214969e4f738ecae5ccc7931aa7%20%3D%20L.marker%28%0A%20%20%20%20%20%20%20%20%20%20%20%20%20%20%20%20%5B-45.41449%2C%20167.717489%5D%2C%0A%20%20%20%20%20%20%20%20%20%20%20%20%20%20%20%20%7B%7D%0A%20%20%20%20%20%20%20%20%20%20%20%20%29.addTo%28map_e6fd11d9215f49c1a011e3787eb7b42a%29%3B%0A%20%20%20%20%20%20%20%20%0A%20%20%20%20%0A%20%20%20%20%20%20%20%20var%20popup_92494ecee1134455b412df1d5829dc9e%20%3D%20L.popup%28%7B%22maxWidth%22%3A%20%22100%25%22%7D%29%3B%0A%0A%20%20%20%20%20%20%20%20%0A%20%20%20%20%20%20%20%20%20%20%20%20var%20html_fdaf2e1203524ae9ac5690732ca4b5fb%20%3D%20%24%28%60%3Cdiv%20id%3D%22html_fdaf2e1203524ae9ac5690732ca4b5fb%22%20style%3D%22width%3A%20100.0%25%3B%20height%3A%20100.0%25%3B%22%3Ethe%20Fellowship%27s%20river%20journey%3C/div%3E%60%29%5B0%5D%3B%0A%20%20%20%20%20%20%20%20%20%20%20%20popup_92494ecee1134455b412df1d5829dc9e.setContent%28html_fdaf2e1203524ae9ac5690732ca4b5fb%29%3B%0A%20%20%20%20%20%20%20%20%0A%0A%20%20%20%20%20%20%20%20marker_17b9a214969e4f738ecae5ccc7931aa7.bindPopup%28popup_92494ecee1134455b412df1d5829dc9e%29%0A%20%20%20%20%20%20%20%20%3B%0A%0A%20%20%20%20%20%20%20%20%0A%20%20%20%20%0A%20%20%20%20%0A%20%20%20%20%20%20%20%20%20%20%20%20var%20marker_d2c0c8c3877943b98dd3df62bfc28eb6%20%3D%20L.marker%28%0A%20%20%20%20%20%20%20%20%20%20%20%20%20%20%20%20%5B-41.2710849%2C%20173.2836756%5D%2C%0A%20%20%20%20%20%20%20%20%20%20%20%20%20%20%20%20%7B%7D%0A%20%20%20%20%20%20%20%20%20%20%20%20%29.addTo%28map_e6fd11d9215f49c1a011e3787eb7b42a%29%3B%0A%20%20%20%20%20%20%20%20%0A%20%20%20%20%0A%20%20%20%20%20%20%20%20var%20popup_8bb9136c994a4c39ba426e024d55f1cb%20%3D%20L.popup%28%7B%22maxWidth%22%3A%20%22100%25%22%7D%29%3B%0A%0A%20%20%20%20%20%20%20%20%0A%20%20%20%20%20%20%20%20%20%20%20%20var%20html_ac4f184e465041c5b7332171d3029403%20%3D%20%24%28%60%3Cdiv%20id%3D%22html_ac4f184e465041c5b7332171d3029403%22%20style%3D%22width%3A%20100.0%25%3B%20height%3A%20100.0%25%3B%22%3EDimrill%20Dale%3C/div%3E%60%29%5B0%5D%3B%0A%20%20%20%20%20%20%20%20%20%20%20%20popup_8bb9136c994a4c39ba426e024d55f1cb.setContent%28html_ac4f184e465041c5b7332171d3029403%29%3B%0A%20%20%20%20%20%20%20%20%0A%0A%20%20%20%20%20%20%20%20marker_d2c0c8c3877943b98dd3df62bfc28eb6.bindPopup%28popup_8bb9136c994a4c39ba426e024d55f1cb%29%0A%20%20%20%20%20%20%20%20%3B%0A%0A%20%20%20%20%20%20%20%20%0A%20%20%20%20%0A%20%20%20%20%0A%20%20%20%20%20%20%20%20%20%20%20%20var%20marker_5e78ced4199941f8a82dd4b99bd525d6%20%3D%20L.marker%28%0A%20%20%20%20%20%20%20%20%20%20%20%20%20%20%20%20%5B-43.586562%2C%20171.21232939964904%5D%2C%0A%20%20%20%20%20%20%20%20%20%20%20%20%20%20%20%20%7B%7D%0A%20%20%20%20%20%20%20%20%20%20%20%20%29.addTo%28map_e6fd11d9215f49c1a011e3787eb7b42a%29%3B%0A%20%20%20%20%20%20%20%20%0A%20%20%20%20%0A%20%20%20%20%20%20%20%20var%20popup_3cefaf356bca43c48a248a0964583d56%20%3D%20L.popup%28%7B%22maxWidth%22%3A%20%22100%25%22%7D%29%3B%0A%0A%20%20%20%20%20%20%20%20%0A%20%20%20%20%20%20%20%20%20%20%20%20var%20html_3e719bbd035f43ea933dec92fab0e887%20%3D%20%24%28%60%3Cdiv%20id%3D%22html_3e719bbd035f43ea933dec92fab0e887%22%20style%3D%22width%3A%20100.0%25%3B%20height%3A%20100.0%25%3B%22%3EAmon%20Hen%3C/div%3E%60%29%5B0%5D%3B%0A%20%20%20%20%20%20%20%20%20%20%20%20popup_3cefaf356bca43c48a248a0964583d56.setContent%28html_3e719bbd035f43ea933dec92fab0e887%29%3B%0A%20%20%20%20%20%20%20%20%0A%0A%20%20%20%20%20%20%20%20marker_5e78ced4199941f8a82dd4b99bd525d6.bindPopup%28popup_3cefaf356bca43c48a248a0964583d56%29%0A%20%20%20%20%20%20%20%20%3B%0A%0A%20%20%20%20%20%20%20%20%0A%20%20%20%20%0A%20%20%20%20%0A%20%20%20%20%20%20%20%20%20%20%20%20var%20marker_9c6eca1f970344d28d3978d6e807579a%20%3D%20L.marker%28%0A%20%20%20%20%20%20%20%20%20%20%20%20%20%20%20%20%5B-40.741106650000006%2C%20175.11757661842293%5D%2C%0A%20%20%20%20%20%20%20%20%20%20%20%20%20%20%20%20%7B%7D%0A%20%20%20%20%20%20%20%20%20%20%20%20%29.addTo%28map_e6fd11d9215f49c1a011e3787eb7b42a%29%3B%0A%20%20%20%20%20%20%20%20%0A%20%20%20%20%0A%20%20%20%20%20%20%20%20var%20popup_eecb2bcf0e1b49c388c0b7ab4be7fc8f%20%3D%20L.popup%28%7B%22maxWidth%22%3A%20%22100%25%22%7D%29%3B%0A%0A%20%20%20%20%20%20%20%20%0A%20%20%20%20%20%20%20%20%20%20%20%20var%20html_fccf8922f3d34b10b717815b0525917a%20%3D%20%24%28%60%3Cdiv%20id%3D%22html_fccf8922f3d34b10b717815b0525917a%22%20style%3D%22width%3A%20100.0%25%3B%20height%3A%20100.0%25%3B%22%3Eexteriors%20of%20Moria%3C/div%3E%60%29%5B0%5D%3B%0A%20%20%20%20%20%20%20%20%20%20%20%20popup_eecb2bcf0e1b49c388c0b7ab4be7fc8f.setContent%28html_fccf8922f3d34b10b717815b0525917a%29%3B%0A%20%20%20%20%20%20%20%20%0A%0A%20%20%20%20%20%20%20%20marker_9c6eca1f970344d28d3978d6e807579a.bindPopup%28popup_eecb2bcf0e1b49c388c0b7ab4be7fc8f%29%0A%20%20%20%20%20%20%20%20%3B%0A%0A%20%20%20%20%20%20%20%20%0A%20%20%20%20%0A%20%20%20%20%0A%20%20%20%20%20%20%20%20%20%20%20%20var%20marker_02fd82427429429cac982f21d8e79f9e%20%3D%20L.marker%28%0A%20%20%20%20%20%20%20%20%20%20%20%20%20%20%20%20%5B-38.00353045%2C%20175.95785260835657%5D%2C%0A%20%20%20%20%20%20%20%20%20%20%20%20%20%20%20%20%7B%7D%0A%20%20%20%20%20%20%20%20%20%20%20%20%29.addTo%28map_e6fd11d9215f49c1a011e3787eb7b42a%29%3B%0A%20%20%20%20%20%20%20%20%0A%20%20%20%20%0A%20%20%20%20%20%20%20%20var%20popup_6eb0e44d3340408ca11477121d9547ea%20%3D%20L.popup%28%7B%22maxWidth%22%3A%20%22100%25%22%7D%29%3B%0A%0A%20%20%20%20%20%20%20%20%0A%20%20%20%20%20%20%20%20%20%20%20%20var%20html_5921e3f85bde45f985f668cf4d724335%20%3D%20%24%28%60%3Cdiv%20id%3D%22html_5921e3f85bde45f985f668cf4d724335%22%20style%3D%22width%3A%20100.0%25%3B%20height%3A%20100.0%25%3B%22%3Ethe%20Shire%20woods%3C/div%3E%60%29%5B0%5D%3B%0A%20%20%20%20%20%20%20%20%20%20%20%20popup_6eb0e44d3340408ca11477121d9547ea.setContent%28html_5921e3f85bde45f985f668cf4d724335%29%3B%0A%20%20%20%20%20%20%20%20%0A%0A%20%20%20%20%20%20%20%20marker_02fd82427429429cac982f21d8e79f9e.bindPopup%28popup_6eb0e44d3340408ca11477121d9547ea%29%0A%20%20%20%20%20%20%20%20%3B%0A%0A%20%20%20%20%20%20%20%20%0A%20%20%20%20%0A%20%20%20%20%0A%20%20%20%20%20%20%20%20%20%20%20%20var%20marker_95498dc58fa14205b47c2235167c3d40%20%3D%20L.marker%28%0A%20%20%20%20%20%20%20%20%20%20%20%20%20%20%20%20%5B-41.2710849%2C%20173.2836756%5D%2C%0A%20%20%20%20%20%20%20%20%20%20%20%20%20%20%20%20%7B%7D%0A%20%20%20%20%20%20%20%20%20%20%20%20%29.addTo%28map_e6fd11d9215f49c1a011e3787eb7b42a%29%3B%0A%20%20%20%20%20%20%20%20%0A%20%20%20%20%0A%20%20%20%20%20%20%20%20var%20popup_b650209ef4b84ef5bcca08e47bfba017%20%3D%20L.popup%28%7B%22maxWidth%22%3A%20%22100%25%22%7D%29%3B%0A%0A%20%20%20%20%20%20%20%20%0A%20%20%20%20%20%20%20%20%20%20%20%20var%20html_e9416c38112a4973bd499e7a684e03f7%20%3D%20%24%28%60%3Cdiv%20id%3D%22html_e9416c38112a4973bd499e7a684e03f7%22%20style%3D%22width%3A%20100.0%25%3B%20height%3A%20100.0%25%3B%22%3Eforest%20near%20Bree%3C/div%3E%60%29%5B0%5D%3B%0A%20%20%20%20%20%20%20%20%20%20%20%20popup_b650209ef4b84ef5bcca08e47bfba017.setContent%28html_e9416c38112a4973bd499e7a684e03f7%29%3B%0A%20%20%20%20%20%20%20%20%0A%0A%20%20%20%20%20%20%20%20marker_95498dc58fa14205b47c2235167c3d40.bindPopup%28popup_b650209ef4b84ef5bcca08e47bfba017%29%0A%20%20%20%20%20%20%20%20%3B%0A%0A%20%20%20%20%20%20%20%20%0A%20%20%20%20%0A%20%20%20%20%0A%20%20%20%20%20%20%20%20%20%20%20%20var%20marker_1213cbf143fa4bab9a6cd2fc9059c135%20%3D%20L.marker%28%0A%20%20%20%20%20%20%20%20%20%20%20%20%20%20%20%20%5B-43.586562%2C%20171.21232939964904%5D%2C%0A%20%20%20%20%20%20%20%20%20%20%20%20%20%20%20%20%7B%7D%0A%20%20%20%20%20%20%20%20%20%20%20%20%29.addTo%28map_e6fd11d9215f49c1a011e3787eb7b42a%29%3B%0A%20%20%20%20%20%20%20%20%0A%20%20%20%20%0A%20%20%20%20%20%20%20%20var%20popup_62b39c7087104d5196b8a9b427441acd%20%3D%20L.popup%28%7B%22maxWidth%22%3A%20%22100%25%22%7D%29%3B%0A%0A%20%20%20%20%20%20%20%20%0A%20%20%20%20%20%20%20%20%20%20%20%20var%20html_3ad6a3ede2164742b0d1f41e9677884b%20%3D%20%24%28%60%3Cdiv%20id%3D%22html_3ad6a3ede2164742b0d1f41e9677884b%22%20style%3D%22width%3A%20100.0%25%3B%20height%3A%20100.0%25%3B%22%3EDead%20Marshes%3C/div%3E%60%29%5B0%5D%3B%0A%20%20%20%20%20%20%20%20%20%20%20%20popup_62b39c7087104d5196b8a9b427441acd.setContent%28html_3ad6a3ede2164742b0d1f41e9677884b%29%3B%0A%20%20%20%20%20%20%20%20%0A%0A%20%20%20%20%20%20%20%20marker_1213cbf143fa4bab9a6cd2fc9059c135.bindPopup%28popup_62b39c7087104d5196b8a9b427441acd%29%0A%20%20%20%20%20%20%20%20%3B%0A%0A%20%20%20%20%20%20%20%20%0A%20%20%20%20%0A%20%20%20%20%0A%20%20%20%20%20%20%20%20%20%20%20%20var%20marker_7f154d0384644d23b810c8e0c1306d66%20%3D%20L.marker%28%0A%20%20%20%20%20%20%20%20%20%20%20%20%20%20%20%20%5B-42.04162235%2C%20172.62866447179724%5D%2C%0A%20%20%20%20%20%20%20%20%20%20%20%20%20%20%20%20%7B%7D%0A%20%20%20%20%20%20%20%20%20%20%20%20%29.addTo%28map_e6fd11d9215f49c1a011e3787eb7b42a%29%3B%0A%20%20%20%20%20%20%20%20%0A%20%20%20%20%0A%20%20%20%20%20%20%20%20var%20popup_11203e95ec5f49a99e7564d0ac869adf%20%3D%20L.popup%28%7B%22maxWidth%22%3A%20%22100%25%22%7D%29%3B%0A%0A%20%20%20%20%20%20%20%20%0A%20%20%20%20%20%20%20%20%20%20%20%20var%20html_984690bd124b424eb801afb56d7eac72%20%3D%20%24%28%60%3Cdiv%20id%3D%22html_984690bd124b424eb801afb56d7eac72%22%20style%3D%22width%3A%20100.0%25%3B%20height%3A%20100.0%25%3B%22%3EDimrill%20Dale%3C/div%3E%60%29%5B0%5D%3B%0A%20%20%20%20%20%20%20%20%20%20%20%20popup_11203e95ec5f49a99e7564d0ac869adf.setContent%28html_984690bd124b424eb801afb56d7eac72%29%3B%0A%20%20%20%20%20%20%20%20%0A%0A%20%20%20%20%20%20%20%20marker_7f154d0384644d23b810c8e0c1306d66.bindPopup%28popup_11203e95ec5f49a99e7564d0ac869adf%29%0A%20%20%20%20%20%20%20%20%3B%0A%0A%20%20%20%20%20%20%20%20%0A%20%20%20%20%0A%20%20%20%20%0A%20%20%20%20%20%20%20%20%20%20%20%20var%20marker_7fc4be43096d4e9e9d312e6bffe072ee%20%3D%20L.marker%28%0A%20%20%20%20%20%20%20%20%20%20%20%20%20%20%20%20%5B-44.8231841%2C%20168.3985085%5D%2C%0A%20%20%20%20%20%20%20%20%20%20%20%20%20%20%20%20%7B%7D%0A%20%20%20%20%20%20%20%20%20%20%20%20%29.addTo%28map_e6fd11d9215f49c1a011e3787eb7b42a%29%3B%0A%20%20%20%20%20%20%20%20%0A%20%20%20%20%0A%20%20%20%20%20%20%20%20var%20popup_8eda26922dfa430baea7cd5ca227f043%20%3D%20L.popup%28%7B%22maxWidth%22%3A%20%22100%25%22%7D%29%3B%0A%0A%20%20%20%20%20%20%20%20%0A%20%20%20%20%20%20%20%20%20%20%20%20var%20html_977af318dc594aac88e52b1ff0ee7ede%20%3D%20%24%28%60%3Cdiv%20id%3D%22html_977af318dc594aac88e52b1ff0ee7ede%22%20style%3D%22width%3A%20100.0%25%3B%20height%3A%20100.0%25%3B%22%3EParth%20Galen%3C/div%3E%60%29%5B0%5D%3B%0A%20%20%20%20%20%20%20%20%20%20%20%20popup_8eda26922dfa430baea7cd5ca227f043.setContent%28html_977af318dc594aac88e52b1ff0ee7ede%29%3B%0A%20%20%20%20%20%20%20%20%0A%0A%20%20%20%20%20%20%20%20marker_7fc4be43096d4e9e9d312e6bffe072ee.bindPopup%28popup_8eda26922dfa430baea7cd5ca227f043%29%0A%20%20%20%20%20%20%20%20%3B%0A%0A%20%20%20%20%20%20%20%20%0A%20%20%20%20%0A%20%20%20%20%0A%20%20%20%20%20%20%20%20%20%20%20%20var%20marker_24fc3a5bfd9d417d91e4273b0ddc884f%20%3D%20L.marker%28%0A%20%20%20%20%20%20%20%20%20%20%20%20%20%20%20%20%5B-41.2887953%2C%20174.7772114%5D%2C%0A%20%20%20%20%20%20%20%20%20%20%20%20%20%20%20%20%7B%7D%0A%20%20%20%20%20%20%20%20%20%20%20%20%29.addTo%28map_e6fd11d9215f49c1a011e3787eb7b42a%29%3B%0A%20%20%20%20%20%20%20%20%0A%20%20%20%20%0A%20%20%20%20%20%20%20%20var%20popup_fdaa521d2e6e4537bd408dfa6af263c0%20%3D%20L.popup%28%7B%22maxWidth%22%3A%20%22100%25%22%7D%29%3B%0A%0A%20%20%20%20%20%20%20%20%0A%20%20%20%20%20%20%20%20%20%20%20%20var%20html_b70250ba1ff2464aadf89129f9b9391a%20%3D%20%24%28%60%3Cdiv%20id%3D%22html_b70250ba1ff2464aadf89129f9b9391a%22%20style%3D%22width%3A%20100.0%25%3B%20height%3A%20100.0%25%3B%22%3EInn%20of%20the%20Prancing%20Pony%27s%20exteriors%3C/div%3E%60%29%5B0%5D%3B%0A%20%20%20%20%20%20%20%20%20%20%20%20popup_fdaa521d2e6e4537bd408dfa6af263c0.setContent%28html_b70250ba1ff2464aadf89129f9b9391a%29%3B%0A%20%20%20%20%20%20%20%20%0A%0A%20%20%20%20%20%20%20%20marker_24fc3a5bfd9d417d91e4273b0ddc884f.bindPopup%28popup_fdaa521d2e6e4537bd408dfa6af263c0%29%0A%20%20%20%20%20%20%20%20%3B%0A%0A%20%20%20%20%20%20%20%20%0A%20%20%20%20%0A%20%20%20%20%0A%20%20%20%20%20%20%20%20%20%20%20%20var%20marker_0b3b3ec8a9584602945bf4f158a8e922%20%3D%20L.marker%28%0A%20%20%20%20%20%20%20%20%20%20%20%20%20%20%20%20%5B-41.1485427%2C%20174.9919508%5D%2C%0A%20%20%20%20%20%20%20%20%20%20%20%20%20%20%20%20%7B%7D%0A%20%20%20%20%20%20%20%20%20%20%20%20%29.addTo%28map_e6fd11d9215f49c1a011e3787eb7b42a%29%3B%0A%20%20%20%20%20%20%20%20%0A%20%20%20%20%0A%20%20%20%20%20%20%20%20var%20popup_abc4254a3d824932859e5d193ef4eb8e%20%3D%20L.popup%28%7B%22maxWidth%22%3A%20%22100%25%22%7D%29%3B%0A%0A%20%20%20%20%20%20%20%20%0A%20%20%20%20%20%20%20%20%20%20%20%20var%20html_6cc118fd876444d9a6b61b6a0c562c05%20%3D%20%24%28%60%3Cdiv%20id%3D%22html_6cc118fd876444d9a6b61b6a0c562c05%22%20style%3D%22width%3A%20100.0%25%3B%20height%3A%20100.0%25%3B%22%3Eexteriors%20of%20Moria%3C/div%3E%60%29%5B0%5D%3B%0A%20%20%20%20%20%20%20%20%20%20%20%20popup_abc4254a3d824932859e5d193ef4eb8e.setContent%28html_6cc118fd876444d9a6b61b6a0c562c05%29%3B%0A%20%20%20%20%20%20%20%20%0A%0A%20%20%20%20%20%20%20%20marker_0b3b3ec8a9584602945bf4f158a8e922.bindPopup%28popup_abc4254a3d824932859e5d193ef4eb8e%29%0A%20%20%20%20%20%20%20%20%3B%0A%0A%20%20%20%20%20%20%20%20%0A%20%20%20%20%0A%20%20%20%20%0A%20%20%20%20%20%20%20%20%20%20%20%20var%20marker_4d610ec723cb4fe2a34332f4f7d4e93e%20%3D%20L.marker%28%0A%20%20%20%20%20%20%20%20%20%20%20%20%20%20%20%20%5B-41.5000831%2C%20172.8344077%5D%2C%0A%20%20%20%20%20%20%20%20%20%20%20%20%20%20%20%20%7B%7D%0A%20%20%20%20%20%20%20%20%20%20%20%20%29.addTo%28map_e6fd11d9215f49c1a011e3787eb7b42a%29%3B%0A%20%20%20%20%20%20%20%20%0A%20%20%20%20%0A%20%20%20%20%20%20%20%20var%20popup_73614ecefc4c4adca1ce910b14c1c98e%20%3D%20L.popup%28%7B%22maxWidth%22%3A%20%22100%25%22%7D%29%3B%0A%0A%20%20%20%20%20%20%20%20%0A%20%20%20%20%20%20%20%20%20%20%20%20var%20html_125e73afefb84deeb36dcd935536d636%20%3D%20%24%28%60%3Cdiv%20id%3D%22html_125e73afefb84deeb36dcd935536d636%22%20style%3D%22width%3A%20100.0%25%3B%20height%3A%20100.0%25%3B%22%3EMordor%20prologue%20scene%3C/div%3E%60%29%5B0%5D%3B%0A%20%20%20%20%20%20%20%20%20%20%20%20popup_73614ecefc4c4adca1ce910b14c1c98e.setContent%28html_125e73afefb84deeb36dcd935536d636%29%3B%0A%20%20%20%20%20%20%20%20%0A%0A%20%20%20%20%20%20%20%20marker_4d610ec723cb4fe2a34332f4f7d4e93e.bindPopup%28popup_73614ecefc4c4adca1ce910b14c1c98e%29%0A%20%20%20%20%20%20%20%20%3B%0A%0A%20%20%20%20%20%20%20%20%0A%20%20%20%20%0A%3C/script%3E onload=\"this.contentDocument.open();this.contentDocument.write(    decodeURIComponent(this.getAttribute('data-html')));this.contentDocument.close();\" allowfullscreen webkitallowfullscreen mozallowfullscreen></iframe></div></div>"
      ],
      "text/plain": [
       "<folium.folium.Map at 0x7f3826bc4390>"
      ]
     },
     "execution_count": 44,
     "metadata": {},
     "output_type": "execute_result"
    }
   ],
   "source": [
    "map = folium.Map(location=locationlist[0], zoom_start=6)\n",
    "for point in range(0, len(locations_df['latitude'])):\n",
    "    folium.Marker(locationlist[point], popup=locations_df['movie_location'][point]).add_to(map)\n",
    "map"
   ]
  },
  {
   "cell_type": "code",
   "execution_count": 49,
   "id": "087f5114",
   "metadata": {
    "collapsed": true
   },
   "outputs": [
    {
     "data": {
      "text/html": [
       "<div style=\"width:100%;\"><div style=\"position:relative;width:100%;height:0;padding-bottom:60%;\"><span style=\"color:#565656\">Make this Notebook Trusted to load map: File -> Trust Notebook</span><iframe src=\"about:blank\" style=\"position:absolute;width:100%;height:100%;left:0;top:0;border:none !important;\" data-html=%3C%21DOCTYPE%20html%3E%0A%3Chead%3E%20%20%20%20%0A%20%20%20%20%3Cmeta%20http-equiv%3D%22content-type%22%20content%3D%22text/html%3B%20charset%3DUTF-8%22%20/%3E%0A%20%20%20%20%0A%20%20%20%20%20%20%20%20%3Cscript%3E%0A%20%20%20%20%20%20%20%20%20%20%20%20L_NO_TOUCH%20%3D%20false%3B%0A%20%20%20%20%20%20%20%20%20%20%20%20L_DISABLE_3D%20%3D%20false%3B%0A%20%20%20%20%20%20%20%20%3C/script%3E%0A%20%20%20%20%0A%20%20%20%20%3Cstyle%3Ehtml%2C%20body%20%7Bwidth%3A%20100%25%3Bheight%3A%20100%25%3Bmargin%3A%200%3Bpadding%3A%200%3B%7D%3C/style%3E%0A%20%20%20%20%3Cstyle%3E%23map%20%7Bposition%3Aabsolute%3Btop%3A0%3Bbottom%3A0%3Bright%3A0%3Bleft%3A0%3B%7D%3C/style%3E%0A%20%20%20%20%3Cscript%20src%3D%22https%3A//cdn.jsdelivr.net/npm/leaflet%401.6.0/dist/leaflet.js%22%3E%3C/script%3E%0A%20%20%20%20%3Cscript%20src%3D%22https%3A//code.jquery.com/jquery-1.12.4.min.js%22%3E%3C/script%3E%0A%20%20%20%20%3Cscript%20src%3D%22https%3A//maxcdn.bootstrapcdn.com/bootstrap/3.2.0/js/bootstrap.min.js%22%3E%3C/script%3E%0A%20%20%20%20%3Cscript%20src%3D%22https%3A//cdnjs.cloudflare.com/ajax/libs/Leaflet.awesome-markers/2.0.2/leaflet.awesome-markers.js%22%3E%3C/script%3E%0A%20%20%20%20%3Clink%20rel%3D%22stylesheet%22%20href%3D%22https%3A//cdn.jsdelivr.net/npm/leaflet%401.6.0/dist/leaflet.css%22/%3E%0A%20%20%20%20%3Clink%20rel%3D%22stylesheet%22%20href%3D%22https%3A//maxcdn.bootstrapcdn.com/bootstrap/3.2.0/css/bootstrap.min.css%22/%3E%0A%20%20%20%20%3Clink%20rel%3D%22stylesheet%22%20href%3D%22https%3A//maxcdn.bootstrapcdn.com/bootstrap/3.2.0/css/bootstrap-theme.min.css%22/%3E%0A%20%20%20%20%3Clink%20rel%3D%22stylesheet%22%20href%3D%22https%3A//maxcdn.bootstrapcdn.com/font-awesome/4.6.3/css/font-awesome.min.css%22/%3E%0A%20%20%20%20%3Clink%20rel%3D%22stylesheet%22%20href%3D%22https%3A//cdnjs.cloudflare.com/ajax/libs/Leaflet.awesome-markers/2.0.2/leaflet.awesome-markers.css%22/%3E%0A%20%20%20%20%3Clink%20rel%3D%22stylesheet%22%20href%3D%22https%3A//cdn.jsdelivr.net/gh/python-visualization/folium/folium/templates/leaflet.awesome.rotate.min.css%22/%3E%0A%20%20%20%20%0A%20%20%20%20%20%20%20%20%20%20%20%20%3Cmeta%20name%3D%22viewport%22%20content%3D%22width%3Ddevice-width%2C%0A%20%20%20%20%20%20%20%20%20%20%20%20%20%20%20%20initial-scale%3D1.0%2C%20maximum-scale%3D1.0%2C%20user-scalable%3Dno%22%20/%3E%0A%20%20%20%20%20%20%20%20%20%20%20%20%3Cstyle%3E%0A%20%20%20%20%20%20%20%20%20%20%20%20%20%20%20%20%23map_b1607fd9fa0c43428a2aac56671f6e74%20%7B%0A%20%20%20%20%20%20%20%20%20%20%20%20%20%20%20%20%20%20%20%20position%3A%20relative%3B%0A%20%20%20%20%20%20%20%20%20%20%20%20%20%20%20%20%20%20%20%20width%3A%20100.0%25%3B%0A%20%20%20%20%20%20%20%20%20%20%20%20%20%20%20%20%20%20%20%20height%3A%20100.0%25%3B%0A%20%20%20%20%20%20%20%20%20%20%20%20%20%20%20%20%20%20%20%20left%3A%200.0%25%3B%0A%20%20%20%20%20%20%20%20%20%20%20%20%20%20%20%20%20%20%20%20top%3A%200.0%25%3B%0A%20%20%20%20%20%20%20%20%20%20%20%20%20%20%20%20%7D%0A%20%20%20%20%20%20%20%20%20%20%20%20%3C/style%3E%0A%20%20%20%20%20%20%20%20%0A%3C/head%3E%0A%3Cbody%3E%20%20%20%20%0A%20%20%20%20%0A%20%20%20%20%20%20%20%20%20%20%20%20%3Cdiv%20class%3D%22folium-map%22%20id%3D%22map_b1607fd9fa0c43428a2aac56671f6e74%22%20%3E%3C/div%3E%0A%20%20%20%20%20%20%20%20%0A%3C/body%3E%0A%3Cscript%3E%20%20%20%20%0A%20%20%20%20%0A%20%20%20%20%20%20%20%20%20%20%20%20var%20map_b1607fd9fa0c43428a2aac56671f6e74%20%3D%20L.map%28%0A%20%20%20%20%20%20%20%20%20%20%20%20%20%20%20%20%22map_b1607fd9fa0c43428a2aac56671f6e74%22%2C%0A%20%20%20%20%20%20%20%20%20%20%20%20%20%20%20%20%7B%0A%20%20%20%20%20%20%20%20%20%20%20%20%20%20%20%20%20%20%20%20center%3A%20%5B-41.2887953%2C%20174.7772114%5D%2C%0A%20%20%20%20%20%20%20%20%20%20%20%20%20%20%20%20%20%20%20%20crs%3A%20L.CRS.EPSG3857%2C%0A%20%20%20%20%20%20%20%20%20%20%20%20%20%20%20%20%20%20%20%20zoom%3A%206%2C%0A%20%20%20%20%20%20%20%20%20%20%20%20%20%20%20%20%20%20%20%20zoomControl%3A%20true%2C%0A%20%20%20%20%20%20%20%20%20%20%20%20%20%20%20%20%20%20%20%20preferCanvas%3A%20false%2C%0A%20%20%20%20%20%20%20%20%20%20%20%20%20%20%20%20%7D%0A%20%20%20%20%20%20%20%20%20%20%20%20%29%3B%0A%0A%20%20%20%20%20%20%20%20%20%20%20%20%0A%0A%20%20%20%20%20%20%20%20%0A%20%20%20%20%0A%20%20%20%20%20%20%20%20%20%20%20%20var%20tile_layer_25704f04966f4a20a70d7cfeb1366b7a%20%3D%20L.tileLayer%28%0A%20%20%20%20%20%20%20%20%20%20%20%20%20%20%20%20%22https%3A//%7Bs%7D.tile.openstreetmap.org/%7Bz%7D/%7Bx%7D/%7By%7D.png%22%2C%0A%20%20%20%20%20%20%20%20%20%20%20%20%20%20%20%20%7B%22attribution%22%3A%20%22Data%20by%20%5Cu0026copy%3B%20%5Cu003ca%20href%3D%5C%22http%3A//openstreetmap.org%5C%22%5Cu003eOpenStreetMap%5Cu003c/a%5Cu003e%2C%20under%20%5Cu003ca%20href%3D%5C%22http%3A//www.openstreetmap.org/copyright%5C%22%5Cu003eODbL%5Cu003c/a%5Cu003e.%22%2C%20%22detectRetina%22%3A%20false%2C%20%22maxNativeZoom%22%3A%2018%2C%20%22maxZoom%22%3A%2018%2C%20%22minZoom%22%3A%200%2C%20%22noWrap%22%3A%20false%2C%20%22opacity%22%3A%201%2C%20%22subdomains%22%3A%20%22abc%22%2C%20%22tms%22%3A%20false%7D%0A%20%20%20%20%20%20%20%20%20%20%20%20%29.addTo%28map_b1607fd9fa0c43428a2aac56671f6e74%29%3B%0A%20%20%20%20%20%20%20%20%0A%20%20%20%20%0A%20%20%20%20%20%20%20%20%20%20%20%20var%20marker_463c6a41f3134fac9ff998eb68843071%20%3D%20L.marker%28%0A%20%20%20%20%20%20%20%20%20%20%20%20%20%20%20%20%5B-41.2887953%2C%20174.7772114%5D%2C%0A%20%20%20%20%20%20%20%20%20%20%20%20%20%20%20%20%7B%7D%0A%20%20%20%20%20%20%20%20%20%20%20%20%29.addTo%28map_b1607fd9fa0c43428a2aac56671f6e74%29%3B%0A%20%20%20%20%20%20%20%20%0A%20%20%20%20%0A%20%20%20%20%20%20%20%20var%20popup_cf73bbfab5994145a7b7335c7d5e400e%20%3D%20L.popup%28%7B%22maxWidth%22%3A%20%22100%25%22%7D%29%3B%0A%0A%20%20%20%20%20%20%20%20%0A%20%20%20%20%20%20%20%20%20%20%20%20var%20html_c02e9c8e9c78436696efc70c22811202%20%3D%20%24%28%60%3Cdiv%20id%3D%22html_c02e9c8e9c78436696efc70c22811202%22%20style%3D%22width%3A%20100.0%25%3B%20height%3A%20100.0%25%3B%22%3EBree%3C/div%3E%60%29%5B0%5D%3B%0A%20%20%20%20%20%20%20%20%20%20%20%20popup_cf73bbfab5994145a7b7335c7d5e400e.setContent%28html_c02e9c8e9c78436696efc70c22811202%29%3B%0A%20%20%20%20%20%20%20%20%0A%0A%20%20%20%20%20%20%20%20marker_463c6a41f3134fac9ff998eb68843071.bindPopup%28popup_cf73bbfab5994145a7b7335c7d5e400e%29%0A%20%20%20%20%20%20%20%20%3B%0A%0A%20%20%20%20%20%20%20%20%0A%20%20%20%20%0A%20%20%20%20%0A%20%20%20%20%20%20%20%20%20%20%20%20var%20marker_fcf910e23bc541749282e510db1678f8%20%3D%20L.marker%28%0A%20%20%20%20%20%20%20%20%20%20%20%20%20%20%20%20%5B-37.7741407%2C%20175.4883742%5D%2C%0A%20%20%20%20%20%20%20%20%20%20%20%20%20%20%20%20%7B%7D%0A%20%20%20%20%20%20%20%20%20%20%20%20%29.addTo%28map_b1607fd9fa0c43428a2aac56671f6e74%29%3B%0A%20%20%20%20%20%20%20%20%0A%20%20%20%20%0A%20%20%20%20%20%20%20%20var%20popup_902a88baad6742bd92e270b8b901ee32%20%3D%20L.popup%28%7B%22maxWidth%22%3A%20%22100%25%22%7D%29%3B%0A%0A%20%20%20%20%20%20%20%20%0A%20%20%20%20%20%20%20%20%20%20%20%20var%20html_84984a2a8e4e4d03b7d989b0ce95c96a%20%3D%20%24%28%60%3Cdiv%20id%3D%22html_84984a2a8e4e4d03b7d989b0ce95c96a%22%20style%3D%22width%3A%20100.0%25%3B%20height%3A%20100.0%25%3B%22%3EHobbiton%3C/div%3E%60%29%5B0%5D%3B%0A%20%20%20%20%20%20%20%20%20%20%20%20popup_902a88baad6742bd92e270b8b901ee32.setContent%28html_84984a2a8e4e4d03b7d989b0ce95c96a%29%3B%0A%20%20%20%20%20%20%20%20%0A%0A%20%20%20%20%20%20%20%20marker_fcf910e23bc541749282e510db1678f8.bindPopup%28popup_902a88baad6742bd92e270b8b901ee32%29%0A%20%20%20%20%20%20%20%20%3B%0A%0A%20%20%20%20%20%20%20%20%0A%20%20%20%20%0A%20%20%20%20%0A%20%20%20%20%20%20%20%20%20%20%20%20var%20marker_ac49c92f58f6465ebd2660969b041736%20%3D%20L.marker%28%0A%20%20%20%20%20%20%20%20%20%20%20%20%20%20%20%20%5B-41.0495879%2C%20175.1791197%5D%2C%0A%20%20%20%20%20%20%20%20%20%20%20%20%20%20%20%20%7B%7D%0A%20%20%20%20%20%20%20%20%20%20%20%20%29.addTo%28map_b1607fd9fa0c43428a2aac56671f6e74%29%3B%0A%20%20%20%20%20%20%20%20%0A%20%20%20%20%0A%20%20%20%20%20%20%20%20var%20popup_7943bb04858a48a58bb67626a75b3278%20%3D%20L.popup%28%7B%22maxWidth%22%3A%20%22100%25%22%7D%29%3B%0A%0A%20%20%20%20%20%20%20%20%0A%20%20%20%20%20%20%20%20%20%20%20%20var%20html_c2254e2fc6bb4d31b82d2ef302d618cb%20%3D%20%24%28%60%3Cdiv%20id%3D%22html_c2254e2fc6bb4d31b82d2ef302d618cb%22%20style%3D%22width%3A%20100.0%25%3B%20height%3A%20100.0%25%3B%22%3ERivendell%20River%20Anduin%3C/div%3E%60%29%5B0%5D%3B%0A%20%20%20%20%20%20%20%20%20%20%20%20popup_7943bb04858a48a58bb67626a75b3278.setContent%28html_c2254e2fc6bb4d31b82d2ef302d618cb%29%3B%0A%20%20%20%20%20%20%20%20%0A%0A%20%20%20%20%20%20%20%20marker_ac49c92f58f6465ebd2660969b041736.bindPopup%28popup_7943bb04858a48a58bb67626a75b3278%29%0A%20%20%20%20%20%20%20%20%3B%0A%0A%20%20%20%20%20%20%20%20%0A%20%20%20%20%0A%20%20%20%20%0A%20%20%20%20%20%20%20%20%20%20%20%20var%20marker_87ad25ddaa814ca789f56f7c118114a2%20%3D%20L.marker%28%0A%20%20%20%20%20%20%20%20%20%20%20%20%20%20%20%20%5B-45.0321923%2C%20168.661%5D%2C%0A%20%20%20%20%20%20%20%20%20%20%20%20%20%20%20%20%7B%7D%0A%20%20%20%20%20%20%20%20%20%20%20%20%29.addTo%28map_b1607fd9fa0c43428a2aac56671f6e74%29%3B%0A%20%20%20%20%20%20%20%20%0A%20%20%20%20%0A%20%20%20%20%20%20%20%20var%20popup_514ab309c3784ab1bb3353dc85b2cd56%20%3D%20L.popup%28%7B%22maxWidth%22%3A%20%22100%25%22%7D%29%3B%0A%0A%20%20%20%20%20%20%20%20%0A%20%20%20%20%20%20%20%20%20%20%20%20var%20html_adc80840aaf54a3984d7c4f74b76ecaa%20%3D%20%24%28%60%3Cdiv%20id%3D%22html_adc80840aaf54a3984d7c4f74b76ecaa%22%20style%3D%22width%3A%20100.0%25%3B%20height%3A%20100.0%25%3B%22%3EFord%20of%20Bruinen%20River%20Anduin%20Amon%20Hen%3C/div%3E%60%29%5B0%5D%3B%0A%20%20%20%20%20%20%20%20%20%20%20%20popup_514ab309c3784ab1bb3353dc85b2cd56.setContent%28html_adc80840aaf54a3984d7c4f74b76ecaa%29%3B%0A%20%20%20%20%20%20%20%20%0A%0A%20%20%20%20%20%20%20%20marker_87ad25ddaa814ca789f56f7c118114a2.bindPopup%28popup_514ab309c3784ab1bb3353dc85b2cd56%29%0A%20%20%20%20%20%20%20%20%3B%0A%0A%20%20%20%20%20%20%20%20%0A%20%20%20%20%0A%20%20%20%20%0A%20%20%20%20%20%20%20%20%20%20%20%20var%20marker_013a577ba8bf4e338e9cedbab7d42fc7%20%3D%20L.marker%28%0A%20%20%20%20%20%20%20%20%20%20%20%20%20%20%20%20%5B-44.6685455%2C%20167.92803%5D%2C%0A%20%20%20%20%20%20%20%20%20%20%20%20%20%20%20%20%7B%7D%0A%20%20%20%20%20%20%20%20%20%20%20%20%29.addTo%28map_b1607fd9fa0c43428a2aac56671f6e74%29%3B%0A%20%20%20%20%20%20%20%20%0A%20%20%20%20%0A%20%20%20%20%20%20%20%20var%20popup_99eb0474e27a4eef8643abda1ce33a26%20%3D%20L.popup%28%7B%22maxWidth%22%3A%20%22100%25%22%7D%29%3B%0A%0A%20%20%20%20%20%20%20%20%0A%20%20%20%20%20%20%20%20%20%20%20%20var%20html_56ab1721a64644319d0e3d0d370a91d1%20%3D%20%24%28%60%3Cdiv%20id%3D%22html_56ab1721a64644319d0e3d0d370a91d1%22%20style%3D%22width%3A%20100.0%25%3B%20height%3A%20100.0%25%3B%22%3E%3C/div%3E%60%29%5B0%5D%3B%0A%20%20%20%20%20%20%20%20%20%20%20%20popup_99eb0474e27a4eef8643abda1ce33a26.setContent%28html_56ab1721a64644319d0e3d0d370a91d1%29%3B%0A%20%20%20%20%20%20%20%20%0A%0A%20%20%20%20%20%20%20%20marker_013a577ba8bf4e338e9cedbab7d42fc7.bindPopup%28popup_99eb0474e27a4eef8643abda1ce33a26%29%0A%20%20%20%20%20%20%20%20%3B%0A%0A%20%20%20%20%20%20%20%20%0A%20%20%20%20%0A%20%20%20%20%0A%20%20%20%20%20%20%20%20%20%20%20%20var%20marker_858f99809565473a98df3880c6b29a3c%20%3D%20L.marker%28%0A%20%20%20%20%20%20%20%20%20%20%20%20%20%20%20%20%5B-37.3913264%2C%20174.717334%5D%2C%0A%20%20%20%20%20%20%20%20%20%20%20%20%20%20%20%20%7B%7D%0A%20%20%20%20%20%20%20%20%20%20%20%20%29.addTo%28map_b1607fd9fa0c43428a2aac56671f6e74%29%3B%0A%20%20%20%20%20%20%20%20%0A%20%20%20%20%0A%20%20%20%20%20%20%20%20var%20popup_4534175eb3e64e148d4632ba601442ae%20%3D%20L.popup%28%7B%22maxWidth%22%3A%20%22100%25%22%7D%29%3B%0A%0A%20%20%20%20%20%20%20%20%0A%20%20%20%20%20%20%20%20%20%20%20%20var%20html_20dbddb405d740d8bf9552358230482d%20%3D%20%24%28%60%3Cdiv%20id%3D%22html_20dbddb405d740d8bf9552358230482d%22%20style%3D%22width%3A%20100.0%25%3B%20height%3A%20100.0%25%3B%22%3EWeathertop%3C/div%3E%60%29%5B0%5D%3B%0A%20%20%20%20%20%20%20%20%20%20%20%20popup_4534175eb3e64e148d4632ba601442ae.setContent%28html_20dbddb405d740d8bf9552358230482d%29%3B%0A%20%20%20%20%20%20%20%20%0A%0A%20%20%20%20%20%20%20%20marker_858f99809565473a98df3880c6b29a3c.bindPopup%28popup_4534175eb3e64e148d4632ba601442ae%29%0A%20%20%20%20%20%20%20%20%3B%0A%0A%20%20%20%20%20%20%20%20%0A%20%20%20%20%0A%20%20%20%20%0A%20%20%20%20%20%20%20%20%20%20%20%20var%20marker_1f022715b08f404199bd119490c1eee1%20%3D%20L.marker%28%0A%20%20%20%20%20%20%20%20%20%20%20%20%20%20%20%20%5B-41.0885537%2C%20175.3505731%5D%2C%0A%20%20%20%20%20%20%20%20%20%20%20%20%20%20%20%20%7B%7D%0A%20%20%20%20%20%20%20%20%20%20%20%20%29.addTo%28map_b1607fd9fa0c43428a2aac56671f6e74%29%3B%0A%20%20%20%20%20%20%20%20%0A%20%20%20%20%0A%20%20%20%20%20%20%20%20var%20popup_48f8682adf4548d0885bf2d1bc938ec3%20%3D%20L.popup%28%7B%22maxWidth%22%3A%20%22100%25%22%7D%29%3B%0A%0A%20%20%20%20%20%20%20%20%0A%20%20%20%20%20%20%20%20%20%20%20%20var%20html_8211faec1f254737b54e4caf390adf8e%20%3D%20%24%28%60%3Cdiv%20id%3D%22html_8211faec1f254737b54e4caf390adf8e%22%20style%3D%22width%3A%20100.0%25%3B%20height%3A%20100.0%25%3B%22%3ELothlorien%3C/div%3E%60%29%5B0%5D%3B%0A%20%20%20%20%20%20%20%20%20%20%20%20popup_48f8682adf4548d0885bf2d1bc938ec3.setContent%28html_8211faec1f254737b54e4caf390adf8e%29%3B%0A%20%20%20%20%20%20%20%20%0A%0A%20%20%20%20%20%20%20%20marker_1f022715b08f404199bd119490c1eee1.bindPopup%28popup_48f8682adf4548d0885bf2d1bc938ec3%29%0A%20%20%20%20%20%20%20%20%3B%0A%0A%20%20%20%20%20%20%20%20%0A%20%20%20%20%0A%20%20%20%20%0A%20%20%20%20%20%20%20%20%20%20%20%20var%20marker_2fcfa969807e4f2d8a42631f943c4c4c%20%3D%20L.marker%28%0A%20%20%20%20%20%20%20%20%20%20%20%20%20%20%20%20%5B-39.4772125%2C%20175.6697752%5D%2C%0A%20%20%20%20%20%20%20%20%20%20%20%20%20%20%20%20%7B%7D%0A%20%20%20%20%20%20%20%20%20%20%20%20%29.addTo%28map_b1607fd9fa0c43428a2aac56671f6e74%29%3B%0A%20%20%20%20%20%20%20%20%0A%20%20%20%20%0A%20%20%20%20%20%20%20%20var%20popup_c4b34d3613e24b0791b7dbaae9e03cef%20%3D%20L.popup%28%7B%22maxWidth%22%3A%20%22100%25%22%7D%29%3B%0A%0A%20%20%20%20%20%20%20%20%0A%20%20%20%20%20%20%20%20%20%20%20%20var%20html_b50a48971abf4a6c9ec1d0d8a2017a67%20%3D%20%24%28%60%3Cdiv%20id%3D%22html_b50a48971abf4a6c9ec1d0d8a2017a67%22%20style%3D%22width%3A%20100.0%25%3B%20height%3A%20100.0%25%3B%22%3E%3C/div%3E%60%29%5B0%5D%3B%0A%20%20%20%20%20%20%20%20%20%20%20%20popup_c4b34d3613e24b0791b7dbaae9e03cef.setContent%28html_b50a48971abf4a6c9ec1d0d8a2017a67%29%3B%0A%20%20%20%20%20%20%20%20%0A%0A%20%20%20%20%20%20%20%20marker_2fcfa969807e4f2d8a42631f943c4c4c.bindPopup%28popup_c4b34d3613e24b0791b7dbaae9e03cef%29%0A%20%20%20%20%20%20%20%20%3B%0A%0A%20%20%20%20%20%20%20%20%0A%20%20%20%20%0A%20%20%20%20%0A%20%20%20%20%20%20%20%20%20%20%20%20var%20marker_4e9856d15ad742c6af04b301b4b1236a%20%3D%20L.marker%28%0A%20%20%20%20%20%20%20%20%20%20%20%20%20%20%20%20%5B-39.7665195%2C%20175.8152587%5D%2C%0A%20%20%20%20%20%20%20%20%20%20%20%20%20%20%20%20%7B%7D%0A%20%20%20%20%20%20%20%20%20%20%20%20%29.addTo%28map_b1607fd9fa0c43428a2aac56671f6e74%29%3B%0A%20%20%20%20%20%20%20%20%0A%20%20%20%20%0A%20%20%20%20%20%20%20%20var%20popup_cc78d8eaabcc4cbfad51c2ff9d40e664%20%3D%20L.popup%28%7B%22maxWidth%22%3A%20%22100%25%22%7D%29%3B%0A%0A%20%20%20%20%20%20%20%20%0A%20%20%20%20%20%20%20%20%20%20%20%20var%20html_b0e6f420f1f2437c80e2786f17b7a3c6%20%3D%20%24%28%60%3Cdiv%20id%3D%22html_b0e6f420f1f2437c80e2786f17b7a3c6%22%20style%3D%22width%3A%20100.0%25%3B%20height%3A%20100.0%25%3B%22%3ERiver%20Anduin%3C/div%3E%60%29%5B0%5D%3B%0A%20%20%20%20%20%20%20%20%20%20%20%20popup_cc78d8eaabcc4cbfad51c2ff9d40e664.setContent%28html_b0e6f420f1f2437c80e2786f17b7a3c6%29%3B%0A%20%20%20%20%20%20%20%20%0A%0A%20%20%20%20%20%20%20%20marker_4e9856d15ad742c6af04b301b4b1236a.bindPopup%28popup_cc78d8eaabcc4cbfad51c2ff9d40e664%29%0A%20%20%20%20%20%20%20%20%3B%0A%0A%20%20%20%20%20%20%20%20%0A%20%20%20%20%0A%20%20%20%20%0A%20%20%20%20%20%20%20%20%20%20%20%20var%20marker_c34ecd34309149158b3a11212b3bb9b5%20%3D%20L.marker%28%0A%20%20%20%20%20%20%20%20%20%20%20%20%20%20%20%20%5B-39.1727294%2C%20175.4037274%5D%2C%0A%20%20%20%20%20%20%20%20%20%20%20%20%20%20%20%20%7B%7D%0A%20%20%20%20%20%20%20%20%20%20%20%20%29.addTo%28map_b1607fd9fa0c43428a2aac56671f6e74%29%3B%0A%20%20%20%20%20%20%20%20%0A%20%20%20%20%0A%20%20%20%20%20%20%20%20var%20popup_2f2e63d8ed5e414db1f50d62e86115bf%20%3D%20L.popup%28%7B%22maxWidth%22%3A%20%22100%25%22%7D%29%3B%0A%0A%20%20%20%20%20%20%20%20%0A%20%20%20%20%20%20%20%20%20%20%20%20var%20html_da22614800bb481dba1d6b604ddf9ce8%20%3D%20%24%28%60%3Cdiv%20id%3D%22html_da22614800bb481dba1d6b604ddf9ce8%22%20style%3D%22width%3A%20100.0%25%3B%20height%3A%20100.0%25%3B%22%3EMordor%3C/div%3E%60%29%5B0%5D%3B%0A%20%20%20%20%20%20%20%20%20%20%20%20popup_2f2e63d8ed5e414db1f50d62e86115bf.setContent%28html_da22614800bb481dba1d6b604ddf9ce8%29%3B%0A%20%20%20%20%20%20%20%20%0A%0A%20%20%20%20%20%20%20%20marker_c34ecd34309149158b3a11212b3bb9b5.bindPopup%28popup_2f2e63d8ed5e414db1f50d62e86115bf%29%0A%20%20%20%20%20%20%20%20%3B%0A%0A%20%20%20%20%20%20%20%20%0A%20%20%20%20%0A%20%20%20%20%0A%20%20%20%20%20%20%20%20%20%20%20%20var%20marker_43dac21d62ca4dc5b237f91b73ed33ea%20%3D%20L.marker%28%0A%20%20%20%20%20%20%20%20%20%20%20%20%20%20%20%20%5B-45.08880415%2C%20168.52111077909876%5D%2C%0A%20%20%20%20%20%20%20%20%20%20%20%20%20%20%20%20%7B%7D%0A%20%20%20%20%20%20%20%20%20%20%20%20%29.addTo%28map_b1607fd9fa0c43428a2aac56671f6e74%29%3B%0A%20%20%20%20%20%20%20%20%0A%20%20%20%20%0A%20%20%20%20%20%20%20%20var%20popup_54feff9e9daa444683ab4f59207d17de%20%3D%20L.popup%28%7B%22maxWidth%22%3A%20%22100%25%22%7D%29%3B%0A%0A%20%20%20%20%20%20%20%20%0A%20%20%20%20%20%20%20%20%20%20%20%20var%20html_fcc9f59e66f74bdebfb2bf30bf62c199%20%3D%20%24%28%60%3Cdiv%20id%3D%22html_fcc9f59e66f74bdebfb2bf30bf62c199%22%20style%3D%22width%3A%20100.0%25%3B%20height%3A%20100.0%25%3B%22%3EAmon%20Hen%3C/div%3E%60%29%5B0%5D%3B%0A%20%20%20%20%20%20%20%20%20%20%20%20popup_54feff9e9daa444683ab4f59207d17de.setContent%28html_fcc9f59e66f74bdebfb2bf30bf62c199%29%3B%0A%20%20%20%20%20%20%20%20%0A%0A%20%20%20%20%20%20%20%20marker_43dac21d62ca4dc5b237f91b73ed33ea.bindPopup%28popup_54feff9e9daa444683ab4f59207d17de%29%0A%20%20%20%20%20%20%20%20%3B%0A%0A%20%20%20%20%20%20%20%20%0A%20%20%20%20%0A%20%20%20%20%0A%20%20%20%20%20%20%20%20%20%20%20%20var%20marker_f53ccd457cc34b018daca230fee2914d%20%3D%20L.marker%28%0A%20%20%20%20%20%20%20%20%20%20%20%20%20%20%20%20%5B-45.36653%2C%20168.11838%5D%2C%0A%20%20%20%20%20%20%20%20%20%20%20%20%20%20%20%20%7B%7D%0A%20%20%20%20%20%20%20%20%20%20%20%20%29.addTo%28map_b1607fd9fa0c43428a2aac56671f6e74%29%3B%0A%20%20%20%20%20%20%20%20%0A%20%20%20%20%0A%20%20%20%20%20%20%20%20var%20popup_a524d01b505b499fb6582de0b8d56174%20%3D%20L.popup%28%7B%22maxWidth%22%3A%20%22100%25%22%7D%29%3B%0A%0A%20%20%20%20%20%20%20%20%0A%20%20%20%20%20%20%20%20%20%20%20%20var%20html_eb82da78f22c4e32915833a9d18b3754%20%3D%20%24%28%60%3Cdiv%20id%3D%22html_eb82da78f22c4e32915833a9d18b3754%22%20style%3D%22width%3A%20100.0%25%3B%20height%3A%20100.0%25%3B%22%3EAmon%20Hen%3C/div%3E%60%29%5B0%5D%3B%0A%20%20%20%20%20%20%20%20%20%20%20%20popup_a524d01b505b499fb6582de0b8d56174.setContent%28html_eb82da78f22c4e32915833a9d18b3754%29%3B%0A%20%20%20%20%20%20%20%20%0A%0A%20%20%20%20%20%20%20%20marker_f53ccd457cc34b018daca230fee2914d.bindPopup%28popup_a524d01b505b499fb6582de0b8d56174%29%0A%20%20%20%20%20%20%20%20%3B%0A%0A%20%20%20%20%20%20%20%20%0A%20%20%20%20%0A%20%20%20%20%0A%20%20%20%20%20%20%20%20%20%20%20%20var%20marker_e13e2c90c3ba4c7683c10d863307a4c2%20%3D%20L.marker%28%0A%20%20%20%20%20%20%20%20%20%20%20%20%20%20%20%20%5B-44.6941691%2C%20169.1364637%5D%2C%0A%20%20%20%20%20%20%20%20%20%20%20%20%20%20%20%20%7B%7D%0A%20%20%20%20%20%20%20%20%20%20%20%20%29.addTo%28map_b1607fd9fa0c43428a2aac56671f6e74%29%3B%0A%20%20%20%20%20%20%20%20%0A%20%20%20%20%0A%20%20%20%20%20%20%20%20var%20popup_9f4996c5ad2a464fab183335abd9aa6d%20%3D%20L.popup%28%7B%22maxWidth%22%3A%20%22100%25%22%7D%29%3B%0A%0A%20%20%20%20%20%20%20%20%0A%20%20%20%20%20%20%20%20%20%20%20%20var%20html_feadd3b86bb3484f8de8d92931600163%20%3D%20%24%28%60%3Cdiv%20id%3D%22html_feadd3b86bb3484f8de8d92931600163%22%20style%3D%22width%3A%20100.0%25%3B%20height%3A%20100.0%25%3B%22%3EFord%20of%20Bruinen%3C/div%3E%60%29%5B0%5D%3B%0A%20%20%20%20%20%20%20%20%20%20%20%20popup_9f4996c5ad2a464fab183335abd9aa6d.setContent%28html_feadd3b86bb3484f8de8d92931600163%29%3B%0A%20%20%20%20%20%20%20%20%0A%0A%20%20%20%20%20%20%20%20marker_e13e2c90c3ba4c7683c10d863307a4c2.bindPopup%28popup_9f4996c5ad2a464fab183335abd9aa6d%29%0A%20%20%20%20%20%20%20%20%3B%0A%0A%20%20%20%20%20%20%20%20%0A%20%20%20%20%0A%20%20%20%20%0A%20%20%20%20%20%20%20%20%20%20%20%20var%20marker_52af7e8beda143ff8fd132592c027385%20%3D%20L.marker%28%0A%20%20%20%20%20%20%20%20%20%20%20%20%20%20%20%20%5B-43.49417615%2C%20171.8098447584145%5D%2C%0A%20%20%20%20%20%20%20%20%20%20%20%20%20%20%20%20%7B%7D%0A%20%20%20%20%20%20%20%20%20%20%20%20%29.addTo%28map_b1607fd9fa0c43428a2aac56671f6e74%29%3B%0A%20%20%20%20%20%20%20%20%0A%20%20%20%20%0A%20%20%20%20%20%20%20%20var%20popup_b4abe475bd0e48e99e800a7e017b1318%20%3D%20L.popup%28%7B%22maxWidth%22%3A%20%22100%25%22%7D%29%3B%0A%0A%20%20%20%20%20%20%20%20%0A%20%20%20%20%20%20%20%20%20%20%20%20var%20html_ff31bd202d58496e97b139986a84ca31%20%3D%20%24%28%60%3Cdiv%20id%3D%22html_ff31bd202d58496e97b139986a84ca31%22%20style%3D%22width%3A%20100.0%25%3B%20height%3A%20100.0%25%3B%22%3EEdoras%3C/div%3E%60%29%5B0%5D%3B%0A%20%20%20%20%20%20%20%20%20%20%20%20popup_b4abe475bd0e48e99e800a7e017b1318.setContent%28html_ff31bd202d58496e97b139986a84ca31%29%3B%0A%20%20%20%20%20%20%20%20%0A%0A%20%20%20%20%20%20%20%20marker_52af7e8beda143ff8fd132592c027385.bindPopup%28popup_b4abe475bd0e48e99e800a7e017b1318%29%0A%20%20%20%20%20%20%20%20%3B%0A%0A%20%20%20%20%20%20%20%20%0A%20%20%20%20%0A%20%20%20%20%0A%20%20%20%20%20%20%20%20%20%20%20%20var%20marker_522385b1ec594bf896674e28dc8a2eca%20%3D%20L.marker%28%0A%20%20%20%20%20%20%20%20%20%20%20%20%20%20%20%20%5B-41.2887953%2C%20174.7772114%5D%2C%0A%20%20%20%20%20%20%20%20%20%20%20%20%20%20%20%20%7B%7D%0A%20%20%20%20%20%20%20%20%20%20%20%20%29.addTo%28map_b1607fd9fa0c43428a2aac56671f6e74%29%3B%0A%20%20%20%20%20%20%20%20%0A%20%20%20%20%0A%20%20%20%20%20%20%20%20var%20popup_7c574b7fc9824beaa6b588919ad05324%20%3D%20L.popup%28%7B%22maxWidth%22%3A%20%22100%25%22%7D%29%3B%0A%0A%20%20%20%20%20%20%20%20%0A%20%20%20%20%20%20%20%20%20%20%20%20var%20html_d0d9cab9178340bd9bd35899a5242633%20%3D%20%24%28%60%3Cdiv%20id%3D%22html_d0d9cab9178340bd9bd35899a5242633%22%20style%3D%22width%3A%20100.0%25%3B%20height%3A%20100.0%25%3B%22%3ERiver%20Anduin%3C/div%3E%60%29%5B0%5D%3B%0A%20%20%20%20%20%20%20%20%20%20%20%20popup_7c574b7fc9824beaa6b588919ad05324.setContent%28html_d0d9cab9178340bd9bd35899a5242633%29%3B%0A%20%20%20%20%20%20%20%20%0A%0A%20%20%20%20%20%20%20%20marker_522385b1ec594bf896674e28dc8a2eca.bindPopup%28popup_7c574b7fc9824beaa6b588919ad05324%29%0A%20%20%20%20%20%20%20%20%3B%0A%0A%20%20%20%20%20%20%20%20%0A%20%20%20%20%0A%20%20%20%20%0A%20%20%20%20%20%20%20%20%20%20%20%20var%20marker_4dce6d245c8b4ab982895349df85d68e%20%3D%20L.marker%28%0A%20%20%20%20%20%20%20%20%20%20%20%20%20%20%20%20%5B-43.586562%2C%20171.21232939964904%5D%2C%0A%20%20%20%20%20%20%20%20%20%20%20%20%20%20%20%20%7B%7D%0A%20%20%20%20%20%20%20%20%20%20%20%20%29.addTo%28map_b1607fd9fa0c43428a2aac56671f6e74%29%3B%0A%20%20%20%20%20%20%20%20%0A%20%20%20%20%0A%20%20%20%20%20%20%20%20var%20popup_9ad572e212bc4439bc319e9251fd952a%20%3D%20L.popup%28%7B%22maxWidth%22%3A%20%22100%25%22%7D%29%3B%0A%0A%20%20%20%20%20%20%20%20%0A%20%20%20%20%20%20%20%20%20%20%20%20var%20html_39d006424cd44deaaa45096eecac8a50%20%3D%20%24%28%60%3Cdiv%20id%3D%22html_39d006424cd44deaaa45096eecac8a50%22%20style%3D%22width%3A%20100.0%25%3B%20height%3A%20100.0%25%3B%22%3Ewaterfalls%20scenes%20of%20Rivendell%3C/div%3E%60%29%5B0%5D%3B%0A%20%20%20%20%20%20%20%20%20%20%20%20popup_9ad572e212bc4439bc319e9251fd952a.setContent%28html_39d006424cd44deaaa45096eecac8a50%29%3B%0A%20%20%20%20%20%20%20%20%0A%0A%20%20%20%20%20%20%20%20marker_4dce6d245c8b4ab982895349df85d68e.bindPopup%28popup_9ad572e212bc4439bc319e9251fd952a%29%0A%20%20%20%20%20%20%20%20%3B%0A%0A%20%20%20%20%20%20%20%20%0A%20%20%20%20%0A%20%20%20%20%0A%20%20%20%20%20%20%20%20%20%20%20%20var%20marker_91de014eb10b446e8455a02221962933%20%3D%20L.marker%28%0A%20%20%20%20%20%20%20%20%20%20%20%20%20%20%20%20%5B-41.10165085%2C%20175.09427325890724%5D%2C%0A%20%20%20%20%20%20%20%20%20%20%20%20%20%20%20%20%7B%7D%0A%20%20%20%20%20%20%20%20%20%20%20%20%29.addTo%28map_b1607fd9fa0c43428a2aac56671f6e74%29%3B%0A%20%20%20%20%20%20%20%20%0A%20%20%20%20%0A%20%20%20%20%20%20%20%20var%20popup_8ff8daeced6a46f09a0cc5bffca83120%20%3D%20L.popup%28%7B%22maxWidth%22%3A%20%22100%25%22%7D%29%3B%0A%0A%20%20%20%20%20%20%20%20%0A%20%20%20%20%20%20%20%20%20%20%20%20var%20html_3d7f5548348048d5b0902a0d66917c57%20%3D%20%24%28%60%3Cdiv%20id%3D%22html_3d7f5548348048d5b0902a0d66917c57%22%20style%3D%22width%3A%20100.0%25%3B%20height%3A%20100.0%25%3B%22%3EGardens%20of%20Isengard%3C/div%3E%60%29%5B0%5D%3B%0A%20%20%20%20%20%20%20%20%20%20%20%20popup_8ff8daeced6a46f09a0cc5bffca83120.setContent%28html_3d7f5548348048d5b0902a0d66917c57%29%3B%0A%20%20%20%20%20%20%20%20%0A%0A%20%20%20%20%20%20%20%20marker_91de014eb10b446e8455a02221962933.bindPopup%28popup_8ff8daeced6a46f09a0cc5bffca83120%29%0A%20%20%20%20%20%20%20%20%3B%0A%0A%20%20%20%20%20%20%20%20%0A%20%20%20%20%0A%20%20%20%20%0A%20%20%20%20%20%20%20%20%20%20%20%20var%20marker_ebf6374006a94ca994b2a2369bfd65f5%20%3D%20L.marker%28%0A%20%20%20%20%20%20%20%20%20%20%20%20%20%20%20%20%5B-41.1240674%2C%20175.0699589%5D%2C%0A%20%20%20%20%20%20%20%20%20%20%20%20%20%20%20%20%7B%7D%0A%20%20%20%20%20%20%20%20%20%20%20%20%29.addTo%28map_b1607fd9fa0c43428a2aac56671f6e74%29%3B%0A%20%20%20%20%20%20%20%20%0A%20%20%20%20%0A%20%20%20%20%20%20%20%20var%20popup_6f8072b9caae402ca1a0bf1aa275a3be%20%3D%20L.popup%28%7B%22maxWidth%22%3A%20%22100%25%22%7D%29%3B%0A%0A%20%20%20%20%20%20%20%20%0A%20%20%20%20%20%20%20%20%20%20%20%20var%20html_1836f5d4adf74c5da7b1cee258e0aee6%20%3D%20%24%28%60%3Cdiv%20id%3D%22html_1836f5d4adf74c5da7b1cee258e0aee6%22%20style%3D%22width%3A%20100.0%25%3B%20height%3A%20100.0%25%3B%22%3E%3C/div%3E%60%29%5B0%5D%3B%0A%20%20%20%20%20%20%20%20%20%20%20%20popup_6f8072b9caae402ca1a0bf1aa275a3be.setContent%28html_1836f5d4adf74c5da7b1cee258e0aee6%29%3B%0A%20%20%20%20%20%20%20%20%0A%0A%20%20%20%20%20%20%20%20marker_ebf6374006a94ca994b2a2369bfd65f5.bindPopup%28popup_6f8072b9caae402ca1a0bf1aa275a3be%29%0A%20%20%20%20%20%20%20%20%3B%0A%0A%20%20%20%20%20%20%20%20%0A%20%20%20%20%0A%20%20%20%20%0A%20%20%20%20%20%20%20%20%20%20%20%20var%20marker_3898f6bc31cb4177bd09b2c5554d3754%20%3D%20L.marker%28%0A%20%20%20%20%20%20%20%20%20%20%20%20%20%20%20%20%5B-41.3061798%2C%20174.8236202%5D%2C%0A%20%20%20%20%20%20%20%20%20%20%20%20%20%20%20%20%7B%7D%0A%20%20%20%20%20%20%20%20%20%20%20%20%29.addTo%28map_b1607fd9fa0c43428a2aac56671f6e74%29%3B%0A%20%20%20%20%20%20%20%20%0A%20%20%20%20%0A%20%20%20%20%20%20%20%20var%20popup_ab4f328a6cab4455994b56d872e2a04d%20%3D%20L.popup%28%7B%22maxWidth%22%3A%20%22100%25%22%7D%29%3B%0A%0A%20%20%20%20%20%20%20%20%0A%20%20%20%20%20%20%20%20%20%20%20%20var%20html_58068450f2424b81a5f4cdac4e3d9c3c%20%3D%20%24%28%60%3Cdiv%20id%3D%22html_58068450f2424b81a5f4cdac4e3d9c3c%22%20style%3D%22width%3A%20100.0%25%3B%20height%3A%20100.0%25%3B%22%3Estudio%3C/div%3E%60%29%5B0%5D%3B%0A%20%20%20%20%20%20%20%20%20%20%20%20popup_ab4f328a6cab4455994b56d872e2a04d.setContent%28html_58068450f2424b81a5f4cdac4e3d9c3c%29%3B%0A%20%20%20%20%20%20%20%20%0A%0A%20%20%20%20%20%20%20%20marker_3898f6bc31cb4177bd09b2c5554d3754.bindPopup%28popup_ab4f328a6cab4455994b56d872e2a04d%29%0A%20%20%20%20%20%20%20%20%3B%0A%0A%20%20%20%20%20%20%20%20%0A%20%20%20%20%0A%20%20%20%20%0A%20%20%20%20%20%20%20%20%20%20%20%20var%20marker_7dd9dc4ec1184e64ba7cfd92134f44c5%20%3D%20L.marker%28%0A%20%20%20%20%20%20%20%20%20%20%20%20%20%20%20%20%5B-44.257483%2C%20170.0994145%5D%2C%0A%20%20%20%20%20%20%20%20%20%20%20%20%20%20%20%20%7B%7D%0A%20%20%20%20%20%20%20%20%20%20%20%20%29.addTo%28map_b1607fd9fa0c43428a2aac56671f6e74%29%3B%0A%20%20%20%20%20%20%20%20%0A%20%20%20%20%0A%20%20%20%20%20%20%20%20var%20popup_19f7774fe8f44284aa257a887bd3b64c%20%3D%20L.popup%28%7B%22maxWidth%22%3A%20%22100%25%22%7D%29%3B%0A%0A%20%20%20%20%20%20%20%20%0A%20%20%20%20%20%20%20%20%20%20%20%20var%20html_500582cb65d44e42bad70b725d4d2167%20%3D%20%24%28%60%3Cdiv%20id%3D%22html_500582cb65d44e42bad70b725d4d2167%22%20style%3D%22width%3A%20100.0%25%3B%20height%3A%20100.0%25%3B%22%3E%3C/div%3E%60%29%5B0%5D%3B%0A%20%20%20%20%20%20%20%20%20%20%20%20popup_19f7774fe8f44284aa257a887bd3b64c.setContent%28html_500582cb65d44e42bad70b725d4d2167%29%3B%0A%20%20%20%20%20%20%20%20%0A%0A%20%20%20%20%20%20%20%20marker_7dd9dc4ec1184e64ba7cfd92134f44c5.bindPopup%28popup_19f7774fe8f44284aa257a887bd3b64c%29%0A%20%20%20%20%20%20%20%20%3B%0A%0A%20%20%20%20%20%20%20%20%0A%20%20%20%20%0A%20%20%20%20%0A%20%20%20%20%20%20%20%20%20%20%20%20var%20marker_001aca1bafba4e0a876d38166b777cee%20%3D%20L.marker%28%0A%20%20%20%20%20%20%20%20%20%20%20%20%20%20%20%20%5B-44.9405627%2C%20168.8350761%5D%2C%0A%20%20%20%20%20%20%20%20%20%20%20%20%20%20%20%20%7B%7D%0A%20%20%20%20%20%20%20%20%20%20%20%20%29.addTo%28map_b1607fd9fa0c43428a2aac56671f6e74%29%3B%0A%20%20%20%20%20%20%20%20%0A%20%20%20%20%0A%20%20%20%20%20%20%20%20var%20popup_4c40ec3b85294dea905163001fa0dbad%20%3D%20L.popup%28%7B%22maxWidth%22%3A%20%22100%25%22%7D%29%3B%0A%0A%20%20%20%20%20%20%20%20%0A%20%20%20%20%20%20%20%20%20%20%20%20var%20html_85e393d433ce4f21b04b46faf9516d89%20%3D%20%24%28%60%3Cdiv%20id%3D%22html_85e393d433ce4f21b04b46faf9516d89%22%20style%3D%22width%3A%20100.0%25%3B%20height%3A%20100.0%25%3B%22%3EFord%20of%20Bruinen%3C/div%3E%60%29%5B0%5D%3B%0A%20%20%20%20%20%20%20%20%20%20%20%20popup_4c40ec3b85294dea905163001fa0dbad.setContent%28html_85e393d433ce4f21b04b46faf9516d89%29%3B%0A%20%20%20%20%20%20%20%20%0A%0A%20%20%20%20%20%20%20%20marker_001aca1bafba4e0a876d38166b777cee.bindPopup%28popup_4c40ec3b85294dea905163001fa0dbad%29%0A%20%20%20%20%20%20%20%20%3B%0A%0A%20%20%20%20%20%20%20%20%0A%20%20%20%20%0A%20%20%20%20%0A%20%20%20%20%20%20%20%20%20%20%20%20var%20marker_e0188c2bcac64ab89b877c3b0f124cac%20%3D%20L.marker%28%0A%20%20%20%20%20%20%20%20%20%20%20%20%20%20%20%20%5B-44.8231841%2C%20168.3985085%5D%2C%0A%20%20%20%20%20%20%20%20%20%20%20%20%20%20%20%20%7B%7D%0A%20%20%20%20%20%20%20%20%20%20%20%20%29.addTo%28map_b1607fd9fa0c43428a2aac56671f6e74%29%3B%0A%20%20%20%20%20%20%20%20%0A%20%20%20%20%0A%20%20%20%20%20%20%20%20var%20popup_fa89276cf2ed4b46b2f25a3719a1cfbe%20%3D%20L.popup%28%7B%22maxWidth%22%3A%20%22100%25%22%7D%29%3B%0A%0A%20%20%20%20%20%20%20%20%0A%20%20%20%20%20%20%20%20%20%20%20%20var%20html_0dd5f8344248481e8d716c5367c4428c%20%3D%20%24%28%60%3Cdiv%20id%3D%22html_0dd5f8344248481e8d716c5367c4428c%22%20style%3D%22width%3A%20100.0%25%3B%20height%3A%20100.0%25%3B%22%3ELothlorien%20Amon%20Hen%3C/div%3E%60%29%5B0%5D%3B%0A%20%20%20%20%20%20%20%20%20%20%20%20popup_fa89276cf2ed4b46b2f25a3719a1cfbe.setContent%28html_0dd5f8344248481e8d716c5367c4428c%29%3B%0A%20%20%20%20%20%20%20%20%0A%0A%20%20%20%20%20%20%20%20marker_e0188c2bcac64ab89b877c3b0f124cac.bindPopup%28popup_fa89276cf2ed4b46b2f25a3719a1cfbe%29%0A%20%20%20%20%20%20%20%20%3B%0A%0A%20%20%20%20%20%20%20%20%0A%20%20%20%20%0A%20%20%20%20%0A%20%20%20%20%20%20%20%20%20%20%20%20var%20marker_171229f64f084fbbac8c7f45f9bbb870%20%3D%20L.marker%28%0A%20%20%20%20%20%20%20%20%20%20%20%20%20%20%20%20%5B-45.41449%2C%20167.717489%5D%2C%0A%20%20%20%20%20%20%20%20%20%20%20%20%20%20%20%20%7B%7D%0A%20%20%20%20%20%20%20%20%20%20%20%20%29.addTo%28map_b1607fd9fa0c43428a2aac56671f6e74%29%3B%0A%20%20%20%20%20%20%20%20%0A%20%20%20%20%0A%20%20%20%20%20%20%20%20var%20popup_ec030dd2317c457db87124cf1ff7310e%20%3D%20L.popup%28%7B%22maxWidth%22%3A%20%22100%25%22%7D%29%3B%0A%0A%20%20%20%20%20%20%20%20%0A%20%20%20%20%20%20%20%20%20%20%20%20var%20html_b22fac8b25984cbe9e004934f3c26292%20%3D%20%24%28%60%3Cdiv%20id%3D%22html_b22fac8b25984cbe9e004934f3c26292%22%20style%3D%22width%3A%20100.0%25%3B%20height%3A%20100.0%25%3B%22%3Ethe%20Fellowship%27s%20river%20journey%3C/div%3E%60%29%5B0%5D%3B%0A%20%20%20%20%20%20%20%20%20%20%20%20popup_ec030dd2317c457db87124cf1ff7310e.setContent%28html_b22fac8b25984cbe9e004934f3c26292%29%3B%0A%20%20%20%20%20%20%20%20%0A%0A%20%20%20%20%20%20%20%20marker_171229f64f084fbbac8c7f45f9bbb870.bindPopup%28popup_ec030dd2317c457db87124cf1ff7310e%29%0A%20%20%20%20%20%20%20%20%3B%0A%0A%20%20%20%20%20%20%20%20%0A%20%20%20%20%0A%20%20%20%20%0A%20%20%20%20%20%20%20%20%20%20%20%20var%20marker_33ac4a5d62844701a1aedab236129f9e%20%3D%20L.marker%28%0A%20%20%20%20%20%20%20%20%20%20%20%20%20%20%20%20%5B-41.2710849%2C%20173.2836756%5D%2C%0A%20%20%20%20%20%20%20%20%20%20%20%20%20%20%20%20%7B%7D%0A%20%20%20%20%20%20%20%20%20%20%20%20%29.addTo%28map_b1607fd9fa0c43428a2aac56671f6e74%29%3B%0A%20%20%20%20%20%20%20%20%0A%20%20%20%20%0A%20%20%20%20%20%20%20%20var%20popup_6ed3e852aec24eddad49201efd8b1153%20%3D%20L.popup%28%7B%22maxWidth%22%3A%20%22100%25%22%7D%29%3B%0A%0A%20%20%20%20%20%20%20%20%0A%20%20%20%20%20%20%20%20%20%20%20%20var%20html_6a789f38a16f433c8f5c415002991955%20%3D%20%24%28%60%3Cdiv%20id%3D%22html_6a789f38a16f433c8f5c415002991955%22%20style%3D%22width%3A%20100.0%25%3B%20height%3A%20100.0%25%3B%22%3EDimrill%20Dale%3C/div%3E%60%29%5B0%5D%3B%0A%20%20%20%20%20%20%20%20%20%20%20%20popup_6ed3e852aec24eddad49201efd8b1153.setContent%28html_6a789f38a16f433c8f5c415002991955%29%3B%0A%20%20%20%20%20%20%20%20%0A%0A%20%20%20%20%20%20%20%20marker_33ac4a5d62844701a1aedab236129f9e.bindPopup%28popup_6ed3e852aec24eddad49201efd8b1153%29%0A%20%20%20%20%20%20%20%20%3B%0A%0A%20%20%20%20%20%20%20%20%0A%20%20%20%20%0A%20%20%20%20%0A%20%20%20%20%20%20%20%20%20%20%20%20var%20marker_a5fc996a1e62451498cfdf94980f9e37%20%3D%20L.marker%28%0A%20%20%20%20%20%20%20%20%20%20%20%20%20%20%20%20%5B-43.586562%2C%20171.21232939964904%5D%2C%0A%20%20%20%20%20%20%20%20%20%20%20%20%20%20%20%20%7B%7D%0A%20%20%20%20%20%20%20%20%20%20%20%20%29.addTo%28map_b1607fd9fa0c43428a2aac56671f6e74%29%3B%0A%20%20%20%20%20%20%20%20%0A%20%20%20%20%0A%20%20%20%20%20%20%20%20var%20popup_aca358a4aba941378aa724b8d75a5d68%20%3D%20L.popup%28%7B%22maxWidth%22%3A%20%22100%25%22%7D%29%3B%0A%0A%20%20%20%20%20%20%20%20%0A%20%20%20%20%20%20%20%20%20%20%20%20var%20html_eb8778e48bc54ebeb3226c2307b5904f%20%3D%20%24%28%60%3Cdiv%20id%3D%22html_eb8778e48bc54ebeb3226c2307b5904f%22%20style%3D%22width%3A%20100.0%25%3B%20height%3A%20100.0%25%3B%22%3EAmon%20Hen%3C/div%3E%60%29%5B0%5D%3B%0A%20%20%20%20%20%20%20%20%20%20%20%20popup_aca358a4aba941378aa724b8d75a5d68.setContent%28html_eb8778e48bc54ebeb3226c2307b5904f%29%3B%0A%20%20%20%20%20%20%20%20%0A%0A%20%20%20%20%20%20%20%20marker_a5fc996a1e62451498cfdf94980f9e37.bindPopup%28popup_aca358a4aba941378aa724b8d75a5d68%29%0A%20%20%20%20%20%20%20%20%3B%0A%0A%20%20%20%20%20%20%20%20%0A%20%20%20%20%0A%20%20%20%20%0A%20%20%20%20%20%20%20%20%20%20%20%20var%20marker_28c4d845beaf49fe9ab997a8324aa43a%20%3D%20L.marker%28%0A%20%20%20%20%20%20%20%20%20%20%20%20%20%20%20%20%5B-40.741106650000006%2C%20175.11757661842293%5D%2C%0A%20%20%20%20%20%20%20%20%20%20%20%20%20%20%20%20%7B%7D%0A%20%20%20%20%20%20%20%20%20%20%20%20%29.addTo%28map_b1607fd9fa0c43428a2aac56671f6e74%29%3B%0A%20%20%20%20%20%20%20%20%0A%20%20%20%20%0A%20%20%20%20%20%20%20%20var%20popup_6cb4689c4102486183fa592a0c7b490e%20%3D%20L.popup%28%7B%22maxWidth%22%3A%20%22100%25%22%7D%29%3B%0A%0A%20%20%20%20%20%20%20%20%0A%20%20%20%20%20%20%20%20%20%20%20%20var%20html_ded609eaae8d46648685ff8229a6e9ec%20%3D%20%24%28%60%3Cdiv%20id%3D%22html_ded609eaae8d46648685ff8229a6e9ec%22%20style%3D%22width%3A%20100.0%25%3B%20height%3A%20100.0%25%3B%22%3Eexteriors%20of%20Moria%3C/div%3E%60%29%5B0%5D%3B%0A%20%20%20%20%20%20%20%20%20%20%20%20popup_6cb4689c4102486183fa592a0c7b490e.setContent%28html_ded609eaae8d46648685ff8229a6e9ec%29%3B%0A%20%20%20%20%20%20%20%20%0A%0A%20%20%20%20%20%20%20%20marker_28c4d845beaf49fe9ab997a8324aa43a.bindPopup%28popup_6cb4689c4102486183fa592a0c7b490e%29%0A%20%20%20%20%20%20%20%20%3B%0A%0A%20%20%20%20%20%20%20%20%0A%20%20%20%20%0A%20%20%20%20%0A%20%20%20%20%20%20%20%20%20%20%20%20var%20marker_a60004c5bdb041b786af1e0b20f7d066%20%3D%20L.marker%28%0A%20%20%20%20%20%20%20%20%20%20%20%20%20%20%20%20%5B-38.00353045%2C%20175.95785260835657%5D%2C%0A%20%20%20%20%20%20%20%20%20%20%20%20%20%20%20%20%7B%7D%0A%20%20%20%20%20%20%20%20%20%20%20%20%29.addTo%28map_b1607fd9fa0c43428a2aac56671f6e74%29%3B%0A%20%20%20%20%20%20%20%20%0A%20%20%20%20%0A%20%20%20%20%20%20%20%20var%20popup_572cbd87818e453289ffd3c29bb5274c%20%3D%20L.popup%28%7B%22maxWidth%22%3A%20%22100%25%22%7D%29%3B%0A%0A%20%20%20%20%20%20%20%20%0A%20%20%20%20%20%20%20%20%20%20%20%20var%20html_db558705120a4a14a4d7fc0c01834e94%20%3D%20%24%28%60%3Cdiv%20id%3D%22html_db558705120a4a14a4d7fc0c01834e94%22%20style%3D%22width%3A%20100.0%25%3B%20height%3A%20100.0%25%3B%22%3Ethe%20Shire%20woods%3C/div%3E%60%29%5B0%5D%3B%0A%20%20%20%20%20%20%20%20%20%20%20%20popup_572cbd87818e453289ffd3c29bb5274c.setContent%28html_db558705120a4a14a4d7fc0c01834e94%29%3B%0A%20%20%20%20%20%20%20%20%0A%0A%20%20%20%20%20%20%20%20marker_a60004c5bdb041b786af1e0b20f7d066.bindPopup%28popup_572cbd87818e453289ffd3c29bb5274c%29%0A%20%20%20%20%20%20%20%20%3B%0A%0A%20%20%20%20%20%20%20%20%0A%20%20%20%20%0A%20%20%20%20%0A%20%20%20%20%20%20%20%20%20%20%20%20var%20marker_ac430181cc4c49f188a1871f8840d13f%20%3D%20L.marker%28%0A%20%20%20%20%20%20%20%20%20%20%20%20%20%20%20%20%5B-41.2710849%2C%20173.2836756%5D%2C%0A%20%20%20%20%20%20%20%20%20%20%20%20%20%20%20%20%7B%7D%0A%20%20%20%20%20%20%20%20%20%20%20%20%29.addTo%28map_b1607fd9fa0c43428a2aac56671f6e74%29%3B%0A%20%20%20%20%20%20%20%20%0A%20%20%20%20%0A%20%20%20%20%20%20%20%20var%20popup_68ba8676bdad4776b06bfeb6be7bea00%20%3D%20L.popup%28%7B%22maxWidth%22%3A%20%22100%25%22%7D%29%3B%0A%0A%20%20%20%20%20%20%20%20%0A%20%20%20%20%20%20%20%20%20%20%20%20var%20html_e1f2ab2b6e524acfa40a06c8daae76e2%20%3D%20%24%28%60%3Cdiv%20id%3D%22html_e1f2ab2b6e524acfa40a06c8daae76e2%22%20style%3D%22width%3A%20100.0%25%3B%20height%3A%20100.0%25%3B%22%3Eforest%20near%20Bree%3C/div%3E%60%29%5B0%5D%3B%0A%20%20%20%20%20%20%20%20%20%20%20%20popup_68ba8676bdad4776b06bfeb6be7bea00.setContent%28html_e1f2ab2b6e524acfa40a06c8daae76e2%29%3B%0A%20%20%20%20%20%20%20%20%0A%0A%20%20%20%20%20%20%20%20marker_ac430181cc4c49f188a1871f8840d13f.bindPopup%28popup_68ba8676bdad4776b06bfeb6be7bea00%29%0A%20%20%20%20%20%20%20%20%3B%0A%0A%20%20%20%20%20%20%20%20%0A%20%20%20%20%0A%20%20%20%20%0A%20%20%20%20%20%20%20%20%20%20%20%20var%20marker_b993271b09414edd94179335ab777b69%20%3D%20L.marker%28%0A%20%20%20%20%20%20%20%20%20%20%20%20%20%20%20%20%5B-43.586562%2C%20171.21232939964904%5D%2C%0A%20%20%20%20%20%20%20%20%20%20%20%20%20%20%20%20%7B%7D%0A%20%20%20%20%20%20%20%20%20%20%20%20%29.addTo%28map_b1607fd9fa0c43428a2aac56671f6e74%29%3B%0A%20%20%20%20%20%20%20%20%0A%20%20%20%20%0A%20%20%20%20%20%20%20%20var%20popup_1916a65c128845e39acbd906e957d60d%20%3D%20L.popup%28%7B%22maxWidth%22%3A%20%22100%25%22%7D%29%3B%0A%0A%20%20%20%20%20%20%20%20%0A%20%20%20%20%20%20%20%20%20%20%20%20var%20html_93d49fb62d3c4d3b8eabcef8da97251f%20%3D%20%24%28%60%3Cdiv%20id%3D%22html_93d49fb62d3c4d3b8eabcef8da97251f%22%20style%3D%22width%3A%20100.0%25%3B%20height%3A%20100.0%25%3B%22%3EDead%20Marshes%3C/div%3E%60%29%5B0%5D%3B%0A%20%20%20%20%20%20%20%20%20%20%20%20popup_1916a65c128845e39acbd906e957d60d.setContent%28html_93d49fb62d3c4d3b8eabcef8da97251f%29%3B%0A%20%20%20%20%20%20%20%20%0A%0A%20%20%20%20%20%20%20%20marker_b993271b09414edd94179335ab777b69.bindPopup%28popup_1916a65c128845e39acbd906e957d60d%29%0A%20%20%20%20%20%20%20%20%3B%0A%0A%20%20%20%20%20%20%20%20%0A%20%20%20%20%0A%20%20%20%20%0A%20%20%20%20%20%20%20%20%20%20%20%20var%20marker_36b194c1efcf4068acca6747355b107f%20%3D%20L.marker%28%0A%20%20%20%20%20%20%20%20%20%20%20%20%20%20%20%20%5B-42.04162235%2C%20172.62866447179724%5D%2C%0A%20%20%20%20%20%20%20%20%20%20%20%20%20%20%20%20%7B%7D%0A%20%20%20%20%20%20%20%20%20%20%20%20%29.addTo%28map_b1607fd9fa0c43428a2aac56671f6e74%29%3B%0A%20%20%20%20%20%20%20%20%0A%20%20%20%20%0A%20%20%20%20%20%20%20%20var%20popup_e809e83ac4f3450a9351dd7e2b831340%20%3D%20L.popup%28%7B%22maxWidth%22%3A%20%22100%25%22%7D%29%3B%0A%0A%20%20%20%20%20%20%20%20%0A%20%20%20%20%20%20%20%20%20%20%20%20var%20html_52f5502d8e30474f9713c791cc6a0d2f%20%3D%20%24%28%60%3Cdiv%20id%3D%22html_52f5502d8e30474f9713c791cc6a0d2f%22%20style%3D%22width%3A%20100.0%25%3B%20height%3A%20100.0%25%3B%22%3EDimrill%20Dale%3C/div%3E%60%29%5B0%5D%3B%0A%20%20%20%20%20%20%20%20%20%20%20%20popup_e809e83ac4f3450a9351dd7e2b831340.setContent%28html_52f5502d8e30474f9713c791cc6a0d2f%29%3B%0A%20%20%20%20%20%20%20%20%0A%0A%20%20%20%20%20%20%20%20marker_36b194c1efcf4068acca6747355b107f.bindPopup%28popup_e809e83ac4f3450a9351dd7e2b831340%29%0A%20%20%20%20%20%20%20%20%3B%0A%0A%20%20%20%20%20%20%20%20%0A%20%20%20%20%0A%20%20%20%20%0A%20%20%20%20%20%20%20%20%20%20%20%20var%20marker_aeaf396b9ccb4a368ba3f6abbbbaae78%20%3D%20L.marker%28%0A%20%20%20%20%20%20%20%20%20%20%20%20%20%20%20%20%5B-44.8231841%2C%20168.3985085%5D%2C%0A%20%20%20%20%20%20%20%20%20%20%20%20%20%20%20%20%7B%7D%0A%20%20%20%20%20%20%20%20%20%20%20%20%29.addTo%28map_b1607fd9fa0c43428a2aac56671f6e74%29%3B%0A%20%20%20%20%20%20%20%20%0A%20%20%20%20%0A%20%20%20%20%20%20%20%20var%20popup_c766decd4bbf4cc7b9e1dbdec3698658%20%3D%20L.popup%28%7B%22maxWidth%22%3A%20%22100%25%22%7D%29%3B%0A%0A%20%20%20%20%20%20%20%20%0A%20%20%20%20%20%20%20%20%20%20%20%20var%20html_6059b8e11f4346dc88596da71c805304%20%3D%20%24%28%60%3Cdiv%20id%3D%22html_6059b8e11f4346dc88596da71c805304%22%20style%3D%22width%3A%20100.0%25%3B%20height%3A%20100.0%25%3B%22%3EParth%20Galen%3C/div%3E%60%29%5B0%5D%3B%0A%20%20%20%20%20%20%20%20%20%20%20%20popup_c766decd4bbf4cc7b9e1dbdec3698658.setContent%28html_6059b8e11f4346dc88596da71c805304%29%3B%0A%20%20%20%20%20%20%20%20%0A%0A%20%20%20%20%20%20%20%20marker_aeaf396b9ccb4a368ba3f6abbbbaae78.bindPopup%28popup_c766decd4bbf4cc7b9e1dbdec3698658%29%0A%20%20%20%20%20%20%20%20%3B%0A%0A%20%20%20%20%20%20%20%20%0A%20%20%20%20%0A%20%20%20%20%0A%20%20%20%20%20%20%20%20%20%20%20%20var%20marker_b10e0cf8961f48098655ffc3ef4fcaa9%20%3D%20L.marker%28%0A%20%20%20%20%20%20%20%20%20%20%20%20%20%20%20%20%5B-41.2887953%2C%20174.7772114%5D%2C%0A%20%20%20%20%20%20%20%20%20%20%20%20%20%20%20%20%7B%7D%0A%20%20%20%20%20%20%20%20%20%20%20%20%29.addTo%28map_b1607fd9fa0c43428a2aac56671f6e74%29%3B%0A%20%20%20%20%20%20%20%20%0A%20%20%20%20%0A%20%20%20%20%20%20%20%20var%20popup_22663db033fb497f986e94fbb46df9ee%20%3D%20L.popup%28%7B%22maxWidth%22%3A%20%22100%25%22%7D%29%3B%0A%0A%20%20%20%20%20%20%20%20%0A%20%20%20%20%20%20%20%20%20%20%20%20var%20html_99f0366725b7458f87539f44d0193c65%20%3D%20%24%28%60%3Cdiv%20id%3D%22html_99f0366725b7458f87539f44d0193c65%22%20style%3D%22width%3A%20100.0%25%3B%20height%3A%20100.0%25%3B%22%3EInn%20of%20the%20Prancing%20Pony%27s%20exteriors%3C/div%3E%60%29%5B0%5D%3B%0A%20%20%20%20%20%20%20%20%20%20%20%20popup_22663db033fb497f986e94fbb46df9ee.setContent%28html_99f0366725b7458f87539f44d0193c65%29%3B%0A%20%20%20%20%20%20%20%20%0A%0A%20%20%20%20%20%20%20%20marker_b10e0cf8961f48098655ffc3ef4fcaa9.bindPopup%28popup_22663db033fb497f986e94fbb46df9ee%29%0A%20%20%20%20%20%20%20%20%3B%0A%0A%20%20%20%20%20%20%20%20%0A%20%20%20%20%0A%20%20%20%20%0A%20%20%20%20%20%20%20%20%20%20%20%20var%20marker_67385af807e24fd6b12a1f0862f22a99%20%3D%20L.marker%28%0A%20%20%20%20%20%20%20%20%20%20%20%20%20%20%20%20%5B-41.1485427%2C%20174.9919508%5D%2C%0A%20%20%20%20%20%20%20%20%20%20%20%20%20%20%20%20%7B%7D%0A%20%20%20%20%20%20%20%20%20%20%20%20%29.addTo%28map_b1607fd9fa0c43428a2aac56671f6e74%29%3B%0A%20%20%20%20%20%20%20%20%0A%20%20%20%20%0A%20%20%20%20%20%20%20%20var%20popup_eafdb1d5e58c480782689e2d6f075e99%20%3D%20L.popup%28%7B%22maxWidth%22%3A%20%22100%25%22%7D%29%3B%0A%0A%20%20%20%20%20%20%20%20%0A%20%20%20%20%20%20%20%20%20%20%20%20var%20html_d5713978cbc24868b557391e8377e180%20%3D%20%24%28%60%3Cdiv%20id%3D%22html_d5713978cbc24868b557391e8377e180%22%20style%3D%22width%3A%20100.0%25%3B%20height%3A%20100.0%25%3B%22%3Eexteriors%20of%20Moria%3C/div%3E%60%29%5B0%5D%3B%0A%20%20%20%20%20%20%20%20%20%20%20%20popup_eafdb1d5e58c480782689e2d6f075e99.setContent%28html_d5713978cbc24868b557391e8377e180%29%3B%0A%20%20%20%20%20%20%20%20%0A%0A%20%20%20%20%20%20%20%20marker_67385af807e24fd6b12a1f0862f22a99.bindPopup%28popup_eafdb1d5e58c480782689e2d6f075e99%29%0A%20%20%20%20%20%20%20%20%3B%0A%0A%20%20%20%20%20%20%20%20%0A%20%20%20%20%0A%20%20%20%20%0A%20%20%20%20%20%20%20%20%20%20%20%20var%20marker_ae0c51ab42c24a85967fa5ba26f80336%20%3D%20L.marker%28%0A%20%20%20%20%20%20%20%20%20%20%20%20%20%20%20%20%5B-41.5000831%2C%20172.8344077%5D%2C%0A%20%20%20%20%20%20%20%20%20%20%20%20%20%20%20%20%7B%7D%0A%20%20%20%20%20%20%20%20%20%20%20%20%29.addTo%28map_b1607fd9fa0c43428a2aac56671f6e74%29%3B%0A%20%20%20%20%20%20%20%20%0A%20%20%20%20%0A%20%20%20%20%20%20%20%20var%20popup_37e7a33b5e3b46909dd2ee76f8b39f1a%20%3D%20L.popup%28%7B%22maxWidth%22%3A%20%22100%25%22%7D%29%3B%0A%0A%20%20%20%20%20%20%20%20%0A%20%20%20%20%20%20%20%20%20%20%20%20var%20html_87f4f3aa5ea447e494b27ba0812b0e97%20%3D%20%24%28%60%3Cdiv%20id%3D%22html_87f4f3aa5ea447e494b27ba0812b0e97%22%20style%3D%22width%3A%20100.0%25%3B%20height%3A%20100.0%25%3B%22%3EMordor%20prologue%20scene%3C/div%3E%60%29%5B0%5D%3B%0A%20%20%20%20%20%20%20%20%20%20%20%20popup_37e7a33b5e3b46909dd2ee76f8b39f1a.setContent%28html_87f4f3aa5ea447e494b27ba0812b0e97%29%3B%0A%20%20%20%20%20%20%20%20%0A%0A%20%20%20%20%20%20%20%20marker_ae0c51ab42c24a85967fa5ba26f80336.bindPopup%28popup_37e7a33b5e3b46909dd2ee76f8b39f1a%29%0A%20%20%20%20%20%20%20%20%3B%0A%0A%20%20%20%20%20%20%20%20%0A%20%20%20%20%0A%3C/script%3E onload=\"this.contentDocument.open();this.contentDocument.write(    decodeURIComponent(this.getAttribute('data-html')));this.contentDocument.close();\" allowfullscreen webkitallowfullscreen mozallowfullscreen></iframe></div></div>"
      ],
      "text/plain": [
       "<folium.folium.Map at 0x7f380d979278>"
      ]
     },
     "execution_count": 49,
     "metadata": {},
     "output_type": "execute_result"
    }
   ],
   "source": []
  },
  {
   "cell_type": "code",
   "execution_count": 53,
   "id": "426a6dc2",
   "metadata": {},
   "outputs": [],
   "source": [
    "movie_meta2, quotes_df2, reviews_df2, locations_df2 = movie_data('matrix')"
   ]
  },
  {
   "cell_type": "code",
   "execution_count": 54,
   "id": "c1009e22",
   "metadata": {},
   "outputs": [],
   "source": []
  },
  {
   "cell_type": "code",
   "execution_count": 61,
   "id": "07f7a10d",
   "metadata": {},
   "outputs": [
    {
     "data": {
      "text/html": [
       "<div>\n",
       "<style scoped>\n",
       "    .dataframe tbody tr th:only-of-type {\n",
       "        vertical-align: middle;\n",
       "    }\n",
       "\n",
       "    .dataframe tbody tr th {\n",
       "        vertical-align: top;\n",
       "    }\n",
       "\n",
       "    .dataframe thead th {\n",
       "        text-align: right;\n",
       "    }\n",
       "</style>\n",
       "<table border=\"1\" class=\"dataframe\">\n",
       "  <thead>\n",
       "    <tr style=\"text-align: right;\">\n",
       "      <th></th>\n",
       "      <th>locations</th>\n",
       "      <th>imdb_id</th>\n",
       "      <th>title</th>\n",
       "    </tr>\n",
       "  </thead>\n",
       "  <tbody>\n",
       "    <tr>\n",
       "      <th>0</th>\n",
       "      <td>Nashville, Tennessee, USA::(exterior scenes: s...</td>\n",
       "      <td>0133093</td>\n",
       "      <td>The Matrix</td>\n",
       "    </tr>\n",
       "    <tr>\n",
       "      <th>1</th>\n",
       "      <td>Sydney, New South Wales, Australia</td>\n",
       "      <td>0133093</td>\n",
       "      <td>The Matrix</td>\n",
       "    </tr>\n",
       "    <tr>\n",
       "      <th>2</th>\n",
       "      <td>Redfern, Sydney, New South Wales, Australia::(...</td>\n",
       "      <td>0133093</td>\n",
       "      <td>The Matrix</td>\n",
       "    </tr>\n",
       "    <tr>\n",
       "      <th>3</th>\n",
       "      <td>San Francisco, California, USA::(exterior scen...</td>\n",
       "      <td>0133093</td>\n",
       "      <td>The Matrix</td>\n",
       "    </tr>\n",
       "    <tr>\n",
       "      <th>4</th>\n",
       "      <td>Sydney Central Business District, Sydney, New ...</td>\n",
       "      <td>0133093</td>\n",
       "      <td>The Matrix</td>\n",
       "    </tr>\n",
       "  </tbody>\n",
       "</table>\n",
       "</div>"
      ],
      "text/plain": [
       "                                           locations  imdb_id       title\n",
       "0  Nashville, Tennessee, USA::(exterior scenes: s...  0133093  The Matrix\n",
       "1                 Sydney, New South Wales, Australia  0133093  The Matrix\n",
       "2  Redfern, Sydney, New South Wales, Australia::(...  0133093  The Matrix\n",
       "3  San Francisco, California, USA::(exterior scen...  0133093  The Matrix\n",
       "4  Sydney Central Business District, Sydney, New ...  0133093  The Matrix"
      ]
     },
     "execution_count": 61,
     "metadata": {},
     "output_type": "execute_result"
    }
   ],
   "source": [
    "locations_df2.head()"
   ]
  },
  {
   "cell_type": "code",
   "execution_count": 62,
   "id": "4ea8ec33",
   "metadata": {},
   "outputs": [],
   "source": [
    "locations_df2 = enrich_locations(locations_df2)"
   ]
  },
  {
   "cell_type": "code",
   "execution_count": 72,
   "id": "31a788cf",
   "metadata": {},
   "outputs": [
    {
     "data": {
      "text/html": [
       "<div>\n",
       "<style scoped>\n",
       "    .dataframe tbody tr th:only-of-type {\n",
       "        vertical-align: middle;\n",
       "    }\n",
       "\n",
       "    .dataframe tbody tr th {\n",
       "        vertical-align: top;\n",
       "    }\n",
       "\n",
       "    .dataframe thead th {\n",
       "        text-align: right;\n",
       "    }\n",
       "</style>\n",
       "<table border=\"1\" class=\"dataframe\">\n",
       "  <thead>\n",
       "    <tr style=\"text-align: right;\">\n",
       "      <th></th>\n",
       "      <th>locations</th>\n",
       "      <th>imdb_id</th>\n",
       "      <th>title</th>\n",
       "      <th>movie_location</th>\n",
       "      <th>set_location</th>\n",
       "      <th>latitude</th>\n",
       "      <th>longitude</th>\n",
       "    </tr>\n",
       "    <tr>\n",
       "      <th>country</th>\n",
       "      <th></th>\n",
       "      <th></th>\n",
       "      <th></th>\n",
       "      <th></th>\n",
       "      <th></th>\n",
       "      <th></th>\n",
       "      <th></th>\n",
       "    </tr>\n",
       "  </thead>\n",
       "  <tbody>\n",
       "    <tr>\n",
       "      <th>Australia</th>\n",
       "      <td>20</td>\n",
       "      <td>20</td>\n",
       "      <td>20</td>\n",
       "      <td>20</td>\n",
       "      <td>20</td>\n",
       "      <td>20</td>\n",
       "      <td>20</td>\n",
       "    </tr>\n",
       "    <tr>\n",
       "      <th>United States</th>\n",
       "      <td>2</td>\n",
       "      <td>2</td>\n",
       "      <td>2</td>\n",
       "      <td>2</td>\n",
       "      <td>2</td>\n",
       "      <td>2</td>\n",
       "      <td>2</td>\n",
       "    </tr>\n",
       "  </tbody>\n",
       "</table>\n",
       "</div>"
      ],
      "text/plain": [
       "               locations  imdb_id  title  movie_location  set_location  \\\n",
       "country                                                                  \n",
       "Australia             20       20     20              20            20   \n",
       "United States          2        2      2               2             2   \n",
       "\n",
       "               latitude  longitude  \n",
       "country                             \n",
       "Australia            20         20  \n",
       "United States         2          2  "
      ]
     },
     "execution_count": 72,
     "metadata": {},
     "output_type": "execute_result"
    }
   ],
   "source": [
    "locations_df2.groupby(['country']).count()"
   ]
  },
  {
   "cell_type": "code",
   "execution_count": 81,
   "id": "1604d4d2",
   "metadata": {},
   "outputs": [],
   "source": [
    "max_country = locations_df2.groupby(['country']).count()['locations'].idxmax()"
   ]
  },
  {
   "cell_type": "code",
   "execution_count": 82,
   "id": "d8e0fcc8",
   "metadata": {},
   "outputs": [
    {
     "data": {
      "text/plain": [
       "'Australia'"
      ]
     },
     "execution_count": 82,
     "metadata": {},
     "output_type": "execute_result"
    }
   ],
   "source": [
    "max_country"
   ]
  },
  {
   "cell_type": "code",
   "execution_count": 91,
   "id": "cf563ee7",
   "metadata": {},
   "outputs": [
    {
     "data": {
      "text/plain": [
       "latitude     -33.869503\n",
       "longitude    151.203929\n",
       "Name: 0.25, dtype: float64"
      ]
     },
     "execution_count": 91,
     "metadata": {},
     "output_type": "execute_result"
    }
   ],
   "source": [
    "locations_df2[locations_df2['country'] == max_country].quantile(0.25)"
   ]
  },
  {
   "cell_type": "code",
   "execution_count": 87,
   "id": "7bcc1f21",
   "metadata": {},
   "outputs": [
    {
     "data": {
      "text/plain": [
       "latitude     -33.765990\n",
       "longitude    151.014885\n",
       "dtype: float64"
      ]
     },
     "execution_count": 87,
     "metadata": {},
     "output_type": "execute_result"
    }
   ],
   "source": [
    "locations_df2[locations_df2['country'] == max_country][['latitude', 'longitude']].mean()"
   ]
  },
  {
   "cell_type": "code",
   "execution_count": 102,
   "id": "32617cdb",
   "metadata": {},
   "outputs": [
    {
     "data": {
      "text/plain": [
       "latitude     -33.859664\n",
       "longitude    151.213170\n",
       "dtype: float64"
      ]
     },
     "execution_count": 102,
     "metadata": {},
     "output_type": "execute_result"
    }
   ],
   "source": [
    "locations_df2[(locations_df2['country'] == max_country) & (locations_df2['latitude'].between(min_latitude,max_latitude)) & (locations_df2['longitude'].between(min_longitude,max_longitude))][['latitude', 'longitude']].mean()"
   ]
  },
  {
   "cell_type": "code",
   "execution_count": 156,
   "id": "3386d3a3",
   "metadata": {
    "collapsed": true
   },
   "outputs": [
    {
     "data": {
      "text/html": [
       "<div>\n",
       "<style scoped>\n",
       "    .dataframe tbody tr th:only-of-type {\n",
       "        vertical-align: middle;\n",
       "    }\n",
       "\n",
       "    .dataframe tbody tr th {\n",
       "        vertical-align: top;\n",
       "    }\n",
       "\n",
       "    .dataframe thead th {\n",
       "        text-align: right;\n",
       "    }\n",
       "</style>\n",
       "<table border=\"1\" class=\"dataframe\">\n",
       "  <thead>\n",
       "    <tr style=\"text-align: right;\">\n",
       "      <th></th>\n",
       "      <th>locations</th>\n",
       "      <th>imdb_id</th>\n",
       "      <th>title</th>\n",
       "      <th>movie_location</th>\n",
       "      <th>set_location</th>\n",
       "      <th>latitude</th>\n",
       "      <th>longitude</th>\n",
       "      <th>country</th>\n",
       "    </tr>\n",
       "  </thead>\n",
       "  <tbody>\n",
       "    <tr>\n",
       "      <th>0</th>\n",
       "      <td>Wellington, New Zealand::(Bree)</td>\n",
       "      <td>0120737</td>\n",
       "      <td>The Lord of the Rings: The Fellowship of the Ring</td>\n",
       "      <td>Bree</td>\n",
       "      <td>Wellington, New Zealand</td>\n",
       "      <td>-41.288795</td>\n",
       "      <td>174.777211</td>\n",
       "      <td>New Zealand / Aotearoa</td>\n",
       "    </tr>\n",
       "    <tr>\n",
       "      <th>1</th>\n",
       "      <td>Hinuera Valley, Matamata, Waikato, New Zealand...</td>\n",
       "      <td>0120737</td>\n",
       "      <td>The Lord of the Rings: The Fellowship of the Ring</td>\n",
       "      <td>Hobbiton</td>\n",
       "      <td>Hinuera Valley, Matamata, Waikato, New Zealand</td>\n",
       "      <td>-37.774141</td>\n",
       "      <td>175.488374</td>\n",
       "      <td>New Zealand / Aotearoa</td>\n",
       "    </tr>\n",
       "    <tr>\n",
       "      <th>2</th>\n",
       "      <td>Kaitoke Regional Park, Wellington Region, New ...</td>\n",
       "      <td>0120737</td>\n",
       "      <td>The Lord of the Rings: The Fellowship of the Ring</td>\n",
       "      <td>Rivendell River Anduin</td>\n",
       "      <td>Kaitoke Regional Park, Wellington Region, New ...</td>\n",
       "      <td>-41.049588</td>\n",
       "      <td>175.179120</td>\n",
       "      <td>New Zealand / Aotearoa</td>\n",
       "    </tr>\n",
       "    <tr>\n",
       "      <th>3</th>\n",
       "      <td>Queenstown, Otago, New Zealand::(Ford of Bruin...</td>\n",
       "      <td>0120737</td>\n",
       "      <td>The Lord of the Rings: The Fellowship of the Ring</td>\n",
       "      <td>Ford of Bruinen River Anduin Amon Hen</td>\n",
       "      <td>Queenstown, Otago, New Zealand</td>\n",
       "      <td>-45.032192</td>\n",
       "      <td>168.661000</td>\n",
       "      <td>New Zealand / Aotearoa</td>\n",
       "    </tr>\n",
       "    <tr>\n",
       "      <th>4</th>\n",
       "      <td>Milford Sound, Fiordland National Park, Southl...</td>\n",
       "      <td>0120737</td>\n",
       "      <td>The Lord of the Rings: The Fellowship of the Ring</td>\n",
       "      <td></td>\n",
       "      <td>Milford Sound, Fiordland National Park, Southl...</td>\n",
       "      <td>-44.668546</td>\n",
       "      <td>167.928030</td>\n",
       "      <td>New Zealand / Aotearoa</td>\n",
       "    </tr>\n",
       "    <tr>\n",
       "      <th>5</th>\n",
       "      <td>Port Waikato, Waikato, New Zealand::(Weathertop)</td>\n",
       "      <td>0120737</td>\n",
       "      <td>The Lord of the Rings: The Fellowship of the Ring</td>\n",
       "      <td>Weathertop</td>\n",
       "      <td>Port Waikato, Waikato, New Zealand</td>\n",
       "      <td>-37.391326</td>\n",
       "      <td>174.717334</td>\n",
       "      <td>New Zealand / Aotearoa</td>\n",
       "    </tr>\n",
       "    <tr>\n",
       "      <th>6</th>\n",
       "      <td>Fernside, Featherston, Wairarapa, New Zealand:...</td>\n",
       "      <td>0120737</td>\n",
       "      <td>The Lord of the Rings: The Fellowship of the Ring</td>\n",
       "      <td>Lothlorien</td>\n",
       "      <td>Fernside, Featherston, Wairarapa, New Zealand</td>\n",
       "      <td>-41.088554</td>\n",
       "      <td>175.350573</td>\n",
       "      <td>New Zealand / Aotearoa</td>\n",
       "    </tr>\n",
       "    <tr>\n",
       "      <th>7</th>\n",
       "      <td>Rangipo Desert, Waiouru, Tongariro National Pa...</td>\n",
       "      <td>0120737</td>\n",
       "      <td>The Lord of the Rings: The Fellowship of the Ring</td>\n",
       "      <td></td>\n",
       "      <td>Rangipo Desert, Waiouru, Tongariro National Pa...</td>\n",
       "      <td>-39.477213</td>\n",
       "      <td>175.669775</td>\n",
       "      <td>New Zealand / Aotearoa</td>\n",
       "    </tr>\n",
       "    <tr>\n",
       "      <th>8</th>\n",
       "      <td>Rangitikei River, Manawatu-Wanganui, New Zeala...</td>\n",
       "      <td>0120737</td>\n",
       "      <td>The Lord of the Rings: The Fellowship of the Ring</td>\n",
       "      <td>River Anduin</td>\n",
       "      <td>Rangitikei River, Manawatu-Wanganui, New Zealand</td>\n",
       "      <td>-39.766520</td>\n",
       "      <td>175.815259</td>\n",
       "      <td>New Zealand / Aotearoa</td>\n",
       "    </tr>\n",
       "    <tr>\n",
       "      <th>9</th>\n",
       "      <td>Tongariro National Park, Central Plateau, New ...</td>\n",
       "      <td>0120737</td>\n",
       "      <td>The Lord of the Rings: The Fellowship of the Ring</td>\n",
       "      <td>Mordor</td>\n",
       "      <td>Tongariro National Park, Central Plateau, New ...</td>\n",
       "      <td>-39.172729</td>\n",
       "      <td>175.403727</td>\n",
       "      <td>New Zealand / Aotearoa</td>\n",
       "    </tr>\n",
       "    <tr>\n",
       "      <th>10</th>\n",
       "      <td>Lake Wakatipu, Queenstown, Otago, New Zealand:...</td>\n",
       "      <td>0120737</td>\n",
       "      <td>The Lord of the Rings: The Fellowship of the Ring</td>\n",
       "      <td>Amon Hen</td>\n",
       "      <td>Lake Wakatipu, Queenstown, Otago, New Zealand</td>\n",
       "      <td>-45.088804</td>\n",
       "      <td>168.521111</td>\n",
       "      <td>New Zealand / Aotearoa</td>\n",
       "    </tr>\n",
       "    <tr>\n",
       "      <th>11</th>\n",
       "      <td>Mavora Lakes, Southland, New Zealand::(Amon Hen)</td>\n",
       "      <td>0120737</td>\n",
       "      <td>The Lord of the Rings: The Fellowship of the Ring</td>\n",
       "      <td>Amon Hen</td>\n",
       "      <td>Mavora Lakes, Southland, New Zealand</td>\n",
       "      <td>-45.366530</td>\n",
       "      <td>168.118380</td>\n",
       "      <td>New Zealand / Aotearoa</td>\n",
       "    </tr>\n",
       "    <tr>\n",
       "      <th>12</th>\n",
       "      <td>Tarras, Wanaka, Otago, New Zealand::(Ford of B...</td>\n",
       "      <td>0120737</td>\n",
       "      <td>The Lord of the Rings: The Fellowship of the Ring</td>\n",
       "      <td>Ford of Bruinen</td>\n",
       "      <td>Tarras, Wanaka, Otago, New Zealand</td>\n",
       "      <td>-44.694169</td>\n",
       "      <td>169.136464</td>\n",
       "      <td>New Zealand / Aotearoa</td>\n",
       "    </tr>\n",
       "    <tr>\n",
       "      <th>13</th>\n",
       "      <td>Canterbury, New Zealand::(Edoras)</td>\n",
       "      <td>0120737</td>\n",
       "      <td>The Lord of the Rings: The Fellowship of the Ring</td>\n",
       "      <td>Edoras</td>\n",
       "      <td>Canterbury, New Zealand</td>\n",
       "      <td>-43.494176</td>\n",
       "      <td>171.809845</td>\n",
       "      <td>New Zealand / Aotearoa</td>\n",
       "    </tr>\n",
       "    <tr>\n",
       "      <th>14</th>\n",
       "      <td>Poet's Corner, Upper Hutt, Wellington, New Zea...</td>\n",
       "      <td>0120737</td>\n",
       "      <td>The Lord of the Rings: The Fellowship of the Ring</td>\n",
       "      <td>River Anduin</td>\n",
       "      <td>Poet's Corner, Upper Hutt, Wellington, New Zea...</td>\n",
       "      <td>-41.288795</td>\n",
       "      <td>174.777211</td>\n",
       "      <td>New Zealand / Aotearoa</td>\n",
       "    </tr>\n",
       "    <tr>\n",
       "      <th>15</th>\n",
       "      <td>South Island, New Zealand::(waterfalls scenes ...</td>\n",
       "      <td>0120737</td>\n",
       "      <td>The Lord of the Rings: The Fellowship of the Ring</td>\n",
       "      <td>waterfalls scenes of Rivendell</td>\n",
       "      <td>South Island, New Zealand</td>\n",
       "      <td>-43.586562</td>\n",
       "      <td>171.212329</td>\n",
       "      <td>New Zealand / Aotearoa</td>\n",
       "    </tr>\n",
       "    <tr>\n",
       "      <th>16</th>\n",
       "      <td>Harcourt Park, Upper Hutt, Wellington, New Zea...</td>\n",
       "      <td>0120737</td>\n",
       "      <td>The Lord of the Rings: The Fellowship of the Ring</td>\n",
       "      <td>Gardens of Isengard</td>\n",
       "      <td>Harcourt Park, Upper Hutt, Wellington, New Zea...</td>\n",
       "      <td>-41.101651</td>\n",
       "      <td>175.094273</td>\n",
       "      <td>New Zealand / Aotearoa</td>\n",
       "    </tr>\n",
       "    <tr>\n",
       "      <th>17</th>\n",
       "      <td>Upper Hutt, Wellington, New Zealand</td>\n",
       "      <td>0120737</td>\n",
       "      <td>The Lord of the Rings: The Fellowship of the Ring</td>\n",
       "      <td></td>\n",
       "      <td>Upper Hutt, Wellington, New Zealand</td>\n",
       "      <td>-41.124067</td>\n",
       "      <td>175.069959</td>\n",
       "      <td>New Zealand / Aotearoa</td>\n",
       "    </tr>\n",
       "    <tr>\n",
       "      <th>18</th>\n",
       "      <td>Camperdown Studios, Camperdown Road, Miramar, ...</td>\n",
       "      <td>0120737</td>\n",
       "      <td>The Lord of the Rings: The Fellowship of the Ring</td>\n",
       "      <td>studio</td>\n",
       "      <td>Camperdown Studios, Camperdown Road, Miramar, ...</td>\n",
       "      <td>-41.306180</td>\n",
       "      <td>174.823620</td>\n",
       "      <td>New Zealand / Aotearoa</td>\n",
       "    </tr>\n",
       "    <tr>\n",
       "      <th>19</th>\n",
       "      <td>Twizel, Canterbury, New Zealand</td>\n",
       "      <td>0120737</td>\n",
       "      <td>The Lord of the Rings: The Fellowship of the Ring</td>\n",
       "      <td></td>\n",
       "      <td>Twizel, Canterbury, New Zealand</td>\n",
       "      <td>-44.257483</td>\n",
       "      <td>170.099414</td>\n",
       "      <td>New Zealand / Aotearoa</td>\n",
       "    </tr>\n",
       "    <tr>\n",
       "      <th>20</th>\n",
       "      <td>Arrowtown Recreational Reserve, Arrowtown, Ota...</td>\n",
       "      <td>0120737</td>\n",
       "      <td>The Lord of the Rings: The Fellowship of the Ring</td>\n",
       "      <td>Ford of Bruinen</td>\n",
       "      <td>Arrowtown Recreational Reserve, Arrowtown, Ota...</td>\n",
       "      <td>-44.940563</td>\n",
       "      <td>168.835076</td>\n",
       "      <td>New Zealand / Aotearoa</td>\n",
       "    </tr>\n",
       "    <tr>\n",
       "      <th>21</th>\n",
       "      <td>Paradise, Glenorchy, Otago, New Zealand::(Loth...</td>\n",
       "      <td>0120737</td>\n",
       "      <td>The Lord of the Rings: The Fellowship of the Ring</td>\n",
       "      <td>Lothlorien Amon Hen</td>\n",
       "      <td>Paradise, Glenorchy, Otago, New Zealand</td>\n",
       "      <td>-44.823184</td>\n",
       "      <td>168.398508</td>\n",
       "      <td>New Zealand / Aotearoa</td>\n",
       "    </tr>\n",
       "    <tr>\n",
       "      <th>22</th>\n",
       "      <td>Te Anau, Southland District, Southland, New Ze...</td>\n",
       "      <td>0120737</td>\n",
       "      <td>The Lord of the Rings: The Fellowship of the Ring</td>\n",
       "      <td>the Fellowship's river journey</td>\n",
       "      <td>Te Anau, Southland District, Southland, New Ze...</td>\n",
       "      <td>-45.414490</td>\n",
       "      <td>167.717489</td>\n",
       "      <td>New Zealand / Aotearoa</td>\n",
       "    </tr>\n",
       "    <tr>\n",
       "      <th>23</th>\n",
       "      <td>Lake Alta, The Remarkables, Nelson, South Isla...</td>\n",
       "      <td>0120737</td>\n",
       "      <td>The Lord of the Rings: The Fellowship of the Ring</td>\n",
       "      <td>Dimrill Dale</td>\n",
       "      <td>Lake Alta, The Remarkables, Nelson, South Isla...</td>\n",
       "      <td>-41.271085</td>\n",
       "      <td>173.283676</td>\n",
       "      <td>New Zealand / Aotearoa</td>\n",
       "    </tr>\n",
       "    <tr>\n",
       "      <th>24</th>\n",
       "      <td>Closeburn, Southern Lakes, South Island, New Z...</td>\n",
       "      <td>0120737</td>\n",
       "      <td>The Lord of the Rings: The Fellowship of the Ring</td>\n",
       "      <td>Amon Hen</td>\n",
       "      <td>Closeburn, Southern Lakes, South Island, New Z...</td>\n",
       "      <td>-43.586562</td>\n",
       "      <td>171.212329</td>\n",
       "      <td>New Zealand / Aotearoa</td>\n",
       "    </tr>\n",
       "    <tr>\n",
       "      <th>25</th>\n",
       "      <td>Abel Tasman National Park, South Island, Tasma...</td>\n",
       "      <td>0120737</td>\n",
       "      <td>The Lord of the Rings: The Fellowship of the Ring</td>\n",
       "      <td>exteriors of Moria</td>\n",
       "      <td>Abel Tasman National Park, South Island, Tasma...</td>\n",
       "      <td>-40.741107</td>\n",
       "      <td>175.117577</td>\n",
       "      <td>New Zealand / Aotearoa</td>\n",
       "    </tr>\n",
       "    <tr>\n",
       "      <th>26</th>\n",
       "      <td>Otaki Gorge Road, Kapiti Coast District, North...</td>\n",
       "      <td>0120737</td>\n",
       "      <td>The Lord of the Rings: The Fellowship of the Ring</td>\n",
       "      <td>the Shire woods</td>\n",
       "      <td>Otaki Gorge Road, Kapiti Coast District, North...</td>\n",
       "      <td>-38.003530</td>\n",
       "      <td>175.957853</td>\n",
       "      <td>New Zealand / Aotearoa</td>\n",
       "    </tr>\n",
       "    <tr>\n",
       "      <th>27</th>\n",
       "      <td>Takaka Hill, Nelson, South Island, New Zealand...</td>\n",
       "      <td>0120737</td>\n",
       "      <td>The Lord of the Rings: The Fellowship of the Ring</td>\n",
       "      <td>forest near Bree</td>\n",
       "      <td>Takaka Hill, Nelson, South Island, New Zealand</td>\n",
       "      <td>-41.271085</td>\n",
       "      <td>173.283676</td>\n",
       "      <td>New Zealand / Aotearoa</td>\n",
       "    </tr>\n",
       "    <tr>\n",
       "      <th>28</th>\n",
       "      <td>Kepler Mire, Te Anau, South Island, New Zealan...</td>\n",
       "      <td>0120737</td>\n",
       "      <td>The Lord of the Rings: The Fellowship of the Ring</td>\n",
       "      <td>Dead Marshes</td>\n",
       "      <td>Kepler Mire, Te Anau, South Island, New Zealand</td>\n",
       "      <td>-43.586562</td>\n",
       "      <td>171.212329</td>\n",
       "      <td>New Zealand / Aotearoa</td>\n",
       "    </tr>\n",
       "    <tr>\n",
       "      <th>29</th>\n",
       "      <td>Mount Owen, Tasman district, Nelson, South Isl...</td>\n",
       "      <td>0120737</td>\n",
       "      <td>The Lord of the Rings: The Fellowship of the Ring</td>\n",
       "      <td>Dimrill Dale</td>\n",
       "      <td>Mount Owen, Tasman district, Nelson, South Isl...</td>\n",
       "      <td>-42.041622</td>\n",
       "      <td>172.628664</td>\n",
       "      <td>New Zealand / Aotearoa</td>\n",
       "    </tr>\n",
       "    <tr>\n",
       "      <th>30</th>\n",
       "      <td>Paradise, Glenorchy, Otago, New Zealand::(Part...</td>\n",
       "      <td>0120737</td>\n",
       "      <td>The Lord of the Rings: The Fellowship of the Ring</td>\n",
       "      <td>Parth Galen</td>\n",
       "      <td>Paradise, Glenorchy, Otago, New Zealand</td>\n",
       "      <td>-44.823184</td>\n",
       "      <td>168.398508</td>\n",
       "      <td>New Zealand / Aotearoa</td>\n",
       "    </tr>\n",
       "    <tr>\n",
       "      <th>31</th>\n",
       "      <td>Fort Dorset, Miramar, Wellington, New Zealand:...</td>\n",
       "      <td>0120737</td>\n",
       "      <td>The Lord of the Rings: The Fellowship of the Ring</td>\n",
       "      <td>Inn of the Prancing Pony's exteriors</td>\n",
       "      <td>Fort Dorset, Miramar, Wellington, New Zealand</td>\n",
       "      <td>-41.288795</td>\n",
       "      <td>174.777211</td>\n",
       "      <td>New Zealand / Aotearoa</td>\n",
       "    </tr>\n",
       "    <tr>\n",
       "      <th>32</th>\n",
       "      <td>Hutt Valley, Wellington, New Zealand::(exterio...</td>\n",
       "      <td>0120737</td>\n",
       "      <td>The Lord of the Rings: The Fellowship of the Ring</td>\n",
       "      <td>exteriors of Moria</td>\n",
       "      <td>Hutt Valley, Wellington, New Zealand</td>\n",
       "      <td>-41.148543</td>\n",
       "      <td>174.991951</td>\n",
       "      <td>New Zealand / Aotearoa</td>\n",
       "    </tr>\n",
       "    <tr>\n",
       "      <th>33</th>\n",
       "      <td>Whakapapa Skifield, Mount Ruapehu, Tongariro N...</td>\n",
       "      <td>0120737</td>\n",
       "      <td>The Lord of the Rings: The Fellowship of the Ring</td>\n",
       "      <td>Mordor prologue scene</td>\n",
       "      <td>Whakapapa Skifield, Mount Ruapehu, Tongariro N...</td>\n",
       "      <td>-41.500083</td>\n",
       "      <td>172.834408</td>\n",
       "      <td>New Zealand / Aotearoa</td>\n",
       "    </tr>\n",
       "  </tbody>\n",
       "</table>\n",
       "</div>"
      ],
      "text/plain": [
       "                                            locations  imdb_id  \\\n",
       "0                     Wellington, New Zealand::(Bree)  0120737   \n",
       "1   Hinuera Valley, Matamata, Waikato, New Zealand...  0120737   \n",
       "2   Kaitoke Regional Park, Wellington Region, New ...  0120737   \n",
       "3   Queenstown, Otago, New Zealand::(Ford of Bruin...  0120737   \n",
       "4   Milford Sound, Fiordland National Park, Southl...  0120737   \n",
       "5    Port Waikato, Waikato, New Zealand::(Weathertop)  0120737   \n",
       "6   Fernside, Featherston, Wairarapa, New Zealand:...  0120737   \n",
       "7   Rangipo Desert, Waiouru, Tongariro National Pa...  0120737   \n",
       "8   Rangitikei River, Manawatu-Wanganui, New Zeala...  0120737   \n",
       "9   Tongariro National Park, Central Plateau, New ...  0120737   \n",
       "10  Lake Wakatipu, Queenstown, Otago, New Zealand:...  0120737   \n",
       "11   Mavora Lakes, Southland, New Zealand::(Amon Hen)  0120737   \n",
       "12  Tarras, Wanaka, Otago, New Zealand::(Ford of B...  0120737   \n",
       "13                  Canterbury, New Zealand::(Edoras)  0120737   \n",
       "14  Poet's Corner, Upper Hutt, Wellington, New Zea...  0120737   \n",
       "15  South Island, New Zealand::(waterfalls scenes ...  0120737   \n",
       "16  Harcourt Park, Upper Hutt, Wellington, New Zea...  0120737   \n",
       "17                Upper Hutt, Wellington, New Zealand  0120737   \n",
       "18  Camperdown Studios, Camperdown Road, Miramar, ...  0120737   \n",
       "19                    Twizel, Canterbury, New Zealand  0120737   \n",
       "20  Arrowtown Recreational Reserve, Arrowtown, Ota...  0120737   \n",
       "21  Paradise, Glenorchy, Otago, New Zealand::(Loth...  0120737   \n",
       "22  Te Anau, Southland District, Southland, New Ze...  0120737   \n",
       "23  Lake Alta, The Remarkables, Nelson, South Isla...  0120737   \n",
       "24  Closeburn, Southern Lakes, South Island, New Z...  0120737   \n",
       "25  Abel Tasman National Park, South Island, Tasma...  0120737   \n",
       "26  Otaki Gorge Road, Kapiti Coast District, North...  0120737   \n",
       "27  Takaka Hill, Nelson, South Island, New Zealand...  0120737   \n",
       "28  Kepler Mire, Te Anau, South Island, New Zealan...  0120737   \n",
       "29  Mount Owen, Tasman district, Nelson, South Isl...  0120737   \n",
       "30  Paradise, Glenorchy, Otago, New Zealand::(Part...  0120737   \n",
       "31  Fort Dorset, Miramar, Wellington, New Zealand:...  0120737   \n",
       "32  Hutt Valley, Wellington, New Zealand::(exterio...  0120737   \n",
       "33  Whakapapa Skifield, Mount Ruapehu, Tongariro N...  0120737   \n",
       "\n",
       "                                                title  \\\n",
       "0   The Lord of the Rings: The Fellowship of the Ring   \n",
       "1   The Lord of the Rings: The Fellowship of the Ring   \n",
       "2   The Lord of the Rings: The Fellowship of the Ring   \n",
       "3   The Lord of the Rings: The Fellowship of the Ring   \n",
       "4   The Lord of the Rings: The Fellowship of the Ring   \n",
       "5   The Lord of the Rings: The Fellowship of the Ring   \n",
       "6   The Lord of the Rings: The Fellowship of the Ring   \n",
       "7   The Lord of the Rings: The Fellowship of the Ring   \n",
       "8   The Lord of the Rings: The Fellowship of the Ring   \n",
       "9   The Lord of the Rings: The Fellowship of the Ring   \n",
       "10  The Lord of the Rings: The Fellowship of the Ring   \n",
       "11  The Lord of the Rings: The Fellowship of the Ring   \n",
       "12  The Lord of the Rings: The Fellowship of the Ring   \n",
       "13  The Lord of the Rings: The Fellowship of the Ring   \n",
       "14  The Lord of the Rings: The Fellowship of the Ring   \n",
       "15  The Lord of the Rings: The Fellowship of the Ring   \n",
       "16  The Lord of the Rings: The Fellowship of the Ring   \n",
       "17  The Lord of the Rings: The Fellowship of the Ring   \n",
       "18  The Lord of the Rings: The Fellowship of the Ring   \n",
       "19  The Lord of the Rings: The Fellowship of the Ring   \n",
       "20  The Lord of the Rings: The Fellowship of the Ring   \n",
       "21  The Lord of the Rings: The Fellowship of the Ring   \n",
       "22  The Lord of the Rings: The Fellowship of the Ring   \n",
       "23  The Lord of the Rings: The Fellowship of the Ring   \n",
       "24  The Lord of the Rings: The Fellowship of the Ring   \n",
       "25  The Lord of the Rings: The Fellowship of the Ring   \n",
       "26  The Lord of the Rings: The Fellowship of the Ring   \n",
       "27  The Lord of the Rings: The Fellowship of the Ring   \n",
       "28  The Lord of the Rings: The Fellowship of the Ring   \n",
       "29  The Lord of the Rings: The Fellowship of the Ring   \n",
       "30  The Lord of the Rings: The Fellowship of the Ring   \n",
       "31  The Lord of the Rings: The Fellowship of the Ring   \n",
       "32  The Lord of the Rings: The Fellowship of the Ring   \n",
       "33  The Lord of the Rings: The Fellowship of the Ring   \n",
       "\n",
       "                           movie_location  \\\n",
       "0                                    Bree   \n",
       "1                                Hobbiton   \n",
       "2                  Rivendell River Anduin   \n",
       "3   Ford of Bruinen River Anduin Amon Hen   \n",
       "4                                           \n",
       "5                              Weathertop   \n",
       "6                              Lothlorien   \n",
       "7                                           \n",
       "8                            River Anduin   \n",
       "9                                  Mordor   \n",
       "10                               Amon Hen   \n",
       "11                               Amon Hen   \n",
       "12                        Ford of Bruinen   \n",
       "13                                 Edoras   \n",
       "14                           River Anduin   \n",
       "15         waterfalls scenes of Rivendell   \n",
       "16                    Gardens of Isengard   \n",
       "17                                          \n",
       "18                                 studio   \n",
       "19                                          \n",
       "20                        Ford of Bruinen   \n",
       "21                    Lothlorien Amon Hen   \n",
       "22         the Fellowship's river journey   \n",
       "23                           Dimrill Dale   \n",
       "24                               Amon Hen   \n",
       "25                     exteriors of Moria   \n",
       "26                        the Shire woods   \n",
       "27                       forest near Bree   \n",
       "28                           Dead Marshes   \n",
       "29                           Dimrill Dale   \n",
       "30                            Parth Galen   \n",
       "31   Inn of the Prancing Pony's exteriors   \n",
       "32                     exteriors of Moria   \n",
       "33                  Mordor prologue scene   \n",
       "\n",
       "                                         set_location   latitude   longitude  \\\n",
       "0                             Wellington, New Zealand -41.288795  174.777211   \n",
       "1      Hinuera Valley, Matamata, Waikato, New Zealand -37.774141  175.488374   \n",
       "2   Kaitoke Regional Park, Wellington Region, New ... -41.049588  175.179120   \n",
       "3                      Queenstown, Otago, New Zealand -45.032192  168.661000   \n",
       "4   Milford Sound, Fiordland National Park, Southl... -44.668546  167.928030   \n",
       "5                  Port Waikato, Waikato, New Zealand -37.391326  174.717334   \n",
       "6       Fernside, Featherston, Wairarapa, New Zealand -41.088554  175.350573   \n",
       "7   Rangipo Desert, Waiouru, Tongariro National Pa... -39.477213  175.669775   \n",
       "8    Rangitikei River, Manawatu-Wanganui, New Zealand -39.766520  175.815259   \n",
       "9   Tongariro National Park, Central Plateau, New ... -39.172729  175.403727   \n",
       "10      Lake Wakatipu, Queenstown, Otago, New Zealand -45.088804  168.521111   \n",
       "11               Mavora Lakes, Southland, New Zealand -45.366530  168.118380   \n",
       "12                 Tarras, Wanaka, Otago, New Zealand -44.694169  169.136464   \n",
       "13                            Canterbury, New Zealand -43.494176  171.809845   \n",
       "14  Poet's Corner, Upper Hutt, Wellington, New Zea... -41.288795  174.777211   \n",
       "15                          South Island, New Zealand -43.586562  171.212329   \n",
       "16  Harcourt Park, Upper Hutt, Wellington, New Zea... -41.101651  175.094273   \n",
       "17                Upper Hutt, Wellington, New Zealand -41.124067  175.069959   \n",
       "18  Camperdown Studios, Camperdown Road, Miramar, ... -41.306180  174.823620   \n",
       "19                    Twizel, Canterbury, New Zealand -44.257483  170.099414   \n",
       "20  Arrowtown Recreational Reserve, Arrowtown, Ota... -44.940563  168.835076   \n",
       "21            Paradise, Glenorchy, Otago, New Zealand -44.823184  168.398508   \n",
       "22  Te Anau, Southland District, Southland, New Ze... -45.414490  167.717489   \n",
       "23  Lake Alta, The Remarkables, Nelson, South Isla... -41.271085  173.283676   \n",
       "24  Closeburn, Southern Lakes, South Island, New Z... -43.586562  171.212329   \n",
       "25  Abel Tasman National Park, South Island, Tasma... -40.741107  175.117577   \n",
       "26  Otaki Gorge Road, Kapiti Coast District, North... -38.003530  175.957853   \n",
       "27     Takaka Hill, Nelson, South Island, New Zealand -41.271085  173.283676   \n",
       "28    Kepler Mire, Te Anau, South Island, New Zealand -43.586562  171.212329   \n",
       "29  Mount Owen, Tasman district, Nelson, South Isl... -42.041622  172.628664   \n",
       "30            Paradise, Glenorchy, Otago, New Zealand -44.823184  168.398508   \n",
       "31      Fort Dorset, Miramar, Wellington, New Zealand -41.288795  174.777211   \n",
       "32               Hutt Valley, Wellington, New Zealand -41.148543  174.991951   \n",
       "33  Whakapapa Skifield, Mount Ruapehu, Tongariro N... -41.500083  172.834408   \n",
       "\n",
       "                   country  \n",
       "0   New Zealand / Aotearoa  \n",
       "1   New Zealand / Aotearoa  \n",
       "2   New Zealand / Aotearoa  \n",
       "3   New Zealand / Aotearoa  \n",
       "4   New Zealand / Aotearoa  \n",
       "5   New Zealand / Aotearoa  \n",
       "6   New Zealand / Aotearoa  \n",
       "7   New Zealand / Aotearoa  \n",
       "8   New Zealand / Aotearoa  \n",
       "9   New Zealand / Aotearoa  \n",
       "10  New Zealand / Aotearoa  \n",
       "11  New Zealand / Aotearoa  \n",
       "12  New Zealand / Aotearoa  \n",
       "13  New Zealand / Aotearoa  \n",
       "14  New Zealand / Aotearoa  \n",
       "15  New Zealand / Aotearoa  \n",
       "16  New Zealand / Aotearoa  \n",
       "17  New Zealand / Aotearoa  \n",
       "18  New Zealand / Aotearoa  \n",
       "19  New Zealand / Aotearoa  \n",
       "20  New Zealand / Aotearoa  \n",
       "21  New Zealand / Aotearoa  \n",
       "22  New Zealand / Aotearoa  \n",
       "23  New Zealand / Aotearoa  \n",
       "24  New Zealand / Aotearoa  \n",
       "25  New Zealand / Aotearoa  \n",
       "26  New Zealand / Aotearoa  \n",
       "27  New Zealand / Aotearoa  \n",
       "28  New Zealand / Aotearoa  \n",
       "29  New Zealand / Aotearoa  \n",
       "30  New Zealand / Aotearoa  \n",
       "31  New Zealand / Aotearoa  \n",
       "32  New Zealand / Aotearoa  \n",
       "33  New Zealand / Aotearoa  "
      ]
     },
     "execution_count": 156,
     "metadata": {},
     "output_type": "execute_result"
    }
   ],
   "source": [
    "locations_df"
   ]
  },
  {
   "cell_type": "code",
   "execution_count": 177,
   "id": "3bd54d7f",
   "metadata": {
    "scrolled": false
   },
   "outputs": [
    {
     "data": {
      "text/html": [
       "<div style=\"width:100%;\"><div style=\"position:relative;width:100%;height:0;padding-bottom:60%;\"><span style=\"color:#565656\">Make this Notebook Trusted to load map: File -> Trust Notebook</span><iframe src=\"about:blank\" style=\"position:absolute;width:100%;height:100%;left:0;top:0;border:none !important;\" data-html=%3C%21DOCTYPE%20html%3E%0A%3Chead%3E%20%20%20%20%0A%20%20%20%20%3Cmeta%20http-equiv%3D%22content-type%22%20content%3D%22text/html%3B%20charset%3DUTF-8%22%20/%3E%0A%20%20%20%20%0A%20%20%20%20%20%20%20%20%3Cscript%3E%0A%20%20%20%20%20%20%20%20%20%20%20%20L_NO_TOUCH%20%3D%20false%3B%0A%20%20%20%20%20%20%20%20%20%20%20%20L_DISABLE_3D%20%3D%20false%3B%0A%20%20%20%20%20%20%20%20%3C/script%3E%0A%20%20%20%20%0A%20%20%20%20%3Cstyle%3Ehtml%2C%20body%20%7Bwidth%3A%20100%25%3Bheight%3A%20100%25%3Bmargin%3A%200%3Bpadding%3A%200%3B%7D%3C/style%3E%0A%20%20%20%20%3Cstyle%3E%23map%20%7Bposition%3Aabsolute%3Btop%3A0%3Bbottom%3A0%3Bright%3A0%3Bleft%3A0%3B%7D%3C/style%3E%0A%20%20%20%20%3Cscript%20src%3D%22https%3A//cdn.jsdelivr.net/npm/leaflet%401.6.0/dist/leaflet.js%22%3E%3C/script%3E%0A%20%20%20%20%3Cscript%20src%3D%22https%3A//code.jquery.com/jquery-1.12.4.min.js%22%3E%3C/script%3E%0A%20%20%20%20%3Cscript%20src%3D%22https%3A//maxcdn.bootstrapcdn.com/bootstrap/3.2.0/js/bootstrap.min.js%22%3E%3C/script%3E%0A%20%20%20%20%3Cscript%20src%3D%22https%3A//cdnjs.cloudflare.com/ajax/libs/Leaflet.awesome-markers/2.0.2/leaflet.awesome-markers.js%22%3E%3C/script%3E%0A%20%20%20%20%3Clink%20rel%3D%22stylesheet%22%20href%3D%22https%3A//cdn.jsdelivr.net/npm/leaflet%401.6.0/dist/leaflet.css%22/%3E%0A%20%20%20%20%3Clink%20rel%3D%22stylesheet%22%20href%3D%22https%3A//maxcdn.bootstrapcdn.com/bootstrap/3.2.0/css/bootstrap.min.css%22/%3E%0A%20%20%20%20%3Clink%20rel%3D%22stylesheet%22%20href%3D%22https%3A//maxcdn.bootstrapcdn.com/bootstrap/3.2.0/css/bootstrap-theme.min.css%22/%3E%0A%20%20%20%20%3Clink%20rel%3D%22stylesheet%22%20href%3D%22https%3A//maxcdn.bootstrapcdn.com/font-awesome/4.6.3/css/font-awesome.min.css%22/%3E%0A%20%20%20%20%3Clink%20rel%3D%22stylesheet%22%20href%3D%22https%3A//cdnjs.cloudflare.com/ajax/libs/Leaflet.awesome-markers/2.0.2/leaflet.awesome-markers.css%22/%3E%0A%20%20%20%20%3Clink%20rel%3D%22stylesheet%22%20href%3D%22https%3A//cdn.jsdelivr.net/gh/python-visualization/folium/folium/templates/leaflet.awesome.rotate.min.css%22/%3E%0A%20%20%20%20%0A%20%20%20%20%20%20%20%20%20%20%20%20%3Cmeta%20name%3D%22viewport%22%20content%3D%22width%3Ddevice-width%2C%0A%20%20%20%20%20%20%20%20%20%20%20%20%20%20%20%20initial-scale%3D1.0%2C%20maximum-scale%3D1.0%2C%20user-scalable%3Dno%22%20/%3E%0A%20%20%20%20%20%20%20%20%20%20%20%20%3Cstyle%3E%0A%20%20%20%20%20%20%20%20%20%20%20%20%20%20%20%20%23map_bdedbb204de446ea90afdc65858706c1%20%7B%0A%20%20%20%20%20%20%20%20%20%20%20%20%20%20%20%20%20%20%20%20position%3A%20relative%3B%0A%20%20%20%20%20%20%20%20%20%20%20%20%20%20%20%20%20%20%20%20width%3A%20100.0%25%3B%0A%20%20%20%20%20%20%20%20%20%20%20%20%20%20%20%20%20%20%20%20height%3A%20100.0%25%3B%0A%20%20%20%20%20%20%20%20%20%20%20%20%20%20%20%20%20%20%20%20left%3A%200.0%25%3B%0A%20%20%20%20%20%20%20%20%20%20%20%20%20%20%20%20%20%20%20%20top%3A%200.0%25%3B%0A%20%20%20%20%20%20%20%20%20%20%20%20%20%20%20%20%7D%0A%20%20%20%20%20%20%20%20%20%20%20%20%3C/style%3E%0A%20%20%20%20%20%20%20%20%0A%3C/head%3E%0A%3Cbody%3E%20%20%20%20%0A%20%20%20%20%0A%20%20%20%20%20%20%20%20%20%20%20%20%3Cdiv%20class%3D%22folium-map%22%20id%3D%22map_bdedbb204de446ea90afdc65858706c1%22%20%3E%3C/div%3E%0A%20%20%20%20%20%20%20%20%0A%3C/body%3E%0A%3Cscript%3E%20%20%20%20%0A%20%20%20%20%0A%20%20%20%20%20%20%20%20%20%20%20%20var%20map_bdedbb204de446ea90afdc65858706c1%20%3D%20L.map%28%0A%20%20%20%20%20%20%20%20%20%20%20%20%20%20%20%20%22map_bdedbb204de446ea90afdc65858706c1%22%2C%0A%20%20%20%20%20%20%20%20%20%20%20%20%20%20%20%20%7B%0A%20%20%20%20%20%20%20%20%20%20%20%20%20%20%20%20%20%20%20%20center%3A%20%5B-42.32102421764706%2C%20172.86133345336415%5D%2C%0A%20%20%20%20%20%20%20%20%20%20%20%20%20%20%20%20%20%20%20%20crs%3A%20L.CRS.EPSG3857%2C%0A%20%20%20%20%20%20%20%20%20%20%20%20%20%20%20%20%20%20%20%20zoom%3A%209%2C%0A%20%20%20%20%20%20%20%20%20%20%20%20%20%20%20%20%20%20%20%20zoomControl%3A%20true%2C%0A%20%20%20%20%20%20%20%20%20%20%20%20%20%20%20%20%20%20%20%20preferCanvas%3A%20false%2C%0A%20%20%20%20%20%20%20%20%20%20%20%20%20%20%20%20%7D%0A%20%20%20%20%20%20%20%20%20%20%20%20%29%3B%0A%0A%20%20%20%20%20%20%20%20%20%20%20%20%0A%0A%20%20%20%20%20%20%20%20%0A%20%20%20%20%0A%20%20%20%20%20%20%20%20%20%20%20%20var%20tile_layer_f3585a9e41bc45f9ba1f29be4718c506%20%3D%20L.tileLayer%28%0A%20%20%20%20%20%20%20%20%20%20%20%20%20%20%20%20%22https%3A//%7Bs%7D.tile.openstreetmap.org/%7Bz%7D/%7Bx%7D/%7By%7D.png%22%2C%0A%20%20%20%20%20%20%20%20%20%20%20%20%20%20%20%20%7B%22attribution%22%3A%20%22Data%20by%20%5Cu0026copy%3B%20%5Cu003ca%20href%3D%5C%22http%3A//openstreetmap.org%5C%22%5Cu003eOpenStreetMap%5Cu003c/a%5Cu003e%2C%20under%20%5Cu003ca%20href%3D%5C%22http%3A//www.openstreetmap.org/copyright%5C%22%5Cu003eODbL%5Cu003c/a%5Cu003e.%22%2C%20%22detectRetina%22%3A%20false%2C%20%22maxNativeZoom%22%3A%2018%2C%20%22maxZoom%22%3A%2018%2C%20%22minZoom%22%3A%200%2C%20%22noWrap%22%3A%20false%2C%20%22opacity%22%3A%201%2C%20%22subdomains%22%3A%20%22abc%22%2C%20%22tms%22%3A%20false%7D%0A%20%20%20%20%20%20%20%20%20%20%20%20%29.addTo%28map_bdedbb204de446ea90afdc65858706c1%29%3B%0A%20%20%20%20%20%20%20%20%0A%20%20%20%20%0A%20%20%20%20%20%20%20%20%20%20%20%20var%20marker_90d6045490424ca888c2569c3373ee28%20%3D%20L.marker%28%0A%20%20%20%20%20%20%20%20%20%20%20%20%20%20%20%20%5B-41.2887953%2C%20174.7772114%5D%2C%0A%20%20%20%20%20%20%20%20%20%20%20%20%20%20%20%20%7B%7D%0A%20%20%20%20%20%20%20%20%20%20%20%20%29.addTo%28map_bdedbb204de446ea90afdc65858706c1%29%3B%0A%20%20%20%20%20%20%20%20%0A%20%20%20%20%0A%20%20%20%20%20%20%20%20var%20popup_99c1a33c1a0d4c0e8ac0e4c4bf6d2a38%20%3D%20L.popup%28%7B%22maxWidth%22%3A%20%22100%25%22%7D%29%3B%0A%0A%20%20%20%20%20%20%20%20%0A%20%20%20%20%20%20%20%20%20%20%20%20var%20html_899a6e27af1b4686884905e5a6d7f99d%20%3D%20%24%28%60%3Cdiv%20id%3D%22html_899a6e27af1b4686884905e5a6d7f99d%22%20style%3D%22width%3A%20100.0%25%3B%20height%3A%20100.0%25%3B%22%3EBree%3C/div%3E%60%29%5B0%5D%3B%0A%20%20%20%20%20%20%20%20%20%20%20%20popup_99c1a33c1a0d4c0e8ac0e4c4bf6d2a38.setContent%28html_899a6e27af1b4686884905e5a6d7f99d%29%3B%0A%20%20%20%20%20%20%20%20%0A%0A%20%20%20%20%20%20%20%20marker_90d6045490424ca888c2569c3373ee28.bindPopup%28popup_99c1a33c1a0d4c0e8ac0e4c4bf6d2a38%29%0A%20%20%20%20%20%20%20%20%3B%0A%0A%20%20%20%20%20%20%20%20%0A%20%20%20%20%0A%20%20%20%20%0A%20%20%20%20%20%20%20%20%20%20%20%20var%20marker_6aa8294bf22b431ea79b28b64a170acd%20%3D%20L.marker%28%0A%20%20%20%20%20%20%20%20%20%20%20%20%20%20%20%20%5B-37.7741407%2C%20175.4883742%5D%2C%0A%20%20%20%20%20%20%20%20%20%20%20%20%20%20%20%20%7B%7D%0A%20%20%20%20%20%20%20%20%20%20%20%20%29.addTo%28map_bdedbb204de446ea90afdc65858706c1%29%3B%0A%20%20%20%20%20%20%20%20%0A%20%20%20%20%0A%20%20%20%20%20%20%20%20var%20popup_26890e3f1e39427d84f2efe9389b834a%20%3D%20L.popup%28%7B%22maxWidth%22%3A%20%22100%25%22%7D%29%3B%0A%0A%20%20%20%20%20%20%20%20%0A%20%20%20%20%20%20%20%20%20%20%20%20var%20html_fd655316240e4e65a1ac555a67dda396%20%3D%20%24%28%60%3Cdiv%20id%3D%22html_fd655316240e4e65a1ac555a67dda396%22%20style%3D%22width%3A%20100.0%25%3B%20height%3A%20100.0%25%3B%22%3EHobbiton%3C/div%3E%60%29%5B0%5D%3B%0A%20%20%20%20%20%20%20%20%20%20%20%20popup_26890e3f1e39427d84f2efe9389b834a.setContent%28html_fd655316240e4e65a1ac555a67dda396%29%3B%0A%20%20%20%20%20%20%20%20%0A%0A%20%20%20%20%20%20%20%20marker_6aa8294bf22b431ea79b28b64a170acd.bindPopup%28popup_26890e3f1e39427d84f2efe9389b834a%29%0A%20%20%20%20%20%20%20%20%3B%0A%0A%20%20%20%20%20%20%20%20%0A%20%20%20%20%0A%20%20%20%20%0A%20%20%20%20%20%20%20%20%20%20%20%20var%20marker_2b13a5d7a4d54e00bad201b0de0748a7%20%3D%20L.marker%28%0A%20%20%20%20%20%20%20%20%20%20%20%20%20%20%20%20%5B-41.0495879%2C%20175.1791197%5D%2C%0A%20%20%20%20%20%20%20%20%20%20%20%20%20%20%20%20%7B%7D%0A%20%20%20%20%20%20%20%20%20%20%20%20%29.addTo%28map_bdedbb204de446ea90afdc65858706c1%29%3B%0A%20%20%20%20%20%20%20%20%0A%20%20%20%20%0A%20%20%20%20%20%20%20%20var%20popup_09e477fd012746b1806872248bb3a71c%20%3D%20L.popup%28%7B%22maxWidth%22%3A%20%22100%25%22%7D%29%3B%0A%0A%20%20%20%20%20%20%20%20%0A%20%20%20%20%20%20%20%20%20%20%20%20var%20html_fa1d7c00c5d74d62b63c52203ec5105d%20%3D%20%24%28%60%3Cdiv%20id%3D%22html_fa1d7c00c5d74d62b63c52203ec5105d%22%20style%3D%22width%3A%20100.0%25%3B%20height%3A%20100.0%25%3B%22%3ERivendell%20River%20Anduin%3C/div%3E%60%29%5B0%5D%3B%0A%20%20%20%20%20%20%20%20%20%20%20%20popup_09e477fd012746b1806872248bb3a71c.setContent%28html_fa1d7c00c5d74d62b63c52203ec5105d%29%3B%0A%20%20%20%20%20%20%20%20%0A%0A%20%20%20%20%20%20%20%20marker_2b13a5d7a4d54e00bad201b0de0748a7.bindPopup%28popup_09e477fd012746b1806872248bb3a71c%29%0A%20%20%20%20%20%20%20%20%3B%0A%0A%20%20%20%20%20%20%20%20%0A%20%20%20%20%0A%20%20%20%20%0A%20%20%20%20%20%20%20%20%20%20%20%20var%20marker_c3a9ac027ed146ebb9a0176b2d602f22%20%3D%20L.marker%28%0A%20%20%20%20%20%20%20%20%20%20%20%20%20%20%20%20%5B-45.0321923%2C%20168.661%5D%2C%0A%20%20%20%20%20%20%20%20%20%20%20%20%20%20%20%20%7B%7D%0A%20%20%20%20%20%20%20%20%20%20%20%20%29.addTo%28map_bdedbb204de446ea90afdc65858706c1%29%3B%0A%20%20%20%20%20%20%20%20%0A%20%20%20%20%0A%20%20%20%20%20%20%20%20var%20popup_d347279de96340279c20a3eaac18e3a1%20%3D%20L.popup%28%7B%22maxWidth%22%3A%20%22100%25%22%7D%29%3B%0A%0A%20%20%20%20%20%20%20%20%0A%20%20%20%20%20%20%20%20%20%20%20%20var%20html_d425c1aa95b1462089002f9faae8b3a0%20%3D%20%24%28%60%3Cdiv%20id%3D%22html_d425c1aa95b1462089002f9faae8b3a0%22%20style%3D%22width%3A%20100.0%25%3B%20height%3A%20100.0%25%3B%22%3EFord%20of%20Bruinen%20River%20Anduin%20Amon%20Hen%3C/div%3E%60%29%5B0%5D%3B%0A%20%20%20%20%20%20%20%20%20%20%20%20popup_d347279de96340279c20a3eaac18e3a1.setContent%28html_d425c1aa95b1462089002f9faae8b3a0%29%3B%0A%20%20%20%20%20%20%20%20%0A%0A%20%20%20%20%20%20%20%20marker_c3a9ac027ed146ebb9a0176b2d602f22.bindPopup%28popup_d347279de96340279c20a3eaac18e3a1%29%0A%20%20%20%20%20%20%20%20%3B%0A%0A%20%20%20%20%20%20%20%20%0A%20%20%20%20%0A%20%20%20%20%0A%20%20%20%20%20%20%20%20%20%20%20%20var%20marker_9e78cc3b64c74eeca31d7d64a875f06b%20%3D%20L.marker%28%0A%20%20%20%20%20%20%20%20%20%20%20%20%20%20%20%20%5B-44.6685455%2C%20167.92803%5D%2C%0A%20%20%20%20%20%20%20%20%20%20%20%20%20%20%20%20%7B%7D%0A%20%20%20%20%20%20%20%20%20%20%20%20%29.addTo%28map_bdedbb204de446ea90afdc65858706c1%29%3B%0A%20%20%20%20%20%20%20%20%0A%20%20%20%20%0A%20%20%20%20%20%20%20%20var%20popup_cbbd586102344442817f712b2c22c928%20%3D%20L.popup%28%7B%22maxWidth%22%3A%20%22100%25%22%7D%29%3B%0A%0A%20%20%20%20%20%20%20%20%0A%20%20%20%20%20%20%20%20%20%20%20%20var%20html_d4ac40e0d3014868a9e93fe1c6d7409d%20%3D%20%24%28%60%3Cdiv%20id%3D%22html_d4ac40e0d3014868a9e93fe1c6d7409d%22%20style%3D%22width%3A%20100.0%25%3B%20height%3A%20100.0%25%3B%22%3E%3C/div%3E%60%29%5B0%5D%3B%0A%20%20%20%20%20%20%20%20%20%20%20%20popup_cbbd586102344442817f712b2c22c928.setContent%28html_d4ac40e0d3014868a9e93fe1c6d7409d%29%3B%0A%20%20%20%20%20%20%20%20%0A%0A%20%20%20%20%20%20%20%20marker_9e78cc3b64c74eeca31d7d64a875f06b.bindPopup%28popup_cbbd586102344442817f712b2c22c928%29%0A%20%20%20%20%20%20%20%20%3B%0A%0A%20%20%20%20%20%20%20%20%0A%20%20%20%20%0A%20%20%20%20%0A%20%20%20%20%20%20%20%20%20%20%20%20var%20marker_5e75add4169646d5b648fdd490a0b80e%20%3D%20L.marker%28%0A%20%20%20%20%20%20%20%20%20%20%20%20%20%20%20%20%5B-37.3913264%2C%20174.717334%5D%2C%0A%20%20%20%20%20%20%20%20%20%20%20%20%20%20%20%20%7B%7D%0A%20%20%20%20%20%20%20%20%20%20%20%20%29.addTo%28map_bdedbb204de446ea90afdc65858706c1%29%3B%0A%20%20%20%20%20%20%20%20%0A%20%20%20%20%0A%20%20%20%20%20%20%20%20var%20popup_4088a3962d524094aca0b69077ac700d%20%3D%20L.popup%28%7B%22maxWidth%22%3A%20%22100%25%22%7D%29%3B%0A%0A%20%20%20%20%20%20%20%20%0A%20%20%20%20%20%20%20%20%20%20%20%20var%20html_798a581591094569a429c7baf811aa9a%20%3D%20%24%28%60%3Cdiv%20id%3D%22html_798a581591094569a429c7baf811aa9a%22%20style%3D%22width%3A%20100.0%25%3B%20height%3A%20100.0%25%3B%22%3EWeathertop%3C/div%3E%60%29%5B0%5D%3B%0A%20%20%20%20%20%20%20%20%20%20%20%20popup_4088a3962d524094aca0b69077ac700d.setContent%28html_798a581591094569a429c7baf811aa9a%29%3B%0A%20%20%20%20%20%20%20%20%0A%0A%20%20%20%20%20%20%20%20marker_5e75add4169646d5b648fdd490a0b80e.bindPopup%28popup_4088a3962d524094aca0b69077ac700d%29%0A%20%20%20%20%20%20%20%20%3B%0A%0A%20%20%20%20%20%20%20%20%0A%20%20%20%20%0A%20%20%20%20%0A%20%20%20%20%20%20%20%20%20%20%20%20var%20marker_6ccea021220c462faebac62ea25478e1%20%3D%20L.marker%28%0A%20%20%20%20%20%20%20%20%20%20%20%20%20%20%20%20%5B-41.0885537%2C%20175.3505731%5D%2C%0A%20%20%20%20%20%20%20%20%20%20%20%20%20%20%20%20%7B%7D%0A%20%20%20%20%20%20%20%20%20%20%20%20%29.addTo%28map_bdedbb204de446ea90afdc65858706c1%29%3B%0A%20%20%20%20%20%20%20%20%0A%20%20%20%20%0A%20%20%20%20%20%20%20%20var%20popup_96e1a257daf44c65aec3198b8c4bbe42%20%3D%20L.popup%28%7B%22maxWidth%22%3A%20%22100%25%22%7D%29%3B%0A%0A%20%20%20%20%20%20%20%20%0A%20%20%20%20%20%20%20%20%20%20%20%20var%20html_3d64c0c7245f4d428452fdf921af4520%20%3D%20%24%28%60%3Cdiv%20id%3D%22html_3d64c0c7245f4d428452fdf921af4520%22%20style%3D%22width%3A%20100.0%25%3B%20height%3A%20100.0%25%3B%22%3ELothlorien%3C/div%3E%60%29%5B0%5D%3B%0A%20%20%20%20%20%20%20%20%20%20%20%20popup_96e1a257daf44c65aec3198b8c4bbe42.setContent%28html_3d64c0c7245f4d428452fdf921af4520%29%3B%0A%20%20%20%20%20%20%20%20%0A%0A%20%20%20%20%20%20%20%20marker_6ccea021220c462faebac62ea25478e1.bindPopup%28popup_96e1a257daf44c65aec3198b8c4bbe42%29%0A%20%20%20%20%20%20%20%20%3B%0A%0A%20%20%20%20%20%20%20%20%0A%20%20%20%20%0A%20%20%20%20%0A%20%20%20%20%20%20%20%20%20%20%20%20var%20marker_eebae21ba83445d58d6a20e281e1ad20%20%3D%20L.marker%28%0A%20%20%20%20%20%20%20%20%20%20%20%20%20%20%20%20%5B-39.4772125%2C%20175.6697752%5D%2C%0A%20%20%20%20%20%20%20%20%20%20%20%20%20%20%20%20%7B%7D%0A%20%20%20%20%20%20%20%20%20%20%20%20%29.addTo%28map_bdedbb204de446ea90afdc65858706c1%29%3B%0A%20%20%20%20%20%20%20%20%0A%20%20%20%20%0A%20%20%20%20%20%20%20%20var%20popup_a3ec94220152413195491ad7ef8279d9%20%3D%20L.popup%28%7B%22maxWidth%22%3A%20%22100%25%22%7D%29%3B%0A%0A%20%20%20%20%20%20%20%20%0A%20%20%20%20%20%20%20%20%20%20%20%20var%20html_d91af37bd81c4a0ebd00df88ddccf553%20%3D%20%24%28%60%3Cdiv%20id%3D%22html_d91af37bd81c4a0ebd00df88ddccf553%22%20style%3D%22width%3A%20100.0%25%3B%20height%3A%20100.0%25%3B%22%3E%3C/div%3E%60%29%5B0%5D%3B%0A%20%20%20%20%20%20%20%20%20%20%20%20popup_a3ec94220152413195491ad7ef8279d9.setContent%28html_d91af37bd81c4a0ebd00df88ddccf553%29%3B%0A%20%20%20%20%20%20%20%20%0A%0A%20%20%20%20%20%20%20%20marker_eebae21ba83445d58d6a20e281e1ad20.bindPopup%28popup_a3ec94220152413195491ad7ef8279d9%29%0A%20%20%20%20%20%20%20%20%3B%0A%0A%20%20%20%20%20%20%20%20%0A%20%20%20%20%0A%20%20%20%20%0A%20%20%20%20%20%20%20%20%20%20%20%20var%20marker_fcd27f2a0fb74efc94a98c022731a0c8%20%3D%20L.marker%28%0A%20%20%20%20%20%20%20%20%20%20%20%20%20%20%20%20%5B-39.7665195%2C%20175.8152587%5D%2C%0A%20%20%20%20%20%20%20%20%20%20%20%20%20%20%20%20%7B%7D%0A%20%20%20%20%20%20%20%20%20%20%20%20%29.addTo%28map_bdedbb204de446ea90afdc65858706c1%29%3B%0A%20%20%20%20%20%20%20%20%0A%20%20%20%20%0A%20%20%20%20%20%20%20%20var%20popup_f72767bac9cf400888173ba562e0a8be%20%3D%20L.popup%28%7B%22maxWidth%22%3A%20%22100%25%22%7D%29%3B%0A%0A%20%20%20%20%20%20%20%20%0A%20%20%20%20%20%20%20%20%20%20%20%20var%20html_0f0e791aab2943c7b879452c2c56c23f%20%3D%20%24%28%60%3Cdiv%20id%3D%22html_0f0e791aab2943c7b879452c2c56c23f%22%20style%3D%22width%3A%20100.0%25%3B%20height%3A%20100.0%25%3B%22%3ERiver%20Anduin%3C/div%3E%60%29%5B0%5D%3B%0A%20%20%20%20%20%20%20%20%20%20%20%20popup_f72767bac9cf400888173ba562e0a8be.setContent%28html_0f0e791aab2943c7b879452c2c56c23f%29%3B%0A%20%20%20%20%20%20%20%20%0A%0A%20%20%20%20%20%20%20%20marker_fcd27f2a0fb74efc94a98c022731a0c8.bindPopup%28popup_f72767bac9cf400888173ba562e0a8be%29%0A%20%20%20%20%20%20%20%20%3B%0A%0A%20%20%20%20%20%20%20%20%0A%20%20%20%20%0A%20%20%20%20%0A%20%20%20%20%20%20%20%20%20%20%20%20var%20marker_32f7b2009fc24577b09e9575be150b6d%20%3D%20L.marker%28%0A%20%20%20%20%20%20%20%20%20%20%20%20%20%20%20%20%5B-39.1727294%2C%20175.4037274%5D%2C%0A%20%20%20%20%20%20%20%20%20%20%20%20%20%20%20%20%7B%7D%0A%20%20%20%20%20%20%20%20%20%20%20%20%29.addTo%28map_bdedbb204de446ea90afdc65858706c1%29%3B%0A%20%20%20%20%20%20%20%20%0A%20%20%20%20%0A%20%20%20%20%20%20%20%20var%20popup_69ff4cec951b4d35883b42b1c145ae18%20%3D%20L.popup%28%7B%22maxWidth%22%3A%20%22100%25%22%7D%29%3B%0A%0A%20%20%20%20%20%20%20%20%0A%20%20%20%20%20%20%20%20%20%20%20%20var%20html_d21e2bff70ed40e2b97bfa37989af07c%20%3D%20%24%28%60%3Cdiv%20id%3D%22html_d21e2bff70ed40e2b97bfa37989af07c%22%20style%3D%22width%3A%20100.0%25%3B%20height%3A%20100.0%25%3B%22%3EMordor%3C/div%3E%60%29%5B0%5D%3B%0A%20%20%20%20%20%20%20%20%20%20%20%20popup_69ff4cec951b4d35883b42b1c145ae18.setContent%28html_d21e2bff70ed40e2b97bfa37989af07c%29%3B%0A%20%20%20%20%20%20%20%20%0A%0A%20%20%20%20%20%20%20%20marker_32f7b2009fc24577b09e9575be150b6d.bindPopup%28popup_69ff4cec951b4d35883b42b1c145ae18%29%0A%20%20%20%20%20%20%20%20%3B%0A%0A%20%20%20%20%20%20%20%20%0A%20%20%20%20%0A%20%20%20%20%0A%20%20%20%20%20%20%20%20%20%20%20%20var%20marker_e56e49da2ea641e4a5e91e454fd0217f%20%3D%20L.marker%28%0A%20%20%20%20%20%20%20%20%20%20%20%20%20%20%20%20%5B-45.08880415%2C%20168.52111077909876%5D%2C%0A%20%20%20%20%20%20%20%20%20%20%20%20%20%20%20%20%7B%7D%0A%20%20%20%20%20%20%20%20%20%20%20%20%29.addTo%28map_bdedbb204de446ea90afdc65858706c1%29%3B%0A%20%20%20%20%20%20%20%20%0A%20%20%20%20%0A%20%20%20%20%20%20%20%20var%20popup_5fe1bfd4b8694ce5826399204a1b1fcf%20%3D%20L.popup%28%7B%22maxWidth%22%3A%20%22100%25%22%7D%29%3B%0A%0A%20%20%20%20%20%20%20%20%0A%20%20%20%20%20%20%20%20%20%20%20%20var%20html_ac1f31edfb5b4d099777711a5be6fa5f%20%3D%20%24%28%60%3Cdiv%20id%3D%22html_ac1f31edfb5b4d099777711a5be6fa5f%22%20style%3D%22width%3A%20100.0%25%3B%20height%3A%20100.0%25%3B%22%3EAmon%20Hen%3C/div%3E%60%29%5B0%5D%3B%0A%20%20%20%20%20%20%20%20%20%20%20%20popup_5fe1bfd4b8694ce5826399204a1b1fcf.setContent%28html_ac1f31edfb5b4d099777711a5be6fa5f%29%3B%0A%20%20%20%20%20%20%20%20%0A%0A%20%20%20%20%20%20%20%20marker_e56e49da2ea641e4a5e91e454fd0217f.bindPopup%28popup_5fe1bfd4b8694ce5826399204a1b1fcf%29%0A%20%20%20%20%20%20%20%20%3B%0A%0A%20%20%20%20%20%20%20%20%0A%20%20%20%20%0A%20%20%20%20%0A%20%20%20%20%20%20%20%20%20%20%20%20var%20marker_7028a727017c4792b8822fd6ee906b26%20%3D%20L.marker%28%0A%20%20%20%20%20%20%20%20%20%20%20%20%20%20%20%20%5B-45.36653%2C%20168.11838%5D%2C%0A%20%20%20%20%20%20%20%20%20%20%20%20%20%20%20%20%7B%7D%0A%20%20%20%20%20%20%20%20%20%20%20%20%29.addTo%28map_bdedbb204de446ea90afdc65858706c1%29%3B%0A%20%20%20%20%20%20%20%20%0A%20%20%20%20%0A%20%20%20%20%20%20%20%20var%20popup_a3006d8d45cd47fb8932f0af66cd4f53%20%3D%20L.popup%28%7B%22maxWidth%22%3A%20%22100%25%22%7D%29%3B%0A%0A%20%20%20%20%20%20%20%20%0A%20%20%20%20%20%20%20%20%20%20%20%20var%20html_dcf57db806674777bb29e5c9c21a97c8%20%3D%20%24%28%60%3Cdiv%20id%3D%22html_dcf57db806674777bb29e5c9c21a97c8%22%20style%3D%22width%3A%20100.0%25%3B%20height%3A%20100.0%25%3B%22%3EAmon%20Hen%3C/div%3E%60%29%5B0%5D%3B%0A%20%20%20%20%20%20%20%20%20%20%20%20popup_a3006d8d45cd47fb8932f0af66cd4f53.setContent%28html_dcf57db806674777bb29e5c9c21a97c8%29%3B%0A%20%20%20%20%20%20%20%20%0A%0A%20%20%20%20%20%20%20%20marker_7028a727017c4792b8822fd6ee906b26.bindPopup%28popup_a3006d8d45cd47fb8932f0af66cd4f53%29%0A%20%20%20%20%20%20%20%20%3B%0A%0A%20%20%20%20%20%20%20%20%0A%20%20%20%20%0A%20%20%20%20%0A%20%20%20%20%20%20%20%20%20%20%20%20var%20marker_689ec4c7478b4f548e38bef435a3a776%20%3D%20L.marker%28%0A%20%20%20%20%20%20%20%20%20%20%20%20%20%20%20%20%5B-44.6941691%2C%20169.1364637%5D%2C%0A%20%20%20%20%20%20%20%20%20%20%20%20%20%20%20%20%7B%7D%0A%20%20%20%20%20%20%20%20%20%20%20%20%29.addTo%28map_bdedbb204de446ea90afdc65858706c1%29%3B%0A%20%20%20%20%20%20%20%20%0A%20%20%20%20%0A%20%20%20%20%20%20%20%20var%20popup_8626f016b0bb417e8a4937bec47ce01d%20%3D%20L.popup%28%7B%22maxWidth%22%3A%20%22100%25%22%7D%29%3B%0A%0A%20%20%20%20%20%20%20%20%0A%20%20%20%20%20%20%20%20%20%20%20%20var%20html_c0c147869bd743b09bdb378e6d537544%20%3D%20%24%28%60%3Cdiv%20id%3D%22html_c0c147869bd743b09bdb378e6d537544%22%20style%3D%22width%3A%20100.0%25%3B%20height%3A%20100.0%25%3B%22%3EFord%20of%20Bruinen%3C/div%3E%60%29%5B0%5D%3B%0A%20%20%20%20%20%20%20%20%20%20%20%20popup_8626f016b0bb417e8a4937bec47ce01d.setContent%28html_c0c147869bd743b09bdb378e6d537544%29%3B%0A%20%20%20%20%20%20%20%20%0A%0A%20%20%20%20%20%20%20%20marker_689ec4c7478b4f548e38bef435a3a776.bindPopup%28popup_8626f016b0bb417e8a4937bec47ce01d%29%0A%20%20%20%20%20%20%20%20%3B%0A%0A%20%20%20%20%20%20%20%20%0A%20%20%20%20%0A%20%20%20%20%0A%20%20%20%20%20%20%20%20%20%20%20%20var%20marker_d8a0861b77d04019adc31d9a0abafaa1%20%3D%20L.marker%28%0A%20%20%20%20%20%20%20%20%20%20%20%20%20%20%20%20%5B-43.49417615%2C%20171.8098447584145%5D%2C%0A%20%20%20%20%20%20%20%20%20%20%20%20%20%20%20%20%7B%7D%0A%20%20%20%20%20%20%20%20%20%20%20%20%29.addTo%28map_bdedbb204de446ea90afdc65858706c1%29%3B%0A%20%20%20%20%20%20%20%20%0A%20%20%20%20%0A%20%20%20%20%20%20%20%20var%20popup_1c346c84b73e4540961ed26f8795f280%20%3D%20L.popup%28%7B%22maxWidth%22%3A%20%22100%25%22%7D%29%3B%0A%0A%20%20%20%20%20%20%20%20%0A%20%20%20%20%20%20%20%20%20%20%20%20var%20html_ad1ddd275fd0444caaa565ae12cd575d%20%3D%20%24%28%60%3Cdiv%20id%3D%22html_ad1ddd275fd0444caaa565ae12cd575d%22%20style%3D%22width%3A%20100.0%25%3B%20height%3A%20100.0%25%3B%22%3EEdoras%3C/div%3E%60%29%5B0%5D%3B%0A%20%20%20%20%20%20%20%20%20%20%20%20popup_1c346c84b73e4540961ed26f8795f280.setContent%28html_ad1ddd275fd0444caaa565ae12cd575d%29%3B%0A%20%20%20%20%20%20%20%20%0A%0A%20%20%20%20%20%20%20%20marker_d8a0861b77d04019adc31d9a0abafaa1.bindPopup%28popup_1c346c84b73e4540961ed26f8795f280%29%0A%20%20%20%20%20%20%20%20%3B%0A%0A%20%20%20%20%20%20%20%20%0A%20%20%20%20%0A%20%20%20%20%0A%20%20%20%20%20%20%20%20%20%20%20%20var%20marker_97a00fbf7cfe40e5ae880e037b046c5d%20%3D%20L.marker%28%0A%20%20%20%20%20%20%20%20%20%20%20%20%20%20%20%20%5B-41.2887953%2C%20174.7772114%5D%2C%0A%20%20%20%20%20%20%20%20%20%20%20%20%20%20%20%20%7B%7D%0A%20%20%20%20%20%20%20%20%20%20%20%20%29.addTo%28map_bdedbb204de446ea90afdc65858706c1%29%3B%0A%20%20%20%20%20%20%20%20%0A%20%20%20%20%0A%20%20%20%20%20%20%20%20var%20popup_a88c9c740f5e46b7b607fdfee7508da6%20%3D%20L.popup%28%7B%22maxWidth%22%3A%20%22100%25%22%7D%29%3B%0A%0A%20%20%20%20%20%20%20%20%0A%20%20%20%20%20%20%20%20%20%20%20%20var%20html_04e65d6109294351980f2aa8997a9dce%20%3D%20%24%28%60%3Cdiv%20id%3D%22html_04e65d6109294351980f2aa8997a9dce%22%20style%3D%22width%3A%20100.0%25%3B%20height%3A%20100.0%25%3B%22%3ERiver%20Anduin%3C/div%3E%60%29%5B0%5D%3B%0A%20%20%20%20%20%20%20%20%20%20%20%20popup_a88c9c740f5e46b7b607fdfee7508da6.setContent%28html_04e65d6109294351980f2aa8997a9dce%29%3B%0A%20%20%20%20%20%20%20%20%0A%0A%20%20%20%20%20%20%20%20marker_97a00fbf7cfe40e5ae880e037b046c5d.bindPopup%28popup_a88c9c740f5e46b7b607fdfee7508da6%29%0A%20%20%20%20%20%20%20%20%3B%0A%0A%20%20%20%20%20%20%20%20%0A%20%20%20%20%0A%20%20%20%20%0A%20%20%20%20%20%20%20%20%20%20%20%20var%20marker_cfc652c0ae8446f0a258ee46601d207f%20%3D%20L.marker%28%0A%20%20%20%20%20%20%20%20%20%20%20%20%20%20%20%20%5B-43.586562%2C%20171.21232939964904%5D%2C%0A%20%20%20%20%20%20%20%20%20%20%20%20%20%20%20%20%7B%7D%0A%20%20%20%20%20%20%20%20%20%20%20%20%29.addTo%28map_bdedbb204de446ea90afdc65858706c1%29%3B%0A%20%20%20%20%20%20%20%20%0A%20%20%20%20%0A%20%20%20%20%20%20%20%20var%20popup_aac26fe7b4ce4b74a823820e52bd4062%20%3D%20L.popup%28%7B%22maxWidth%22%3A%20%22100%25%22%7D%29%3B%0A%0A%20%20%20%20%20%20%20%20%0A%20%20%20%20%20%20%20%20%20%20%20%20var%20html_2c522d84340644318a77aab7765a417f%20%3D%20%24%28%60%3Cdiv%20id%3D%22html_2c522d84340644318a77aab7765a417f%22%20style%3D%22width%3A%20100.0%25%3B%20height%3A%20100.0%25%3B%22%3Ewaterfalls%20scenes%20of%20Rivendell%3C/div%3E%60%29%5B0%5D%3B%0A%20%20%20%20%20%20%20%20%20%20%20%20popup_aac26fe7b4ce4b74a823820e52bd4062.setContent%28html_2c522d84340644318a77aab7765a417f%29%3B%0A%20%20%20%20%20%20%20%20%0A%0A%20%20%20%20%20%20%20%20marker_cfc652c0ae8446f0a258ee46601d207f.bindPopup%28popup_aac26fe7b4ce4b74a823820e52bd4062%29%0A%20%20%20%20%20%20%20%20%3B%0A%0A%20%20%20%20%20%20%20%20%0A%20%20%20%20%0A%20%20%20%20%0A%20%20%20%20%20%20%20%20%20%20%20%20var%20marker_4ad3483f1b02443c8336c08cc7c771fd%20%3D%20L.marker%28%0A%20%20%20%20%20%20%20%20%20%20%20%20%20%20%20%20%5B-41.10165085%2C%20175.09427325890724%5D%2C%0A%20%20%20%20%20%20%20%20%20%20%20%20%20%20%20%20%7B%7D%0A%20%20%20%20%20%20%20%20%20%20%20%20%29.addTo%28map_bdedbb204de446ea90afdc65858706c1%29%3B%0A%20%20%20%20%20%20%20%20%0A%20%20%20%20%0A%20%20%20%20%20%20%20%20var%20popup_c816db40715b4293804912b2b78a7eaf%20%3D%20L.popup%28%7B%22maxWidth%22%3A%20%22100%25%22%7D%29%3B%0A%0A%20%20%20%20%20%20%20%20%0A%20%20%20%20%20%20%20%20%20%20%20%20var%20html_ab6b407d2bc34b478b162eef1cf41aac%20%3D%20%24%28%60%3Cdiv%20id%3D%22html_ab6b407d2bc34b478b162eef1cf41aac%22%20style%3D%22width%3A%20100.0%25%3B%20height%3A%20100.0%25%3B%22%3EGardens%20of%20Isengard%3C/div%3E%60%29%5B0%5D%3B%0A%20%20%20%20%20%20%20%20%20%20%20%20popup_c816db40715b4293804912b2b78a7eaf.setContent%28html_ab6b407d2bc34b478b162eef1cf41aac%29%3B%0A%20%20%20%20%20%20%20%20%0A%0A%20%20%20%20%20%20%20%20marker_4ad3483f1b02443c8336c08cc7c771fd.bindPopup%28popup_c816db40715b4293804912b2b78a7eaf%29%0A%20%20%20%20%20%20%20%20%3B%0A%0A%20%20%20%20%20%20%20%20%0A%20%20%20%20%0A%20%20%20%20%0A%20%20%20%20%20%20%20%20%20%20%20%20var%20marker_cbbbe8994e5e4d33be45ff331ba4d3fb%20%3D%20L.marker%28%0A%20%20%20%20%20%20%20%20%20%20%20%20%20%20%20%20%5B-41.1240674%2C%20175.0699589%5D%2C%0A%20%20%20%20%20%20%20%20%20%20%20%20%20%20%20%20%7B%7D%0A%20%20%20%20%20%20%20%20%20%20%20%20%29.addTo%28map_bdedbb204de446ea90afdc65858706c1%29%3B%0A%20%20%20%20%20%20%20%20%0A%20%20%20%20%0A%20%20%20%20%20%20%20%20var%20popup_00bd609abc5f4e63b205d01b8c67157c%20%3D%20L.popup%28%7B%22maxWidth%22%3A%20%22100%25%22%7D%29%3B%0A%0A%20%20%20%20%20%20%20%20%0A%20%20%20%20%20%20%20%20%20%20%20%20var%20html_945fff1c64fe43c8a992165499f082ba%20%3D%20%24%28%60%3Cdiv%20id%3D%22html_945fff1c64fe43c8a992165499f082ba%22%20style%3D%22width%3A%20100.0%25%3B%20height%3A%20100.0%25%3B%22%3E%3C/div%3E%60%29%5B0%5D%3B%0A%20%20%20%20%20%20%20%20%20%20%20%20popup_00bd609abc5f4e63b205d01b8c67157c.setContent%28html_945fff1c64fe43c8a992165499f082ba%29%3B%0A%20%20%20%20%20%20%20%20%0A%0A%20%20%20%20%20%20%20%20marker_cbbbe8994e5e4d33be45ff331ba4d3fb.bindPopup%28popup_00bd609abc5f4e63b205d01b8c67157c%29%0A%20%20%20%20%20%20%20%20%3B%0A%0A%20%20%20%20%20%20%20%20%0A%20%20%20%20%0A%20%20%20%20%0A%20%20%20%20%20%20%20%20%20%20%20%20var%20marker_772778b8cfdd49678a4fd6e78fa73f9d%20%3D%20L.marker%28%0A%20%20%20%20%20%20%20%20%20%20%20%20%20%20%20%20%5B-41.3061798%2C%20174.8236202%5D%2C%0A%20%20%20%20%20%20%20%20%20%20%20%20%20%20%20%20%7B%7D%0A%20%20%20%20%20%20%20%20%20%20%20%20%29.addTo%28map_bdedbb204de446ea90afdc65858706c1%29%3B%0A%20%20%20%20%20%20%20%20%0A%20%20%20%20%0A%20%20%20%20%20%20%20%20var%20popup_0db8e69dbd104e8fab905286da07d75b%20%3D%20L.popup%28%7B%22maxWidth%22%3A%20%22100%25%22%7D%29%3B%0A%0A%20%20%20%20%20%20%20%20%0A%20%20%20%20%20%20%20%20%20%20%20%20var%20html_3a274633787e45f7aff0783676538a4c%20%3D%20%24%28%60%3Cdiv%20id%3D%22html_3a274633787e45f7aff0783676538a4c%22%20style%3D%22width%3A%20100.0%25%3B%20height%3A%20100.0%25%3B%22%3Estudio%3C/div%3E%60%29%5B0%5D%3B%0A%20%20%20%20%20%20%20%20%20%20%20%20popup_0db8e69dbd104e8fab905286da07d75b.setContent%28html_3a274633787e45f7aff0783676538a4c%29%3B%0A%20%20%20%20%20%20%20%20%0A%0A%20%20%20%20%20%20%20%20marker_772778b8cfdd49678a4fd6e78fa73f9d.bindPopup%28popup_0db8e69dbd104e8fab905286da07d75b%29%0A%20%20%20%20%20%20%20%20%3B%0A%0A%20%20%20%20%20%20%20%20%0A%20%20%20%20%0A%20%20%20%20%0A%20%20%20%20%20%20%20%20%20%20%20%20var%20marker_7ec0308ebeb84c15a864eb990ffdc458%20%3D%20L.marker%28%0A%20%20%20%20%20%20%20%20%20%20%20%20%20%20%20%20%5B-44.257483%2C%20170.0994145%5D%2C%0A%20%20%20%20%20%20%20%20%20%20%20%20%20%20%20%20%7B%7D%0A%20%20%20%20%20%20%20%20%20%20%20%20%29.addTo%28map_bdedbb204de446ea90afdc65858706c1%29%3B%0A%20%20%20%20%20%20%20%20%0A%20%20%20%20%0A%20%20%20%20%20%20%20%20var%20popup_92b7ea55493a4b9696335d227628dfc7%20%3D%20L.popup%28%7B%22maxWidth%22%3A%20%22100%25%22%7D%29%3B%0A%0A%20%20%20%20%20%20%20%20%0A%20%20%20%20%20%20%20%20%20%20%20%20var%20html_b7b60c3255f74f6c8db3185b1f42fc5a%20%3D%20%24%28%60%3Cdiv%20id%3D%22html_b7b60c3255f74f6c8db3185b1f42fc5a%22%20style%3D%22width%3A%20100.0%25%3B%20height%3A%20100.0%25%3B%22%3E%3C/div%3E%60%29%5B0%5D%3B%0A%20%20%20%20%20%20%20%20%20%20%20%20popup_92b7ea55493a4b9696335d227628dfc7.setContent%28html_b7b60c3255f74f6c8db3185b1f42fc5a%29%3B%0A%20%20%20%20%20%20%20%20%0A%0A%20%20%20%20%20%20%20%20marker_7ec0308ebeb84c15a864eb990ffdc458.bindPopup%28popup_92b7ea55493a4b9696335d227628dfc7%29%0A%20%20%20%20%20%20%20%20%3B%0A%0A%20%20%20%20%20%20%20%20%0A%20%20%20%20%0A%20%20%20%20%0A%20%20%20%20%20%20%20%20%20%20%20%20var%20marker_b221997ddf4d4859814787b920f91ead%20%3D%20L.marker%28%0A%20%20%20%20%20%20%20%20%20%20%20%20%20%20%20%20%5B-44.9405627%2C%20168.8350761%5D%2C%0A%20%20%20%20%20%20%20%20%20%20%20%20%20%20%20%20%7B%7D%0A%20%20%20%20%20%20%20%20%20%20%20%20%29.addTo%28map_bdedbb204de446ea90afdc65858706c1%29%3B%0A%20%20%20%20%20%20%20%20%0A%20%20%20%20%0A%20%20%20%20%20%20%20%20var%20popup_f195a00373c340e1925e26f46055da0f%20%3D%20L.popup%28%7B%22maxWidth%22%3A%20%22100%25%22%7D%29%3B%0A%0A%20%20%20%20%20%20%20%20%0A%20%20%20%20%20%20%20%20%20%20%20%20var%20html_beb10eb85cd141a4bad053a9692fa607%20%3D%20%24%28%60%3Cdiv%20id%3D%22html_beb10eb85cd141a4bad053a9692fa607%22%20style%3D%22width%3A%20100.0%25%3B%20height%3A%20100.0%25%3B%22%3EFord%20of%20Bruinen%3C/div%3E%60%29%5B0%5D%3B%0A%20%20%20%20%20%20%20%20%20%20%20%20popup_f195a00373c340e1925e26f46055da0f.setContent%28html_beb10eb85cd141a4bad053a9692fa607%29%3B%0A%20%20%20%20%20%20%20%20%0A%0A%20%20%20%20%20%20%20%20marker_b221997ddf4d4859814787b920f91ead.bindPopup%28popup_f195a00373c340e1925e26f46055da0f%29%0A%20%20%20%20%20%20%20%20%3B%0A%0A%20%20%20%20%20%20%20%20%0A%20%20%20%20%0A%20%20%20%20%0A%20%20%20%20%20%20%20%20%20%20%20%20var%20marker_a770960b41fc419ba52e9f0e9ae3563d%20%3D%20L.marker%28%0A%20%20%20%20%20%20%20%20%20%20%20%20%20%20%20%20%5B-44.8231841%2C%20168.3985085%5D%2C%0A%20%20%20%20%20%20%20%20%20%20%20%20%20%20%20%20%7B%7D%0A%20%20%20%20%20%20%20%20%20%20%20%20%29.addTo%28map_bdedbb204de446ea90afdc65858706c1%29%3B%0A%20%20%20%20%20%20%20%20%0A%20%20%20%20%0A%20%20%20%20%20%20%20%20var%20popup_16fcdd35406841958733c75be135b385%20%3D%20L.popup%28%7B%22maxWidth%22%3A%20%22100%25%22%7D%29%3B%0A%0A%20%20%20%20%20%20%20%20%0A%20%20%20%20%20%20%20%20%20%20%20%20var%20html_ca1e5987b46b4df98fb903a16226689a%20%3D%20%24%28%60%3Cdiv%20id%3D%22html_ca1e5987b46b4df98fb903a16226689a%22%20style%3D%22width%3A%20100.0%25%3B%20height%3A%20100.0%25%3B%22%3ELothlorien%20Amon%20Hen%3C/div%3E%60%29%5B0%5D%3B%0A%20%20%20%20%20%20%20%20%20%20%20%20popup_16fcdd35406841958733c75be135b385.setContent%28html_ca1e5987b46b4df98fb903a16226689a%29%3B%0A%20%20%20%20%20%20%20%20%0A%0A%20%20%20%20%20%20%20%20marker_a770960b41fc419ba52e9f0e9ae3563d.bindPopup%28popup_16fcdd35406841958733c75be135b385%29%0A%20%20%20%20%20%20%20%20%3B%0A%0A%20%20%20%20%20%20%20%20%0A%20%20%20%20%0A%20%20%20%20%0A%20%20%20%20%20%20%20%20%20%20%20%20var%20marker_9bb615d3b61c402ab3de6ad671df8afe%20%3D%20L.marker%28%0A%20%20%20%20%20%20%20%20%20%20%20%20%20%20%20%20%5B-45.41449%2C%20167.717489%5D%2C%0A%20%20%20%20%20%20%20%20%20%20%20%20%20%20%20%20%7B%7D%0A%20%20%20%20%20%20%20%20%20%20%20%20%29.addTo%28map_bdedbb204de446ea90afdc65858706c1%29%3B%0A%20%20%20%20%20%20%20%20%0A%20%20%20%20%0A%20%20%20%20%20%20%20%20var%20popup_1d7f469b1b8248ad92f5275682ae5be0%20%3D%20L.popup%28%7B%22maxWidth%22%3A%20%22100%25%22%7D%29%3B%0A%0A%20%20%20%20%20%20%20%20%0A%20%20%20%20%20%20%20%20%20%20%20%20var%20html_543ffd4f3bb8451491aa0ecde2146805%20%3D%20%24%28%60%3Cdiv%20id%3D%22html_543ffd4f3bb8451491aa0ecde2146805%22%20style%3D%22width%3A%20100.0%25%3B%20height%3A%20100.0%25%3B%22%3Ethe%20Fellowship%27s%20river%20journey%3C/div%3E%60%29%5B0%5D%3B%0A%20%20%20%20%20%20%20%20%20%20%20%20popup_1d7f469b1b8248ad92f5275682ae5be0.setContent%28html_543ffd4f3bb8451491aa0ecde2146805%29%3B%0A%20%20%20%20%20%20%20%20%0A%0A%20%20%20%20%20%20%20%20marker_9bb615d3b61c402ab3de6ad671df8afe.bindPopup%28popup_1d7f469b1b8248ad92f5275682ae5be0%29%0A%20%20%20%20%20%20%20%20%3B%0A%0A%20%20%20%20%20%20%20%20%0A%20%20%20%20%0A%20%20%20%20%0A%20%20%20%20%20%20%20%20%20%20%20%20var%20marker_66d59cacf00d40e2bbc382989b2bb356%20%3D%20L.marker%28%0A%20%20%20%20%20%20%20%20%20%20%20%20%20%20%20%20%5B-41.2710849%2C%20173.2836756%5D%2C%0A%20%20%20%20%20%20%20%20%20%20%20%20%20%20%20%20%7B%7D%0A%20%20%20%20%20%20%20%20%20%20%20%20%29.addTo%28map_bdedbb204de446ea90afdc65858706c1%29%3B%0A%20%20%20%20%20%20%20%20%0A%20%20%20%20%0A%20%20%20%20%20%20%20%20var%20popup_506fd642a1f540f68fa6ec4683ac90d7%20%3D%20L.popup%28%7B%22maxWidth%22%3A%20%22100%25%22%7D%29%3B%0A%0A%20%20%20%20%20%20%20%20%0A%20%20%20%20%20%20%20%20%20%20%20%20var%20html_2b4f938405d546c682ea886c95fe4358%20%3D%20%24%28%60%3Cdiv%20id%3D%22html_2b4f938405d546c682ea886c95fe4358%22%20style%3D%22width%3A%20100.0%25%3B%20height%3A%20100.0%25%3B%22%3EDimrill%20Dale%3C/div%3E%60%29%5B0%5D%3B%0A%20%20%20%20%20%20%20%20%20%20%20%20popup_506fd642a1f540f68fa6ec4683ac90d7.setContent%28html_2b4f938405d546c682ea886c95fe4358%29%3B%0A%20%20%20%20%20%20%20%20%0A%0A%20%20%20%20%20%20%20%20marker_66d59cacf00d40e2bbc382989b2bb356.bindPopup%28popup_506fd642a1f540f68fa6ec4683ac90d7%29%0A%20%20%20%20%20%20%20%20%3B%0A%0A%20%20%20%20%20%20%20%20%0A%20%20%20%20%0A%20%20%20%20%0A%20%20%20%20%20%20%20%20%20%20%20%20var%20marker_9f90d13d3a2a4d3ebbb01131b3e3bd4d%20%3D%20L.marker%28%0A%20%20%20%20%20%20%20%20%20%20%20%20%20%20%20%20%5B-43.586562%2C%20171.21232939964904%5D%2C%0A%20%20%20%20%20%20%20%20%20%20%20%20%20%20%20%20%7B%7D%0A%20%20%20%20%20%20%20%20%20%20%20%20%29.addTo%28map_bdedbb204de446ea90afdc65858706c1%29%3B%0A%20%20%20%20%20%20%20%20%0A%20%20%20%20%0A%20%20%20%20%20%20%20%20var%20popup_985147b8f3b745f4b7a3e921786ef876%20%3D%20L.popup%28%7B%22maxWidth%22%3A%20%22100%25%22%7D%29%3B%0A%0A%20%20%20%20%20%20%20%20%0A%20%20%20%20%20%20%20%20%20%20%20%20var%20html_1641255fdedb409ab94e3fd2728a43a4%20%3D%20%24%28%60%3Cdiv%20id%3D%22html_1641255fdedb409ab94e3fd2728a43a4%22%20style%3D%22width%3A%20100.0%25%3B%20height%3A%20100.0%25%3B%22%3EAmon%20Hen%3C/div%3E%60%29%5B0%5D%3B%0A%20%20%20%20%20%20%20%20%20%20%20%20popup_985147b8f3b745f4b7a3e921786ef876.setContent%28html_1641255fdedb409ab94e3fd2728a43a4%29%3B%0A%20%20%20%20%20%20%20%20%0A%0A%20%20%20%20%20%20%20%20marker_9f90d13d3a2a4d3ebbb01131b3e3bd4d.bindPopup%28popup_985147b8f3b745f4b7a3e921786ef876%29%0A%20%20%20%20%20%20%20%20%3B%0A%0A%20%20%20%20%20%20%20%20%0A%20%20%20%20%0A%20%20%20%20%0A%20%20%20%20%20%20%20%20%20%20%20%20var%20marker_8d77f83eebb044d3b242ebfb69d953ec%20%3D%20L.marker%28%0A%20%20%20%20%20%20%20%20%20%20%20%20%20%20%20%20%5B-40.741106650000006%2C%20175.11757661842293%5D%2C%0A%20%20%20%20%20%20%20%20%20%20%20%20%20%20%20%20%7B%7D%0A%20%20%20%20%20%20%20%20%20%20%20%20%29.addTo%28map_bdedbb204de446ea90afdc65858706c1%29%3B%0A%20%20%20%20%20%20%20%20%0A%20%20%20%20%0A%20%20%20%20%20%20%20%20var%20popup_e61951dbd00940c4af37f43294dee5fe%20%3D%20L.popup%28%7B%22maxWidth%22%3A%20%22100%25%22%7D%29%3B%0A%0A%20%20%20%20%20%20%20%20%0A%20%20%20%20%20%20%20%20%20%20%20%20var%20html_2c13f04a5e6041d49bb68369532ad76d%20%3D%20%24%28%60%3Cdiv%20id%3D%22html_2c13f04a5e6041d49bb68369532ad76d%22%20style%3D%22width%3A%20100.0%25%3B%20height%3A%20100.0%25%3B%22%3Eexteriors%20of%20Moria%3C/div%3E%60%29%5B0%5D%3B%0A%20%20%20%20%20%20%20%20%20%20%20%20popup_e61951dbd00940c4af37f43294dee5fe.setContent%28html_2c13f04a5e6041d49bb68369532ad76d%29%3B%0A%20%20%20%20%20%20%20%20%0A%0A%20%20%20%20%20%20%20%20marker_8d77f83eebb044d3b242ebfb69d953ec.bindPopup%28popup_e61951dbd00940c4af37f43294dee5fe%29%0A%20%20%20%20%20%20%20%20%3B%0A%0A%20%20%20%20%20%20%20%20%0A%20%20%20%20%0A%20%20%20%20%0A%20%20%20%20%20%20%20%20%20%20%20%20var%20marker_444bfc7684c246679c78917e5b36fe4c%20%3D%20L.marker%28%0A%20%20%20%20%20%20%20%20%20%20%20%20%20%20%20%20%5B-38.00353045%2C%20175.95785260835657%5D%2C%0A%20%20%20%20%20%20%20%20%20%20%20%20%20%20%20%20%7B%7D%0A%20%20%20%20%20%20%20%20%20%20%20%20%29.addTo%28map_bdedbb204de446ea90afdc65858706c1%29%3B%0A%20%20%20%20%20%20%20%20%0A%20%20%20%20%0A%20%20%20%20%20%20%20%20var%20popup_53a57c3d620d4ef5a8ccc3a98f8afa36%20%3D%20L.popup%28%7B%22maxWidth%22%3A%20%22100%25%22%7D%29%3B%0A%0A%20%20%20%20%20%20%20%20%0A%20%20%20%20%20%20%20%20%20%20%20%20var%20html_43749276fa87428aa6b770a6e6ec284b%20%3D%20%24%28%60%3Cdiv%20id%3D%22html_43749276fa87428aa6b770a6e6ec284b%22%20style%3D%22width%3A%20100.0%25%3B%20height%3A%20100.0%25%3B%22%3Ethe%20Shire%20woods%3C/div%3E%60%29%5B0%5D%3B%0A%20%20%20%20%20%20%20%20%20%20%20%20popup_53a57c3d620d4ef5a8ccc3a98f8afa36.setContent%28html_43749276fa87428aa6b770a6e6ec284b%29%3B%0A%20%20%20%20%20%20%20%20%0A%0A%20%20%20%20%20%20%20%20marker_444bfc7684c246679c78917e5b36fe4c.bindPopup%28popup_53a57c3d620d4ef5a8ccc3a98f8afa36%29%0A%20%20%20%20%20%20%20%20%3B%0A%0A%20%20%20%20%20%20%20%20%0A%20%20%20%20%0A%20%20%20%20%0A%20%20%20%20%20%20%20%20%20%20%20%20var%20marker_fbf01223c2ae4927a63f83ff9a69f491%20%3D%20L.marker%28%0A%20%20%20%20%20%20%20%20%20%20%20%20%20%20%20%20%5B-41.2710849%2C%20173.2836756%5D%2C%0A%20%20%20%20%20%20%20%20%20%20%20%20%20%20%20%20%7B%7D%0A%20%20%20%20%20%20%20%20%20%20%20%20%29.addTo%28map_bdedbb204de446ea90afdc65858706c1%29%3B%0A%20%20%20%20%20%20%20%20%0A%20%20%20%20%0A%20%20%20%20%20%20%20%20var%20popup_cfec57d3dfe44588b9e7ae6d3823ed30%20%3D%20L.popup%28%7B%22maxWidth%22%3A%20%22100%25%22%7D%29%3B%0A%0A%20%20%20%20%20%20%20%20%0A%20%20%20%20%20%20%20%20%20%20%20%20var%20html_192872af00fc43778fb7633093232fb7%20%3D%20%24%28%60%3Cdiv%20id%3D%22html_192872af00fc43778fb7633093232fb7%22%20style%3D%22width%3A%20100.0%25%3B%20height%3A%20100.0%25%3B%22%3Eforest%20near%20Bree%3C/div%3E%60%29%5B0%5D%3B%0A%20%20%20%20%20%20%20%20%20%20%20%20popup_cfec57d3dfe44588b9e7ae6d3823ed30.setContent%28html_192872af00fc43778fb7633093232fb7%29%3B%0A%20%20%20%20%20%20%20%20%0A%0A%20%20%20%20%20%20%20%20marker_fbf01223c2ae4927a63f83ff9a69f491.bindPopup%28popup_cfec57d3dfe44588b9e7ae6d3823ed30%29%0A%20%20%20%20%20%20%20%20%3B%0A%0A%20%20%20%20%20%20%20%20%0A%20%20%20%20%0A%20%20%20%20%0A%20%20%20%20%20%20%20%20%20%20%20%20var%20marker_8082a1c6063c49239fc09ea62aa21046%20%3D%20L.marker%28%0A%20%20%20%20%20%20%20%20%20%20%20%20%20%20%20%20%5B-43.586562%2C%20171.21232939964904%5D%2C%0A%20%20%20%20%20%20%20%20%20%20%20%20%20%20%20%20%7B%7D%0A%20%20%20%20%20%20%20%20%20%20%20%20%29.addTo%28map_bdedbb204de446ea90afdc65858706c1%29%3B%0A%20%20%20%20%20%20%20%20%0A%20%20%20%20%0A%20%20%20%20%20%20%20%20var%20popup_dacd248e6ab34facbc8bcbd3d0313b73%20%3D%20L.popup%28%7B%22maxWidth%22%3A%20%22100%25%22%7D%29%3B%0A%0A%20%20%20%20%20%20%20%20%0A%20%20%20%20%20%20%20%20%20%20%20%20var%20html_608ea7bfc36148ef8f3c677a2a714d6b%20%3D%20%24%28%60%3Cdiv%20id%3D%22html_608ea7bfc36148ef8f3c677a2a714d6b%22%20style%3D%22width%3A%20100.0%25%3B%20height%3A%20100.0%25%3B%22%3EDead%20Marshes%3C/div%3E%60%29%5B0%5D%3B%0A%20%20%20%20%20%20%20%20%20%20%20%20popup_dacd248e6ab34facbc8bcbd3d0313b73.setContent%28html_608ea7bfc36148ef8f3c677a2a714d6b%29%3B%0A%20%20%20%20%20%20%20%20%0A%0A%20%20%20%20%20%20%20%20marker_8082a1c6063c49239fc09ea62aa21046.bindPopup%28popup_dacd248e6ab34facbc8bcbd3d0313b73%29%0A%20%20%20%20%20%20%20%20%3B%0A%0A%20%20%20%20%20%20%20%20%0A%20%20%20%20%0A%20%20%20%20%0A%20%20%20%20%20%20%20%20%20%20%20%20var%20marker_2ef5909c070545e599b610f9edf00a98%20%3D%20L.marker%28%0A%20%20%20%20%20%20%20%20%20%20%20%20%20%20%20%20%5B-42.04162235%2C%20172.62866447179724%5D%2C%0A%20%20%20%20%20%20%20%20%20%20%20%20%20%20%20%20%7B%7D%0A%20%20%20%20%20%20%20%20%20%20%20%20%29.addTo%28map_bdedbb204de446ea90afdc65858706c1%29%3B%0A%20%20%20%20%20%20%20%20%0A%20%20%20%20%0A%20%20%20%20%20%20%20%20var%20popup_fb71bae49e154af38dd20e40b6daecbf%20%3D%20L.popup%28%7B%22maxWidth%22%3A%20%22100%25%22%7D%29%3B%0A%0A%20%20%20%20%20%20%20%20%0A%20%20%20%20%20%20%20%20%20%20%20%20var%20html_e3b73fb78ffd46b69eb2ddfdbd2112d0%20%3D%20%24%28%60%3Cdiv%20id%3D%22html_e3b73fb78ffd46b69eb2ddfdbd2112d0%22%20style%3D%22width%3A%20100.0%25%3B%20height%3A%20100.0%25%3B%22%3EDimrill%20Dale%3C/div%3E%60%29%5B0%5D%3B%0A%20%20%20%20%20%20%20%20%20%20%20%20popup_fb71bae49e154af38dd20e40b6daecbf.setContent%28html_e3b73fb78ffd46b69eb2ddfdbd2112d0%29%3B%0A%20%20%20%20%20%20%20%20%0A%0A%20%20%20%20%20%20%20%20marker_2ef5909c070545e599b610f9edf00a98.bindPopup%28popup_fb71bae49e154af38dd20e40b6daecbf%29%0A%20%20%20%20%20%20%20%20%3B%0A%0A%20%20%20%20%20%20%20%20%0A%20%20%20%20%0A%20%20%20%20%0A%20%20%20%20%20%20%20%20%20%20%20%20var%20marker_105ad5d773694b7ba2b29862f5d81b48%20%3D%20L.marker%28%0A%20%20%20%20%20%20%20%20%20%20%20%20%20%20%20%20%5B-44.8231841%2C%20168.3985085%5D%2C%0A%20%20%20%20%20%20%20%20%20%20%20%20%20%20%20%20%7B%7D%0A%20%20%20%20%20%20%20%20%20%20%20%20%29.addTo%28map_bdedbb204de446ea90afdc65858706c1%29%3B%0A%20%20%20%20%20%20%20%20%0A%20%20%20%20%0A%20%20%20%20%20%20%20%20var%20popup_9c513b227b764b0fbafea3aff2155f9b%20%3D%20L.popup%28%7B%22maxWidth%22%3A%20%22100%25%22%7D%29%3B%0A%0A%20%20%20%20%20%20%20%20%0A%20%20%20%20%20%20%20%20%20%20%20%20var%20html_72328bd3108341aea2b5dcc8c2d5bf5f%20%3D%20%24%28%60%3Cdiv%20id%3D%22html_72328bd3108341aea2b5dcc8c2d5bf5f%22%20style%3D%22width%3A%20100.0%25%3B%20height%3A%20100.0%25%3B%22%3EParth%20Galen%3C/div%3E%60%29%5B0%5D%3B%0A%20%20%20%20%20%20%20%20%20%20%20%20popup_9c513b227b764b0fbafea3aff2155f9b.setContent%28html_72328bd3108341aea2b5dcc8c2d5bf5f%29%3B%0A%20%20%20%20%20%20%20%20%0A%0A%20%20%20%20%20%20%20%20marker_105ad5d773694b7ba2b29862f5d81b48.bindPopup%28popup_9c513b227b764b0fbafea3aff2155f9b%29%0A%20%20%20%20%20%20%20%20%3B%0A%0A%20%20%20%20%20%20%20%20%0A%20%20%20%20%0A%20%20%20%20%0A%20%20%20%20%20%20%20%20%20%20%20%20var%20marker_ad0a9393476e435e8efe4e1dba65e7e5%20%3D%20L.marker%28%0A%20%20%20%20%20%20%20%20%20%20%20%20%20%20%20%20%5B-41.2887953%2C%20174.7772114%5D%2C%0A%20%20%20%20%20%20%20%20%20%20%20%20%20%20%20%20%7B%7D%0A%20%20%20%20%20%20%20%20%20%20%20%20%29.addTo%28map_bdedbb204de446ea90afdc65858706c1%29%3B%0A%20%20%20%20%20%20%20%20%0A%20%20%20%20%0A%20%20%20%20%20%20%20%20var%20popup_d6e7601e9b944db98357e4af618e0932%20%3D%20L.popup%28%7B%22maxWidth%22%3A%20%22100%25%22%7D%29%3B%0A%0A%20%20%20%20%20%20%20%20%0A%20%20%20%20%20%20%20%20%20%20%20%20var%20html_fa9547abc6bd4d34903d890a7c891cb4%20%3D%20%24%28%60%3Cdiv%20id%3D%22html_fa9547abc6bd4d34903d890a7c891cb4%22%20style%3D%22width%3A%20100.0%25%3B%20height%3A%20100.0%25%3B%22%3EInn%20of%20the%20Prancing%20Pony%27s%20exteriors%3C/div%3E%60%29%5B0%5D%3B%0A%20%20%20%20%20%20%20%20%20%20%20%20popup_d6e7601e9b944db98357e4af618e0932.setContent%28html_fa9547abc6bd4d34903d890a7c891cb4%29%3B%0A%20%20%20%20%20%20%20%20%0A%0A%20%20%20%20%20%20%20%20marker_ad0a9393476e435e8efe4e1dba65e7e5.bindPopup%28popup_d6e7601e9b944db98357e4af618e0932%29%0A%20%20%20%20%20%20%20%20%3B%0A%0A%20%20%20%20%20%20%20%20%0A%20%20%20%20%0A%20%20%20%20%0A%20%20%20%20%20%20%20%20%20%20%20%20var%20marker_a20c4c0c743f4ab0af93559cf8de8eae%20%3D%20L.marker%28%0A%20%20%20%20%20%20%20%20%20%20%20%20%20%20%20%20%5B-41.1485427%2C%20174.9919508%5D%2C%0A%20%20%20%20%20%20%20%20%20%20%20%20%20%20%20%20%7B%7D%0A%20%20%20%20%20%20%20%20%20%20%20%20%29.addTo%28map_bdedbb204de446ea90afdc65858706c1%29%3B%0A%20%20%20%20%20%20%20%20%0A%20%20%20%20%0A%20%20%20%20%20%20%20%20var%20popup_f26794b4d1a54dc2a1982dae54734104%20%3D%20L.popup%28%7B%22maxWidth%22%3A%20%22100%25%22%7D%29%3B%0A%0A%20%20%20%20%20%20%20%20%0A%20%20%20%20%20%20%20%20%20%20%20%20var%20html_ea3a6949fc3849ba9aa7bb8c0fd7ed7c%20%3D%20%24%28%60%3Cdiv%20id%3D%22html_ea3a6949fc3849ba9aa7bb8c0fd7ed7c%22%20style%3D%22width%3A%20100.0%25%3B%20height%3A%20100.0%25%3B%22%3Eexteriors%20of%20Moria%3C/div%3E%60%29%5B0%5D%3B%0A%20%20%20%20%20%20%20%20%20%20%20%20popup_f26794b4d1a54dc2a1982dae54734104.setContent%28html_ea3a6949fc3849ba9aa7bb8c0fd7ed7c%29%3B%0A%20%20%20%20%20%20%20%20%0A%0A%20%20%20%20%20%20%20%20marker_a20c4c0c743f4ab0af93559cf8de8eae.bindPopup%28popup_f26794b4d1a54dc2a1982dae54734104%29%0A%20%20%20%20%20%20%20%20%3B%0A%0A%20%20%20%20%20%20%20%20%0A%20%20%20%20%0A%20%20%20%20%0A%20%20%20%20%20%20%20%20%20%20%20%20var%20marker_5e7d11b0ef4f4848b7c89a699c7a52e8%20%3D%20L.marker%28%0A%20%20%20%20%20%20%20%20%20%20%20%20%20%20%20%20%5B-41.5000831%2C%20172.8344077%5D%2C%0A%20%20%20%20%20%20%20%20%20%20%20%20%20%20%20%20%7B%7D%0A%20%20%20%20%20%20%20%20%20%20%20%20%29.addTo%28map_bdedbb204de446ea90afdc65858706c1%29%3B%0A%20%20%20%20%20%20%20%20%0A%20%20%20%20%0A%20%20%20%20%20%20%20%20var%20popup_b8ebc34864a54d0eb56cf519849b9ef2%20%3D%20L.popup%28%7B%22maxWidth%22%3A%20%22100%25%22%7D%29%3B%0A%0A%20%20%20%20%20%20%20%20%0A%20%20%20%20%20%20%20%20%20%20%20%20var%20html_1e556c860c8241198e4ab643163f11a7%20%3D%20%24%28%60%3Cdiv%20id%3D%22html_1e556c860c8241198e4ab643163f11a7%22%20style%3D%22width%3A%20100.0%25%3B%20height%3A%20100.0%25%3B%22%3EMordor%20prologue%20scene%3C/div%3E%60%29%5B0%5D%3B%0A%20%20%20%20%20%20%20%20%20%20%20%20popup_b8ebc34864a54d0eb56cf519849b9ef2.setContent%28html_1e556c860c8241198e4ab643163f11a7%29%3B%0A%20%20%20%20%20%20%20%20%0A%0A%20%20%20%20%20%20%20%20marker_5e7d11b0ef4f4848b7c89a699c7a52e8.bindPopup%28popup_b8ebc34864a54d0eb56cf519849b9ef2%29%0A%20%20%20%20%20%20%20%20%3B%0A%0A%20%20%20%20%20%20%20%20%0A%20%20%20%20%0A%20%20%20%20%0A%20%20%20%20%20%20%20%20%20%20%20%20map_bdedbb204de446ea90afdc65858706c1.fitBounds%28%0A%20%20%20%20%20%20%20%20%20%20%20%20%20%20%20%20%5B%5B-45.00470342%2C%20168.3985085%5D%2C%20%5B-39.26407433%2C%20175.46298016000003%5D%5D%2C%0A%20%20%20%20%20%20%20%20%20%20%20%20%20%20%20%20%7B%7D%0A%20%20%20%20%20%20%20%20%20%20%20%20%29%3B%0A%20%20%20%20%20%20%20%20%0A%3C/script%3E onload=\"this.contentDocument.open();this.contentDocument.write(    decodeURIComponent(this.getAttribute('data-html')));this.contentDocument.close();\" allowfullscreen webkitallowfullscreen mozallowfullscreen></iframe></div></div>"
      ],
      "text/plain": [
       "<folium.folium.Map at 0x7f380d1e0128>"
      ]
     },
     "execution_count": 177,
     "metadata": {},
     "output_type": "execute_result"
    }
   ],
   "source": [
    "plot_location_map(locations_df)"
   ]
  }
 ],
 "metadata": {
  "hide_input": false,
  "kernelspec": {
   "display_name": "Python 3",
   "language": "python",
   "name": "python3"
  },
  "language_info": {
   "codemirror_mode": {
    "name": "ipython",
    "version": 3
   },
   "file_extension": ".py",
   "mimetype": "text/x-python",
   "name": "python",
   "nbconvert_exporter": "python",
   "pygments_lexer": "ipython3",
   "version": "3.6.15"
  },
  "toc": {
   "base_numbering": 1,
   "nav_menu": {},
   "number_sections": true,
   "sideBar": true,
   "skip_h1_title": false,
   "title_cell": "Table of Contents",
   "title_sidebar": "Contents",
   "toc_cell": false,
   "toc_position": {},
   "toc_section_display": true,
   "toc_window_display": false
  }
 },
 "nbformat": 4,
 "nbformat_minor": 5
}
