{
 "cells": [
  {
   "cell_type": "code",
   "execution_count": 4,
   "metadata": {},
   "outputs": [
    {
     "ename": "ModuleNotFoundError",
     "evalue": "No module named 'profanity_detector'",
     "output_type": "error",
     "traceback": [
      "\u001b[0;31m---------------------------------------------------------------------------\u001b[0m",
      "\u001b[0;31mModuleNotFoundError\u001b[0m                       Traceback (most recent call last)",
      "\u001b[0;32m<ipython-input-4-a75bdf19fac2>\u001b[0m in \u001b[0;36m<module>\u001b[0;34m\u001b[0m\n\u001b[0;32m----> 1\u001b[0;31m \u001b[0;32mfrom\u001b[0m \u001b[0mprofanity_detector\u001b[0m\u001b[0;34m.\u001b[0m\u001b[0mget_data\u001b[0m \u001b[0;32mimport\u001b[0m \u001b[0mmovie_data\u001b[0m\u001b[0;34m\u001b[0m\u001b[0;34m\u001b[0m\u001b[0m\n\u001b[0m\u001b[1;32m      2\u001b[0m \u001b[0;32mfrom\u001b[0m \u001b[0mhatesonar\u001b[0m \u001b[0;32mimport\u001b[0m \u001b[0mSonar\u001b[0m\u001b[0;34m\u001b[0m\u001b[0;34m\u001b[0m\u001b[0m\n\u001b[1;32m      3\u001b[0m \u001b[0;32mimport\u001b[0m \u001b[0mpandas\u001b[0m \u001b[0;32mas\u001b[0m \u001b[0mpd\u001b[0m\u001b[0;34m\u001b[0m\u001b[0;34m\u001b[0m\u001b[0m\n\u001b[1;32m      4\u001b[0m \u001b[0;32mimport\u001b[0m \u001b[0mmatplotlib\u001b[0m\u001b[0;34m.\u001b[0m\u001b[0mpyplot\u001b[0m \u001b[0;32mas\u001b[0m \u001b[0mplt\u001b[0m\u001b[0;34m\u001b[0m\u001b[0;34m\u001b[0m\u001b[0m\n\u001b[1;32m      5\u001b[0m \u001b[0;32mimport\u001b[0m \u001b[0mwarnings\u001b[0m\u001b[0;34m\u001b[0m\u001b[0;34m\u001b[0m\u001b[0m\n",
      "\u001b[0;31mModuleNotFoundError\u001b[0m: No module named 'profanity_detector'"
     ]
    }
   ],
   "source": [
    "from profanity_detector.get_data import movie_data\n",
    "from hatesonar import Sonar\n",
    "import pandas as pd\n",
    "import matplotlib.pyplot as plt\n",
    "import warnings\n",
    "import os\n",
    "import sys\n",
    "import inspect"
   ]
  },
  {
   "cell_type": "code",
   "execution_count": 3,
   "metadata": {},
   "outputs": [
    {
     "ename": "NameError",
     "evalue": "name 'inspect' is not defined",
     "output_type": "error",
     "traceback": [
      "\u001b[0;31m---------------------------------------------------------------------------\u001b[0m",
      "\u001b[0;31mNameError\u001b[0m                                 Traceback (most recent call last)",
      "\u001b[0;32m<ipython-input-3-3e8664751619>\u001b[0m in \u001b[0;36m<module>\u001b[0;34m\u001b[0m\n\u001b[1;32m      1\u001b[0m currentdir = os.path.dirname(\n\u001b[0;32m----> 2\u001b[0;31m     os.path.abspath(inspect.getfile(inspect.currentframe())))\n\u001b[0m\u001b[1;32m      3\u001b[0m \u001b[0mparentdir\u001b[0m \u001b[0;34m=\u001b[0m \u001b[0mos\u001b[0m\u001b[0;34m.\u001b[0m\u001b[0mpath\u001b[0m\u001b[0;34m.\u001b[0m\u001b[0mdirname\u001b[0m\u001b[0;34m(\u001b[0m\u001b[0mcurrentdir\u001b[0m\u001b[0;34m)\u001b[0m\u001b[0;34m\u001b[0m\u001b[0;34m\u001b[0m\u001b[0m\n\u001b[1;32m      4\u001b[0m \u001b[0msys\u001b[0m\u001b[0;34m.\u001b[0m\u001b[0mpath\u001b[0m\u001b[0;34m.\u001b[0m\u001b[0minsert\u001b[0m\u001b[0;34m(\u001b[0m\u001b[0;36m0\u001b[0m\u001b[0;34m,\u001b[0m \u001b[0mparentdir\u001b[0m\u001b[0;34m)\u001b[0m\u001b[0;34m\u001b[0m\u001b[0;34m\u001b[0m\u001b[0m\n",
      "\u001b[0;31mNameError\u001b[0m: name 'inspect' is not defined"
     ]
    }
   ],
   "source": [
    "currentdir = os.path.dirname(\n",
    "    os.path.abspath(inspect.getfile(inspect.currentframe())))\n",
    "parentdir = os.path.dirname(currentdir)\n",
    "sys.path.insert(0, parentdir)"
   ]
  },
  {
   "cell_type": "code",
   "execution_count": 303,
   "metadata": {},
   "outputs": [],
   "source": [
    "#Data C\n",
    "movie_meta,quotes_df, reviews_df, locations_df = movie_data('kill bill')"
   ]
  },
  {
   "cell_type": "code",
   "execution_count": 304,
   "metadata": {},
   "outputs": [
    {
     "data": {
      "text/plain": [
       "'Kill Bill: Vol. 1'"
      ]
     },
     "execution_count": 304,
     "metadata": {},
     "output_type": "execute_result"
    }
   ],
   "source": [
    "movie_meta['title']\n"
   ]
  },
  {
   "cell_type": "markdown",
   "metadata": {},
   "source": [
    "**Sentiment Analysis with Hatesonar on Reviews**"
   ]
  },
  {
   "cell_type": "code",
   "execution_count": 305,
   "metadata": {},
   "outputs": [
    {
     "data": {
      "text/html": [
       "<div>\n",
       "<style scoped>\n",
       "    .dataframe tbody tr th:only-of-type {\n",
       "        vertical-align: middle;\n",
       "    }\n",
       "\n",
       "    .dataframe tbody tr th {\n",
       "        vertical-align: top;\n",
       "    }\n",
       "\n",
       "    .dataframe thead th {\n",
       "        text-align: right;\n",
       "    }\n",
       "</style>\n",
       "<table border=\"1\" class=\"dataframe\">\n",
       "  <thead>\n",
       "    <tr style=\"text-align: right;\">\n",
       "      <th></th>\n",
       "      <th>content</th>\n",
       "      <th>helpful</th>\n",
       "      <th>title</th>\n",
       "      <th>author</th>\n",
       "      <th>date</th>\n",
       "      <th>rating</th>\n",
       "      <th>not_helpful</th>\n",
       "      <th>imdb_id</th>\n",
       "    </tr>\n",
       "  </thead>\n",
       "  <tbody>\n",
       "    <tr>\n",
       "      <th>0</th>\n",
       "      <td>WARNING: No one who doesn't want to see billio...</td>\n",
       "      <td>7</td>\n",
       "      <td>Kill Bill: Vol. 1</td>\n",
       "      <td>ur2467618</td>\n",
       "      <td>5 February 2010</td>\n",
       "      <td>10.0</td>\n",
       "      <td>14</td>\n",
       "      <td>0266697</td>\n",
       "    </tr>\n",
       "    <tr>\n",
       "      <th>1</th>\n",
       "      <td>Tarantino's fourth effort and what a build-up;...</td>\n",
       "      <td>5</td>\n",
       "      <td>Kill Bill: Vol. 1</td>\n",
       "      <td>ur0482513</td>\n",
       "      <td>10 August 2016</td>\n",
       "      <td>7.0</td>\n",
       "      <td>2</td>\n",
       "      <td>0266697</td>\n",
       "    </tr>\n",
       "    <tr>\n",
       "      <th>2</th>\n",
       "      <td>The Bride (Uma Thurman) awakens after 4 years ...</td>\n",
       "      <td>2</td>\n",
       "      <td>Kill Bill: Vol. 1</td>\n",
       "      <td>ur2898520</td>\n",
       "      <td>27 April 2014</td>\n",
       "      <td>7.0</td>\n",
       "      <td>4</td>\n",
       "      <td>0266697</td>\n",
       "    </tr>\n",
       "    <tr>\n",
       "      <th>3</th>\n",
       "      <td>Did everyone either love this or despise it? I...</td>\n",
       "      <td>10</td>\n",
       "      <td>Kill Bill: Vol. 1</td>\n",
       "      <td>ur0278527</td>\n",
       "      <td>2 March 2006</td>\n",
       "      <td>5.0</td>\n",
       "      <td>14</td>\n",
       "      <td>0266697</td>\n",
       "    </tr>\n",
       "    <tr>\n",
       "      <th>4</th>\n",
       "      <td>myths, colors, Tarantino , amazing choreograph...</td>\n",
       "      <td>2</td>\n",
       "      <td>Kill Bill: Vol. 1</td>\n",
       "      <td>ur61197531</td>\n",
       "      <td>29 September 2016</td>\n",
       "      <td>NaN</td>\n",
       "      <td>2</td>\n",
       "      <td>0266697</td>\n",
       "    </tr>\n",
       "  </tbody>\n",
       "</table>\n",
       "</div>"
      ],
      "text/plain": [
       "                                             content  ...  imdb_id\n",
       "0  WARNING: No one who doesn't want to see billio...  ...  0266697\n",
       "1  Tarantino's fourth effort and what a build-up;...  ...  0266697\n",
       "2  The Bride (Uma Thurman) awakens after 4 years ...  ...  0266697\n",
       "3  Did everyone either love this or despise it? I...  ...  0266697\n",
       "4  myths, colors, Tarantino , amazing choreograph...  ...  0266697\n",
       "\n",
       "[5 rows x 8 columns]"
      ]
     },
     "execution_count": 305,
     "metadata": {},
     "output_type": "execute_result"
    }
   ],
   "source": [
    "reviews_df.head()"
   ]
  },
  {
   "cell_type": "markdown",
   "metadata": {},
   "source": [
    "**Sentiment Analysis with hatesonar**"
   ]
  },
  {
   "cell_type": "markdown",
   "metadata": {},
   "source": [
    "REVIEWS"
   ]
  },
  {
   "cell_type": "code",
   "execution_count": 306,
   "metadata": {},
   "outputs": [],
   "source": [
    "# Create an object of Sonar Hate Speech Detection\n",
    "# sonar = Sonar()"
   ]
  },
  {
   "cell_type": "code",
   "execution_count": 307,
   "metadata": {},
   "outputs": [],
   "source": [
    "# Class = []\n",
    "# hate = []\n",
    "# offensive = []\n",
    "# neither = []"
   ]
  },
  {
   "cell_type": "code",
   "execution_count": 308,
   "metadata": {},
   "outputs": [],
   "source": [
    "def create_sonar_object():\n",
    "    with warnings.catch_warnings():\n",
    "        warnings.simplefilter('ignore')\n",
    "        sonar = Sonar()\n",
    "    return sonar\n"
   ]
  },
  {
   "cell_type": "code",
   "execution_count": 309,
   "metadata": {},
   "outputs": [],
   "source": [
    "#def hate_speech_classifier_reviews(reviews_df, Class, hate, offensive, neither):\n",
    "def hate_speech_classifier_reviews(reviews_df):\n",
    "\n",
    "    Class = []\n",
    "    hate = []\n",
    "    offensive = []\n",
    "    neither = []\n",
    "\n",
    "    # Create an object of Sonar Hate Speech Detection    \n",
    "    sonar = create_sonar_object()\n",
    "\n",
    "    # Function applying hatesonar on the content column of reviews_df and returning a reviews_df_sonar (incl new info)\n",
    "    for i in reviews_df['content']:\n",
    "        sonar_dict = sonar.ping(text=i)\n",
    "        Class.append(list(sonar_dict.values())[1])\n",
    "        hate.append(list(list(sonar_dict.values())[2][0].values())[1])\n",
    "        offensive.append(list(list(sonar_dict.values())[2][1].values())[1])\n",
    "        neither.append(list(list(sonar_dict.values())[2][2].values())[1])\n",
    "\n",
    "    hatesonar_df = pd.DataFrame({\"Class\": Class, \"Hate\":hate, \"Offensive\": offensive, \"Neither\":neither})\n",
    "\n",
    "    # Updating the reviews dataframe\n",
    "    reviews_df_sonar = pd.concat([reviews_df, hatesonar_df], axis=1)\n",
    "\n",
    "    return reviews_df_sonar\n"
   ]
  },
  {
   "cell_type": "code",
   "execution_count": 310,
   "metadata": {},
   "outputs": [],
   "source": [
    "def most_hateful_review (reviews_df):\n",
    "\n",
    "    # sort Hate in an ascending order\n",
    "    reviews_sorted = reviews_df.sort_values(by='Hate', ascending=False)\n",
    "    # re-indexing\n",
    "    #reviews_sorted =reviews_df.reset_index(drop=True)\n",
    "    # results\n",
    "    hate_comment = reviews_sorted.iloc[0][0]\n",
    "    #rate = reviews_sorted.iloc[0][5]\n",
    "    # = reviews_sorted.iloc[0][9]\n",
    "\n",
    "    #return comment, rate, score\n",
    "    return hate_comment"
   ]
  },
  {
   "cell_type": "code",
   "execution_count": 311,
   "metadata": {},
   "outputs": [],
   "source": [
    "def most_offensive_review(reviews_df):\n",
    "\n",
    "    # sort Hate in an ascending order\n",
    "    reviews_sorted = reviews_df.sort_values(by='Offensive', ascending=False)\n",
    "    # re-indexing\n",
    "    #reviews_sorted = reviews_df.reset_index(drop=True)\n",
    "    # results\n",
    "    off_comment = reviews_sorted.iloc[0][0]\n",
    "    #rate = reviews_sorted.iloc[0][5]\n",
    "    #off_score = reviews_sorted.iloc[0][9]\n",
    "\n",
    "    #return comment, rate, score\n",
    "    return off_comment"
   ]
  },
  {
   "cell_type": "code",
   "execution_count": 312,
   "metadata": {},
   "outputs": [],
   "source": [
    "# reviews_df_sonar = hate_speech_classifier_reviews(reviews_df, Class, hate,\n",
    "#                                                   offensive, neither)\n"
   ]
  },
  {
   "cell_type": "code",
   "execution_count": 313,
   "metadata": {},
   "outputs": [
    {
     "data": {
      "text/html": [
       "<div>\n",
       "<style scoped>\n",
       "    .dataframe tbody tr th:only-of-type {\n",
       "        vertical-align: middle;\n",
       "    }\n",
       "\n",
       "    .dataframe tbody tr th {\n",
       "        vertical-align: top;\n",
       "    }\n",
       "\n",
       "    .dataframe thead th {\n",
       "        text-align: right;\n",
       "    }\n",
       "</style>\n",
       "<table border=\"1\" class=\"dataframe\">\n",
       "  <thead>\n",
       "    <tr style=\"text-align: right;\">\n",
       "      <th></th>\n",
       "      <th>content</th>\n",
       "      <th>helpful</th>\n",
       "      <th>title</th>\n",
       "      <th>author</th>\n",
       "      <th>date</th>\n",
       "      <th>rating</th>\n",
       "      <th>not_helpful</th>\n",
       "      <th>imdb_id</th>\n",
       "      <th>Class</th>\n",
       "      <th>Hate</th>\n",
       "      <th>Offensive</th>\n",
       "      <th>Neither</th>\n",
       "    </tr>\n",
       "  </thead>\n",
       "  <tbody>\n",
       "    <tr>\n",
       "      <th>0</th>\n",
       "      <td>WARNING: No one who doesn't want to see billio...</td>\n",
       "      <td>7</td>\n",
       "      <td>Kill Bill: Vol. 1</td>\n",
       "      <td>ur2467618</td>\n",
       "      <td>5 February 2010</td>\n",
       "      <td>10.0</td>\n",
       "      <td>14</td>\n",
       "      <td>0266697</td>\n",
       "      <td>neither</td>\n",
       "      <td>0.061254</td>\n",
       "      <td>0.356937</td>\n",
       "      <td>0.581809</td>\n",
       "    </tr>\n",
       "    <tr>\n",
       "      <th>1</th>\n",
       "      <td>Tarantino's fourth effort and what a build-up;...</td>\n",
       "      <td>5</td>\n",
       "      <td>Kill Bill: Vol. 1</td>\n",
       "      <td>ur0482513</td>\n",
       "      <td>10 August 2016</td>\n",
       "      <td>7.0</td>\n",
       "      <td>2</td>\n",
       "      <td>0266697</td>\n",
       "      <td>neither</td>\n",
       "      <td>0.050834</td>\n",
       "      <td>0.312583</td>\n",
       "      <td>0.636583</td>\n",
       "    </tr>\n",
       "    <tr>\n",
       "      <th>2</th>\n",
       "      <td>The Bride (Uma Thurman) awakens after 4 years ...</td>\n",
       "      <td>2</td>\n",
       "      <td>Kill Bill: Vol. 1</td>\n",
       "      <td>ur2898520</td>\n",
       "      <td>27 April 2014</td>\n",
       "      <td>7.0</td>\n",
       "      <td>4</td>\n",
       "      <td>0266697</td>\n",
       "      <td>neither</td>\n",
       "      <td>0.050466</td>\n",
       "      <td>0.446783</td>\n",
       "      <td>0.502752</td>\n",
       "    </tr>\n",
       "    <tr>\n",
       "      <th>3</th>\n",
       "      <td>Did everyone either love this or despise it? I...</td>\n",
       "      <td>10</td>\n",
       "      <td>Kill Bill: Vol. 1</td>\n",
       "      <td>ur0278527</td>\n",
       "      <td>2 March 2006</td>\n",
       "      <td>5.0</td>\n",
       "      <td>14</td>\n",
       "      <td>0266697</td>\n",
       "      <td>neither</td>\n",
       "      <td>0.066447</td>\n",
       "      <td>0.399394</td>\n",
       "      <td>0.534159</td>\n",
       "    </tr>\n",
       "    <tr>\n",
       "      <th>4</th>\n",
       "      <td>myths, colors, Tarantino , amazing choreograph...</td>\n",
       "      <td>2</td>\n",
       "      <td>Kill Bill: Vol. 1</td>\n",
       "      <td>ur61197531</td>\n",
       "      <td>29 September 2016</td>\n",
       "      <td>NaN</td>\n",
       "      <td>2</td>\n",
       "      <td>0266697</td>\n",
       "      <td>neither</td>\n",
       "      <td>0.067073</td>\n",
       "      <td>0.302740</td>\n",
       "      <td>0.630187</td>\n",
       "    </tr>\n",
       "  </tbody>\n",
       "</table>\n",
       "</div>"
      ],
      "text/plain": [
       "                                             content  ...   Neither\n",
       "0  WARNING: No one who doesn't want to see billio...  ...  0.581809\n",
       "1  Tarantino's fourth effort and what a build-up;...  ...  0.636583\n",
       "2  The Bride (Uma Thurman) awakens after 4 years ...  ...  0.502752\n",
       "3  Did everyone either love this or despise it? I...  ...  0.534159\n",
       "4  myths, colors, Tarantino , amazing choreograph...  ...  0.630187\n",
       "\n",
       "[5 rows x 12 columns]"
      ]
     },
     "execution_count": 313,
     "metadata": {},
     "output_type": "execute_result"
    }
   ],
   "source": [
    "reviews_df_sonar = hate_speech_classifier_reviews(reviews_df)\n",
    "reviews_df_sonar.head()"
   ]
  },
  {
   "cell_type": "code",
   "execution_count": 314,
   "metadata": {},
   "outputs": [
    {
     "data": {
      "text/html": [
       "<div>\n",
       "<style scoped>\n",
       "    .dataframe tbody tr th:only-of-type {\n",
       "        vertical-align: middle;\n",
       "    }\n",
       "\n",
       "    .dataframe tbody tr th {\n",
       "        vertical-align: top;\n",
       "    }\n",
       "\n",
       "    .dataframe thead th {\n",
       "        text-align: right;\n",
       "    }\n",
       "</style>\n",
       "<table border=\"1\" class=\"dataframe\">\n",
       "  <thead>\n",
       "    <tr style=\"text-align: right;\">\n",
       "      <th></th>\n",
       "      <th>content</th>\n",
       "      <th>helpful</th>\n",
       "      <th>title</th>\n",
       "      <th>author</th>\n",
       "      <th>date</th>\n",
       "      <th>rating</th>\n",
       "      <th>not_helpful</th>\n",
       "      <th>imdb_id</th>\n",
       "      <th>Class</th>\n",
       "      <th>Hate</th>\n",
       "      <th>Offensive</th>\n",
       "      <th>Neither</th>\n",
       "    </tr>\n",
       "  </thead>\n",
       "  <tbody>\n",
       "    <tr>\n",
       "      <th>0</th>\n",
       "      <td>WARNING: No one who doesn't want to see billio...</td>\n",
       "      <td>7</td>\n",
       "      <td>Kill Bill: Vol. 1</td>\n",
       "      <td>ur2467618</td>\n",
       "      <td>5 February 2010</td>\n",
       "      <td>10.0</td>\n",
       "      <td>14</td>\n",
       "      <td>0266697</td>\n",
       "      <td>neither</td>\n",
       "      <td>0.061254</td>\n",
       "      <td>0.356937</td>\n",
       "      <td>0.581809</td>\n",
       "    </tr>\n",
       "    <tr>\n",
       "      <th>1</th>\n",
       "      <td>Tarantino's fourth effort and what a build-up;...</td>\n",
       "      <td>5</td>\n",
       "      <td>Kill Bill: Vol. 1</td>\n",
       "      <td>ur0482513</td>\n",
       "      <td>10 August 2016</td>\n",
       "      <td>7.0</td>\n",
       "      <td>2</td>\n",
       "      <td>0266697</td>\n",
       "      <td>neither</td>\n",
       "      <td>0.050834</td>\n",
       "      <td>0.312583</td>\n",
       "      <td>0.636583</td>\n",
       "    </tr>\n",
       "    <tr>\n",
       "      <th>2</th>\n",
       "      <td>The Bride (Uma Thurman) awakens after 4 years ...</td>\n",
       "      <td>2</td>\n",
       "      <td>Kill Bill: Vol. 1</td>\n",
       "      <td>ur2898520</td>\n",
       "      <td>27 April 2014</td>\n",
       "      <td>7.0</td>\n",
       "      <td>4</td>\n",
       "      <td>0266697</td>\n",
       "      <td>neither</td>\n",
       "      <td>0.050466</td>\n",
       "      <td>0.446783</td>\n",
       "      <td>0.502752</td>\n",
       "    </tr>\n",
       "    <tr>\n",
       "      <th>3</th>\n",
       "      <td>Did everyone either love this or despise it? I...</td>\n",
       "      <td>10</td>\n",
       "      <td>Kill Bill: Vol. 1</td>\n",
       "      <td>ur0278527</td>\n",
       "      <td>2 March 2006</td>\n",
       "      <td>5.0</td>\n",
       "      <td>14</td>\n",
       "      <td>0266697</td>\n",
       "      <td>neither</td>\n",
       "      <td>0.066447</td>\n",
       "      <td>0.399394</td>\n",
       "      <td>0.534159</td>\n",
       "    </tr>\n",
       "    <tr>\n",
       "      <th>4</th>\n",
       "      <td>myths, colors, Tarantino , amazing choreograph...</td>\n",
       "      <td>2</td>\n",
       "      <td>Kill Bill: Vol. 1</td>\n",
       "      <td>ur61197531</td>\n",
       "      <td>29 September 2016</td>\n",
       "      <td>NaN</td>\n",
       "      <td>2</td>\n",
       "      <td>0266697</td>\n",
       "      <td>neither</td>\n",
       "      <td>0.067073</td>\n",
       "      <td>0.302740</td>\n",
       "      <td>0.630187</td>\n",
       "    </tr>\n",
       "  </tbody>\n",
       "</table>\n",
       "</div>"
      ],
      "text/plain": [
       "                                             content  ...   Neither\n",
       "0  WARNING: No one who doesn't want to see billio...  ...  0.581809\n",
       "1  Tarantino's fourth effort and what a build-up;...  ...  0.636583\n",
       "2  The Bride (Uma Thurman) awakens after 4 years ...  ...  0.502752\n",
       "3  Did everyone either love this or despise it? I...  ...  0.534159\n",
       "4  myths, colors, Tarantino , amazing choreograph...  ...  0.630187\n",
       "\n",
       "[5 rows x 12 columns]"
      ]
     },
     "execution_count": 314,
     "metadata": {},
     "output_type": "execute_result"
    }
   ],
   "source": [
    "reviews_df_sonar.head()"
   ]
  },
  {
   "cell_type": "code",
   "execution_count": 315,
   "metadata": {},
   "outputs": [],
   "source": [
    "# Applying hatesonar on reviews_df\n",
    "\n",
    "# Finding the most hateful comment, the rate of the user and the score in hatesonar\n",
    "most_hateful_review = most_hateful_review(reviews_df_sonar)\n",
    "\n",
    "# Finding the most offensive comment, the rate of the user and the score in hatesonar\n",
    "most_offensive_review = most_offensive_review(reviews_df_sonar)\n"
   ]
  },
  {
   "cell_type": "code",
   "execution_count": 316,
   "metadata": {},
   "outputs": [
    {
     "data": {
      "text/plain": [
       "'OK, we all should know by now that Quentin Tarantino has a special affinity for blowing people\\'s minds. In \"Kill Bill: Vol. 1\", he goes all out (and continued it in \"Vol. 2\"). Featuring Uma Thurman as a woman out to get the people who tried to kill her, this is definitely not a movie for the squeamish. Especially with that scene in the restaurant.Why make such a movie? DON\\'T ASK STUPID QUESTIONS!!!!!!! The point here is to have everything come together to form one giant mass of ass-kicking. And you\\'d better believe that everyone does just that, in a perfect homage to almost every martial arts movie in history. This is what movies with giant casts should be. Fantastic.'"
      ]
     },
     "execution_count": 316,
     "metadata": {},
     "output_type": "execute_result"
    }
   ],
   "source": [
    "most_hateful_review"
   ]
  },
  {
   "cell_type": "code",
   "execution_count": 317,
   "metadata": {},
   "outputs": [
    {
     "data": {
      "text/plain": [
       "'It must be said at the start that this film is a triumph of style over substance so if you don\\'t like the style it won\\'t be the film for you. That said I really enjoy watching it, from start to finish it is pretty gripping.As I\\'m sure most people will know by know, Uma Thurman plays \"The Bride\", a former assassin who is left for dead after being shot in the head by Bill, her former boss.The film is not shown in chronological order so when we see her first fight it is actually the second person on her hit-list. We then see in flash back that she has been in a coma for four years and has apparently lost her child. Once she has awakened we are shown a brief history of her first target; the Yakuza boss O-Ren Ishii. This section is animated was made by people who have worked on some of the best known anime films so is understandably quite impressive.Before she can fight O-Ren she must get a new sword from retired sword-smith Hattori Hanzo. Initially he refuses to make it as he had sworn never to make another deadly weapon but as soon as he knows who The Bride is after he not only makes her a new sword but states that it is the best he has ever made.When she finally finds O-Ren she uses her new sword to dispatch a vast number of goons before the climactic fight with O-Ren. Much of the fight sequence is in black and white, I believe this was because the censors might not have likes the screen to be awash with bright red blood. While the scene is obviously violent it is so over the top that it isn\\'t really disturbing.If you want a stylish action film that has plenty of re-watch value then this could be the film for you. The acting is solid and the action is all stunningly choreographed.'"
      ]
     },
     "execution_count": 317,
     "metadata": {},
     "output_type": "execute_result"
    }
   ],
   "source": [
    "most_offensive_review\n"
   ]
  },
  {
   "cell_type": "markdown",
   "metadata": {},
   "source": [
    "QUOTES"
   ]
  },
  {
   "cell_type": "code",
   "execution_count": 318,
   "metadata": {},
   "outputs": [
    {
     "data": {
      "text/html": [
       "<div>\n",
       "<style scoped>\n",
       "    .dataframe tbody tr th:only-of-type {\n",
       "        vertical-align: middle;\n",
       "    }\n",
       "\n",
       "    .dataframe tbody tr th {\n",
       "        vertical-align: top;\n",
       "    }\n",
       "\n",
       "    .dataframe thead th {\n",
       "        text-align: right;\n",
       "    }\n",
       "</style>\n",
       "<table border=\"1\" class=\"dataframe\">\n",
       "  <thead>\n",
       "    <tr style=\"text-align: right;\">\n",
       "      <th></th>\n",
       "      <th>imdb_id</th>\n",
       "      <th>title</th>\n",
       "      <th>content</th>\n",
       "    </tr>\n",
       "  </thead>\n",
       "  <tbody>\n",
       "    <tr>\n",
       "      <th>0</th>\n",
       "      <td>0266697</td>\n",
       "      <td>Kill Bill: Vol. 1</td>\n",
       "      <td>Hattori Hanzo: Revenge is never a straight lin...</td>\n",
       "    </tr>\n",
       "    <tr>\n",
       "      <th>1</th>\n",
       "      <td>0266697</td>\n",
       "      <td>Kill Bill: Vol. 1</td>\n",
       "      <td>Budd: That woman deserves her revenge and we d...</td>\n",
       "    </tr>\n",
       "    <tr>\n",
       "      <th>2</th>\n",
       "      <td>0266697</td>\n",
       "      <td>Kill Bill: Vol. 1</td>\n",
       "      <td>O-Ren Ishii: [sword lifted] Silly Caucasian gi...</td>\n",
       "    </tr>\n",
       "    <tr>\n",
       "      <th>3</th>\n",
       "      <td>0266697</td>\n",
       "      <td>Kill Bill: Vol. 1</td>\n",
       "      <td>Copperhead: So I suppose it's a little late fo...</td>\n",
       "    </tr>\n",
       "    <tr>\n",
       "      <th>4</th>\n",
       "      <td>0266697</td>\n",
       "      <td>Kill Bill: Vol. 1</td>\n",
       "      <td>[last lines]  Bill: One more thing, Sofie... i...</td>\n",
       "    </tr>\n",
       "  </tbody>\n",
       "</table>\n",
       "</div>"
      ],
      "text/plain": [
       "   imdb_id  ...                                            content\n",
       "0  0266697  ...  Hattori Hanzo: Revenge is never a straight lin...\n",
       "1  0266697  ...  Budd: That woman deserves her revenge and we d...\n",
       "2  0266697  ...  O-Ren Ishii: [sword lifted] Silly Caucasian gi...\n",
       "3  0266697  ...  Copperhead: So I suppose it's a little late fo...\n",
       "4  0266697  ...  [last lines]  Bill: One more thing, Sofie... i...\n",
       "\n",
       "[5 rows x 3 columns]"
      ]
     },
     "execution_count": 318,
     "metadata": {},
     "output_type": "execute_result"
    }
   ],
   "source": [
    "quotes_df.head()"
   ]
  },
  {
   "cell_type": "code",
   "execution_count": 319,
   "metadata": {},
   "outputs": [],
   "source": [
    "# Class_q = []\n",
    "# hate_q= []\n",
    "# offensive_q = []\n",
    "# neither_q = []"
   ]
  },
  {
   "cell_type": "code",
   "execution_count": 320,
   "metadata": {},
   "outputs": [],
   "source": [
    "def hate_speech_classifier_quotes(quotes_df):\n",
    "    \n",
    "    # Function applying hatesonar on the content column of reviews_df and returning a new df\n",
    "    Class_q = []\n",
    "    hate_q= []\n",
    "    offensive_q = []\n",
    "    neither_q = []    \n",
    "\n",
    "    # Create an object of Sonar Hate Speech Detection    \n",
    "    sonar = create_sonar_object()\n",
    "\n",
    "    for i in quotes_df['content']:\n",
    "        sonar_dict = sonar.ping(text=i)\n",
    "        Class_q.append(list(sonar_dict.values())[1])\n",
    "        hate_q.append(list(list(sonar_dict.values())[2][0].values())[1])\n",
    "        offensive_q.append(list(list(sonar_dict.values())[2][1].values())[1])\n",
    "        neither_q.append(list(list(sonar_dict.values())[2][2].values())[1])\n",
    "\n",
    "    hatesonar_df = pd.DataFrame({\n",
    "        \"Class\": Class_q,\n",
    "        \"Hate\": hate_q,\n",
    "        \"Offensive\": offensive_q,\n",
    "        \"Neither\": neither_q\n",
    "    })\n",
    "\n",
    "    # Updating the reviews dataframe\n",
    "    quotes_df_sonar = pd.concat([quotes_df, hatesonar_df], axis=1)\n",
    "\n",
    "    return quotes_df_sonar"
   ]
  },
  {
   "cell_type": "code",
   "execution_count": 321,
   "metadata": {},
   "outputs": [],
   "source": [
    "def most_hateful_quote(quotes_df):\n",
    "\n",
    "    # sort Hate in an ascending order\n",
    "    quotes_sorted = quotes_df.sort_values(by='Hate', ascending=False)\n",
    "    # re-indexing\n",
    "    #quotes_sorted = quotes_df.reset_index(drop=True)\n",
    "    # results\n",
    "    hate_quote = quotes_sorted.iloc[0][2]\n",
    "    #hate_score = quotes_sorted.iloc[0][3]\n",
    "\n",
    "    #return comment, rate, score\n",
    "    return hate_quote"
   ]
  },
  {
   "cell_type": "code",
   "execution_count": 322,
   "metadata": {},
   "outputs": [],
   "source": [
    "def most_offensive_quote(quotes_df):\n",
    "\n",
    "    # sort Hate in an ascending order\n",
    "    quotes_sorted = quotes_df.sort_values(by='Offensive', ascending=False)\n",
    "    # re-indexing\n",
    "    #quotes_sorted = quotes_df.reset_index(drop=True)\n",
    "    # results\n",
    "    off_quote = quotes_sorted.iloc[0][2]\n",
    "    #off_score = quotes_sorted.iloc[0][4]\n",
    "\n",
    "    #return comment, rate, score\n",
    "    return off_quote"
   ]
  },
  {
   "cell_type": "code",
   "execution_count": 323,
   "metadata": {},
   "outputs": [],
   "source": [
    "# Applying hatesonar on reviews_df\n",
    "quotes_df_sonar = hate_speech_classifier_quotes(quotes_df)\n",
    "\n",
    "# Finding the most hateful comment, the rate of the user and the score in hatesonar\n",
    "hate_quote = most_hateful_quote(quotes_df_sonar)\n",
    "\n",
    "# Finding the most offensive comment, the rate of the user and the score in hatesonar\n",
    "off_quote = most_offensive_quote(quotes_df_sonar)"
   ]
  },
  {
   "cell_type": "code",
   "execution_count": 324,
   "metadata": {},
   "outputs": [
    {
     "data": {
      "text/plain": [
       "'Sofie Fatale: Burn in Hell you stupid, stupid blonde.'"
      ]
     },
     "execution_count": 324,
     "metadata": {},
     "output_type": "execute_result"
    }
   ],
   "source": [
    "hate_quote\n",
    "#off_quote"
   ]
  },
  {
   "cell_type": "code",
   "execution_count": 325,
   "metadata": {},
   "outputs": [
    {
     "data": {
      "text/plain": [
       "'Sofie Fatale: Burn in Hell you stupid, stupid blonde.'"
      ]
     },
     "execution_count": 325,
     "metadata": {},
     "output_type": "execute_result"
    }
   ],
   "source": [
    "hate_quote"
   ]
  },
  {
   "cell_type": "code",
   "execution_count": 326,
   "metadata": {},
   "outputs": [
    {
     "data": {
      "text/plain": [
       "'O-Ren Ishii: [subtitled] TEAR THAT BITCH APART !'"
      ]
     },
     "execution_count": 326,
     "metadata": {},
     "output_type": "execute_result"
    }
   ],
   "source": [
    "off_quote"
   ]
  },
  {
   "cell_type": "markdown",
   "metadata": {},
   "source": [
    "**VaderSentiment Analysis**"
   ]
  },
  {
   "cell_type": "code",
   "execution_count": 327,
   "metadata": {},
   "outputs": [],
   "source": [
    "from vaderSentiment.vaderSentiment import SentimentIntensityAnalyzer\n",
    "\n",
    "analyzer = SentimentIntensityAnalyzer()"
   ]
  },
  {
   "cell_type": "markdown",
   "metadata": {},
   "source": [
    "**Vader Analysis on reviews**"
   ]
  },
  {
   "cell_type": "code",
   "execution_count": 328,
   "metadata": {},
   "outputs": [],
   "source": [
    "def create_vader_object():\n",
    "    with warnings.catch_warnings():\n",
    "        warnings.simplefilter('ignore')\n",
    "        analyzer = SentimentIntensityAnalyzer()\n",
    "    return analyzer"
   ]
  },
  {
   "cell_type": "code",
   "execution_count": 329,
   "metadata": {},
   "outputs": [],
   "source": [
    "def vader_reviews(reviews_df):\n",
    "\n",
    "    negative_rev =[]\n",
    "    neutral_rev = []\n",
    "    positive_rev = []\n",
    "    compound_rev = []\n",
    "\n",
    "    analyzer = create_vader_object()\n",
    "\n",
    "    for review in reviews_df['content']:\n",
    "        sentiment_dict = analyzer.polarity_scores(review)\n",
    "        negative_rev.append(sentiment_dict['neg'])\n",
    "        neutral_rev.append(sentiment_dict['neu'])\n",
    "        positive_rev.append(sentiment_dict['pos'])\n",
    "        compound_rev.append(sentiment_dict['compound'])\n",
    "\n",
    "        vader_df = pd.DataFrame({\n",
    "            \"Negative\": negative_rev,\n",
    "            \"Positive\": positive_rev,\n",
    "            \"Neutral\": neutral_rev,\n",
    "            \"Compound\": compound_rev\n",
    "        })\n",
    "        \n",
    "    # Classifying compound result to pos and neg\n",
    "    vader_df['Compound'] = vader_df['Compound'].apply(lambda c: 'pos'\n",
    "                                                      if c >= 0 else 'neg')\n",
    "    # Updating the reviews dataframe\n",
    "    reviews_df_vader = pd.concat([reviews_df, vader_df], axis=1)\n",
    "\n",
    "    return reviews_df_vader\n"
   ]
  },
  {
   "cell_type": "code",
   "execution_count": 330,
   "metadata": {},
   "outputs": [],
   "source": [
    "# Function calling\n",
    "# reviews_df_vader = vader_reviews(reviews_df, negative_rev, neutral_rev,\n",
    "#                                  positive_rev, compound_rev)\n"
   ]
  },
  {
   "cell_type": "code",
   "execution_count": 331,
   "metadata": {},
   "outputs": [
    {
     "data": {
      "text/html": [
       "<div>\n",
       "<style scoped>\n",
       "    .dataframe tbody tr th:only-of-type {\n",
       "        vertical-align: middle;\n",
       "    }\n",
       "\n",
       "    .dataframe tbody tr th {\n",
       "        vertical-align: top;\n",
       "    }\n",
       "\n",
       "    .dataframe thead th {\n",
       "        text-align: right;\n",
       "    }\n",
       "</style>\n",
       "<table border=\"1\" class=\"dataframe\">\n",
       "  <thead>\n",
       "    <tr style=\"text-align: right;\">\n",
       "      <th></th>\n",
       "      <th>content</th>\n",
       "      <th>helpful</th>\n",
       "      <th>title</th>\n",
       "      <th>author</th>\n",
       "      <th>date</th>\n",
       "      <th>rating</th>\n",
       "      <th>not_helpful</th>\n",
       "      <th>imdb_id</th>\n",
       "      <th>Negative</th>\n",
       "      <th>Positive</th>\n",
       "      <th>Neutral</th>\n",
       "      <th>Compound</th>\n",
       "    </tr>\n",
       "  </thead>\n",
       "  <tbody>\n",
       "    <tr>\n",
       "      <th>0</th>\n",
       "      <td>WARNING: No one who doesn't want to see billio...</td>\n",
       "      <td>7</td>\n",
       "      <td>Kill Bill: Vol. 1</td>\n",
       "      <td>ur2467618</td>\n",
       "      <td>5 February 2010</td>\n",
       "      <td>10.0</td>\n",
       "      <td>14</td>\n",
       "      <td>0266697</td>\n",
       "      <td>0.135</td>\n",
       "      <td>0.116</td>\n",
       "      <td>0.749</td>\n",
       "      <td>neg</td>\n",
       "    </tr>\n",
       "    <tr>\n",
       "      <th>1</th>\n",
       "      <td>Tarantino's fourth effort and what a build-up;...</td>\n",
       "      <td>5</td>\n",
       "      <td>Kill Bill: Vol. 1</td>\n",
       "      <td>ur0482513</td>\n",
       "      <td>10 August 2016</td>\n",
       "      <td>7.0</td>\n",
       "      <td>2</td>\n",
       "      <td>0266697</td>\n",
       "      <td>0.114</td>\n",
       "      <td>0.154</td>\n",
       "      <td>0.732</td>\n",
       "      <td>pos</td>\n",
       "    </tr>\n",
       "    <tr>\n",
       "      <th>2</th>\n",
       "      <td>The Bride (Uma Thurman) awakens after 4 years ...</td>\n",
       "      <td>2</td>\n",
       "      <td>Kill Bill: Vol. 1</td>\n",
       "      <td>ur2898520</td>\n",
       "      <td>27 April 2014</td>\n",
       "      <td>7.0</td>\n",
       "      <td>4</td>\n",
       "      <td>0266697</td>\n",
       "      <td>0.093</td>\n",
       "      <td>0.102</td>\n",
       "      <td>0.806</td>\n",
       "      <td>pos</td>\n",
       "    </tr>\n",
       "    <tr>\n",
       "      <th>3</th>\n",
       "      <td>Did everyone either love this or despise it? I...</td>\n",
       "      <td>10</td>\n",
       "      <td>Kill Bill: Vol. 1</td>\n",
       "      <td>ur0278527</td>\n",
       "      <td>2 March 2006</td>\n",
       "      <td>5.0</td>\n",
       "      <td>14</td>\n",
       "      <td>0266697</td>\n",
       "      <td>0.081</td>\n",
       "      <td>0.070</td>\n",
       "      <td>0.848</td>\n",
       "      <td>neg</td>\n",
       "    </tr>\n",
       "    <tr>\n",
       "      <th>4</th>\n",
       "      <td>myths, colors, Tarantino , amazing choreograph...</td>\n",
       "      <td>2</td>\n",
       "      <td>Kill Bill: Vol. 1</td>\n",
       "      <td>ur61197531</td>\n",
       "      <td>29 September 2016</td>\n",
       "      <td>NaN</td>\n",
       "      <td>2</td>\n",
       "      <td>0266697</td>\n",
       "      <td>0.060</td>\n",
       "      <td>0.209</td>\n",
       "      <td>0.731</td>\n",
       "      <td>pos</td>\n",
       "    </tr>\n",
       "  </tbody>\n",
       "</table>\n",
       "</div>"
      ],
      "text/plain": [
       "                                             content  helpful  ... Neutral Compound\n",
       "0  WARNING: No one who doesn't want to see billio...        7  ...   0.749      neg\n",
       "1  Tarantino's fourth effort and what a build-up;...        5  ...   0.732      pos\n",
       "2  The Bride (Uma Thurman) awakens after 4 years ...        2  ...   0.806      pos\n",
       "3  Did everyone either love this or despise it? I...       10  ...   0.848      neg\n",
       "4  myths, colors, Tarantino , amazing choreograph...        2  ...   0.731      pos\n",
       "\n",
       "[5 rows x 12 columns]"
      ]
     },
     "execution_count": 331,
     "metadata": {},
     "output_type": "execute_result"
    }
   ],
   "source": [
    "reviews_df_vader = vader_reviews(reviews_df)\n",
    "reviews_df_vader.head()"
   ]
  },
  {
   "cell_type": "code",
   "execution_count": 332,
   "metadata": {},
   "outputs": [],
   "source": [
    "# reviews_df_vader['Compound'] = reviews_df_vader['Compound'].apply(lambda c: 'pos' if c >= 0 else 'neg')\n",
    "\n",
    "# reviews_df_vader.head()"
   ]
  },
  {
   "cell_type": "code",
   "execution_count": 333,
   "metadata": {},
   "outputs": [
    {
     "data": {
      "text/plain": [
       "pos    16\n",
       "neg     9\n",
       "Name: Compound, dtype: int64"
      ]
     },
     "execution_count": 333,
     "metadata": {},
     "output_type": "execute_result"
    }
   ],
   "source": [
    "reviews_df_vader['Compound'].value_counts()"
   ]
  },
  {
   "cell_type": "markdown",
   "metadata": {},
   "source": [
    "**Vader on Quotes**"
   ]
  },
  {
   "cell_type": "code",
   "execution_count": 368,
   "metadata": {},
   "outputs": [],
   "source": [
    "def create_vader_object():\n",
    "    with warnings.catch_warnings():\n",
    "        warnings.simplefilter('ignore')\n",
    "        analyzer = SentimentIntensityAnalyzer()\n",
    "    return analyzer"
   ]
  },
  {
   "cell_type": "code",
   "execution_count": 369,
   "metadata": {},
   "outputs": [],
   "source": [
    "def vader_quotes(quotes_df):\n",
    "\n",
    "    negative_q= []\n",
    "    neutral_q = []\n",
    "    positive_q= []\n",
    "    compound_q= []\n",
    "\n",
    "    analyzer = create_vader_object()\n",
    "\n",
    "    for quote in quotes_df['content']:\n",
    "        sentiment_dict = analyzer.polarity_scores(quote)\n",
    "        negative_q.append(sentiment_dict['neg'])\n",
    "        neutral_q.append(sentiment_dict['neu'])\n",
    "        positive_q.append(sentiment_dict['pos'])\n",
    "        compound_q.append(sentiment_dict['compound'])\n",
    "\n",
    "        vader_df = pd.DataFrame({\n",
    "            \"Negative\": negative_q,\n",
    "            \"Positive\": positive_q,\n",
    "            \"Neutral\": neutral_q,\n",
    "            \"Compound\": compound_q\n",
    "        })\n",
    "\n",
    "    # Classifying compound result to pos and neg\n",
    "    vader_df['Compound'] = vader_df['Compound'].apply(lambda c: 'pos'\n",
    "                                                      if c >= 0 else 'neg')\n",
    "    # Updating the reviews dataframe\n",
    "    quotes_df_vader = pd.concat([quotes_df, vader_df], axis=1)\n",
    "\n",
    "    return quotes_df_vader"
   ]
  },
  {
   "cell_type": "code",
   "execution_count": 335,
   "metadata": {},
   "outputs": [],
   "source": [
    "# # Function calling\n",
    "# quotes_df_vader = vader_quotes(quotes_df, negative_q, neutral_q,\n",
    "#                                  positive_q, compound_q)"
   ]
  },
  {
   "cell_type": "code",
   "execution_count": 336,
   "metadata": {},
   "outputs": [],
   "source": [
    "# quotes_df_vader['Compound'] = quotes_df_vader['Compound'].apply(\n",
    "#     lambda c: 'pos' if c >= 0 else 'neg')\n",
    "\n",
    "# quotes_df_vader.head()"
   ]
  },
  {
   "cell_type": "code",
   "execution_count": 370,
   "metadata": {},
   "outputs": [
    {
     "data": {
      "text/html": [
       "<div>\n",
       "<style scoped>\n",
       "    .dataframe tbody tr th:only-of-type {\n",
       "        vertical-align: middle;\n",
       "    }\n",
       "\n",
       "    .dataframe tbody tr th {\n",
       "        vertical-align: top;\n",
       "    }\n",
       "\n",
       "    .dataframe thead th {\n",
       "        text-align: right;\n",
       "    }\n",
       "</style>\n",
       "<table border=\"1\" class=\"dataframe\">\n",
       "  <thead>\n",
       "    <tr style=\"text-align: right;\">\n",
       "      <th></th>\n",
       "      <th>imdb_id</th>\n",
       "      <th>title</th>\n",
       "      <th>content</th>\n",
       "      <th>Negative</th>\n",
       "      <th>Positive</th>\n",
       "      <th>Neutral</th>\n",
       "      <th>Compound</th>\n",
       "    </tr>\n",
       "  </thead>\n",
       "  <tbody>\n",
       "    <tr>\n",
       "      <th>0</th>\n",
       "      <td>0266697</td>\n",
       "      <td>Kill Bill: Vol. 1</td>\n",
       "      <td>Hattori Hanzo: Revenge is never a straight lin...</td>\n",
       "      <td>0.296</td>\n",
       "      <td>0.134</td>\n",
       "      <td>0.570</td>\n",
       "      <td>neg</td>\n",
       "    </tr>\n",
       "    <tr>\n",
       "      <th>1</th>\n",
       "      <td>0266697</td>\n",
       "      <td>Kill Bill: Vol. 1</td>\n",
       "      <td>Budd: That woman deserves her revenge and we d...</td>\n",
       "      <td>0.448</td>\n",
       "      <td>0.000</td>\n",
       "      <td>0.552</td>\n",
       "      <td>neg</td>\n",
       "    </tr>\n",
       "    <tr>\n",
       "      <th>2</th>\n",
       "      <td>0266697</td>\n",
       "      <td>Kill Bill: Vol. 1</td>\n",
       "      <td>O-Ren Ishii: [sword lifted] Silly Caucasian gi...</td>\n",
       "      <td>0.185</td>\n",
       "      <td>0.158</td>\n",
       "      <td>0.656</td>\n",
       "      <td>neg</td>\n",
       "    </tr>\n",
       "    <tr>\n",
       "      <th>3</th>\n",
       "      <td>0266697</td>\n",
       "      <td>Kill Bill: Vol. 1</td>\n",
       "      <td>Copperhead: So I suppose it's a little late fo...</td>\n",
       "      <td>0.174</td>\n",
       "      <td>0.115</td>\n",
       "      <td>0.711</td>\n",
       "      <td>neg</td>\n",
       "    </tr>\n",
       "    <tr>\n",
       "      <th>4</th>\n",
       "      <td>0266697</td>\n",
       "      <td>Kill Bill: Vol. 1</td>\n",
       "      <td>[last lines]  Bill: One more thing, Sofie... i...</td>\n",
       "      <td>0.000</td>\n",
       "      <td>0.157</td>\n",
       "      <td>0.843</td>\n",
       "      <td>pos</td>\n",
       "    </tr>\n",
       "  </tbody>\n",
       "</table>\n",
       "</div>"
      ],
      "text/plain": [
       "   imdb_id              title  ... Neutral  Compound\n",
       "0  0266697  Kill Bill: Vol. 1  ...   0.570       neg\n",
       "1  0266697  Kill Bill: Vol. 1  ...   0.552       neg\n",
       "2  0266697  Kill Bill: Vol. 1  ...   0.656       neg\n",
       "3  0266697  Kill Bill: Vol. 1  ...   0.711       neg\n",
       "4  0266697  Kill Bill: Vol. 1  ...   0.843       pos\n",
       "\n",
       "[5 rows x 7 columns]"
      ]
     },
     "execution_count": 370,
     "metadata": {},
     "output_type": "execute_result"
    }
   ],
   "source": [
    "quotes_df_vader = vader_quotes(quotes_df)\n",
    "quotes_df_vader.head()"
   ]
  },
  {
   "cell_type": "markdown",
   "metadata": {},
   "source": [
    "***GENERAL***"
   ]
  },
  {
   "cell_type": "code",
   "execution_count": 347,
   "metadata": {},
   "outputs": [],
   "source": [
    "def create_sonar_object():\n",
    "    with warnings.catch_warnings():\n",
    "        warnings.simplefilter('ignore')\n",
    "        sonar = Sonar()\n",
    "    return sonar"
   ]
  },
  {
   "cell_type": "code",
   "execution_count": 348,
   "metadata": {},
   "outputs": [],
   "source": [
    "#def hate_speech_classifier_reviews(reviews_df, Class, hate, offensive, neither):\n",
    "def hate_speech_classifier(df):\n",
    "\n",
    "    Class = []\n",
    "    hate = []\n",
    "    offensive = []\n",
    "    neither = []\n",
    "\n",
    "    # Create an object of Sonar Hate Speech Detection\n",
    "    sonar = create_sonar_object()\n",
    "\n",
    "    # Function applying hatesonar on the content column of reviews_df and returning a reviews_df_sonar (incl new info)\n",
    "    for i in df['content']:\n",
    "        sonar_dict = sonar.ping(text=i)\n",
    "        Class.append(list(sonar_dict.values())[1])\n",
    "        hate.append(list(list(sonar_dict.values())[2][0].values())[1])\n",
    "        offensive.append(list(list(sonar_dict.values())[2][1].values())[1])\n",
    "        neither.append(list(list(sonar_dict.values())[2][2].values())[1])\n",
    "\n",
    "    hatesonar_df = pd.DataFrame({\n",
    "        \"Class\": Class,\n",
    "        \"Hate\": hate,\n",
    "        \"Offensive\": offensive,\n",
    "        \"Neither\": neither\n",
    "    })\n",
    "\n",
    "    # Updating the reviews dataframe\n",
    "    df_sonar = pd.concat([df, hatesonar_df], axis=1)\n",
    "\n",
    "    return df_sonar"
   ]
  },
  {
   "cell_type": "code",
   "execution_count": 359,
   "metadata": {},
   "outputs": [],
   "source": [
    "def most_hateful(df):\n",
    "\n",
    "    # sort Hate in an ascending order\n",
    "    df_sorted = df.sort_values(by='Hate', ascending=False) \n",
    "    hate_comment = df_sorted.iloc[0]['content']\n",
    "    #return comment, rate, score\n",
    "    return hate_comment"
   ]
  },
  {
   "cell_type": "code",
   "execution_count": 366,
   "metadata": {},
   "outputs": [],
   "source": [
    "def most_offensive(df):\n",
    "\n",
    "    # sort Hate in an ascending order\n",
    "    df_sorted = df.sort_values(by='Offensive', ascending=False)\n",
    "    off_quote = df_sorted.iloc[0]['content']\n",
    "    return off_quote"
   ]
  },
  {
   "cell_type": "code",
   "execution_count": 392,
   "metadata": {},
   "outputs": [],
   "source": [
    "def vader_sentiment_analysis(df):\n",
    "\n",
    "    neutral= []\n",
    "    positive = []\n",
    "    negative = []\n",
    "    compound = []\n",
    "\n",
    "    analyzer = create_vader_object()\n",
    "\n",
    "    for quote in df['content']:\n",
    "        sentiment_dict = analyzer.polarity_scores(quote)\n",
    "        negative.append(sentiment_dict['neg'])\n",
    "        neutral.append(sentiment_dict['neu'])\n",
    "        positive.append(sentiment_dict['pos'])\n",
    "        compound.append(sentiment_dict['compound'])\n",
    "\n",
    "        vader_df = pd.DataFrame({\n",
    "            \"Negative\": negative,\n",
    "            \"Positive\": positive,\n",
    "            \"Neutral\": neutral,\n",
    "            \"Compound\": compound\n",
    "        })\n",
    "\n",
    "    # Classifying compound result to pos and neg\n",
    "    vader_df['Compound'] = vader_df['Compound'].apply(lambda c: 'pos'\n",
    "                                                      if c >= 0 else 'neg')\n",
    "    # Updating the reviews dataframe\n",
    "    df_vader = pd.concat([df, vader_df], axis=1)\n",
    "\n",
    "    return df_vader"
   ]
  },
  {
   "cell_type": "code",
   "execution_count": 403,
   "metadata": {},
   "outputs": [],
   "source": [
    "def vader_percent_analysis(df_vader):\n",
    "\n",
    "    neg_percent = round((\n",
    "        df_vader[df_vader['Compound'] == 'neg'].shape[0] /\n",
    "        len(df_vader)) * 100,1)\n",
    "\n",
    "\n",
    "    pos_percent = round((df_vader[df_vader['Compound'] == 'pos'].shape[0] /\n",
    "               len(df_vader)) * 100,1)\n",
    "\n",
    "    return [pos_percent, neg_percent]\n"
   ]
  },
  {
   "cell_type": "code",
   "execution_count": 404,
   "metadata": {},
   "outputs": [
    {
     "data": {
      "text/plain": [
       "[49.2, 50.8]"
      ]
     },
     "execution_count": 404,
     "metadata": {},
     "output_type": "execute_result"
    }
   ],
   "source": [
    "vader_analysis_quotes = vader_percent_analysis(vader_sentiment_analysis(quotes_df))\n",
    "vader_analysis_quotes"
   ]
  },
  {
   "cell_type": "code",
   "execution_count": 405,
   "metadata": {},
   "outputs": [
    {
     "data": {
      "text/plain": [
       "[64.0, 36.0]"
      ]
     },
     "execution_count": 405,
     "metadata": {},
     "output_type": "execute_result"
    }
   ],
   "source": [
    "vader_analysis_reviews= vader_percent_analysis(vader_sentiment_analysis(reviews_df))\n",
    "vader_analysis_reviews\n"
   ]
  },
  {
   "cell_type": "code",
   "execution_count": 349,
   "metadata": {},
   "outputs": [],
   "source": [
    "reviews = hate_speech_classifier(reviews_df)"
   ]
  },
  {
   "cell_type": "code",
   "execution_count": 350,
   "metadata": {},
   "outputs": [],
   "source": [
    "quotes = hate_speech_classifier(quotes_df)"
   ]
  },
  {
   "cell_type": "code",
   "execution_count": 413,
   "metadata": {},
   "outputs": [
    {
     "name": "stdout",
     "output_type": "stream",
     "text": [
      "Kill Bill: Vol. 1 has received 64.0% positive reviews and 36.0% negative. \n",
      "49.2% of the quotes are marked as positive and 50.8% as negative.\n"
     ]
    }
   ],
   "source": [
    "print(f\"\"\"{movie_meta['title']} has received {vader_analysis_reviews[0]}% positive reviews and {vader_analysis_reviews[1]}% negative. \n",
    "{vader_analysis_quotes[0]}% of the quotes are marked as positive and {vader_analysis_quotes[1]}% as negative.\"\"\")\n"
   ]
  },
  {
   "cell_type": "code",
   "execution_count": null,
   "metadata": {},
   "outputs": [],
   "source": []
  }
 ],
 "metadata": {
  "interpreter": {
   "hash": "0413bd2efa01393ed0c0d4360448d6bc4729cfb8d89e4c5cb1e7dfc058cc017a"
  },
  "kernelspec": {
   "display_name": "Python 3.5.10 64-bit ('profanity_detector')",
   "language": "python",
   "name": "python3"
  },
  "language_info": {
   "codemirror_mode": {
    "name": "ipython",
    "version": 3
   },
   "file_extension": ".py",
   "mimetype": "text/x-python",
   "name": "python",
   "nbconvert_exporter": "python",
   "pygments_lexer": "ipython3",
   "version": "3.6.15"
  },
  "orig_nbformat": 4
 },
 "nbformat": 4,
 "nbformat_minor": 2
}
