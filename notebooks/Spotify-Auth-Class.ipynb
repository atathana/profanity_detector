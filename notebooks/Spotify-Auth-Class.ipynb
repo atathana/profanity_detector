{
 "cells": [
  {
   "cell_type": "code",
   "execution_count": 1,
   "id": "298a6427",
   "metadata": {},
   "outputs": [
    {
     "name": "stdout",
     "output_type": "stream",
     "text": [
      "Requirement already satisfied: requests in /Users/shu/.pyenv/versions/3.8.12/envs/lewagon/envs/profanity_detector/lib/python3.8/site-packages (2.27.1)\n",
      "Requirement already satisfied: urllib3<1.27,>=1.21.1 in /Users/shu/.pyenv/versions/3.8.12/envs/lewagon/envs/profanity_detector/lib/python3.8/site-packages (from requests) (1.26.8)\n",
      "Requirement already satisfied: idna<4,>=2.5 in /Users/shu/.pyenv/versions/3.8.12/envs/lewagon/envs/profanity_detector/lib/python3.8/site-packages (from requests) (3.3)\n",
      "Requirement already satisfied: charset-normalizer~=2.0.0 in /Users/shu/.pyenv/versions/3.8.12/envs/lewagon/envs/profanity_detector/lib/python3.8/site-packages (from requests) (2.0.12)\n",
      "Requirement already satisfied: certifi>=2017.4.17 in /Users/shu/.pyenv/versions/3.8.12/envs/lewagon/envs/profanity_detector/lib/python3.8/site-packages (from requests) (2021.10.8)\n",
      "Requirement already satisfied: autopep8 in /Users/shu/.pyenv/versions/3.8.12/envs/lewagon/envs/profanity_detector/lib/python3.8/site-packages (1.6.0)\n",
      "Requirement already satisfied: pycodestyle>=2.8.0 in /Users/shu/.pyenv/versions/3.8.12/envs/lewagon/envs/profanity_detector/lib/python3.8/site-packages (from autopep8) (2.8.0)\n",
      "Requirement already satisfied: toml in /Users/shu/.pyenv/versions/3.8.12/envs/lewagon/envs/profanity_detector/lib/python3.8/site-packages (from autopep8) (0.10.2)\n"
     ]
    }
   ],
   "source": [
    "!pip install requests\n",
    "!pip install autopep8"
   ]
  },
  {
   "cell_type": "code",
   "execution_count": 2,
   "id": "f007c073",
   "metadata": {},
   "outputs": [],
   "source": [
    "import sys\n",
    "import os\n",
    "import requests\n",
    "import datetime\n"
   ]
  },
  {
   "cell_type": "code",
   "execution_count": 3,
   "id": "e4262a68",
   "metadata": {},
   "outputs": [
    {
     "data": {
      "text/plain": [
       "'acf5740f03994a6cbdede65c84690abc'"
      ]
     },
     "execution_count": 3,
     "metadata": {},
     "output_type": "execute_result"
    }
   ],
   "source": [
    "#Auth dashbord https://developer.spotify.com/dashboard/applications\n",
    "#Env value setting => open jupyter  https://www.twilio.com/blog/2017/01/how-to-set-environment-variables.html\n",
    "client_id = os.environ.get(\"CLIENTID\")\n",
    "client_id "
   ]
  },
  {
   "cell_type": "code",
   "execution_count": 4,
   "id": "99faa9b3",
   "metadata": {},
   "outputs": [
    {
     "data": {
      "text/plain": [
       "'6b81f2882f494dea9ef4a817ff647551'"
      ]
     },
     "execution_count": 4,
     "metadata": {},
     "output_type": "execute_result"
    }
   ],
   "source": [
    "client_secret=os.environ.get(\"CLIENTIDSEC\")\n",
    "client_secret"
   ]
  },
  {
   "cell_type": "code",
   "execution_count": null,
   "id": "31e31a69",
   "metadata": {},
   "outputs": [],
   "source": []
  },
  {
   "cell_type": "code",
   "execution_count": 10,
   "id": "38f4b71f",
   "metadata": {},
   "outputs": [
    {
     "data": {
      "text/plain": [
       "str"
      ]
     },
     "execution_count": 10,
     "metadata": {},
     "output_type": "execute_result"
    }
   ],
   "source": [
    "client_creds=f\"{client_id}:{client_secret}\"\n",
    "type(client_creds)"
   ]
  },
  {
   "cell_type": "code",
   "execution_count": 11,
   "id": "1bc6053d",
   "metadata": {},
   "outputs": [
    {
     "name": "stdout",
     "output_type": "stream",
     "text": [
      "<class 'str'>\n"
     ]
    },
    {
     "data": {
      "text/plain": [
       "b'YWNmNTc0MGYwMzk5NGE2Y2JkZWRlNjVjODQ2OTBhYmM6NmI4MWYyODgyZjQ5NGRlYTllZjRhODE3ZmY2NDc1NTE='"
      ]
     },
     "execution_count": 11,
     "metadata": {},
     "output_type": "execute_result"
    }
   ],
   "source": [
    "#VALUE: Basic <base64 encoded client_id:client_secret>\"\n",
    "import base64\n",
    "client_creds=f\"{client_id}:{client_secret}\"\n",
    "print(type(client_creds))\n",
    "     \n",
    "client_creds_b64=base64.b64encode(client_creds.encode()) \n",
    "client_creds_b64"
   ]
  },
  {
   "cell_type": "code",
   "execution_count": 12,
   "id": "34eeed39",
   "metadata": {},
   "outputs": [],
   "source": [
    "#Request Access Token\n",
    "#Flow https://developer.spotify.com/documentation/general/guides/authorization/code-flow/\n",
    "token_url='https://accounts.spotify.com/api/token'\n",
    "method=\"POST\"\n",
    "\n",
    "token_data={\n",
    "    \"grant_type\": 'client_credentials'\n",
    "}\n",
    "\n",
    "# request must include the following HTTP headers:,Value\n",
    "#header_parameter\n",
    "\n",
    "token_headers={\n",
    "    \"Authorization\": f\"Basic {client_creds_b64.decode()}\"#Basic <base64 encoded client_id:client_secret>\"\n",
    "}\n"
   ]
  },
  {
   "cell_type": "code",
   "execution_count": 13,
   "id": "e79dc849",
   "metadata": {},
   "outputs": [
    {
     "name": "stdout",
     "output_type": "stream",
     "text": [
      "{'access_token': 'BQABq-TQLM1LRKOPwQasx3FsJR-8cWrWyNaKlyt7CcwcFMddVEpBqgEqqcs_77eF6Vg_F1qNFESQHGkxKio', 'token_type': 'Bearer', 'expires_in': 3600}\n"
     ]
    }
   ],
   "source": [
    "r=requests.post(token_url,data=token_data,headers=token_headers)\n",
    "print(r.json())\n",
    "valid_request=r.status_code in range(200,299)\n"
   ]
  },
  {
   "cell_type": "code",
   "execution_count": 14,
   "id": "2cd08632",
   "metadata": {},
   "outputs": [
    {
     "name": "stdout",
     "output_type": "stream",
     "text": [
      "{'access_token': 'BQDzBaiJgb5TGF0JatG10LHpSTpNazXiwib_z39Qe0lAiGckwIaUJTr50-OT1O9PVY2e-p4X4GW1TlctXvs', 'token_type': 'Bearer', 'expires_in': 3600}\n"
     ]
    }
   ],
   "source": [
    "r=requests.post(token_url,data=token_data,headers=token_headers)\n",
    "print(r.json())\n",
    "valid_request=r.status_code in range(200,299)\n",
    "\n",
    "if valid_request:\n",
    "    token_response_data=r.json()\n",
    "    now=datetime.datetime.now()\n",
    "    access_token=token_response_data[\"access_token\"]\n",
    "    exprires_in=token_response_data['expires_in']\n",
    "    expires=now+datetime.timedelta(seconds=exprires_in)\n",
    "    didi_expires=expires < now\n",
    "\n"
   ]
  },
  {
   "cell_type": "code",
   "execution_count": 15,
   "id": "fc1c0a3b",
   "metadata": {},
   "outputs": [],
   "source": [
    "#class\n",
    "class SpotifyAPI(object):\n",
    "    access_token=None\n",
    "    access_token_expires=datetime.datetime.now()\n",
    "    access_token_did_expires=True\n",
    "    client_id=None\n",
    "    client_secret=None    \n",
    "    token_url='https://accounts.spotify.com/api/token'\n",
    "    \n",
    "    def __init__(self,client_id,client_secret,*args,**kwargs):\n",
    "        super().__init__(*args,**kwargs)#inherit from another class\n",
    "        self.client_id=client_id\n",
    "        self.client_secret=client_secret\n",
    "        \n",
    "    def get_client_credentials(self):\n",
    "        \"\"\"\n",
    "        return 64 string\n",
    "        \"\"\"\n",
    "        \n",
    "        client_id=self.client_id\n",
    "        client_secret=self.client_secret\n",
    "        if client_secret==None or client_id== None:\n",
    "            raise Exception(\"you must set client id and client secret\")\n",
    "        client_creds=f\"{client_id}:{client_secret}\"\n",
    "        client_creds_b64=base64.b64encode(client_creds.encode()) \n",
    "        return client_creds_b64.decode()\n",
    "\n",
    "    def get_token_headers(self):\n",
    "        client_creds_b64=self.get_client_credentials()\n",
    "        return {\n",
    "    \"Authorization\": f\"Basic {client_creds_b64}\"#Basic <base64 encoded client_id:client_secret>\"\n",
    "        }\n",
    "            \n",
    "    def get_token_data(self):\n",
    "            return{\n",
    "    \"grant_type\": 'client_credentials'\n",
    "            }\n",
    "    \n",
    "    def perform_auth(self):\n",
    "        token_url=self.token_url\n",
    "        token_data=self.get_token_data()\n",
    "        token_headers=self.get_token_headers()\n",
    "        \n",
    "        r=requests.post(token_url,data=token_data,headers=token_headers)\n",
    "\n",
    "        if r.status_code not in range(200,299):\n",
    "                return False\n",
    "        token_response_data=r.json()\n",
    "        now=datetime.datetime.now()\n",
    "        data=r.json()\n",
    "        \n",
    "        access_token = data['access_token']\n",
    "        expires_in = data['expires_in'] # seconds\n",
    "        expires = now + datetime.timedelta(seconds=expires_in)\n",
    "        self.access_token = access_token\n",
    "        self.access_token_expires = expires\n",
    "        self.access_token_did_expire = expires < now\n",
    "        return True\n",
    "        \n",
    "        \n",
    "    \n",
    "    \n"
   ]
  },
  {
   "cell_type": "code",
   "execution_count": 16,
   "id": "aada8731",
   "metadata": {},
   "outputs": [],
   "source": [
    "spotify=SpotifyAPI(client_id,client_secret)"
   ]
  },
  {
   "cell_type": "code",
   "execution_count": 17,
   "id": "4ba53929",
   "metadata": {},
   "outputs": [
    {
     "data": {
      "text/plain": [
       "True"
      ]
     },
     "execution_count": 17,
     "metadata": {},
     "output_type": "execute_result"
    }
   ],
   "source": [
    "spotify.perform_auth()"
   ]
  },
  {
   "cell_type": "code",
   "execution_count": 18,
   "id": "62c24cc9",
   "metadata": {},
   "outputs": [
    {
     "data": {
      "text/plain": [
       "'BQA294kgZfaGsNWDhO9kh7Zzevw62gD-eW63LfdYncRBdIP-kMoDIAPcYCEds3B5mN6IaloNoxCyx37nJMw'"
      ]
     },
     "execution_count": 18,
     "metadata": {},
     "output_type": "execute_result"
    }
   ],
   "source": [
    "spotify.access_token"
   ]
  },
  {
   "cell_type": "code",
   "execution_count": null,
   "id": "2ea1e837",
   "metadata": {},
   "outputs": [],
   "source": []
  }
 ],
 "metadata": {
  "kernelspec": {
   "display_name": "Python 3 (ipykernel)",
   "language": "python",
   "name": "python3"
  },
  "language_info": {
   "codemirror_mode": {
    "name": "ipython",
    "version": 3
   },
   "file_extension": ".py",
   "mimetype": "text/x-python",
   "name": "python",
   "nbconvert_exporter": "python",
   "pygments_lexer": "ipython3",
   "version": "3.8.12"
  },
  "toc": {
   "base_numbering": 1,
   "nav_menu": {},
   "number_sections": true,
   "sideBar": true,
   "skip_h1_title": false,
   "title_cell": "Table of Contents",
   "title_sidebar": "Contents",
   "toc_cell": false,
   "toc_position": {},
   "toc_section_display": true,
   "toc_window_display": false
  }
 },
 "nbformat": 4,
 "nbformat_minor": 5
}
