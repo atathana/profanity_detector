{
 "cells": [
  {
   "cell_type": "code",
   "execution_count": 1,
   "id": "c77482ea",
   "metadata": {},
   "outputs": [],
   "source": [
    "import pandas as pd\n",
    "\n",
    "from imdb import Cinemagoer"
   ]
  },
  {
   "cell_type": "code",
   "execution_count": 2,
   "id": "bfd6783e",
   "metadata": {},
   "outputs": [],
   "source": [
    "import os\n",
    "import sys\n",
    "import inspect\n",
    "\n",
    "currentdir = os.path.dirname(os.path.abspath(inspect.getfile(inspect.currentframe())))\n",
    "parentdir = os.path.dirname(currentdir)\n",
    "sys.path.insert(0, parentdir) "
   ]
  },
  {
   "cell_type": "markdown",
   "id": "c37ad81b",
   "metadata": {
    "heading_collapsed": true
   },
   "source": [
    "### relevant fields:"
   ]
  },
  {
   "cell_type": "markdown",
   "id": "e7983524",
   "metadata": {
    "hidden": true,
    "hide_input": false
   },
   "source": [
    "**Keys**\n",
    "- 'imdbID',\n",
    "- 'title',\n",
    "\n",
    "**Meta Data**\n",
    "- 'original title',\n",
    "- 'rating',\n",
    "- 'director',\n",
    "- 'runtimes',\n",
    "- 'genres',\n",
    "- 'box office',\n",
    "- 'cover url',\n",
    "- 'year', \n",
    "- 'top 250 rank',\n",
    "- 'awards',\n",
    "- 'akas',\n",
    "- 'cast',\n",
    "\n",
    "**Geo**\n",
    "- 'country codes'\n",
    "- 'countries',\n",
    "- 'locations',\n",
    "- 'language codes',\n",
    "\n",
    "\n",
    "**Text**\n",
    "- 'plot',\n",
    "- 'plot outline',\n",
    "- 'critic reviews',\n",
    "- 'reviews',\n",
    "- 'quotes'"
   ]
  },
  {
   "cell_type": "code",
   "execution_count": 3,
   "id": "d0dd00e9",
   "metadata": {
    "hidden": true
   },
   "outputs": [
    {
     "ename": "SyntaxError",
     "evalue": "invalid syntax (<ipython-input-3-b8e4ab6ae799>, line 1)",
     "output_type": "error",
     "traceback": [
      "\u001b[0;36m  File \u001b[0;32m\"<ipython-input-3-b8e4ab6ae799>\"\u001b[0;36m, line \u001b[0;32m1\u001b[0m\n\u001b[0;31m    'awards'  ???\u001b[0m\n\u001b[0m              ^\u001b[0m\n\u001b[0;31mSyntaxError\u001b[0m\u001b[0;31m:\u001b[0m invalid syntax\n"
     ]
    }
   ],
   "source": [
    "'awards'  ???"
   ]
  },
  {
   "cell_type": "markdown",
   "id": "7e118da5",
   "metadata": {},
   "source": [
    "# Get Movie Data"
   ]
  },
  {
   "cell_type": "code",
   "execution_count": 3,
   "id": "56244647",
   "metadata": {},
   "outputs": [],
   "source": [
    "from profanity_detector.get_data import movie_data"
   ]
  },
  {
   "cell_type": "code",
   "execution_count": 4,
   "id": "ae3a6068",
   "metadata": {},
   "outputs": [],
   "source": [
    "movie_meta, quotes_df, reviews_df, locations_df = movie_data('matrix')"
   ]
  },
  {
   "cell_type": "code",
   "execution_count": 5,
   "id": "de8c0e22",
   "metadata": {},
   "outputs": [
    {
     "data": {
      "text/plain": [
       "{'imdb_id': '0133093',\n",
       " 'title': 'The Matrix',\n",
       " 'rating': 8.7,\n",
       " 'director': ['Lana Wachowski', 'Lilly Wachowski'],\n",
       " 'runtime': '136 Min',\n",
       " 'genres': ['Action', 'Sci-Fi'],\n",
       " 'year': 1999,\n",
       " 'box_office': '$463,517,383',\n",
       " 'top_250_rank': 16,\n",
       " 'cast': ['Keanu Reeves',\n",
       "  'Laurence Fishburne',\n",
       "  'Carrie-Anne Moss',\n",
       "  'Hugo Weaving',\n",
       "  'Gloria Foster'],\n",
       " 'cover_url': 'https://m.media-amazon.com/images/M/MV5BNzQzOTk3OTAtNDQ0Zi00ZTVkLWI0MTEtMDllZjNkYzNjNTc4L2ltYWdlXkEyXkFqcGdeQXVyNjU0OTQ0OTY@._V1_SX101_CR0,0,101,150_.jpg',\n",
       " 'akas': ['Matrix (Japan, English title)',\n",
       "  'Matrix (France)',\n",
       "  'Matrix (Germany)',\n",
       "  'Matrix (Spain)',\n",
       "  '黑客帝国 (China, Mandarin title)'],\n",
       " 'countries': ['United States', 'Australia']}"
      ]
     },
     "execution_count": 5,
     "metadata": {},
     "output_type": "execute_result"
    }
   ],
   "source": [
    "movie_meta"
   ]
  },
  {
   "cell_type": "code",
   "execution_count": 12,
   "id": "aa50664f",
   "metadata": {},
   "outputs": [
    {
     "data": {
      "text/html": [
       "<div>\n",
       "<style scoped>\n",
       "    .dataframe tbody tr th:only-of-type {\n",
       "        vertical-align: middle;\n",
       "    }\n",
       "\n",
       "    .dataframe tbody tr th {\n",
       "        vertical-align: top;\n",
       "    }\n",
       "\n",
       "    .dataframe thead th {\n",
       "        text-align: right;\n",
       "    }\n",
       "</style>\n",
       "<table border=\"1\" class=\"dataframe\">\n",
       "  <thead>\n",
       "    <tr style=\"text-align: right;\">\n",
       "      <th></th>\n",
       "      <th>imdb_id</th>\n",
       "      <th>title</th>\n",
       "      <th>quotes</th>\n",
       "    </tr>\n",
       "  </thead>\n",
       "  <tbody>\n",
       "    <tr>\n",
       "      <th>0</th>\n",
       "      <td>0133093</td>\n",
       "      <td>The Matrix</td>\n",
       "      <td>Morpheus: This is your last chance. After this...</td>\n",
       "    </tr>\n",
       "    <tr>\n",
       "      <th>1</th>\n",
       "      <td>0133093</td>\n",
       "      <td>The Matrix</td>\n",
       "      <td>Agent Smith: I'd like to share a revelation th...</td>\n",
       "    </tr>\n",
       "    <tr>\n",
       "      <th>2</th>\n",
       "      <td>0133093</td>\n",
       "      <td>The Matrix</td>\n",
       "      <td>Spoon boy: Do not try and bend the spoon. That...</td>\n",
       "    </tr>\n",
       "    <tr>\n",
       "      <th>3</th>\n",
       "      <td>0133093</td>\n",
       "      <td>The Matrix</td>\n",
       "      <td>Neo: What are you trying to tell me? That I ca...</td>\n",
       "    </tr>\n",
       "    <tr>\n",
       "      <th>4</th>\n",
       "      <td>0133093</td>\n",
       "      <td>The Matrix</td>\n",
       "      <td>Morpheus: Neo, sooner or later you're going to...</td>\n",
       "    </tr>\n",
       "  </tbody>\n",
       "</table>\n",
       "</div>"
      ],
      "text/plain": [
       "   imdb_id       title                                             quotes\n",
       "0  0133093  The Matrix  Morpheus: This is your last chance. After this...\n",
       "1  0133093  The Matrix  Agent Smith: I'd like to share a revelation th...\n",
       "2  0133093  The Matrix  Spoon boy: Do not try and bend the spoon. That...\n",
       "3  0133093  The Matrix  Neo: What are you trying to tell me? That I ca...\n",
       "4  0133093  The Matrix  Morpheus: Neo, sooner or later you're going to..."
      ]
     },
     "execution_count": 12,
     "metadata": {},
     "output_type": "execute_result"
    }
   ],
   "source": [
    "quotes_df.head()"
   ]
  },
  {
   "cell_type": "code",
   "execution_count": 13,
   "id": "fe50f9a0",
   "metadata": {},
   "outputs": [
    {
     "data": {
      "text/html": [
       "<div>\n",
       "<style scoped>\n",
       "    .dataframe tbody tr th:only-of-type {\n",
       "        vertical-align: middle;\n",
       "    }\n",
       "\n",
       "    .dataframe tbody tr th {\n",
       "        vertical-align: top;\n",
       "    }\n",
       "\n",
       "    .dataframe thead th {\n",
       "        text-align: right;\n",
       "    }\n",
       "</style>\n",
       "<table border=\"1\" class=\"dataframe\">\n",
       "  <thead>\n",
       "    <tr style=\"text-align: right;\">\n",
       "      <th></th>\n",
       "      <th>content</th>\n",
       "      <th>helpful</th>\n",
       "      <th>title</th>\n",
       "      <th>author</th>\n",
       "      <th>date</th>\n",
       "      <th>rating</th>\n",
       "      <th>not_helpful</th>\n",
       "      <th>imdb_id</th>\n",
       "    </tr>\n",
       "  </thead>\n",
       "  <tbody>\n",
       "    <tr>\n",
       "      <th>0</th>\n",
       "      <td>There are currently almost 2800 reviews on IMD...</td>\n",
       "      <td>39</td>\n",
       "      <td>The Matrix</td>\n",
       "      <td>ur2467618</td>\n",
       "      <td>22 February 2018</td>\n",
       "      <td>7.0</td>\n",
       "      <td>178</td>\n",
       "      <td>0133093</td>\n",
       "    </tr>\n",
       "    <tr>\n",
       "      <th>1</th>\n",
       "      <td>'The Matrix' may not be one of the very greate...</td>\n",
       "      <td>38</td>\n",
       "      <td>The Matrix</td>\n",
       "      <td>ur20552756</td>\n",
       "      <td>20 February 2017</td>\n",
       "      <td>9.0</td>\n",
       "      <td>10</td>\n",
       "      <td>0133093</td>\n",
       "    </tr>\n",
       "    <tr>\n",
       "      <th>2</th>\n",
       "      <td>What is THE MATRIX? Well, let me tell you: it'...</td>\n",
       "      <td>14</td>\n",
       "      <td>The Matrix</td>\n",
       "      <td>ur0482513</td>\n",
       "      <td>26 August 2016</td>\n",
       "      <td>9.0</td>\n",
       "      <td>7</td>\n",
       "      <td>0133093</td>\n",
       "    </tr>\n",
       "    <tr>\n",
       "      <th>3</th>\n",
       "      <td>The Wachowski brothers have created one of the...</td>\n",
       "      <td>13</td>\n",
       "      <td>The Matrix</td>\n",
       "      <td>ur2898520</td>\n",
       "      <td>9 November 2013</td>\n",
       "      <td>9.0</td>\n",
       "      <td>6</td>\n",
       "      <td>0133093</td>\n",
       "    </tr>\n",
       "    <tr>\n",
       "      <th>4</th>\n",
       "      <td>This is one of those movies that \"everyone\" ha...</td>\n",
       "      <td>17</td>\n",
       "      <td>The Matrix</td>\n",
       "      <td>ur0278527</td>\n",
       "      <td>20 August 2019</td>\n",
       "      <td>9.0</td>\n",
       "      <td>6</td>\n",
       "      <td>0133093</td>\n",
       "    </tr>\n",
       "  </tbody>\n",
       "</table>\n",
       "</div>"
      ],
      "text/plain": [
       "                                             content  helpful       title  \\\n",
       "0  There are currently almost 2800 reviews on IMD...       39  The Matrix   \n",
       "1  'The Matrix' may not be one of the very greate...       38  The Matrix   \n",
       "2  What is THE MATRIX? Well, let me tell you: it'...       14  The Matrix   \n",
       "3  The Wachowski brothers have created one of the...       13  The Matrix   \n",
       "4  This is one of those movies that \"everyone\" ha...       17  The Matrix   \n",
       "\n",
       "       author              date  rating  not_helpful  imdb_id  \n",
       "0   ur2467618  22 February 2018     7.0          178  0133093  \n",
       "1  ur20552756  20 February 2017     9.0           10  0133093  \n",
       "2   ur0482513    26 August 2016     9.0            7  0133093  \n",
       "3   ur2898520   9 November 2013     9.0            6  0133093  \n",
       "4   ur0278527    20 August 2019     9.0            6  0133093  "
      ]
     },
     "execution_count": 13,
     "metadata": {},
     "output_type": "execute_result"
    }
   ],
   "source": [
    "reviews_df.head()"
   ]
  },
  {
   "cell_type": "code",
   "execution_count": 8,
   "id": "ae7a1e05",
   "metadata": {},
   "outputs": [
    {
     "data": {
      "text/html": [
       "<div>\n",
       "<style scoped>\n",
       "    .dataframe tbody tr th:only-of-type {\n",
       "        vertical-align: middle;\n",
       "    }\n",
       "\n",
       "    .dataframe tbody tr th {\n",
       "        vertical-align: top;\n",
       "    }\n",
       "\n",
       "    .dataframe thead th {\n",
       "        text-align: right;\n",
       "    }\n",
       "</style>\n",
       "<table border=\"1\" class=\"dataframe\">\n",
       "  <thead>\n",
       "    <tr style=\"text-align: right;\">\n",
       "      <th></th>\n",
       "      <th>locations</th>\n",
       "      <th>imdb_id</th>\n",
       "      <th>title</th>\n",
       "    </tr>\n",
       "  </thead>\n",
       "  <tbody>\n",
       "    <tr>\n",
       "      <th>0</th>\n",
       "      <td>Nashville, Tennessee, USA::(exterior scenes: s...</td>\n",
       "      <td>0133093</td>\n",
       "      <td>The Matrix</td>\n",
       "    </tr>\n",
       "    <tr>\n",
       "      <th>1</th>\n",
       "      <td>Sydney, New South Wales, Australia</td>\n",
       "      <td>0133093</td>\n",
       "      <td>The Matrix</td>\n",
       "    </tr>\n",
       "    <tr>\n",
       "      <th>2</th>\n",
       "      <td>Redfern, Sydney, New South Wales, Australia::(...</td>\n",
       "      <td>0133093</td>\n",
       "      <td>The Matrix</td>\n",
       "    </tr>\n",
       "    <tr>\n",
       "      <th>3</th>\n",
       "      <td>San Francisco, California, USA::(exterior scen...</td>\n",
       "      <td>0133093</td>\n",
       "      <td>The Matrix</td>\n",
       "    </tr>\n",
       "    <tr>\n",
       "      <th>4</th>\n",
       "      <td>Sydney Central Business District, Sydney, New ...</td>\n",
       "      <td>0133093</td>\n",
       "      <td>The Matrix</td>\n",
       "    </tr>\n",
       "  </tbody>\n",
       "</table>\n",
       "</div>"
      ],
      "text/plain": [
       "                                           locations  imdb_id       title\n",
       "0  Nashville, Tennessee, USA::(exterior scenes: s...  0133093  The Matrix\n",
       "1                 Sydney, New South Wales, Australia  0133093  The Matrix\n",
       "2  Redfern, Sydney, New South Wales, Australia::(...  0133093  The Matrix\n",
       "3  San Francisco, California, USA::(exterior scen...  0133093  The Matrix\n",
       "4  Sydney Central Business District, Sydney, New ...  0133093  The Matrix"
      ]
     },
     "execution_count": 8,
     "metadata": {},
     "output_type": "execute_result"
    }
   ],
   "source": [
    "locations_df.head()"
   ]
  },
  {
   "cell_type": "code",
   "execution_count": 9,
   "id": "58689f58",
   "metadata": {},
   "outputs": [],
   "source": [
    "from profanity_detector.movie_features import create_word_cloud, plot_word_cloud"
   ]
  },
  {
   "cell_type": "code",
   "execution_count": 10,
   "id": "b4b53eb8",
   "metadata": {
    "scrolled": true
   },
   "outputs": [
    {
     "ename": "ValueError",
     "evalue": "We need at least 1 word to plot a word cloud, got 0.",
     "output_type": "error",
     "traceback": [
      "\u001b[0;31m---------------------------------------------------------------------------\u001b[0m",
      "\u001b[0;31mValueError\u001b[0m                                Traceback (most recent call last)",
      "\u001b[0;32m<ipython-input-10-a0a2e226ad52>\u001b[0m in \u001b[0;36m<module>\u001b[0;34m\u001b[0m\n\u001b[0;32m----> 1\u001b[0;31m \u001b[0mplot_word_cloud\u001b[0m\u001b[0;34m(\u001b[0m\u001b[0mcreate_word_cloud\u001b[0m\u001b[0;34m(\u001b[0m\u001b[0mquotes_df\u001b[0m\u001b[0;34m)\u001b[0m\u001b[0;34m)\u001b[0m\u001b[0;34m\u001b[0m\u001b[0;34m\u001b[0m\u001b[0m\n\u001b[0m",
      "\u001b[0;32m~/code/atathana/profanity_detector/profanity_detector/movie_features.py\u001b[0m in \u001b[0;36mcreate_word_cloud\u001b[0;34m(df)\u001b[0m\n\u001b[1;32m     24\u001b[0m             \u001b[0mtext\u001b[0m \u001b[0;34m=\u001b[0m \u001b[0mtext\u001b[0m\u001b[0;34m.\u001b[0m\u001b[0mreplace\u001b[0m\u001b[0;34m(\u001b[0m\u001b[0mword\u001b[0m\u001b[0;34m,\u001b[0m\u001b[0;34m\"\"\u001b[0m\u001b[0;34m)\u001b[0m\u001b[0;34m\u001b[0m\u001b[0;34m\u001b[0m\u001b[0m\n\u001b[1;32m     25\u001b[0m \u001b[0;34m\u001b[0m\u001b[0m\n\u001b[0;32m---> 26\u001b[0;31m         \u001b[0mword_cloud\u001b[0m \u001b[0;34m=\u001b[0m \u001b[0mWordCloud\u001b[0m\u001b[0;34m(\u001b[0m\u001b[0mcollocations\u001b[0m \u001b[0;34m=\u001b[0m \u001b[0;32mFalse\u001b[0m\u001b[0;34m,\u001b[0m \u001b[0mbackground_color\u001b[0m \u001b[0;34m=\u001b[0m \u001b[0;34m'white'\u001b[0m\u001b[0;34m)\u001b[0m\u001b[0;34m.\u001b[0m\u001b[0mgenerate\u001b[0m\u001b[0;34m(\u001b[0m\u001b[0mtext\u001b[0m\u001b[0;34m)\u001b[0m\u001b[0;34m\u001b[0m\u001b[0;34m\u001b[0m\u001b[0m\n\u001b[0m\u001b[1;32m     27\u001b[0m \u001b[0;34m\u001b[0m\u001b[0m\n\u001b[1;32m     28\u001b[0m \u001b[0;34m\u001b[0m\u001b[0m\n",
      "\u001b[0;32m~/.pyenv/versions/3.6.15/envs/profanity_detector/lib/python3.6/site-packages/wordcloud/wordcloud.py\u001b[0m in \u001b[0;36mgenerate\u001b[0;34m(self, text)\u001b[0m\n\u001b[1;32m    630\u001b[0m         \u001b[0mself\u001b[0m\u001b[0;34m\u001b[0m\u001b[0;34m\u001b[0m\u001b[0m\n\u001b[1;32m    631\u001b[0m         \"\"\"\n\u001b[0;32m--> 632\u001b[0;31m         \u001b[0;32mreturn\u001b[0m \u001b[0mself\u001b[0m\u001b[0;34m.\u001b[0m\u001b[0mgenerate_from_text\u001b[0m\u001b[0;34m(\u001b[0m\u001b[0mtext\u001b[0m\u001b[0;34m)\u001b[0m\u001b[0;34m\u001b[0m\u001b[0;34m\u001b[0m\u001b[0m\n\u001b[0m\u001b[1;32m    633\u001b[0m \u001b[0;34m\u001b[0m\u001b[0m\n\u001b[1;32m    634\u001b[0m     \u001b[0;32mdef\u001b[0m \u001b[0m_check_generated\u001b[0m\u001b[0;34m(\u001b[0m\u001b[0mself\u001b[0m\u001b[0;34m)\u001b[0m\u001b[0;34m:\u001b[0m\u001b[0;34m\u001b[0m\u001b[0;34m\u001b[0m\u001b[0m\n",
      "\u001b[0;32m~/.pyenv/versions/3.6.15/envs/profanity_detector/lib/python3.6/site-packages/wordcloud/wordcloud.py\u001b[0m in \u001b[0;36mgenerate_from_text\u001b[0;34m(self, text)\u001b[0m\n\u001b[1;32m    612\u001b[0m         \"\"\"\n\u001b[1;32m    613\u001b[0m         \u001b[0mwords\u001b[0m \u001b[0;34m=\u001b[0m \u001b[0mself\u001b[0m\u001b[0;34m.\u001b[0m\u001b[0mprocess_text\u001b[0m\u001b[0;34m(\u001b[0m\u001b[0mtext\u001b[0m\u001b[0;34m)\u001b[0m\u001b[0;34m\u001b[0m\u001b[0;34m\u001b[0m\u001b[0m\n\u001b[0;32m--> 614\u001b[0;31m         \u001b[0mself\u001b[0m\u001b[0;34m.\u001b[0m\u001b[0mgenerate_from_frequencies\u001b[0m\u001b[0;34m(\u001b[0m\u001b[0mwords\u001b[0m\u001b[0;34m)\u001b[0m\u001b[0;34m\u001b[0m\u001b[0;34m\u001b[0m\u001b[0m\n\u001b[0m\u001b[1;32m    615\u001b[0m         \u001b[0;32mreturn\u001b[0m \u001b[0mself\u001b[0m\u001b[0;34m\u001b[0m\u001b[0;34m\u001b[0m\u001b[0m\n\u001b[1;32m    616\u001b[0m \u001b[0;34m\u001b[0m\u001b[0m\n",
      "\u001b[0;32m~/.pyenv/versions/3.6.15/envs/profanity_detector/lib/python3.6/site-packages/wordcloud/wordcloud.py\u001b[0m in \u001b[0;36mgenerate_from_frequencies\u001b[0;34m(self, frequencies, max_font_size)\u001b[0m\n\u001b[1;32m    402\u001b[0m         \u001b[0;32mif\u001b[0m \u001b[0mlen\u001b[0m\u001b[0;34m(\u001b[0m\u001b[0mfrequencies\u001b[0m\u001b[0;34m)\u001b[0m \u001b[0;34m<=\u001b[0m \u001b[0;36m0\u001b[0m\u001b[0;34m:\u001b[0m\u001b[0;34m\u001b[0m\u001b[0;34m\u001b[0m\u001b[0m\n\u001b[1;32m    403\u001b[0m             raise ValueError(\"We need at least 1 word to plot a word cloud, \"\n\u001b[0;32m--> 404\u001b[0;31m                              \"got %d.\" % len(frequencies))\n\u001b[0m\u001b[1;32m    405\u001b[0m         \u001b[0mfrequencies\u001b[0m \u001b[0;34m=\u001b[0m \u001b[0mfrequencies\u001b[0m\u001b[0;34m[\u001b[0m\u001b[0;34m:\u001b[0m\u001b[0mself\u001b[0m\u001b[0;34m.\u001b[0m\u001b[0mmax_words\u001b[0m\u001b[0;34m]\u001b[0m\u001b[0;34m\u001b[0m\u001b[0;34m\u001b[0m\u001b[0m\n\u001b[1;32m    406\u001b[0m \u001b[0;34m\u001b[0m\u001b[0m\n",
      "\u001b[0;31mValueError\u001b[0m: We need at least 1 word to plot a word cloud, got 0."
     ]
    }
   ],
   "source": [
    "plot_word_cloud(create_word_cloud(quotes_df))"
   ]
  },
  {
   "cell_type": "code",
   "execution_count": 11,
   "id": "b193d2ba",
   "metadata": {},
   "outputs": [
    {
     "ename": "TypeError",
     "evalue": "sequence item 0: expected str instance, int found",
     "output_type": "error",
     "traceback": [
      "\u001b[0;31m---------------------------------------------------------------------------\u001b[0m",
      "\u001b[0;31mTypeError\u001b[0m                                 Traceback (most recent call last)",
      "\u001b[0;32m<ipython-input-11-c45f74938c94>\u001b[0m in \u001b[0;36m<module>\u001b[0;34m\u001b[0m\n\u001b[0;32m----> 1\u001b[0;31m \u001b[0mplot_word_cloud\u001b[0m\u001b[0;34m(\u001b[0m\u001b[0mcreate_word_cloud\u001b[0m\u001b[0;34m(\u001b[0m\u001b[0mreviews_df\u001b[0m\u001b[0;34m)\u001b[0m\u001b[0;34m)\u001b[0m\u001b[0;34m\u001b[0m\u001b[0;34m\u001b[0m\u001b[0m\n\u001b[0m",
      "\u001b[0;32m~/code/atathana/profanity_detector/profanity_detector/movie_features.py\u001b[0m in \u001b[0;36mcreate_word_cloud\u001b[0;34m(df)\u001b[0m\n\u001b[1;32m     12\u001b[0m         \u001b[0mtext_df\u001b[0m \u001b[0;34m=\u001b[0m \u001b[0mdf\u001b[0m\u001b[0;34m.\u001b[0m\u001b[0miloc\u001b[0m\u001b[0;34m[\u001b[0m\u001b[0;34m:\u001b[0m\u001b[0;34m,\u001b[0m \u001b[0;36m1\u001b[0m\u001b[0;34m:\u001b[0m\u001b[0;36m2\u001b[0m\u001b[0;34m]\u001b[0m\u001b[0;34m\u001b[0m\u001b[0;34m\u001b[0m\u001b[0m\n\u001b[1;32m     13\u001b[0m         \u001b[0mtext_series\u001b[0m \u001b[0;34m=\u001b[0m \u001b[0mtext_df\u001b[0m\u001b[0;34m.\u001b[0m\u001b[0msqueeze\u001b[0m\u001b[0;34m(\u001b[0m\u001b[0;34m)\u001b[0m\u001b[0;34m\u001b[0m\u001b[0;34m\u001b[0m\u001b[0m\n\u001b[0;32m---> 14\u001b[0;31m         \u001b[0mtext\u001b[0m \u001b[0;34m=\u001b[0m \u001b[0;34m\" \"\u001b[0m\u001b[0;34m.\u001b[0m\u001b[0mjoin\u001b[0m\u001b[0;34m(\u001b[0m\u001b[0mtext_series\u001b[0m\u001b[0;34m)\u001b[0m\u001b[0;34m\u001b[0m\u001b[0;34m\u001b[0m\u001b[0m\n\u001b[0m\u001b[1;32m     15\u001b[0m \u001b[0;34m\u001b[0m\u001b[0m\n\u001b[1;32m     16\u001b[0m \u001b[0;34m\u001b[0m\u001b[0m\n",
      "\u001b[0;31mTypeError\u001b[0m: sequence item 0: expected str instance, int found"
     ]
    }
   ],
   "source": [
    "plot_word_cloud(create_word_cloud(reviews_df))"
   ]
  }
 ],
 "metadata": {
  "hide_input": false,
  "kernelspec": {
   "display_name": "Python 3",
   "language": "python",
   "name": "python3"
  },
  "language_info": {
   "codemirror_mode": {
    "name": "ipython",
    "version": 3
   },
   "file_extension": ".py",
   "mimetype": "text/x-python",
   "name": "python",
   "nbconvert_exporter": "python",
   "pygments_lexer": "ipython3",
   "version": "3.6.15"
  },
  "toc": {
   "base_numbering": 1,
   "nav_menu": {},
   "number_sections": true,
   "sideBar": true,
   "skip_h1_title": false,
   "title_cell": "Table of Contents",
   "title_sidebar": "Contents",
   "toc_cell": false,
   "toc_position": {},
   "toc_section_display": true,
   "toc_window_display": false
  }
 },
 "nbformat": 4,
 "nbformat_minor": 5
}
