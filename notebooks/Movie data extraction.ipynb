{
 "cells": [
  {
   "cell_type": "code",
   "execution_count": 1,
   "id": "c77482ea",
   "metadata": {},
   "outputs": [],
   "source": [
    "import pandas as pd\n",
    "\n",
    "from imdb import Cinemagoer"
   ]
  },
  {
   "cell_type": "markdown",
   "id": "c37ad81b",
   "metadata": {
    "heading_collapsed": true
   },
   "source": [
    "### relevant fields:"
   ]
  },
  {
   "cell_type": "markdown",
   "id": "e7983524",
   "metadata": {
    "hidden": true,
    "hide_input": false
   },
   "source": [
    "**Keys**\n",
    "- 'imdbID',\n",
    "- 'title',\n",
    "\n",
    "**Meta Data**\n",
    "- 'original title',\n",
    "- 'rating',\n",
    "- 'director',\n",
    "- 'runtimes',\n",
    "- 'genres',\n",
    "- 'box office',\n",
    "- 'cover url',\n",
    "- 'year', \n",
    "- 'top 250 rank',\n",
    "- 'awards',\n",
    "- 'akas',\n",
    "- 'cast',\n",
    "\n",
    "**Geo**\n",
    "- 'country codes'\n",
    "- 'countries',\n",
    "- 'locations',\n",
    "- 'language codes',\n",
    "\n",
    "\n",
    "**Text**\n",
    "- 'plot',\n",
    "- 'plot outline',\n",
    "- 'critic reviews',\n",
    "- 'reviews',\n",
    "- 'quotes'"
   ]
  },
  {
   "cell_type": "code",
   "execution_count": null,
   "id": "d0dd00e9",
   "metadata": {
    "hidden": true
   },
   "outputs": [],
   "source": [
    "'awards'  ???"
   ]
  },
  {
   "cell_type": "markdown",
   "id": "7e118da5",
   "metadata": {},
   "source": [
    "# Get Movie Data"
   ]
  },
  {
   "cell_type": "code",
   "execution_count": 33,
   "id": "bf1204ae",
   "metadata": {},
   "outputs": [
    {
     "data": {
      "text/plain": [
       "'\\nif __name__ == \\'__main__\\':\\n\\n    movie_name = input(\"What Is Your Favourite Movie? : \")\\n    movie_meta, quotes_df, reviews_df, locations_df = movie_data(movie_name)\\n    print(\\'Movie Details: \\n\\', movie_meta)\\n    print(\\'\\n\\')\\n    print(\\'First 5 Quotes: \\n\\',quotes_df.head())\\n    print(\\'\\n\\')\\n    print(\\'First 5 Reviews: \\n\\', reviews_df.head())\\n    print(\\'\\n\\')\\n    print(\\'First 5 Locations: \\n\\',locations_df.head())\\n'"
      ]
     },
     "execution_count": 33,
     "metadata": {},
     "output_type": "execute_result"
    }
   ],
   "source": [
    "\"\"\"\n",
    "get all movie data (meta + text + locations) in a single object\n",
    "\"\"\"\n",
    "def get_all_movie_data(movie_name):\n",
    "    ia = Cinemagoer()\n",
    "    movie_search = ia.search_movie(movie_name)\n",
    "    movie_id = movie_search[0].movieID\n",
    "    movie_data = ia.get_movie(movie_id)\n",
    "    ia.update(movie_data,'quotes')\n",
    "    ia.update(movie_data,'reviews')\n",
    "    ia.update(movie_data,'locations')\n",
    "    \n",
    "    \n",
    "    return movie_data\n",
    "\n",
    "\"\"\"\n",
    "create meta_data dict\n",
    "\"\"\"\n",
    "def get_meta_data(movie_data):\n",
    "    \n",
    "    # preprocess directors in case of list\n",
    "    directors = []\n",
    "    directors_obj = movie_data['director']\n",
    "    for director in directors_obj:\n",
    "        directors.append(director['name'])\n",
    "\n",
    "    # preprocess cast list only keep top 5 listed\n",
    "    cast = []\n",
    "    cast_obj = movie_data['cast']\n",
    "    for actor in cast_obj:\n",
    "        cast.append(actor['name'])\n",
    "\n",
    "    cast = cast[:5]\n",
    "\n",
    "    # collect all data points to dict\n",
    "    movie_meta = { \"imdb_id\": movie_data['imdbID'],\n",
    "                   \"title\": movie_data['title'],\n",
    "                   \"rating\": movie_data['rating'],\n",
    "                   \"director\": directors,\n",
    "                   \"runtime\" : '{0} Min'.format(movie_data['runtimes'][0]),\n",
    "                   \"genres\" : movie_data['genres'],\n",
    "                   \"year\" : movie_data['year'],\n",
    "                   \"box_office\" : movie_data['box office']['Cumulative Worldwide Gross'],\n",
    "                   \"top_250_rank\" : movie_data['top 250 rank'],\n",
    "                   \"cast\" : cast, \n",
    "                   \"cover_url\" : movie_data['cover url'],\n",
    "                   \"akas\" : movie_data['akas'],\n",
    "                   \"countries\" : movie_data['countries']\n",
    "                 }\n",
    "    return movie_meta\n",
    "\n",
    "\"\"\"\n",
    "create quote df\n",
    "\"\"\"\n",
    "def get_movie_quotes_df(movie_data):\n",
    "    #create quotes dict\n",
    "    quotes_dict = {\"imdb_id\": movie_data['imdbID'],\n",
    "                   \"title\": movie_data['title'],\n",
    "                   \"quotes\": movie_data['quotes']}\n",
    "    #create quotes df\n",
    "    quotes_df = pd.DataFrame(quotes_dict)\n",
    "    #turn quotes from lists to strings\n",
    "    quotes_df['quotes'] = quotes_df.apply(lambda x : \", \".join(x['quotes']), axis=1)\n",
    "    \n",
    "    return quotes_df\n",
    "\n",
    "\n",
    "\"\"\"\n",
    "create reviews df\n",
    "\"\"\"\n",
    "def get_movie_reviews_df(movie_data):\n",
    "    #create quotes df\n",
    "    reviews_df = pd.DataFrame(movie_data['reviews'])\n",
    "    reviews_df['imdb_id'] = movie_data['imdbID']\n",
    "    reviews_df['title'] = movie_data['title']\n",
    "      \n",
    "    return reviews_df\n",
    "\n",
    "\n",
    "\"\"\"\n",
    "create filming locations df\n",
    "\"\"\"\n",
    "def get_movie_locations_df(movie_data):\n",
    "    #create quotes df\n",
    "    locations_df = pd.DataFrame(movie_data['locations'])\n",
    "    locations_df['imdb_id'] = movie_data['imdbID']\n",
    "    locations_df['title'] = movie_data['title']\n",
    "    locations_df = locations_df.rename(columns={0: \"locations\"}) \n",
    "    return locations_df\n",
    "\n",
    "\"\"\"\n",
    "main function\n",
    "\"\"\"\n",
    "def movie_data(movie_name):\n",
    "\n",
    "    movie_data = get_all_movie_data(movie_name)\n",
    "    movie_meta = get_meta_data(movie_data)\n",
    "    quotes_df = get_movie_quotes_df(movie_data)\n",
    "    reviews_df = get_movie_reviews_df(movie_data) \n",
    "    locations_df = get_movie_locations_df(movie_data)\n",
    "\n",
    "    return movie_meta, quotes_df, reviews_df, locations_df\n",
    "\n",
    "\n",
    "'''\n",
    "if __name__ == '__main__':\n",
    "\n",
    "    movie_name = input(\"What Is Your Favourite Movie? : \")\n",
    "    movie_meta, quotes_df, reviews_df, locations_df = movie_data(movie_name)\n",
    "    print('Movie Details: \\n', movie_meta)\n",
    "    print('\\n')\n",
    "    print('First 5 Quotes: \\n',quotes_df.head())\n",
    "    print('\\n')\n",
    "    print('First 5 Reviews: \\n', reviews_df.head())\n",
    "    print('\\n')\n",
    "    print('First 5 Locations: \\n',locations_df.head())\n",
    "'''"
   ]
  },
  {
   "cell_type": "code",
   "execution_count": null,
   "id": "72b4fe0a",
   "metadata": {},
   "outputs": [],
   "source": []
  },
  {
   "cell_type": "code",
   "execution_count": 34,
   "id": "2c352b89",
   "metadata": {},
   "outputs": [],
   "source": [
    "movie_meta, quotes_df, reviews_df, locations_df =  movie_data('matrix')"
   ]
  },
  {
   "cell_type": "code",
   "execution_count": 35,
   "id": "ed6875c6",
   "metadata": {
    "scrolled": true
   },
   "outputs": [
    {
     "data": {
      "text/plain": [
       "Index(['locations', 'imdb_id', 'title'], dtype='object')"
      ]
     },
     "execution_count": 35,
     "metadata": {},
     "output_type": "execute_result"
    }
   ],
   "source": [
    "locations_df.columns"
   ]
  },
  {
   "cell_type": "code",
   "execution_count": 31,
   "id": "c1261f06",
   "metadata": {
    "scrolled": true
   },
   "outputs": [
    {
     "name": "stdout",
     "output_type": "stream",
     "text": [
      "\u001b[33mDEPRECATION: Python 3.5 reached the end of its life on September 13th, 2020. Please upgrade your Python as Python 3.5 is no longer maintained. pip 21.0 will drop support for Python 3.5 in January 2021. pip 21.0 will remove support for this functionality.\u001b[0m\n",
      "Name: pandas\n",
      "Version: 0.25.3\n",
      "Summary: Powerful data structures for data analysis, time series, and statistics\n",
      "Home-page: http://pandas.pydata.org\n",
      "Author: None\n",
      "Author-email: None\n",
      "License: BSD\n",
      "Location: /home/tomershtein/.pyenv/versions/3.5.10/envs/profanity_detector/lib/python3.5/site-packages\n",
      "Requires: numpy, python-dateutil, pytz\n",
      "Required-by: hatesonar\n"
     ]
    }
   ],
   "source": [
    "! pip show pandas"
   ]
  },
  {
   "cell_type": "code",
   "execution_count": 37,
   "id": "0510c9b0",
   "metadata": {},
   "outputs": [],
   "source": [
    "from wordcloud import WordCloud"
   ]
  },
  {
   "cell_type": "code",
   "execution_count": 38,
   "id": "479b8d36",
   "metadata": {
    "scrolled": true
   },
   "outputs": [
    {
     "data": {
      "text/html": [
       "<div>\n",
       "<style scoped>\n",
       "    .dataframe tbody tr th:only-of-type {\n",
       "        vertical-align: middle;\n",
       "    }\n",
       "\n",
       "    .dataframe tbody tr th {\n",
       "        vertical-align: top;\n",
       "    }\n",
       "\n",
       "    .dataframe thead th {\n",
       "        text-align: right;\n",
       "    }\n",
       "</style>\n",
       "<table border=\"1\" class=\"dataframe\">\n",
       "  <thead>\n",
       "    <tr style=\"text-align: right;\">\n",
       "      <th></th>\n",
       "      <th>author</th>\n",
       "      <th>content</th>\n",
       "      <th>date</th>\n",
       "      <th>helpful</th>\n",
       "      <th>not_helpful</th>\n",
       "      <th>rating</th>\n",
       "      <th>title</th>\n",
       "      <th>imdb_id</th>\n",
       "    </tr>\n",
       "  </thead>\n",
       "  <tbody>\n",
       "    <tr>\n",
       "      <th>0</th>\n",
       "      <td>ur2467618</td>\n",
       "      <td>There are currently almost 2800 reviews on IMD...</td>\n",
       "      <td>22 February 2018</td>\n",
       "      <td>39</td>\n",
       "      <td>178</td>\n",
       "      <td>7.0</td>\n",
       "      <td>The Matrix</td>\n",
       "      <td>0133093</td>\n",
       "    </tr>\n",
       "    <tr>\n",
       "      <th>1</th>\n",
       "      <td>ur20552756</td>\n",
       "      <td>'The Matrix' may not be one of the very greate...</td>\n",
       "      <td>20 February 2017</td>\n",
       "      <td>38</td>\n",
       "      <td>10</td>\n",
       "      <td>9.0</td>\n",
       "      <td>The Matrix</td>\n",
       "      <td>0133093</td>\n",
       "    </tr>\n",
       "    <tr>\n",
       "      <th>2</th>\n",
       "      <td>ur0482513</td>\n",
       "      <td>What is THE MATRIX? Well, let me tell you: it'...</td>\n",
       "      <td>26 August 2016</td>\n",
       "      <td>14</td>\n",
       "      <td>7</td>\n",
       "      <td>9.0</td>\n",
       "      <td>The Matrix</td>\n",
       "      <td>0133093</td>\n",
       "    </tr>\n",
       "    <tr>\n",
       "      <th>3</th>\n",
       "      <td>ur2898520</td>\n",
       "      <td>The Wachowski brothers have created one of the...</td>\n",
       "      <td>9 November 2013</td>\n",
       "      <td>13</td>\n",
       "      <td>6</td>\n",
       "      <td>9.0</td>\n",
       "      <td>The Matrix</td>\n",
       "      <td>0133093</td>\n",
       "    </tr>\n",
       "    <tr>\n",
       "      <th>4</th>\n",
       "      <td>ur0278527</td>\n",
       "      <td>This is one of those movies that \"everyone\" ha...</td>\n",
       "      <td>20 August 2019</td>\n",
       "      <td>17</td>\n",
       "      <td>6</td>\n",
       "      <td>9.0</td>\n",
       "      <td>The Matrix</td>\n",
       "      <td>0133093</td>\n",
       "    </tr>\n",
       "  </tbody>\n",
       "</table>\n",
       "</div>"
      ],
      "text/plain": [
       "       author                                            content  \\\n",
       "0   ur2467618  There are currently almost 2800 reviews on IMD...   \n",
       "1  ur20552756  'The Matrix' may not be one of the very greate...   \n",
       "2   ur0482513  What is THE MATRIX? Well, let me tell you: it'...   \n",
       "3   ur2898520  The Wachowski brothers have created one of the...   \n",
       "4   ur0278527  This is one of those movies that \"everyone\" ha...   \n",
       "\n",
       "               date  helpful  not_helpful  rating       title  imdb_id  \n",
       "0  22 February 2018       39          178     7.0  The Matrix  0133093  \n",
       "1  20 February 2017       38           10     9.0  The Matrix  0133093  \n",
       "2    26 August 2016       14            7     9.0  The Matrix  0133093  \n",
       "3   9 November 2013       13            6     9.0  The Matrix  0133093  \n",
       "4    20 August 2019       17            6     9.0  The Matrix  0133093  "
      ]
     },
     "execution_count": 38,
     "metadata": {},
     "output_type": "execute_result"
    }
   ],
   "source": [
    "reviews_df.head()"
   ]
  },
  {
   "cell_type": "code",
   "execution_count": 39,
   "id": "f250ffb4",
   "metadata": {},
   "outputs": [
    {
     "data": {
      "text/plain": [
       "author         0\n",
       "content        0\n",
       "date           0\n",
       "helpful        0\n",
       "not_helpful    0\n",
       "rating         3\n",
       "title          0\n",
       "imdb_id        0\n",
       "dtype: int64"
      ]
     },
     "execution_count": 39,
     "metadata": {},
     "output_type": "execute_result"
    }
   ],
   "source": [
    "reviews_df.isna().sum()"
   ]
  },
  {
   "cell_type": "code",
   "execution_count": null,
   "id": "ff1ad070",
   "metadata": {},
   "outputs": [],
   "source": []
  }
 ],
 "metadata": {
  "hide_input": false,
  "kernelspec": {
   "display_name": "Python 3",
   "language": "python",
   "name": "python3"
  },
  "language_info": {
   "codemirror_mode": {
    "name": "ipython",
    "version": 3
   },
   "file_extension": ".py",
   "mimetype": "text/x-python",
   "name": "python",
   "nbconvert_exporter": "python",
   "pygments_lexer": "ipython3",
   "version": "3.5.10"
  },
  "toc": {
   "base_numbering": 1,
   "nav_menu": {},
   "number_sections": true,
   "sideBar": true,
   "skip_h1_title": false,
   "title_cell": "Table of Contents",
   "title_sidebar": "Contents",
   "toc_cell": false,
   "toc_position": {},
   "toc_section_display": true,
   "toc_window_display": false
  }
 },
 "nbformat": 4,
 "nbformat_minor": 5
}
