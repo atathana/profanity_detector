{
 "cells": [
  {
   "cell_type": "code",
   "execution_count": 1,
   "id": "c77482ea",
   "metadata": {},
   "outputs": [],
   "source": [
    "import pandas as pd\n",
    "\n",
    "from imdb import Cinemagoer"
   ]
  },
  {
   "cell_type": "code",
   "execution_count": 2,
   "id": "bfd6783e",
   "metadata": {},
   "outputs": [],
   "source": [
    "import os\n",
    "import sys\n",
    "import inspect\n",
    "\n",
    "currentdir = os.path.dirname(os.path.abspath(inspect.getfile(inspect.currentframe())))\n",
    "parentdir = os.path.dirname(currentdir)\n",
    "sys.path.insert(0, parentdir) "
   ]
  },
  {
   "cell_type": "markdown",
   "id": "c37ad81b",
   "metadata": {
    "heading_collapsed": true
   },
   "source": [
    "### relevant fields:"
   ]
  },
  {
   "cell_type": "markdown",
   "id": "e7983524",
   "metadata": {
    "hidden": true,
    "hide_input": false
   },
   "source": [
    "**Keys**\n",
    "- 'imdbID',\n",
    "- 'title',\n",
    "\n",
    "**Meta Data**\n",
    "- 'original title',\n",
    "- 'rating',\n",
    "- 'director',\n",
    "- 'runtimes',\n",
    "- 'genres',\n",
    "- 'box office',\n",
    "- 'cover url',\n",
    "- 'year', \n",
    "- 'top 250 rank',\n",
    "- 'awards',\n",
    "- 'akas',\n",
    "- 'cast',\n",
    "\n",
    "**Geo**\n",
    "- 'country codes'\n",
    "- 'countries',\n",
    "- 'locations',\n",
    "- 'language codes',\n",
    "\n",
    "\n",
    "**Text**\n",
    "- 'plot',\n",
    "- 'plot outline',\n",
    "- 'critic reviews',\n",
    "- 'reviews',\n",
    "- 'quotes'"
   ]
  },
  {
   "cell_type": "code",
   "execution_count": 3,
   "id": "d0dd00e9",
   "metadata": {
    "hidden": true
   },
   "outputs": [
    {
     "ename": "SyntaxError",
     "evalue": "invalid syntax (<ipython-input-3-b8e4ab6ae799>, line 1)",
     "output_type": "error",
     "traceback": [
      "\u001b[0;36m  File \u001b[0;32m\"<ipython-input-3-b8e4ab6ae799>\"\u001b[0;36m, line \u001b[0;32m1\u001b[0m\n\u001b[0;31m    'awards'  ???\u001b[0m\n\u001b[0m              ^\u001b[0m\n\u001b[0;31mSyntaxError\u001b[0m\u001b[0;31m:\u001b[0m invalid syntax\n"
     ]
    }
   ],
   "source": [
    "'awards'  ???"
   ]
  },
  {
   "cell_type": "markdown",
   "id": "7e118da5",
   "metadata": {},
   "source": [
    "# Get Movie Data"
   ]
  },
  {
   "cell_type": "code",
   "execution_count": 4,
   "id": "56244647",
   "metadata": {},
   "outputs": [],
   "source": [
    "from profanity_detector.get_data import movie_data"
   ]
  },
  {
   "cell_type": "code",
   "execution_count": null,
   "id": "ae3a6068",
   "metadata": {},
   "outputs": [],
   "source": [
    "movie_meta, quotes_df, reviews_df, locations_df = movie_data('matrix')"
   ]
  },
  {
   "cell_type": "code",
   "execution_count": null,
   "id": "de8c0e22",
   "metadata": {},
   "outputs": [],
   "source": [
    "movie_meta"
   ]
  },
  {
   "cell_type": "code",
   "execution_count": null,
   "id": "aa50664f",
   "metadata": {},
   "outputs": [],
   "source": [
    "quotes_df.head()"
   ]
  },
  {
   "cell_type": "code",
   "execution_count": null,
   "id": "fe50f9a0",
   "metadata": {},
   "outputs": [],
   "source": [
    "reviews_df.head()"
   ]
  },
  {
   "cell_type": "code",
   "execution_count": null,
   "id": "ae7a1e05",
   "metadata": {},
   "outputs": [],
   "source": [
    "locations_df.head()"
   ]
  },
  {
   "cell_type": "code",
   "execution_count": null,
   "id": "58689f58",
   "metadata": {},
   "outputs": [],
   "source": [
    "from profanity_detector.movie_features import create_word_cloud, plot_word_cloud"
   ]
  },
  {
   "cell_type": "code",
   "execution_count": null,
   "id": "b4b53eb8",
   "metadata": {
    "scrolled": true
   },
   "outputs": [],
   "source": [
    "plot_word_cloud(create_word_cloud(quotes_df))"
   ]
  },
  {
   "cell_type": "code",
   "execution_count": null,
   "id": "b193d2ba",
   "metadata": {},
   "outputs": [],
   "source": [
    "plot_word_cloud(create_word_cloud(reviews_df))"
   ]
  }
 ],
 "metadata": {
  "hide_input": false,
  "kernelspec": {
   "display_name": "Python 3",
   "language": "python",
   "name": "python3"
  },
  "language_info": {
   "codemirror_mode": {
    "name": "ipython",
    "version": 3
   },
   "file_extension": ".py",
   "mimetype": "text/x-python",
   "name": "python",
   "nbconvert_exporter": "python",
   "pygments_lexer": "ipython3",
   "version": "3.6.15"
  },
  "toc": {
   "base_numbering": 1,
   "nav_menu": {},
   "number_sections": true,
   "sideBar": true,
   "skip_h1_title": false,
   "title_cell": "Table of Contents",
   "title_sidebar": "Contents",
   "toc_cell": false,
   "toc_position": {},
   "toc_section_display": true,
   "toc_window_display": false
  }
 },
 "nbformat": 4,
 "nbformat_minor": 5
}
