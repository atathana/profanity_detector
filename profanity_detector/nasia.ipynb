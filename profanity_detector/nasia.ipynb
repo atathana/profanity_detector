{
 "cells": [
  {
   "cell_type": "code",
   "execution_count": 1,
   "metadata": {},
   "outputs": [],
   "source": [
    "from get_data import movie_data\n",
    "from hatesonar import Sonar\n",
    "import pandas as pd\n",
    "import matplotlib.pyplot as plt\n",
    "import numpy as np"
   ]
  },
  {
   "cell_type": "code",
   "execution_count": 2,
   "metadata": {},
   "outputs": [],
   "source": [
    "#Data C\n",
    "movie_meta, quotes_df, reviews_df, locations_df = movie_data('matrix')"
   ]
  },
  {
   "cell_type": "markdown",
   "metadata": {},
   "source": [
    "**Sentiment Analysis with Hatesonar on Reviews**"
   ]
  },
  {
   "cell_type": "code",
   "execution_count": 3,
   "metadata": {},
   "outputs": [
    {
     "data": {
      "text/html": [
       "<div>\n",
       "<style scoped>\n",
       "    .dataframe tbody tr th:only-of-type {\n",
       "        vertical-align: middle;\n",
       "    }\n",
       "\n",
       "    .dataframe tbody tr th {\n",
       "        vertical-align: top;\n",
       "    }\n",
       "\n",
       "    .dataframe thead th {\n",
       "        text-align: right;\n",
       "    }\n",
       "</style>\n",
       "<table border=\"1\" class=\"dataframe\">\n",
       "  <thead>\n",
       "    <tr style=\"text-align: right;\">\n",
       "      <th></th>\n",
       "      <th>content</th>\n",
       "      <th>helpful</th>\n",
       "      <th>title</th>\n",
       "      <th>author</th>\n",
       "      <th>date</th>\n",
       "      <th>rating</th>\n",
       "      <th>not_helpful</th>\n",
       "      <th>imdb_id</th>\n",
       "    </tr>\n",
       "  </thead>\n",
       "  <tbody>\n",
       "    <tr>\n",
       "      <th>0</th>\n",
       "      <td>There are currently almost 2800 reviews on IMD...</td>\n",
       "      <td>39</td>\n",
       "      <td>The Matrix</td>\n",
       "      <td>ur2467618</td>\n",
       "      <td>22 February 2018</td>\n",
       "      <td>7.0</td>\n",
       "      <td>178</td>\n",
       "      <td>0133093</td>\n",
       "    </tr>\n",
       "    <tr>\n",
       "      <th>1</th>\n",
       "      <td>'The Matrix' may not be one of the very greate...</td>\n",
       "      <td>38</td>\n",
       "      <td>The Matrix</td>\n",
       "      <td>ur20552756</td>\n",
       "      <td>20 February 2017</td>\n",
       "      <td>9.0</td>\n",
       "      <td>10</td>\n",
       "      <td>0133093</td>\n",
       "    </tr>\n",
       "    <tr>\n",
       "      <th>2</th>\n",
       "      <td>What is THE MATRIX? Well, let me tell you: it'...</td>\n",
       "      <td>14</td>\n",
       "      <td>The Matrix</td>\n",
       "      <td>ur0482513</td>\n",
       "      <td>26 August 2016</td>\n",
       "      <td>9.0</td>\n",
       "      <td>7</td>\n",
       "      <td>0133093</td>\n",
       "    </tr>\n",
       "    <tr>\n",
       "      <th>3</th>\n",
       "      <td>The Wachowski brothers have created one of the...</td>\n",
       "      <td>13</td>\n",
       "      <td>The Matrix</td>\n",
       "      <td>ur2898520</td>\n",
       "      <td>9 November 2013</td>\n",
       "      <td>9.0</td>\n",
       "      <td>6</td>\n",
       "      <td>0133093</td>\n",
       "    </tr>\n",
       "    <tr>\n",
       "      <th>4</th>\n",
       "      <td>This is one of those movies that \"everyone\" ha...</td>\n",
       "      <td>17</td>\n",
       "      <td>The Matrix</td>\n",
       "      <td>ur0278527</td>\n",
       "      <td>20 August 2019</td>\n",
       "      <td>9.0</td>\n",
       "      <td>6</td>\n",
       "      <td>0133093</td>\n",
       "    </tr>\n",
       "  </tbody>\n",
       "</table>\n",
       "</div>"
      ],
      "text/plain": [
       "                                             content  helpful       title  \\\n",
       "0  There are currently almost 2800 reviews on IMD...       39  The Matrix   \n",
       "1  'The Matrix' may not be one of the very greate...       38  The Matrix   \n",
       "2  What is THE MATRIX? Well, let me tell you: it'...       14  The Matrix   \n",
       "3  The Wachowski brothers have created one of the...       13  The Matrix   \n",
       "4  This is one of those movies that \"everyone\" ha...       17  The Matrix   \n",
       "\n",
       "       author              date  rating  not_helpful  imdb_id  \n",
       "0   ur2467618  22 February 2018     7.0          178  0133093  \n",
       "1  ur20552756  20 February 2017     9.0           10  0133093  \n",
       "2   ur0482513    26 August 2016     9.0            7  0133093  \n",
       "3   ur2898520   9 November 2013     9.0            6  0133093  \n",
       "4   ur0278527    20 August 2019     9.0            6  0133093  "
      ]
     },
     "execution_count": 3,
     "metadata": {},
     "output_type": "execute_result"
    }
   ],
   "source": [
    "reviews_df.head()"
   ]
  },
  {
   "cell_type": "code",
   "execution_count": 4,
   "metadata": {},
   "outputs": [
    {
     "name": "stdout",
     "output_type": "stream",
     "text": [
      "None\n"
     ]
    }
   ],
   "source": [
    "print(reviews_df.sort_values(by='rating', inplace=True, ascending=False))\n"
   ]
  },
  {
   "cell_type": "markdown",
   "metadata": {},
   "source": [
    "**Sentiment Analysis with hatesonar**"
   ]
  },
  {
   "cell_type": "code",
   "execution_count": 5,
   "metadata": {},
   "outputs": [
    {
     "name": "stderr",
     "output_type": "stream",
     "text": [
      "/home/nasia/.pyenv/versions/3.6.15/envs/profanity_detector/lib/python3.6/site-packages/sklearn/utils/deprecation.py:144: FutureWarning: The sklearn.linear_model.logistic module is  deprecated in version 0.22 and will be removed in version 0.24. The corresponding classes / functions should instead be imported from sklearn.linear_model. Anything that cannot be imported from sklearn.linear_model is now part of the private API.\n",
      "  warnings.warn(message, FutureWarning)\n",
      "/home/nasia/.pyenv/versions/3.6.15/envs/profanity_detector/lib/python3.6/site-packages/sklearn/base.py:318: UserWarning: Trying to unpickle estimator LogisticRegression from version 0.19.1 when using version 0.22.2.post1. This might lead to breaking code or invalid results. Use at your own risk.\n",
      "  UserWarning)\n",
      "/home/nasia/.pyenv/versions/3.6.15/envs/profanity_detector/lib/python3.6/site-packages/sklearn/base.py:318: UserWarning: Trying to unpickle estimator TfidfTransformer from version 0.19.1 when using version 0.22.2.post1. This might lead to breaking code or invalid results. Use at your own risk.\n",
      "  UserWarning)\n",
      "/home/nasia/.pyenv/versions/3.6.15/envs/profanity_detector/lib/python3.6/site-packages/sklearn/base.py:318: UserWarning: Trying to unpickle estimator TfidfVectorizer from version 0.19.1 when using version 0.22.2.post1. This might lead to breaking code or invalid results. Use at your own risk.\n",
      "  UserWarning)\n"
     ]
    }
   ],
   "source": [
    "# Create an object of Sonar Hate Speech Detection\n",
    "sonar = Sonar()"
   ]
  },
  {
   "cell_type": "code",
   "execution_count": 6,
   "metadata": {},
   "outputs": [],
   "source": [
    "Class = []\n",
    "hate = []\n",
    "offensive = []\n",
    "neither = []"
   ]
  },
  {
   "cell_type": "code",
   "execution_count": 7,
   "metadata": {},
   "outputs": [],
   "source": [
    "def hate_speech_classifier(reviews_df, Class, hate, offensive, neither):\n",
    "\n",
    "    # Function applying hatesonar on the content column of reviews_df and returning a new df\n",
    "\n",
    "    for i in reviews_df['content']:\n",
    "        sonar_dict = sonar.ping(text=i)\n",
    "        Class.append(list(sonar_dict.values())[1])\n",
    "        hate.append(list(list(sonar_dict.values())[2][0].values())[1])\n",
    "        offensive.append(list(list(sonar_dict.values())[2][1].values())[1])\n",
    "        neither.append(list(list(sonar_dict.values())[2][2].values())[1])\n",
    "\n",
    "    hatesonar_df = pd.DataFrame({\"Class\": Class, \"Hate\":hate, \"Offensive\": offensive, \"Neither\":neither})\n",
    "\n",
    "    # Updating the reviews dataframe\n",
    "    reviews_df_sonar = pd.concat([reviews_df, hatesonar_df], axis=1)\n",
    "\n",
    "    return reviews_df_sonar\n"
   ]
  },
  {
   "cell_type": "code",
   "execution_count": 8,
   "metadata": {},
   "outputs": [],
   "source": [
    "def most_hateful_comment (reviews_df):\n",
    "\n",
    "    # sort Hate in an ascending order\n",
    "    reviews_df.sort_values(by='Hate', ascending=False)\n",
    "    # re-indexing\n",
    "    reviews_sorted =reviews_df.reset_index(drop=True)\n",
    "    # results\n",
    "    hate_comment = reviews_sorted.iloc[0][0]\n",
    "    rate = reviews_sorted.iloc[0][5]\n",
    "    hate_score = reviews_sorted.iloc[0][9]\n",
    "\n",
    "    #return comment, rate, score\n",
    "    return hate_comment, rate, hate_score"
   ]
  },
  {
   "cell_type": "code",
   "execution_count": 9,
   "metadata": {},
   "outputs": [],
   "source": [
    "def most_offensive_comment(reviews_df):\n",
    "\n",
    "    # sort Hate in an ascending order\n",
    "    reviews_df.sort_values(by='Offensive', ascending=False)\n",
    "    # re-indexing\n",
    "    reviews_sorted = reviews_df.reset_index(drop=True)\n",
    "    # results\n",
    "    off_comment = reviews_sorted.iloc[0][0]\n",
    "    rate = reviews_sorted.iloc[0][5]\n",
    "    off_score = reviews_sorted.iloc[0][9]\n",
    "\n",
    "    #return comment, rate, score\n",
    "    return off_comment, rate, off_score"
   ]
  },
  {
   "cell_type": "code",
   "execution_count": 10,
   "metadata": {},
   "outputs": [],
   "source": [
    "# Applying hatesonar on reviews_df\n",
    "reviews_df_sonar = hate_speech_classifier(reviews_df, Class, hate, offensive,\n",
    "                                          neither)\n",
    "\n",
    "# Finding the most hateful comment, the rate of the user and the score in hatesonar\n",
    "hate_comment, rate, hate_score = most_hateful_comment(reviews_df_sonar)\n",
    "\n",
    "# Finding the most offensive comment, the rate of the user and the score in hatesonar\n",
    "off_comment, rate, off_score = most_offensive_comment(reviews_df_sonar)"
   ]
  },
  {
   "cell_type": "markdown",
   "metadata": {},
   "source": [
    "**VaderSentiment Analysis**"
   ]
  },
  {
   "cell_type": "code",
   "execution_count": 11,
   "metadata": {},
   "outputs": [],
   "source": [
    "from vaderSentiment.vaderSentiment import SentimentIntensityAnalyzer\n",
    "\n",
    "analyzer = SentimentIntensityAnalyzer()"
   ]
  },
  {
   "cell_type": "code",
   "execution_count": 12,
   "metadata": {},
   "outputs": [],
   "source": [
    "def sentiment_scores(reviews_df, negative, neutral, positive, compound):\n",
    "\n",
    "    for review in reviews_df['content']:\n",
    "        sentiment_dict = analyzer.polarity_scores(review)\n",
    "        negative.append(sentiment_dict['neg'])\n",
    "        neutral.append(sentiment_dict['neu'])\n",
    "        positive.append(sentiment_dict['pos'])\n",
    "        compound.append(sentiment_dict['compound'])"
   ]
  },
  {
   "cell_type": "code",
   "execution_count": 13,
   "metadata": {},
   "outputs": [
    {
     "ename": "NameError",
     "evalue": "name 'negative' is not defined",
     "output_type": "error",
     "traceback": [
      "\u001b[0;31m---------------------------------------------------------------------------\u001b[0m",
      "\u001b[0;31mNameError\u001b[0m                                 Traceback (most recent call last)",
      "\u001b[0;32m<ipython-input-13-81d9206ea85e>\u001b[0m in \u001b[0;36m<module>\u001b[0;34m\u001b[0m\n\u001b[1;32m      1\u001b[0m \u001b[0;31m# Function calling\u001b[0m\u001b[0;34m\u001b[0m\u001b[0;34m\u001b[0m\u001b[0;34m\u001b[0m\u001b[0m\n\u001b[0;32m----> 2\u001b[0;31m \u001b[0msentiment_scores\u001b[0m\u001b[0;34m(\u001b[0m\u001b[0mreviews_df\u001b[0m\u001b[0;34m,\u001b[0m \u001b[0mnegative\u001b[0m\u001b[0;34m,\u001b[0m \u001b[0mneutral\u001b[0m\u001b[0;34m,\u001b[0m \u001b[0mpositive\u001b[0m\u001b[0;34m,\u001b[0m \u001b[0mcompound\u001b[0m\u001b[0;34m)\u001b[0m\u001b[0;34m\u001b[0m\u001b[0;34m\u001b[0m\u001b[0m\n\u001b[0m",
      "\u001b[0;31mNameError\u001b[0m: name 'negative' is not defined"
     ]
    }
   ],
   "source": [
    "# Function calling\n",
    "sentiment_scores(reviews_df, negative, neutral, positive, compound)"
   ]
  },
  {
   "cell_type": "code",
   "execution_count": null,
   "metadata": {},
   "outputs": [],
   "source": []
  }
 ],
 "metadata": {
  "interpreter": {
   "hash": "0413bd2efa01393ed0c0d4360448d6bc4729cfb8d89e4c5cb1e7dfc058cc017a"
  },
  "kernelspec": {
   "display_name": "Python 3.5.10 64-bit ('profanity_detector')",
   "language": "python",
   "name": "python3"
  },
  "language_info": {
   "codemirror_mode": {
    "name": "ipython",
    "version": 3
   },
   "file_extension": ".py",
   "mimetype": "text/x-python",
   "name": "python",
   "nbconvert_exporter": "python",
   "pygments_lexer": "ipython3",
   "version": "3.6.15"
  },
  "orig_nbformat": 4
 },
 "nbformat": 4,
 "nbformat_minor": 2
}
