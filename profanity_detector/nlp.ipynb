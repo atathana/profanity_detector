{
 "cells": [
  {
   "cell_type": "code",
   "execution_count": 63,
   "metadata": {},
   "outputs": [],
   "source": [
    "from get_data import movie_data\n",
    "from hatesonar import Sonar\n",
    "import pandas as pd\n",
    "import warnings\n",
    "from vaderSentiment.vaderSentiment import SentimentIntensityAnalyzer\n",
    "import os\n",
    "import sys\n",
    "import inspect"
   ]
  },
  {
   "cell_type": "code",
   "execution_count": 62,
   "metadata": {},
   "outputs": [],
   "source": [
    "currentdir = os.path.dirname(\n",
    "    os.path.abspath(inspect.getfile(inspect.currentframe())))\n",
    "parentdir = os.path.dirname(currentdir)\n",
    "sys.path.insert(0, parentdir)"
   ]
  },
  {
   "cell_type": "code",
   "execution_count": 45,
   "metadata": {},
   "outputs": [],
   "source": [
    "movie_meta, quotes_df, reviews_df, locations_df = movie_data('lion king')"
   ]
  },
  {
   "cell_type": "markdown",
   "metadata": {},
   "source": [
    "**HATESONAR**"
   ]
  },
  {
   "cell_type": "code",
   "execution_count": 46,
   "metadata": {},
   "outputs": [],
   "source": [
    "def create_sonar_object():\n",
    "    with warnings.catch_warnings():\n",
    "        warnings.simplefilter('ignore')\n",
    "        sonar = Sonar()\n",
    "    return sonar"
   ]
  },
  {
   "cell_type": "code",
   "execution_count": 47,
   "metadata": {},
   "outputs": [],
   "source": [
    "#def hate_speech_classifier_reviews(reviews_df, Class, hate, offensive, neither):\n",
    "def hate_speech_classifier(df):\n",
    "\n",
    "    Class = []\n",
    "    hate = []\n",
    "    offensive = []\n",
    "    neither = []\n",
    "\n",
    "    # Create an object of Sonar Hate Speech Detection\n",
    "    sonar = create_sonar_object()\n",
    "\n",
    "    # Function applying hatesonar on the content column of reviews_df and returning a reviews_df_sonar (incl new info)\n",
    "    for i in df['content']:\n",
    "        sonar_dict = sonar.ping(text=i)\n",
    "        Class.append(list(sonar_dict.values())[1])\n",
    "        hate.append(list(list(sonar_dict.values())[2][0].values())[1])\n",
    "        offensive.append(list(list(sonar_dict.values())[2][1].values())[1])\n",
    "        neither.append(list(list(sonar_dict.values())[2][2].values())[1])\n",
    "\n",
    "    hatesonar_df = pd.DataFrame({\n",
    "        \"Class\": Class,\n",
    "        \"Hate\": hate,\n",
    "        \"Offensive\": offensive,\n",
    "        \"Neither\": neither\n",
    "    })\n",
    "\n",
    "    # Updating the reviews dataframe\n",
    "    df_sonar = pd.concat([df, hatesonar_df], axis=1)\n",
    "\n",
    "    return df_sonar"
   ]
  },
  {
   "cell_type": "code",
   "execution_count": 48,
   "metadata": {},
   "outputs": [],
   "source": [
    "def most_hateful(df):\n",
    "\n",
    "    # sort Hate in an ascending order\n",
    "    df_sorted = df.sort_values(by='Hate', ascending=False)\n",
    "    hate_comment = df_sorted.iloc[0]['content']\n",
    "    #return comment, rate, score\n",
    "    return hate_comment"
   ]
  },
  {
   "cell_type": "code",
   "execution_count": 49,
   "metadata": {},
   "outputs": [],
   "source": [
    "def most_offensive(df):\n",
    "\n",
    "    # sort Hate in an ascending order\n",
    "    df_sorted = df.sort_values(by='Offensive', ascending=False)\n",
    "    off_quote = df_sorted.iloc[0]['content']\n",
    "    return off_quote"
   ]
  },
  {
   "cell_type": "markdown",
   "metadata": {},
   "source": [
    "**VADER**"
   ]
  },
  {
   "cell_type": "code",
   "execution_count": 50,
   "metadata": {},
   "outputs": [],
   "source": [
    "def create_vader_object():\n",
    "    with warnings.catch_warnings():\n",
    "        warnings.simplefilter('ignore')\n",
    "        analyzer = SentimentIntensityAnalyzer()\n",
    "    return analyzer"
   ]
  },
  {
   "cell_type": "code",
   "execution_count": 51,
   "metadata": {},
   "outputs": [],
   "source": [
    "def vader_sentiment_analysis(df):\n",
    "\n",
    "    neutral = []\n",
    "    positive = []\n",
    "    negative = []\n",
    "    compound = []\n",
    "\n",
    "    analyzer = create_vader_object()\n",
    "\n",
    "    for quote in df['content']:\n",
    "        sentiment_dict = analyzer.polarity_scores(quote)\n",
    "        negative.append(sentiment_dict['neg'])\n",
    "        neutral.append(sentiment_dict['neu'])\n",
    "        positive.append(sentiment_dict['pos'])\n",
    "        compound.append(sentiment_dict['compound'])\n",
    "\n",
    "        vader_df = pd.DataFrame({\n",
    "            \"Negative\": negative,\n",
    "            \"Positive\": positive,\n",
    "            \"Neutral\": neutral,\n",
    "            \"Compound\": compound\n",
    "        })\n",
    "\n",
    "    # Classifying compound result to pos and neg\n",
    "    vader_df['Compound'] = vader_df['Compound'].apply(lambda c: 'pos'\n",
    "                                                      if c >= 0 else 'neg')\n",
    "    # Updating the reviews dataframe\n",
    "    df_vader = pd.concat([df, vader_df], axis=1)\n",
    "\n",
    "    return df_vader"
   ]
  },
  {
   "cell_type": "code",
   "execution_count": 52,
   "metadata": {},
   "outputs": [],
   "source": [
    "def vader_percent_analysis(df_vader):\n",
    "\n",
    "    neg_percent = round(\n",
    "        (df_vader[df_vader['Compound'] == 'neg'].shape[0] / len(df_vader)) *\n",
    "        100, 1)\n",
    "\n",
    "    pos_percent = round(\n",
    "        (df_vader[df_vader['Compound'] == 'pos'].shape[0] / len(df_vader)) *\n",
    "        100, 1)\n",
    "\n",
    "    return [pos_percent, neg_percent]"
   ]
  },
  {
   "cell_type": "markdown",
   "metadata": {},
   "source": [
    "**RESULTS**"
   ]
  },
  {
   "cell_type": "markdown",
   "metadata": {},
   "source": [
    "REVIEWS"
   ]
  },
  {
   "cell_type": "code",
   "execution_count": 53,
   "metadata": {},
   "outputs": [],
   "source": [
    "hate_review= most_hateful(hate_speech_classifier(reviews_df))\n",
    "offensive_review = most_offensive(hate_speech_classifier(reviews_df))\n",
    "\n",
    "hate_quote= most_hateful(hate_speech_classifier(quotes_df))\n",
    "offensive_quote = most_offensive(hate_speech_classifier(quotes_df))\n",
    "\n",
    "vader_analysis_reviews = vader_percent_analysis(\n",
    "    vader_sentiment_analysis(reviews_df))\n",
    "\n",
    "vader_analysis_quotes = vader_percent_analysis(\n",
    "    vader_sentiment_analysis(quotes_df))\n",
    "\n",
    "#reviews_df = pd.concat([reviews_df, hate_speech_classifier(reviews_df)],    axis=1)\n"
   ]
  },
  {
   "cell_type": "code",
   "execution_count": 60,
   "metadata": {},
   "outputs": [
    {
     "name": "stdout",
     "output_type": "stream",
     "text": [
      " The most hate review was: \n",
      "      Tricked into thinking that he caused the death of his own father (James Earl Jones), a young lion cub (Jonathan Taylor Thomas) flees and abandons his destiny as the future king.Disney's strongest period in recent history was the late 1980s and early 1990s. They consistently released hits: \"Little Mermaid\", \"Aladdin\", \"Beauty and the Beast\". The princesses from these films have taken their place alongside the classics (Snow White and Cinderella). Until \"Frozen\" twenty years later, this success would not be repeated.\"The Lion King\" came at the end of this cycle, and did not feature a princess (at least not in human form). But it is still a great tale of loss, redemption, triumph. Many would place it among the top three Disney cartoons ever made.\n"
     ]
    }
   ],
   "source": [
    "print(f\"\"\" The most hate review was: \n",
    "      {hate_review}\"\"\")"
   ]
  },
  {
   "cell_type": "code",
   "execution_count": 56,
   "metadata": {},
   "outputs": [
    {
     "name": "stdout",
     "output_type": "stream",
     "text": [
      " The most offensive review was: Aside from the folks at Disney, anyone else my age who saw both the Japanese series \"Kimba\" and \"The Lion King\" could easily see that the Disney film was based almost completely on the earlier Japanese cartoon. Now I am no lover of \"Kimba\"--its American version was rather insipid. But the plot was clearly 'borrowed' by Disney to make \"The Lion King\". And, there are so many similarities that I cannot rate this wonderful film any higher than an 8--as it lacks originality. Sure, I loved Ed and felt my heart tugged by the film and loved the music--but it was a ripoff, ur....I mean 'very similar'. Not a bad film at all, but I recommend you try seeing the Japanese show if you can find a copy. Even the main character's names are practically the same!\n"
     ]
    }
   ],
   "source": [
    "print(f\" The most offensive review was: {offensive_review}\")"
   ]
  },
  {
   "cell_type": "code",
   "execution_count": 57,
   "metadata": {},
   "outputs": [
    {
     "name": "stdout",
     "output_type": "stream",
     "text": [
      "The Lion King has received 88.0% positive reviews and 12.0% negative.\n",
      "60.5% of the quotes are positive and 39.5% as negative.\n"
     ]
    }
   ],
   "source": [
    "print(\n",
    "    f\"\"\"{movie_meta['title']} has received {vader_analysis_reviews[0]}% positive reviews and {vader_analysis_reviews[1]}% negative.\n",
    "{vader_analysis_quotes[0]}% of the quotes are positive and {vader_analysis_quotes[1]}% as negative.\"\"\"\n",
    ")\n"
   ]
  },
  {
   "cell_type": "code",
   "execution_count": 74,
   "metadata": {},
   "outputs": [],
   "source": [
    "def display_results(reviews_df, quotes_df):\n",
    "\n",
    "    # Calling Functions to get data\n",
    "\n",
    "    hate_review = most_hateful(hate_speech_classifier(reviews_df))\n",
    "\n",
    "    offensive_review = most_offensive(hate_speech_classifier(reviews_df))\n",
    "\n",
    "    hate_quote = most_hateful(hate_speech_classifier(quotes_df))\n",
    "    offensive_quote = most_offensive(hate_speech_classifier(quotes_df))\n",
    "\n",
    "    vader_analysis_reviews = vader_percent_analysis(\n",
    "        vader_sentiment_analysis(reviews_df))\n",
    "\n",
    "    vader_analysis_quotes = vader_percent_analysis(\n",
    "        vader_sentiment_analysis(quotes_df))\n",
    "\n",
    "    # Display Results:\n",
    "    print(f\"\"\" The review with the highest hated score was:\n",
    "          {hate_review}\n",
    "          \"\"\")\n",
    "    print(f\"\"\"The most offensive review was:\n",
    "        {offensive_review}\n",
    "        \"\"\")\n",
    "\n",
    "    print(f\"\"\" The quote with the highest hated score was:\n",
    "          {hate_quote}\n",
    "          \"\"\")\n",
    "    \n",
    "    print(f\"\"\"The most offensive quote was: \n",
    "          {offensive_quote}\n",
    "          \"\"\")\n",
    "\n",
    "    print(f\"\"\" Sentiment Analysis:\n",
    "          {movie_meta['title']} has received {vader_analysis_reviews[0]}% positive reviews and {vader_analysis_reviews[1]}% negative.\n",
    "          A sentiment analysis on quotes has shown that {vader_analysis_quotes[0]}% of are positive and {vader_analysis_quotes[1]}% are negative.\n",
    "\"\"\")\n"
   ]
  },
  {
   "cell_type": "code",
   "execution_count": 75,
   "metadata": {},
   "outputs": [
    {
     "name": "stdout",
     "output_type": "stream",
     "text": [
      " The review with the highest hated score was:\n",
      "          Tricked into thinking that he caused the death of his own father (James Earl Jones), a young lion cub (Jonathan Taylor Thomas) flees and abandons his destiny as the future king.Disney's strongest period in recent history was the late 1980s and early 1990s. They consistently released hits: \"Little Mermaid\", \"Aladdin\", \"Beauty and the Beast\". The princesses from these films have taken their place alongside the classics (Snow White and Cinderella). Until \"Frozen\" twenty years later, this success would not be repeated.\"The Lion King\" came at the end of this cycle, and did not feature a princess (at least not in human form). But it is still a great tale of loss, redemption, triumph. Many would place it among the top three Disney cartoons ever made.\n",
      "          \n",
      "The most offensive review was:\n",
      "        Aside from the folks at Disney, anyone else my age who saw both the Japanese series \"Kimba\" and \"The Lion King\" could easily see that the Disney film was based almost completely on the earlier Japanese cartoon. Now I am no lover of \"Kimba\"--its American version was rather insipid. But the plot was clearly 'borrowed' by Disney to make \"The Lion King\". And, there are so many similarities that I cannot rate this wonderful film any higher than an 8--as it lacks originality. Sure, I loved Ed and felt my heart tugged by the film and loved the music--but it was a ripoff, ur....I mean 'very similar'. Not a bad film at all, but I recommend you try seeing the Japanese show if you can find a copy. Even the main character's names are practically the same!\n",
      "        \n",
      " The quote with the highest hated score was:\n",
      "          Scar: [to the hyenas as Simba was running away] Kill him.\n",
      "          \n",
      "The most offensive quote was: \n",
      "          [Watching Simba and Nala]  Timon: I tell ya, Pumbaa, this stinks!, Pumbaa: Oh, sorry., Timon: Not you, THEM! Him... Her... alone.\n",
      "          \n",
      " Sentiment Analysis:\n",
      "          The Lion King has received 88.0% positive reviews and 12.0% negative.\n",
      "          A sentiment analysis on quotes has shown that 60.5% of are positive and 39.5% are negative.\n",
      "\n"
     ]
    }
   ],
   "source": [
    "display_results(reviews_df, quotes_df)"
   ]
  }
 ],
 "metadata": {
  "interpreter": {
   "hash": "a202000536010a6586d8017e4d7f411f0a1f7b1ebb0c55fc741506d9b073fb31"
  },
  "kernelspec": {
   "display_name": "Python 3.6.15 64-bit ('profanity_detector')",
   "language": "python",
   "name": "python3"
  },
  "language_info": {
   "codemirror_mode": {
    "name": "ipython",
    "version": 3
   },
   "file_extension": ".py",
   "mimetype": "text/x-python",
   "name": "python",
   "nbconvert_exporter": "python",
   "pygments_lexer": "ipython3",
   "version": "3.6.15"
  },
  "orig_nbformat": 4
 },
 "nbformat": 4,
 "nbformat_minor": 2
}
